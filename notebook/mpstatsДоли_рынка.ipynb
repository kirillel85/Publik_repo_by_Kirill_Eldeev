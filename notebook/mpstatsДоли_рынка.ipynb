{
 "cells": [
  {
   "cell_type": "code",
   "execution_count": 1,
   "id": "1f6094ae-cf5e-46b7-a1d2-a9fa574f14a1",
   "metadata": {},
   "outputs": [],
   "source": [
    "\n",
    "import tqdm\n",
    "import pandas as pd\n",
    "import json\n",
    "import requests\n",
    "from datetime import date, timedelta\n",
    "import datetime"
   ]
  },
  {
   "cell_type": "code",
   "execution_count": 2,
   "id": "8de69606-a45b-40ac-a7a7-93094b723788",
   "metadata": {},
   "outputs": [],
   "source": [
    "#inp_date = (date.today() - timedelta(1)).isoformat()"
   ]
  },
  {
   "cell_type": "code",
   "execution_count": 3,
   "id": "d8f448ee-6cfc-4765-953e-8135d300a427",
   "metadata": {},
   "outputs": [],
   "source": [
    "#inp_date"
   ]
  },
  {
   "cell_type": "code",
   "execution_count": 4,
   "id": "5cde1386-493a-4e01-82c7-b5a8040a9db4",
   "metadata": {},
   "outputs": [],
   "source": [
    "token = \"6613d5605ceb53.42071876ff609b4f1ef30734ba612c5a59d3bc12\" # 150 запросов в день ???????????|"
   ]
  },
  {
   "cell_type": "code",
   "execution_count": 5,
   "id": "53631580-c725-44b1-a119-6214daca205a",
   "metadata": {},
   "outputs": [],
   "source": [
    "# Вводим все предмет_ID из файла Доля рынка. На счет дубликатов не заморачиваемся, код удаляет все дубликаты сам\n",
    "\n",
    "list_ids = [\n",
    "    \n",
    "927,\n",
    "1889,\n",
    "4210,\n",
    "639,\n",
    "2678,\n",
    "506,\n",
    "1434,\n",
    "5244,\n",
    "4528,\n",
    "1234,\n",
    "7061,\n",
    "803,\n",
    "513,\n",
    "3748,\n",
    "3863,\n",
    "7182,\n",
    "1681,\n",
    "2030,\n",
    "1702,\n",
    "1534,\n",
    "5164,\n",
    "1903,\n",
    "331,\n",
    "767,\n",
    "2225,\n",
    "4080,\n",
    "1072,\n",
    "3161,\n",
    "1004,\n",
    "5968,\n",
    "591,\n",
    "6305,\n",
    "1165,\n",
    "2855,\n",
    "1214,\n",
    "2001,\n",
    "1301,\n",
    "2294,\n",
    "2054,\n",
    "2054,\n",
    "1166,\n",
    "8102,\n",
    "2224,\n",
    "2668,\n",
    "2532,\n",
    "3319,\n",
    "4563,\n",
    "3851,\n",
    "2718,\n",
    "2014,\n",
    "2507,\n",
    "3940,\n",
    "1148,\n",
    "2763,\n",
    "2223,\n",
    "5058,\n",
    "1220,\n",
    "485,\n",
    "1708,\n",
    "3909,\n",
    "2159,\n",
    "613,\n",
    "6356,\n",
    "1003,\n",
    "939,\n",
    "3065,\n",
    "2962,\n",
    "1594,\n",
    "4527,\n",
    "940,\n",
    "6355,\n",
    "3158,\n",
    "4495,\n",
    "1168,\n",
    "8279,\n",
    "846,\n",
    "4890,\n",
    "4340,\n",
    "1197,\n",
    "3126,\n",
    "264,\n",
    "2222,\n",
    "3582,\n",
    "4084,\n",
    "\n",
    "]\n",
    "list_ids.sort()"
   ]
  },
  {
   "cell_type": "code",
   "execution_count": 6,
   "id": "db6834ff-4322-4023-9918-1e3e02c011c3",
   "metadata": {},
   "outputs": [
    {
     "data": {
      "text/plain": [
       "84"
      ]
     },
     "execution_count": 6,
     "metadata": {},
     "output_type": "execute_result"
    }
   ],
   "source": [
    "pd.Series(list_ids).count()"
   ]
  },
  {
   "cell_type": "code",
   "execution_count": 7,
   "id": "9705e938-c981-4d35-a8f0-c63ba7250e85",
   "metadata": {},
   "outputs": [],
   "source": [
    "list_ids = list(set(list_ids))\n",
    "list_ids.sort()"
   ]
  },
  {
   "cell_type": "code",
   "execution_count": 8,
   "id": "1b0d521f-cb08-4410-9db1-f05bd1be4932",
   "metadata": {},
   "outputs": [
    {
     "data": {
      "text/plain": [
       "83"
      ]
     },
     "execution_count": 8,
     "metadata": {},
     "output_type": "execute_result"
    }
   ],
   "source": [
    "pd.Series(list_ids).count()"
   ]
  },
  {
   "cell_type": "code",
   "execution_count": 9,
   "id": "5ad66308-e132-4198-8ded-daa7017bd26c",
   "metadata": {},
   "outputs": [],
   "source": [
    "d1 = \"2024-01-01\" # Дата начала периода\n",
    "d2 = \"2024-04-30\" # date.today().isoformat() # Дата окончания периода\n",
    "#path = 927 # ID предмета или group_id или id подгруппы в МПСтатс\n"
   ]
  },
  {
   "cell_type": "code",
   "execution_count": 10,
   "id": "38845f72-7154-480a-ba60-921b4e3d0f70",
   "metadata": {},
   "outputs": [
    {
     "name": "stderr",
     "output_type": "stream",
     "text": [
      "100%|████████████████████████████████████████████████████████████████████| 83/83 [00:48<00:00,  1.72it/s]\n"
     ]
    }
   ],
   "source": [
    "data = pd.DataFrame()\n",
    "for path in tqdm.tqdm(list_ids):\n",
    "    req = \"https://mpstats.io/api/wb/get/subject/by_date\" # WB ниша по дням\n",
    "    KEY = f'?d1={d1}&d2={d2}&path={path}'\n",
    "    url = req + KEY\n",
    "\n",
    "    headers = {\n",
    "        \"X-Mpstats-TOKEN\": token,\n",
    "        \"Content-Type\": \"application/json\"}\n",
    "\n",
    "\n",
    "    response1 = requests.get(url, headers=headers)\n",
    "    row_data1 = response1.json()\n",
    "    row_data1 = pd.DataFrame(row_data1)\n",
    "    row_data1.insert(1, 'group_id', path)\n",
    "    data = pd.concat([data, row_data1])\n",
    "    \n"
   ]
  },
  {
   "cell_type": "code",
   "execution_count": 11,
   "id": "43ded7ce-c2b0-4d33-9b27-977878cdbe52",
   "metadata": {},
   "outputs": [],
   "source": [
    "#url"
   ]
  },
  {
   "cell_type": "code",
   "execution_count": 12,
   "id": "be44fffc-cf60-43ab-b756-50341e73d47d",
   "metadata": {},
   "outputs": [],
   "source": [
    "#row_data1"
   ]
  },
  {
   "cell_type": "code",
   "execution_count": 45,
   "id": "11467810-9283-4092-841b-a1ec523fdb3f",
   "metadata": {},
   "outputs": [],
   "source": [
    "data1 = data.copy()"
   ]
  },
  {
   "cell_type": "raw",
   "id": "2848f770-3959-482a-b829-7d235e0af753",
   "metadata": {},
   "source": [
    "pd.to_datetime(data['period'])"
   ]
  },
  {
   "cell_type": "code",
   "execution_count": 46,
   "id": "8c5d9e44-d441-4837-bf7f-321f71fe60f1",
   "metadata": {},
   "outputs": [],
   "source": [
    "data = data.reset_index()\n",
    "data = data.rename(columns={'index': 'id_table'})"
   ]
  },
  {
   "cell_type": "raw",
   "id": "ce000d77-ccd8-440e-8c4f-68fc311472c5",
   "metadata": {},
   "source": [
    "data = data.drop('period', axis=1) # выгрузка без столбца период"
   ]
  },
  {
   "cell_type": "code",
   "execution_count": 47,
   "id": "ba859601-1d41-4629-9148-bc96e990227b",
   "metadata": {},
   "outputs": [],
   "source": [
    "#data.to_excel('mpstats_group_id_exl.xlsx', index=False)\n",
    "#data.to_csv(r' C:/Users/User/Desktop/KIR~1//MPStats/mpstats_group_id_csv.csv',index= False)\n",
    "data.to_csv('mpstats_group_id.csv', index= False) \n"
   ]
  },
  {
   "cell_type": "code",
   "execution_count": 48,
   "id": "07748115-51ec-4933-8dc9-ed782eee5ff1",
   "metadata": {},
   "outputs": [],
   "source": [
    "data = data.drop('id_table', axis=1) "
   ]
  },
  {
   "cell_type": "code",
   "execution_count": null,
   "id": "f37d9e94-33bb-4d5f-b58a-f56c759ecba4",
   "metadata": {},
   "outputs": [],
   "source": [
    "# data"
   ]
  }
 ],
 "metadata": {
  "kernelspec": {
   "display_name": "Python 3 (ipykernel)",
   "language": "python",
   "name": "python3"
  },
  "language_info": {
   "codemirror_mode": {
    "name": "ipython",
    "version": 3
   },
   "file_extension": ".py",
   "mimetype": "text/x-python",
   "name": "python",
   "nbconvert_exporter": "python",
   "pygments_lexer": "ipython3",
   "version": "3.12.3"
  }
 },
 "nbformat": 4,
 "nbformat_minor": 5
}
