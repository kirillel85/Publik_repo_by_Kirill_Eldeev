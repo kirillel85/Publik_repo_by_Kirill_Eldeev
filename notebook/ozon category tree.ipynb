{
 "cells": [
  {
   "cell_type": "code",
   "execution_count": null,
   "metadata": {},
   "outputs": [],
   "source": [
    "import os\n",
    "import requests\n",
    "import json\n",
    "import pandas as pd"
   ]
  },
  {
   "cell_type": "code",
   "execution_count": null,
   "metadata": {},
   "outputs": [],
   "source": [
    "\n",
    "url = r'https://api-seller.ozon.ru/v1/description-category/tree'\n",
    "\n",
    "with open('C:/Users/User/WIEKK/notebook/ozon keys.json', 'r') as keys:\n",
    "    dict_api = json.load(keys)\n",
    "\n",
    "headers = {\n",
    "    'Client-Id': dict_api[0]['client_id'],\n",
    "    'Api-Key': dict_api[0]['api_key']}\n",
    "\n",
    "body = {'language' :'RU'}\n",
    "\n",
    "response = requests.post(url, headers=headers, json=body )"
   ]
  },
  {
   "cell_type": "code",
   "execution_count": null,
   "metadata": {},
   "outputs": [],
   "source": [
    "response.json()\n"
   ]
  },
  {
   "cell_type": "code",
   "execution_count": null,
   "metadata": {},
   "outputs": [],
   "source": [
    "ozontree = response.json()\n",
    "ozontree\n",
    "# print(ozontree)\n"
   ]
  },
  {
   "cell_type": "markdown",
   "metadata": {},
   "source": [
    "### Проба чтения json"
   ]
  },
  {
   "cell_type": "code",
   "execution_count": null,
   "metadata": {},
   "outputs": [],
   "source": [
    "\n",
    "# import json\n",
    "\n",
    "# with open(r'C:\\Users\\User\\WIEKK\\notebook\\data_file.json', 'r') as f:\n",
    "#     fcc_data = json.load(f)\n",
    "#     print(fcc_data)\n"
   ]
  },
  {
   "cell_type": "code",
   "execution_count": 52,
   "metadata": {},
   "outputs": [
    {
     "data": {
      "text/html": [
       "<div>\n",
       "<style scoped>\n",
       "    .dataframe tbody tr th:only-of-type {\n",
       "        vertical-align: middle;\n",
       "    }\n",
       "\n",
       "    .dataframe tbody tr th {\n",
       "        vertical-align: top;\n",
       "    }\n",
       "\n",
       "    .dataframe thead th {\n",
       "        text-align: right;\n",
       "    }\n",
       "</style>\n",
       "<table border=\"1\" class=\"dataframe\">\n",
       "  <thead>\n",
       "    <tr style=\"text-align: right;\">\n",
       "      <th></th>\n",
       "      <th>description_category_id</th>\n",
       "      <th>category_name</th>\n",
       "      <th>disabled</th>\n",
       "      <th>children</th>\n",
       "    </tr>\n",
       "  </thead>\n",
       "  <tbody>\n",
       "    <tr>\n",
       "      <th>0</th>\n",
       "      <td>18262714</td>\n",
       "      <td>Ударные инструменты и перкуссия</td>\n",
       "      <td>False</td>\n",
       "      <td>[{'type_name': 'Ксилофон', 'type_id': 96832, '...</td>\n",
       "    </tr>\n",
       "    <tr>\n",
       "      <th>1</th>\n",
       "      <td>18262713</td>\n",
       "      <td>Духовые инструменты</td>\n",
       "      <td>False</td>\n",
       "      <td>[{'type_name': 'Флейта', 'type_id': 96810, 'di...</td>\n",
       "    </tr>\n",
       "    <tr>\n",
       "      <th>2</th>\n",
       "      <td>17028949</td>\n",
       "      <td>Электронные музыкальные инструменты</td>\n",
       "      <td>False</td>\n",
       "      <td>[{'type_name': 'Микшер', 'type_id': 91908, 'di...</td>\n",
       "    </tr>\n",
       "    <tr>\n",
       "      <th>3</th>\n",
       "      <td>17028927</td>\n",
       "      <td>Аксессуары к музыкальным инструментам</td>\n",
       "      <td>False</td>\n",
       "      <td>[{'type_name': 'Стойка для инструмента', 'type...</td>\n",
       "    </tr>\n",
       "    <tr>\n",
       "      <th>4</th>\n",
       "      <td>17028920</td>\n",
       "      <td>Клавишные инструменты</td>\n",
       "      <td>False</td>\n",
       "      <td>[{'type_name': 'Цифровой синтезатор', 'type_id...</td>\n",
       "    </tr>\n",
       "    <tr>\n",
       "      <th>...</th>\n",
       "      <td>...</td>\n",
       "      <td>...</td>\n",
       "      <td>...</td>\n",
       "      <td>...</td>\n",
       "    </tr>\n",
       "    <tr>\n",
       "      <th>653</th>\n",
       "      <td>17028768</td>\n",
       "      <td>Свежее и замороженное мясо, птица, рыба</td>\n",
       "      <td>False</td>\n",
       "      <td>[{'type_name': 'Мясо замороженное', 'type_id':...</td>\n",
       "    </tr>\n",
       "    <tr>\n",
       "      <th>654</th>\n",
       "      <td>17028774</td>\n",
       "      <td>Замороженные продукты и полуфабрикаты</td>\n",
       "      <td>False</td>\n",
       "      <td>[{'type_name': 'Выпечка замороженная', 'type_i...</td>\n",
       "    </tr>\n",
       "    <tr>\n",
       "      <th>655</th>\n",
       "      <td>81086067</td>\n",
       "      <td>Готовые блюда</td>\n",
       "      <td>False</td>\n",
       "      <td>[{'type_name': 'Второе блюдо', 'type_id': 9707...</td>\n",
       "    </tr>\n",
       "    <tr>\n",
       "      <th>656</th>\n",
       "      <td>200001389</td>\n",
       "      <td>Детское питание</td>\n",
       "      <td>True</td>\n",
       "      <td>[{'type_name': 'Кисломолочный продукт', 'type_...</td>\n",
       "    </tr>\n",
       "    <tr>\n",
       "      <th>657</th>\n",
       "      <td>200000404</td>\n",
       "      <td>Хлебобулочные изделия</td>\n",
       "      <td>False</td>\n",
       "      <td>[{'type_name': 'Пряники', 'type_id': 96048, 'd...</td>\n",
       "    </tr>\n",
       "  </tbody>\n",
       "</table>\n",
       "<p>658 rows × 4 columns</p>\n",
       "</div>"
      ],
      "text/plain": [
       "     description_category_id                            category_name  \\\n",
       "0                   18262714          Ударные инструменты и перкуссия   \n",
       "1                   18262713                      Духовые инструменты   \n",
       "2                   17028949      Электронные музыкальные инструменты   \n",
       "3                   17028927    Аксессуары к музыкальным инструментам   \n",
       "4                   17028920                    Клавишные инструменты   \n",
       "..                       ...                                      ...   \n",
       "653                 17028768  Свежее и замороженное мясо, птица, рыба   \n",
       "654                 17028774    Замороженные продукты и полуфабрикаты   \n",
       "655                 81086067                            Готовые блюда   \n",
       "656                200001389                          Детское питание   \n",
       "657                200000404                    Хлебобулочные изделия   \n",
       "\n",
       "     disabled                                           children  \n",
       "0       False  [{'type_name': 'Ксилофон', 'type_id': 96832, '...  \n",
       "1       False  [{'type_name': 'Флейта', 'type_id': 96810, 'di...  \n",
       "2       False  [{'type_name': 'Микшер', 'type_id': 91908, 'di...  \n",
       "3       False  [{'type_name': 'Стойка для инструмента', 'type...  \n",
       "4       False  [{'type_name': 'Цифровой синтезатор', 'type_id...  \n",
       "..        ...                                                ...  \n",
       "653     False  [{'type_name': 'Мясо замороженное', 'type_id':...  \n",
       "654     False  [{'type_name': 'Выпечка замороженная', 'type_i...  \n",
       "655     False  [{'type_name': 'Второе блюдо', 'type_id': 9707...  \n",
       "656      True  [{'type_name': 'Кисломолочный продукт', 'type_...  \n",
       "657     False  [{'type_name': 'Пряники', 'type_id': 96048, 'd...  \n",
       "\n",
       "[658 rows x 4 columns]"
      ]
     },
     "execution_count": 52,
     "metadata": {},
     "output_type": "execute_result"
    }
   ],
   "source": [
    "pd.json_normalize(pd.DataFrame(ozontree['result'])['children'].explode())"
   ]
  }
 ],
 "metadata": {
  "kernelspec": {
   "display_name": "venv",
   "language": "python",
   "name": "python3"
  },
  "language_info": {
   "codemirror_mode": {
    "name": "ipython",
    "version": 3
   },
   "file_extension": ".py",
   "mimetype": "text/x-python",
   "name": "python",
   "nbconvert_exporter": "python",
   "pygments_lexer": "ipython3",
   "version": "3.12.3"
  }
 },
 "nbformat": 4,
 "nbformat_minor": 2
}
