{
 "cells": [
  {
   "cell_type": "markdown",
   "metadata": {
    "id": "DpmFrtbCNdIB"
   },
   "source": [
    "# Задача для исследования  \n",
    "\n",
    "Ты аналитик в компании, которая развивает сервис доставки продуктов.\n",
    "Команда разработчиков запустила A/B эксперимент, в котором тестирует новую функциональность мобильного приложения - блок на главной странице с историей заказов пользователя.  \n",
    "\n",
    "Блок дает возможность повторить заказ / добавить товары из этого блока в корзину.\n",
    "### Группы эксперимента:  \n",
    "- группа “a” (контрольная) - не видит данного блока  \n",
    "- групп “b” (тестовая) - видит новый блок с историей заказов         \n",
    "\n",
    "### Описание доступных данных  \n",
    "1 - data_ab_groups.csv - данные о группе эксперимента пользователя.  \n",
    "Поля:  \n",
    "user_id - идентификатор пользователя,  \n",
    "ab_group - группа эксперимента  \n",
    "\n",
    "2 - data_financial.csv - данные о тратах пользователей.  \n",
    "Поля:  \n",
    "date - дата захода в приложение,   \n",
    "user_id - идентификатор пользователя,   \n",
    "spendings - траты пользователей, руб\n",
    "\n",
    "\n",
    "## Задачи:  \n",
    "\n",
    "1 - найти кол-во пользователей, которые попали более чем в одну группу эксперимента  \n",
    "2 - сформировать таблицу с колонками: айди пользователя, группа эксперимента, траты пользователя.  \n",
    "Комментарий:  \n",
    "- пользователей с несколькими группами исключаем из финальной таблицы,  \n",
    "- траты пользователей должны быть агрегированы за весь период  \n",
    "\n",
    "3 - Построить boxplot по тратам пользователей в разрезе группы эксперимента.прокомментировать наличие выбросов, обработать выбросы при их наличии.  \n",
    "4 - Выбрать статистический критерий, подвести итоги по эксперименту (посчитать аплифт в тратах и его статзначимость, дать выводы и рекомендации менеджеру).\n",
    "\n",
    "\n",
    "https://drive.google.com/file/d/184KUn-TvAd-L-GI5YPZSADsUVlzLAgm6/view?usp=sharing       :  data_financial.csv  \n",
    "\n",
    "https://drive.google.com/file/d/1x502JsFV3mJVrfX5UpSKkwff8y8cWB7Y/view?usp=drive_link   : data_ab_groups.csv\n",
    "\n"
   ]
  },
  {
   "cell_type": "code",
   "execution_count": 2,
   "metadata": {
    "executionInfo": {
     "elapsed": 5547,
     "status": "ok",
     "timestamp": 1730269071384,
     "user": {
      "displayName": "Кирилл",
      "userId": "00039198927998476912"
     },
     "user_tz": -180
    },
    "id": "n3PzIlaCMzXj"
   },
   "outputs": [],
   "source": [
    "# @title Импорт библиотек и создание образа Google drive disk\n",
    "import seaborn as sns\n",
    "import pandas as pd\n",
    "import numpy as np\n",
    "import matplotlib"
   ]
  },
  {
   "cell_type": "code",
   "execution_count": null,
   "metadata": {
    "colab": {
     "base_uri": "https://localhost:8080/"
    },
    "executionInfo": {
     "elapsed": 19432,
     "status": "ok",
     "timestamp": 1730269090811,
     "user": {
      "displayName": "Кирилл",
      "userId": "00039198927998476912"
     },
     "user_tz": -180
    },
    "id": "WrlpS8t9Ge_V",
    "outputId": "813d1109-e532-4e42-f0c9-622703322960"
   },
   "outputs": [],
   "source": [
    "#@title Блок Google Collab\n",
    "\n",
    "# from google.colab import drive\n",
    "# drive.mount('/content/gdrive')\n",
    "\n",
    "# print('Гружу образ гугл диска во временную среду')\n",
    "# for i in tqdm(range(20)):\n",
    "#     time.sleep(1)\n",
    "# print(' ')\n",
    "# print('Загрузил образ гугл диска во временную среду')\n",
    "# print(' ')\n",
    "\n",
    "# ! cp /content/gdrive/MyDrive/1_pet_project/task_Alex_Gavrilov_abtest_python/data_ab_groups.csv /content/data_ab_groups.csv\n",
    "# ! cp /content/gdrive/MyDrive/1_pet_project/task_Alex_Gavrilov_abtest_python/data_financial.csv /content/data_financial.csv\n",
    "\n",
    "# # Копируем файлs из образа моего GOOGLE DRIVE во временый сервер ноутбука\n",
    "# for i in tqdm(range(30)):\n",
    "#     time.sleep(1)\n",
    "# print(' ')\n",
    "\n",
    "# # Копируем файлы из образа моего GOOGLE DRIVE во временый сервер ноутбука\n",
    "# ab = pd.read_csv('/content/data_ab_groups.csv', sep=';')"
   ]
  },
  {
   "cell_type": "code",
   "execution_count": 3,
   "metadata": {},
   "outputs": [],
   "source": [
    "ab = pd.read_csv('/home/kirill/publik_repo_by_Kirill_Eldeev/challenge_example/task_abtest_python/data_ab_groups.csv', sep=';')"
   ]
  },
  {
   "cell_type": "code",
   "execution_count": 4,
   "metadata": {
    "colab": {
     "base_uri": "https://localhost:8080/"
    },
    "executionInfo": {
     "elapsed": 18,
     "status": "ok",
     "timestamp": 1730269092850,
     "user": {
      "displayName": "Кирилл",
      "userId": "00039198927998476912"
     },
     "user_tz": -180
    },
    "id": "Drn-OzjrQG0k",
    "outputId": "7865c64b-b664-4546-fe38-2a7c136ee001"
   },
   "outputs": [
    {
     "data": {
      "text/plain": [
       "np.int64(0)"
      ]
     },
     "execution_count": 4,
     "metadata": {},
     "output_type": "execute_result"
    }
   ],
   "source": [
    "ab['user_id'].isna().sum()\n",
    "# Смотрим есть ли пустые значения"
   ]
  },
  {
   "cell_type": "code",
   "execution_count": 5,
   "metadata": {
    "colab": {
     "base_uri": "https://localhost:8080/",
     "height": 269
    },
    "executionInfo": {
     "elapsed": 15,
     "status": "ok",
     "timestamp": 1730269092850,
     "user": {
      "displayName": "Кирилл",
      "userId": "00039198927998476912"
     },
     "user_tz": -180
    },
    "id": "gw4N5-CgRVi4",
    "outputId": "5050f943-f3ea-407c-b5f1-ca65a6884b0a"
   },
   "outputs": [
    {
     "data": {
      "text/html": [
       "<div>\n",
       "<style scoped>\n",
       "    .dataframe tbody tr th:only-of-type {\n",
       "        vertical-align: middle;\n",
       "    }\n",
       "\n",
       "    .dataframe tbody tr th {\n",
       "        vertical-align: top;\n",
       "    }\n",
       "\n",
       "    .dataframe thead th {\n",
       "        text-align: right;\n",
       "    }\n",
       "</style>\n",
       "<table border=\"1\" class=\"dataframe\">\n",
       "  <thead>\n",
       "    <tr style=\"text-align: right;\">\n",
       "      <th></th>\n",
       "      <th>user_id</th>\n",
       "      <th>ab_group</th>\n",
       "    </tr>\n",
       "  </thead>\n",
       "  <tbody>\n",
       "    <tr>\n",
       "      <th>485</th>\n",
       "      <td>1999361702</td>\n",
       "      <td>a</td>\n",
       "    </tr>\n",
       "    <tr>\n",
       "      <th>475</th>\n",
       "      <td>17315160</td>\n",
       "      <td>a</td>\n",
       "    </tr>\n",
       "    <tr>\n",
       "      <th>2135</th>\n",
       "      <td>16109775</td>\n",
       "      <td>a</td>\n",
       "    </tr>\n",
       "    <tr>\n",
       "      <th>3545</th>\n",
       "      <td>23551884</td>\n",
       "      <td>a</td>\n",
       "    </tr>\n",
       "    <tr>\n",
       "      <th>1387</th>\n",
       "      <td>26881848</td>\n",
       "      <td>a</td>\n",
       "    </tr>\n",
       "    <tr>\n",
       "      <th>3572</th>\n",
       "      <td>2000516358</td>\n",
       "      <td>a</td>\n",
       "    </tr>\n",
       "    <tr>\n",
       "      <th>426</th>\n",
       "      <td>17022960</td>\n",
       "      <td>b</td>\n",
       "    </tr>\n",
       "  </tbody>\n",
       "</table>\n",
       "</div>"
      ],
      "text/plain": [
       "         user_id ab_group\n",
       "485   1999361702        a\n",
       "475     17315160        a\n",
       "2135    16109775        a\n",
       "3545    23551884        a\n",
       "1387    26881848        a\n",
       "3572  2000516358        a\n",
       "426     17022960        b"
      ]
     },
     "execution_count": 5,
     "metadata": {},
     "output_type": "execute_result"
    }
   ],
   "source": [
    "ab.sample(7)\n",
    "# Осматриваем случайные строки датафрейма"
   ]
  },
  {
   "cell_type": "code",
   "execution_count": 6,
   "metadata": {
    "colab": {
     "base_uri": "https://localhost:8080/"
    },
    "executionInfo": {
     "elapsed": 12,
     "status": "ok",
     "timestamp": 1730269092850,
     "user": {
      "displayName": "Кирилл",
      "userId": "00039198927998476912"
     },
     "user_tz": -180
    },
    "id": "dg1O4Xv6Tg9Y",
    "outputId": "0dee0793-7cb7-4406-c556-a490146d07fb"
   },
   "outputs": [
    {
     "data": {
      "text/plain": [
       "4421"
      ]
     },
     "execution_count": 6,
     "metadata": {},
     "output_type": "execute_result"
    }
   ],
   "source": [
    "len(ab)\n",
    "# Узнаём размер датафрейма"
   ]
  },
  {
   "cell_type": "code",
   "execution_count": 7,
   "metadata": {
    "colab": {
     "base_uri": "https://localhost:8080/",
     "height": 423
    },
    "executionInfo": {
     "elapsed": 377,
     "status": "ok",
     "timestamp": 1730269093219,
     "user": {
      "displayName": "Кирилл",
      "userId": "00039198927998476912"
     },
     "user_tz": -180
    },
    "id": "_0bV9-siQ1lo",
    "outputId": "31fd7379-2450-4daf-9f73-0f44e9a01c1b"
   },
   "outputs": [
    {
     "data": {
      "text/html": [
       "<div>\n",
       "<style scoped>\n",
       "    .dataframe tbody tr th:only-of-type {\n",
       "        vertical-align: middle;\n",
       "    }\n",
       "\n",
       "    .dataframe tbody tr th {\n",
       "        vertical-align: top;\n",
       "    }\n",
       "\n",
       "    .dataframe thead th {\n",
       "        text-align: right;\n",
       "    }\n",
       "</style>\n",
       "<table border=\"1\" class=\"dataframe\">\n",
       "  <thead>\n",
       "    <tr style=\"text-align: right;\">\n",
       "      <th></th>\n",
       "      <th>user_id</th>\n",
       "      <th>ab_group</th>\n",
       "    </tr>\n",
       "  </thead>\n",
       "  <tbody>\n",
       "    <tr>\n",
       "      <th>462</th>\n",
       "      <td>19677552</td>\n",
       "      <td>2</td>\n",
       "    </tr>\n",
       "    <tr>\n",
       "      <th>1740</th>\n",
       "      <td>33476009</td>\n",
       "      <td>2</td>\n",
       "    </tr>\n",
       "    <tr>\n",
       "      <th>786</th>\n",
       "      <td>22494930</td>\n",
       "      <td>2</td>\n",
       "    </tr>\n",
       "    <tr>\n",
       "      <th>1735</th>\n",
       "      <td>33409068</td>\n",
       "      <td>2</td>\n",
       "    </tr>\n",
       "    <tr>\n",
       "      <th>1470</th>\n",
       "      <td>29154946</td>\n",
       "      <td>2</td>\n",
       "    </tr>\n",
       "    <tr>\n",
       "      <th>...</th>\n",
       "      <td>...</td>\n",
       "      <td>...</td>\n",
       "    </tr>\n",
       "    <tr>\n",
       "      <th>1487</th>\n",
       "      <td>29344366</td>\n",
       "      <td>1</td>\n",
       "    </tr>\n",
       "    <tr>\n",
       "      <th>1488</th>\n",
       "      <td>29350208</td>\n",
       "      <td>1</td>\n",
       "    </tr>\n",
       "    <tr>\n",
       "      <th>1489</th>\n",
       "      <td>29361492</td>\n",
       "      <td>1</td>\n",
       "    </tr>\n",
       "    <tr>\n",
       "      <th>1490</th>\n",
       "      <td>29363817</td>\n",
       "      <td>1</td>\n",
       "    </tr>\n",
       "    <tr>\n",
       "      <th>4300</th>\n",
       "      <td>5003325337</td>\n",
       "      <td>1</td>\n",
       "    </tr>\n",
       "  </tbody>\n",
       "</table>\n",
       "<p>4301 rows × 2 columns</p>\n",
       "</div>"
      ],
      "text/plain": [
       "         user_id  ab_group\n",
       "462     19677552         2\n",
       "1740    33476009         2\n",
       "786     22494930         2\n",
       "1735    33409068         2\n",
       "1470    29154946         2\n",
       "...          ...       ...\n",
       "1487    29344366         1\n",
       "1488    29350208         1\n",
       "1489    29361492         1\n",
       "1490    29363817         1\n",
       "4300  5003325337         1\n",
       "\n",
       "[4301 rows x 2 columns]"
      ]
     },
     "execution_count": 7,
     "metadata": {},
     "output_type": "execute_result"
    }
   ],
   "source": [
    "ab_count = ab.groupby('user_id').count().reset_index().sort_values(by='ab_group', ascending=False)\n",
    "ab_count\n",
    "# Групируем пользователей и узнаём какие пользователи попали в обе группы"
   ]
  },
  {
   "cell_type": "code",
   "execution_count": 8,
   "metadata": {
    "colab": {
     "base_uri": "https://localhost:8080/",
     "height": 423
    },
    "executionInfo": {
     "elapsed": 41,
     "status": "ok",
     "timestamp": 1730269093219,
     "user": {
      "displayName": "Кирилл",
      "userId": "00039198927998476912"
     },
     "user_tz": -180
    },
    "id": "-y-ghikaRTkL",
    "outputId": "f3f445ce-8f70-45fb-f1f8-ffa453c4face"
   },
   "outputs": [
    {
     "data": {
      "text/html": [
       "<div>\n",
       "<style scoped>\n",
       "    .dataframe tbody tr th:only-of-type {\n",
       "        vertical-align: middle;\n",
       "    }\n",
       "\n",
       "    .dataframe tbody tr th {\n",
       "        vertical-align: top;\n",
       "    }\n",
       "\n",
       "    .dataframe thead th {\n",
       "        text-align: right;\n",
       "    }\n",
       "</style>\n",
       "<table border=\"1\" class=\"dataframe\">\n",
       "  <thead>\n",
       "    <tr style=\"text-align: right;\">\n",
       "      <th></th>\n",
       "      <th>user_id</th>\n",
       "      <th>ab_group</th>\n",
       "    </tr>\n",
       "  </thead>\n",
       "  <tbody>\n",
       "    <tr>\n",
       "      <th>462</th>\n",
       "      <td>19677552</td>\n",
       "      <td>2</td>\n",
       "    </tr>\n",
       "    <tr>\n",
       "      <th>1740</th>\n",
       "      <td>33476009</td>\n",
       "      <td>2</td>\n",
       "    </tr>\n",
       "    <tr>\n",
       "      <th>786</th>\n",
       "      <td>22494930</td>\n",
       "      <td>2</td>\n",
       "    </tr>\n",
       "    <tr>\n",
       "      <th>1735</th>\n",
       "      <td>33409068</td>\n",
       "      <td>2</td>\n",
       "    </tr>\n",
       "    <tr>\n",
       "      <th>1470</th>\n",
       "      <td>29154946</td>\n",
       "      <td>2</td>\n",
       "    </tr>\n",
       "    <tr>\n",
       "      <th>...</th>\n",
       "      <td>...</td>\n",
       "      <td>...</td>\n",
       "    </tr>\n",
       "    <tr>\n",
       "      <th>621</th>\n",
       "      <td>21147087</td>\n",
       "      <td>2</td>\n",
       "    </tr>\n",
       "    <tr>\n",
       "      <th>56</th>\n",
       "      <td>12104850</td>\n",
       "      <td>2</td>\n",
       "    </tr>\n",
       "    <tr>\n",
       "      <th>1085</th>\n",
       "      <td>25373334</td>\n",
       "      <td>2</td>\n",
       "    </tr>\n",
       "    <tr>\n",
       "      <th>1084</th>\n",
       "      <td>25369284</td>\n",
       "      <td>2</td>\n",
       "    </tr>\n",
       "    <tr>\n",
       "      <th>1130</th>\n",
       "      <td>25769406</td>\n",
       "      <td>2</td>\n",
       "    </tr>\n",
       "  </tbody>\n",
       "</table>\n",
       "<p>120 rows × 2 columns</p>\n",
       "</div>"
      ],
      "text/plain": [
       "       user_id  ab_group\n",
       "462   19677552         2\n",
       "1740  33476009         2\n",
       "786   22494930         2\n",
       "1735  33409068         2\n",
       "1470  29154946         2\n",
       "...        ...       ...\n",
       "621   21147087         2\n",
       "56    12104850         2\n",
       "1085  25373334         2\n",
       "1084  25369284         2\n",
       "1130  25769406         2\n",
       "\n",
       "[120 rows x 2 columns]"
      ]
     },
     "execution_count": 8,
     "metadata": {},
     "output_type": "execute_result"
    }
   ],
   "source": [
    "ab_users_in_2group = ab_count[ab_count['ab_group'] == 2]\n",
    "ab_users_in_2group\n",
    "# @title Задача номер 1 решена. Нашёл пользователей, которые попали более чем в одну группу эксперимента"
   ]
  },
  {
   "cell_type": "code",
   "execution_count": 9,
   "metadata": {
    "executionInfo": {
     "elapsed": 39,
     "status": "ok",
     "timestamp": 1730269093219,
     "user": {
      "displayName": "Кирилл",
      "userId": "00039198927998476912"
     },
     "user_tz": -180
    },
    "id": "sxmRJ9FDWQit"
   },
   "outputs": [],
   "source": [
    "ab_users_in_1group = ab_count[ab_count['ab_group'] == 1] # Получаю только тех пользователей которые попали только в одну из групп A/B теста\n",
    "list_ab_users_in_1group = ab_users_in_1group['user_id'].to_list()  # Превращаю предыдущую серию в список для последующей логической фильтрации"
   ]
  },
  {
   "cell_type": "code",
   "execution_count": 10,
   "metadata": {
    "colab": {
     "base_uri": "https://localhost:8080/",
     "height": 423
    },
    "executionInfo": {
     "elapsed": 39,
     "status": "ok",
     "timestamp": 1730269093220,
     "user": {
      "displayName": "Кирилл",
      "userId": "00039198927998476912"
     },
     "user_tz": -180
    },
    "id": "QoH6kE1GYZ-R",
    "outputId": "f0938a52-51e0-4203-cfcd-aa965ef707c1"
   },
   "outputs": [
    {
     "data": {
      "text/html": [
       "<div>\n",
       "<style scoped>\n",
       "    .dataframe tbody tr th:only-of-type {\n",
       "        vertical-align: middle;\n",
       "    }\n",
       "\n",
       "    .dataframe tbody tr th {\n",
       "        vertical-align: top;\n",
       "    }\n",
       "\n",
       "    .dataframe thead th {\n",
       "        text-align: right;\n",
       "    }\n",
       "</style>\n",
       "<table border=\"1\" class=\"dataframe\">\n",
       "  <thead>\n",
       "    <tr style=\"text-align: right;\">\n",
       "      <th></th>\n",
       "      <th>user_id</th>\n",
       "      <th>ab_group</th>\n",
       "    </tr>\n",
       "  </thead>\n",
       "  <tbody>\n",
       "    <tr>\n",
       "      <th>0</th>\n",
       "      <td>2001340110</td>\n",
       "      <td>a</td>\n",
       "    </tr>\n",
       "    <tr>\n",
       "      <th>1</th>\n",
       "      <td>4999124828</td>\n",
       "      <td>b</td>\n",
       "    </tr>\n",
       "    <tr>\n",
       "      <th>2</th>\n",
       "      <td>29914227</td>\n",
       "      <td>a</td>\n",
       "    </tr>\n",
       "    <tr>\n",
       "      <th>3</th>\n",
       "      <td>1998019886</td>\n",
       "      <td>a</td>\n",
       "    </tr>\n",
       "    <tr>\n",
       "      <th>4</th>\n",
       "      <td>14428620</td>\n",
       "      <td>a</td>\n",
       "    </tr>\n",
       "    <tr>\n",
       "      <th>...</th>\n",
       "      <td>...</td>\n",
       "      <td>...</td>\n",
       "    </tr>\n",
       "    <tr>\n",
       "      <th>4415</th>\n",
       "      <td>4999358646</td>\n",
       "      <td>b</td>\n",
       "    </tr>\n",
       "    <tr>\n",
       "      <th>4416</th>\n",
       "      <td>5000173542</td>\n",
       "      <td>b</td>\n",
       "    </tr>\n",
       "    <tr>\n",
       "      <th>4417</th>\n",
       "      <td>29369004</td>\n",
       "      <td>a</td>\n",
       "    </tr>\n",
       "    <tr>\n",
       "      <th>4418</th>\n",
       "      <td>4999847021</td>\n",
       "      <td>b</td>\n",
       "    </tr>\n",
       "    <tr>\n",
       "      <th>4419</th>\n",
       "      <td>2000341855</td>\n",
       "      <td>a</td>\n",
       "    </tr>\n",
       "  </tbody>\n",
       "</table>\n",
       "<p>4181 rows × 2 columns</p>\n",
       "</div>"
      ],
      "text/plain": [
       "         user_id ab_group\n",
       "0     2001340110        a\n",
       "1     4999124828        b\n",
       "2       29914227        a\n",
       "3     1998019886        a\n",
       "4       14428620        a\n",
       "...          ...      ...\n",
       "4415  4999358646        b\n",
       "4416  5000173542        b\n",
       "4417    29369004        a\n",
       "4418  4999847021        b\n",
       "4419  2000341855        a\n",
       "\n",
       "[4181 rows x 2 columns]"
      ]
     },
     "execution_count": 10,
     "metadata": {},
     "output_type": "execute_result"
    }
   ],
   "source": [
    "template = ab[ab['user_id'].isin(list_ab_users_in_1group)] # Фильтрую датафрейм по списку значений\n",
    "template\n",
    "# @title Создаём костяк аналитической таблицы к которой будем джойнить показатели"
   ]
  },
  {
   "cell_type": "code",
   "execution_count": 11,
   "metadata": {
    "colab": {
     "base_uri": "https://localhost:8080/"
    },
    "executionInfo": {
     "elapsed": 37,
     "status": "ok",
     "timestamp": 1730269093220,
     "user": {
      "displayName": "Кирилл",
      "userId": "00039198927998476912"
     },
     "user_tz": -180
    },
    "id": "CXFSjWhke5JW",
    "outputId": "375167e5-c8b5-40a1-b9bd-7e7f12abfefd"
   },
   "outputs": [
    {
     "data": {
      "text/plain": [
       "4181"
      ]
     },
     "execution_count": 11,
     "metadata": {},
     "output_type": "execute_result"
    }
   ],
   "source": [
    "len(ab_count) - len(ab_users_in_2group)\n",
    "# Проверяем колличество пользователей. Для этого из всего количества пользователей вычитаем количество пользователей попавших в обе группы\n",
    "# @title Проверка количества пользователей завершена успешно"
   ]
  },
  {
   "cell_type": "code",
   "execution_count": 13,
   "metadata": {
    "colab": {
     "base_uri": "https://localhost:8080/",
     "height": 423
    },
    "executionInfo": {
     "elapsed": 35,
     "status": "ok",
     "timestamp": 1730269093220,
     "user": {
      "displayName": "Кирилл",
      "userId": "00039198927998476912"
     },
     "user_tz": -180
    },
    "id": "Qb-nf-WkjCUp",
    "outputId": "f10df32b-941e-4625-b6f6-1de0ce85024b"
   },
   "outputs": [
    {
     "data": {
      "text/html": [
       "<div>\n",
       "<style scoped>\n",
       "    .dataframe tbody tr th:only-of-type {\n",
       "        vertical-align: middle;\n",
       "    }\n",
       "\n",
       "    .dataframe tbody tr th {\n",
       "        vertical-align: top;\n",
       "    }\n",
       "\n",
       "    .dataframe thead th {\n",
       "        text-align: right;\n",
       "    }\n",
       "</style>\n",
       "<table border=\"1\" class=\"dataframe\">\n",
       "  <thead>\n",
       "    <tr style=\"text-align: right;\">\n",
       "      <th></th>\n",
       "      <th>user_id</th>\n",
       "      <th>spendings</th>\n",
       "      <th>date</th>\n",
       "    </tr>\n",
       "  </thead>\n",
       "  <tbody>\n",
       "    <tr>\n",
       "      <th>0</th>\n",
       "      <td>27993928</td>\n",
       "      <td>5182.0</td>\n",
       "      <td>2023-02-10</td>\n",
       "    </tr>\n",
       "    <tr>\n",
       "      <th>1</th>\n",
       "      <td>5000200473</td>\n",
       "      <td>0.0</td>\n",
       "      <td>2023-02-10</td>\n",
       "    </tr>\n",
       "    <tr>\n",
       "      <th>2</th>\n",
       "      <td>24650419</td>\n",
       "      <td>6467.0</td>\n",
       "      <td>2023-02-10</td>\n",
       "    </tr>\n",
       "    <tr>\n",
       "      <th>3</th>\n",
       "      <td>23717665</td>\n",
       "      <td>4117.0</td>\n",
       "      <td>2023-02-10</td>\n",
       "    </tr>\n",
       "    <tr>\n",
       "      <th>4</th>\n",
       "      <td>4998371614</td>\n",
       "      <td>0.0</td>\n",
       "      <td>2023-02-10</td>\n",
       "    </tr>\n",
       "    <tr>\n",
       "      <th>...</th>\n",
       "      <td>...</td>\n",
       "      <td>...</td>\n",
       "      <td>...</td>\n",
       "    </tr>\n",
       "    <tr>\n",
       "      <th>36183</th>\n",
       "      <td>4999827076</td>\n",
       "      <td>0.0</td>\n",
       "      <td>2023-02-24</td>\n",
       "    </tr>\n",
       "    <tr>\n",
       "      <th>36184</th>\n",
       "      <td>21957804</td>\n",
       "      <td>4300.0</td>\n",
       "      <td>2023-02-24</td>\n",
       "    </tr>\n",
       "    <tr>\n",
       "      <th>36185</th>\n",
       "      <td>1999535127</td>\n",
       "      <td>0.0</td>\n",
       "      <td>2023-02-24</td>\n",
       "    </tr>\n",
       "    <tr>\n",
       "      <th>36186</th>\n",
       "      <td>17944872</td>\n",
       "      <td>6740.0</td>\n",
       "      <td>2023-02-24</td>\n",
       "    </tr>\n",
       "    <tr>\n",
       "      <th>36187</th>\n",
       "      <td>29491605</td>\n",
       "      <td>4500.0</td>\n",
       "      <td>2023-02-24</td>\n",
       "    </tr>\n",
       "  </tbody>\n",
       "</table>\n",
       "<p>36188 rows × 3 columns</p>\n",
       "</div>"
      ],
      "text/plain": [
       "          user_id  spendings        date\n",
       "0        27993928     5182.0  2023-02-10\n",
       "1      5000200473        0.0  2023-02-10\n",
       "2        24650419     6467.0  2023-02-10\n",
       "3        23717665     4117.0  2023-02-10\n",
       "4      4998371614        0.0  2023-02-10\n",
       "...           ...        ...         ...\n",
       "36183  4999827076        0.0  2023-02-24\n",
       "36184    21957804     4300.0  2023-02-24\n",
       "36185  1999535127        0.0  2023-02-24\n",
       "36186    17944872     6740.0  2023-02-24\n",
       "36187    29491605     4500.0  2023-02-24\n",
       "\n",
       "[36188 rows x 3 columns]"
      ]
     },
     "execution_count": 13,
     "metadata": {},
     "output_type": "execute_result"
    }
   ],
   "source": [
    "financial = pd.read_csv('/home/kirill/publik_repo_by_Kirill_Eldeev/challenge_example/task_abtest_python/data_financial.csv', sep=';')\n",
    "financial\n",
    "# @title Читаем финансовые данные пользователей"
   ]
  },
  {
   "cell_type": "code",
   "execution_count": 14,
   "metadata": {
    "colab": {
     "base_uri": "https://localhost:8080/",
     "height": 178
    },
    "executionInfo": {
     "elapsed": 34,
     "status": "ok",
     "timestamp": 1730269093220,
     "user": {
      "displayName": "Кирилл",
      "userId": "00039198927998476912"
     },
     "user_tz": -180
    },
    "id": "wvCKqK9MwSHy",
    "outputId": "0540a208-fa6c-4385-c409-82bb431888d7"
   },
   "outputs": [
    {
     "data": {
      "text/plain": [
       "user_id      0\n",
       "spendings    0\n",
       "date         0\n",
       "dtype: int64"
      ]
     },
     "execution_count": 14,
     "metadata": {},
     "output_type": "execute_result"
    }
   ],
   "source": [
    "financial.isna().sum()\n",
    "# Проверяем на пустоты"
   ]
  },
  {
   "cell_type": "code",
   "execution_count": 15,
   "metadata": {
    "colab": {
     "base_uri": "https://localhost:8080/",
     "height": 178
    },
    "executionInfo": {
     "elapsed": 32,
     "status": "ok",
     "timestamp": 1730269093220,
     "user": {
      "displayName": "Кирилл",
      "userId": "00039198927998476912"
     },
     "user_tz": -180
    },
    "id": "eLu6RnCWzW4l",
    "outputId": "76971755-5397-4eb0-f065-403ae06f4a15"
   },
   "outputs": [
    {
     "data": {
      "text/plain": [
       "user_id        int64\n",
       "spendings    float64\n",
       "date          object\n",
       "dtype: object"
      ]
     },
     "execution_count": 15,
     "metadata": {},
     "output_type": "execute_result"
    }
   ],
   "source": [
    "financial.dtypes\n",
    "# Проверяем на типы данных. С датами мы не будем работать поэтому всё ок"
   ]
  },
  {
   "cell_type": "code",
   "execution_count": 16,
   "metadata": {
    "colab": {
     "base_uri": "https://localhost:8080/",
     "height": 423
    },
    "executionInfo": {
     "elapsed": 32,
     "status": "ok",
     "timestamp": 1730269093221,
     "user": {
      "displayName": "Кирилл",
      "userId": "00039198927998476912"
     },
     "user_tz": -180
    },
    "id": "4EA15HlgmFxe",
    "outputId": "bcf30d6f-c535-428a-8f62-73f58363de06"
   },
   "outputs": [
    {
     "data": {
      "text/html": [
       "<div>\n",
       "<style scoped>\n",
       "    .dataframe tbody tr th:only-of-type {\n",
       "        vertical-align: middle;\n",
       "    }\n",
       "\n",
       "    .dataframe tbody tr th {\n",
       "        vertical-align: top;\n",
       "    }\n",
       "\n",
       "    .dataframe thead th {\n",
       "        text-align: right;\n",
       "    }\n",
       "</style>\n",
       "<table border=\"1\" class=\"dataframe\">\n",
       "  <thead>\n",
       "    <tr style=\"text-align: right;\">\n",
       "      <th></th>\n",
       "      <th>user_id</th>\n",
       "      <th>spendings</th>\n",
       "    </tr>\n",
       "  </thead>\n",
       "  <tbody>\n",
       "    <tr>\n",
       "      <th>0</th>\n",
       "      <td>5214352</td>\n",
       "      <td>54648.0</td>\n",
       "    </tr>\n",
       "    <tr>\n",
       "      <th>1</th>\n",
       "      <td>6367263</td>\n",
       "      <td>74574.0</td>\n",
       "    </tr>\n",
       "    <tr>\n",
       "      <th>2</th>\n",
       "      <td>6980064</td>\n",
       "      <td>47990.0</td>\n",
       "    </tr>\n",
       "    <tr>\n",
       "      <th>3</th>\n",
       "      <td>7195752</td>\n",
       "      <td>62001.0</td>\n",
       "    </tr>\n",
       "    <tr>\n",
       "      <th>4</th>\n",
       "      <td>7367490</td>\n",
       "      <td>24010.0</td>\n",
       "    </tr>\n",
       "    <tr>\n",
       "      <th>...</th>\n",
       "      <td>...</td>\n",
       "      <td>...</td>\n",
       "    </tr>\n",
       "    <tr>\n",
       "      <th>4296</th>\n",
       "      <td>5002781779</td>\n",
       "      <td>0.0</td>\n",
       "    </tr>\n",
       "    <tr>\n",
       "      <th>4297</th>\n",
       "      <td>5002933928</td>\n",
       "      <td>0.0</td>\n",
       "    </tr>\n",
       "    <tr>\n",
       "      <th>4298</th>\n",
       "      <td>5002989237</td>\n",
       "      <td>0.0</td>\n",
       "    </tr>\n",
       "    <tr>\n",
       "      <th>4299</th>\n",
       "      <td>5003192281</td>\n",
       "      <td>0.0</td>\n",
       "    </tr>\n",
       "    <tr>\n",
       "      <th>4300</th>\n",
       "      <td>5003325337</td>\n",
       "      <td>0.0</td>\n",
       "    </tr>\n",
       "  </tbody>\n",
       "</table>\n",
       "<p>4301 rows × 2 columns</p>\n",
       "</div>"
      ],
      "text/plain": [
       "         user_id  spendings\n",
       "0        5214352    54648.0\n",
       "1        6367263    74574.0\n",
       "2        6980064    47990.0\n",
       "3        7195752    62001.0\n",
       "4        7367490    24010.0\n",
       "...          ...        ...\n",
       "4296  5002781779        0.0\n",
       "4297  5002933928        0.0\n",
       "4298  5002989237        0.0\n",
       "4299  5003192281        0.0\n",
       "4300  5003325337        0.0\n",
       "\n",
       "[4301 rows x 2 columns]"
      ]
     },
     "execution_count": 16,
     "metadata": {},
     "output_type": "execute_result"
    }
   ],
   "source": [
    "financial_group = financial.groupby('user_id').sum().reset_index()[['user_id','spendings']]\n",
    "financial_group\n",
    "# Группируем датафрейм с фин. данными. выводим только два поля"
   ]
  },
  {
   "cell_type": "code",
   "execution_count": 17,
   "metadata": {
    "colab": {
     "base_uri": "https://localhost:8080/",
     "height": 423
    },
    "executionInfo": {
     "elapsed": 30,
     "status": "ok",
     "timestamp": 1730269093221,
     "user": {
      "displayName": "Кирилл",
      "userId": "00039198927998476912"
     },
     "user_tz": -180
    },
    "id": "qQfGKZMcmUN_",
    "outputId": "798c4fad-72ff-4fa1-cdec-0f60e6b89663"
   },
   "outputs": [
    {
     "data": {
      "text/html": [
       "<div>\n",
       "<style scoped>\n",
       "    .dataframe tbody tr th:only-of-type {\n",
       "        vertical-align: middle;\n",
       "    }\n",
       "\n",
       "    .dataframe tbody tr th {\n",
       "        vertical-align: top;\n",
       "    }\n",
       "\n",
       "    .dataframe thead th {\n",
       "        text-align: right;\n",
       "    }\n",
       "</style>\n",
       "<table border=\"1\" class=\"dataframe\">\n",
       "  <thead>\n",
       "    <tr style=\"text-align: right;\">\n",
       "      <th></th>\n",
       "      <th>user_id</th>\n",
       "      <th>ab_group</th>\n",
       "      <th>spendings</th>\n",
       "    </tr>\n",
       "  </thead>\n",
       "  <tbody>\n",
       "    <tr>\n",
       "      <th>0</th>\n",
       "      <td>2001340110</td>\n",
       "      <td>a</td>\n",
       "      <td>0.0</td>\n",
       "    </tr>\n",
       "    <tr>\n",
       "      <th>1</th>\n",
       "      <td>4999124828</td>\n",
       "      <td>b</td>\n",
       "      <td>0.0</td>\n",
       "    </tr>\n",
       "    <tr>\n",
       "      <th>2</th>\n",
       "      <td>29914227</td>\n",
       "      <td>a</td>\n",
       "      <td>73790.0</td>\n",
       "    </tr>\n",
       "    <tr>\n",
       "      <th>3</th>\n",
       "      <td>1998019886</td>\n",
       "      <td>a</td>\n",
       "      <td>0.0</td>\n",
       "    </tr>\n",
       "    <tr>\n",
       "      <th>4</th>\n",
       "      <td>14428620</td>\n",
       "      <td>a</td>\n",
       "      <td>38770.0</td>\n",
       "    </tr>\n",
       "    <tr>\n",
       "      <th>...</th>\n",
       "      <td>...</td>\n",
       "      <td>...</td>\n",
       "      <td>...</td>\n",
       "    </tr>\n",
       "    <tr>\n",
       "      <th>4176</th>\n",
       "      <td>4999358646</td>\n",
       "      <td>b</td>\n",
       "      <td>0.0</td>\n",
       "    </tr>\n",
       "    <tr>\n",
       "      <th>4177</th>\n",
       "      <td>5000173542</td>\n",
       "      <td>b</td>\n",
       "      <td>0.0</td>\n",
       "    </tr>\n",
       "    <tr>\n",
       "      <th>4178</th>\n",
       "      <td>29369004</td>\n",
       "      <td>a</td>\n",
       "      <td>45747.0</td>\n",
       "    </tr>\n",
       "    <tr>\n",
       "      <th>4179</th>\n",
       "      <td>4999847021</td>\n",
       "      <td>b</td>\n",
       "      <td>0.0</td>\n",
       "    </tr>\n",
       "    <tr>\n",
       "      <th>4180</th>\n",
       "      <td>2000341855</td>\n",
       "      <td>a</td>\n",
       "      <td>0.0</td>\n",
       "    </tr>\n",
       "  </tbody>\n",
       "</table>\n",
       "<p>4181 rows × 3 columns</p>\n",
       "</div>"
      ],
      "text/plain": [
       "         user_id ab_group  spendings\n",
       "0     2001340110        a        0.0\n",
       "1     4999124828        b        0.0\n",
       "2       29914227        a    73790.0\n",
       "3     1998019886        a        0.0\n",
       "4       14428620        a    38770.0\n",
       "...          ...      ...        ...\n",
       "4176  4999358646        b        0.0\n",
       "4177  5000173542        b        0.0\n",
       "4178    29369004        a    45747.0\n",
       "4179  4999847021        b        0.0\n",
       "4180  2000341855        a        0.0\n",
       "\n",
       "[4181 rows x 3 columns]"
      ]
     },
     "execution_count": 17,
     "metadata": {},
     "output_type": "execute_result"
    }
   ],
   "source": [
    "# @title Задача 2 решена - Сформировал таблицу с колонками: айди пользователя, группа эксперимента, траты пользователя.\n",
    "df = template.merge(financial_group, how='left')\n",
    "df"
   ]
  },
  {
   "cell_type": "markdown",
   "metadata": {
    "id": "qwlAYQtvWR3x"
   },
   "source": [
    "### Задача 3\n",
    "a) Построить boxplot по тратам пользователей в разрезе группы эксперимента  \n",
    "b) Прокомментировать наличие выбросов  \n",
    "c) Обработать выбросы при их наличии"
   ]
  },
  {
   "cell_type": "code",
   "execution_count": 18,
   "metadata": {
    "colab": {
     "base_uri": "https://localhost:8080/",
     "height": 468
    },
    "executionInfo": {
     "elapsed": 545,
     "status": "ok",
     "timestamp": 1730269093738,
     "user": {
      "displayName": "Кирилл",
      "userId": "00039198927998476912"
     },
     "user_tz": -180
    },
    "id": "vYdRIhSindWg",
    "outputId": "1885069c-0fb1-4038-fbc3-cc588e61ee18"
   },
   "outputs": [
    {
     "data": {
      "text/plain": [
       "<Axes: xlabel='ab_group', ylabel='spendings'>"
      ]
     },
     "execution_count": 18,
     "metadata": {},
     "output_type": "execute_result"
    },
    {
     "data": {
      "image/png": "[encoded data removed]",
      "text/plain": [
       "<Figure size 640x480 with 1 Axes>"
      ]
     },
     "metadata": {},
     "output_type": "display_data"
    }
   ],
   "source": [
    "sns.boxplot(x=\"ab_group\", y=\"spendings\", data=df)\n",
    "# Строим бокс плот. Наблюдаем выброс."
   ]
  },
  {
   "cell_type": "code",
   "execution_count": 19,
   "metadata": {
    "colab": {
     "base_uri": "https://localhost:8080/",
     "height": 112
    },
    "executionInfo": {
     "elapsed": 17,
     "status": "ok",
     "timestamp": 1730269093743,
     "user": {
      "displayName": "Кирилл",
      "userId": "00039198927998476912"
     },
     "user_tz": -180
    },
    "id": "fXs_IsievjuV",
    "outputId": "54d2dd10-13c6-4f06-e78e-49dabda22e84"
   },
   "outputs": [
    {
     "data": {
      "text/html": [
       "<div>\n",
       "<style scoped>\n",
       "    .dataframe tbody tr th:only-of-type {\n",
       "        vertical-align: middle;\n",
       "    }\n",
       "\n",
       "    .dataframe tbody tr th {\n",
       "        vertical-align: top;\n",
       "    }\n",
       "\n",
       "    .dataframe thead th {\n",
       "        text-align: right;\n",
       "    }\n",
       "</style>\n",
       "<table border=\"1\" class=\"dataframe\">\n",
       "  <thead>\n",
       "    <tr style=\"text-align: right;\">\n",
       "      <th></th>\n",
       "      <th>ab_group</th>\n",
       "      <th>spendings</th>\n",
       "    </tr>\n",
       "  </thead>\n",
       "  <tbody>\n",
       "    <tr>\n",
       "      <th>0</th>\n",
       "      <td>a</td>\n",
       "      <td>36701565.0</td>\n",
       "    </tr>\n",
       "    <tr>\n",
       "      <th>1</th>\n",
       "      <td>b</td>\n",
       "      <td>42415101.0</td>\n",
       "    </tr>\n",
       "  </tbody>\n",
       "</table>\n",
       "</div>"
      ],
      "text/plain": [
       "  ab_group   spendings\n",
       "0        a  36701565.0\n",
       "1        b  42415101.0"
      ]
     },
     "execution_count": 19,
     "metadata": {},
     "output_type": "execute_result"
    }
   ],
   "source": [
    "template.merge(financial_group, how='left').groupby('ab_group').sum()['spendings'].reset_index()\n",
    "# Группируем по группам тестов и смотрим как изменились абсолютные цифры"
   ]
  },
  {
   "cell_type": "code",
   "execution_count": 20,
   "metadata": {
    "colab": {
     "base_uri": "https://localhost:8080/",
     "height": 423
    },
    "executionInfo": {
     "elapsed": 485,
     "status": "ok",
     "timestamp": 1730269094214,
     "user": {
      "displayName": "Кирилл",
      "userId": "00039198927998476912"
     },
     "user_tz": -180
    },
    "id": "zUWeqJGKxDoJ",
    "outputId": "52fbbfcd-4bda-40df-adf8-bf769134555c"
   },
   "outputs": [
    {
     "data": {
      "text/html": [
       "<div>\n",
       "<style scoped>\n",
       "    .dataframe tbody tr th:only-of-type {\n",
       "        vertical-align: middle;\n",
       "    }\n",
       "\n",
       "    .dataframe tbody tr th {\n",
       "        vertical-align: top;\n",
       "    }\n",
       "\n",
       "    .dataframe thead th {\n",
       "        text-align: right;\n",
       "    }\n",
       "</style>\n",
       "<table border=\"1\" class=\"dataframe\">\n",
       "  <thead>\n",
       "    <tr style=\"text-align: right;\">\n",
       "      <th></th>\n",
       "      <th>user_id</th>\n",
       "      <th>ab_group</th>\n",
       "      <th>spendings</th>\n",
       "    </tr>\n",
       "  </thead>\n",
       "  <tbody>\n",
       "    <tr>\n",
       "      <th>1880</th>\n",
       "      <td>288436107</td>\n",
       "      <td>a</td>\n",
       "      <td>431883.0</td>\n",
       "    </tr>\n",
       "    <tr>\n",
       "      <th>995</th>\n",
       "      <td>24184394</td>\n",
       "      <td>b</td>\n",
       "      <td>99252.0</td>\n",
       "    </tr>\n",
       "    <tr>\n",
       "      <th>2260</th>\n",
       "      <td>25304493</td>\n",
       "      <td>a</td>\n",
       "      <td>85280.0</td>\n",
       "    </tr>\n",
       "    <tr>\n",
       "      <th>977</th>\n",
       "      <td>24211200</td>\n",
       "      <td>a</td>\n",
       "      <td>84623.0</td>\n",
       "    </tr>\n",
       "    <tr>\n",
       "      <th>855</th>\n",
       "      <td>15197585</td>\n",
       "      <td>a</td>\n",
       "      <td>84557.0</td>\n",
       "    </tr>\n",
       "    <tr>\n",
       "      <th>...</th>\n",
       "      <td>...</td>\n",
       "      <td>...</td>\n",
       "      <td>...</td>\n",
       "    </tr>\n",
       "    <tr>\n",
       "      <th>1783</th>\n",
       "      <td>4998801003</td>\n",
       "      <td>b</td>\n",
       "      <td>0.0</td>\n",
       "    </tr>\n",
       "    <tr>\n",
       "      <th>1784</th>\n",
       "      <td>4998839369</td>\n",
       "      <td>b</td>\n",
       "      <td>0.0</td>\n",
       "    </tr>\n",
       "    <tr>\n",
       "      <th>1786</th>\n",
       "      <td>4999781169</td>\n",
       "      <td>b</td>\n",
       "      <td>0.0</td>\n",
       "    </tr>\n",
       "    <tr>\n",
       "      <th>1787</th>\n",
       "      <td>1998348965</td>\n",
       "      <td>a</td>\n",
       "      <td>0.0</td>\n",
       "    </tr>\n",
       "    <tr>\n",
       "      <th>4180</th>\n",
       "      <td>2000341855</td>\n",
       "      <td>a</td>\n",
       "      <td>0.0</td>\n",
       "    </tr>\n",
       "  </tbody>\n",
       "</table>\n",
       "<p>4181 rows × 3 columns</p>\n",
       "</div>"
      ],
      "text/plain": [
       "         user_id ab_group  spendings\n",
       "1880   288436107        a   431883.0\n",
       "995     24184394        b    99252.0\n",
       "2260    25304493        a    85280.0\n",
       "977     24211200        a    84623.0\n",
       "855     15197585        a    84557.0\n",
       "...          ...      ...        ...\n",
       "1783  4998801003        b        0.0\n",
       "1784  4998839369        b        0.0\n",
       "1786  4999781169        b        0.0\n",
       "1787  1998348965        a        0.0\n",
       "4180  2000341855        a        0.0\n",
       "\n",
       "[4181 rows x 3 columns]"
      ]
     },
     "execution_count": 20,
     "metadata": {},
     "output_type": "execute_result"
    }
   ],
   "source": [
    "df= df.sort_values('spendings', ascending=False)\n",
    "df\n",
    "# Пользователь 288436107 даёт нам существенный выброс. Он в контрольной группе а и не видит тестируемого блока"
   ]
  },
  {
   "cell_type": "code",
   "execution_count": 21,
   "metadata": {
    "colab": {
     "base_uri": "https://localhost:8080/",
     "height": 331
    },
    "executionInfo": {
     "elapsed": 19,
     "status": "ok",
     "timestamp": 1730269094214,
     "user": {
      "displayName": "Кирилл",
      "userId": "00039198927998476912"
     },
     "user_tz": -180
    },
    "id": "h_Nol-jcyJbK",
    "outputId": "2ef04a62-1175-404d-8879-f4f3e09ff6b9"
   },
   "outputs": [
    {
     "data": {
      "text/html": [
       "<div>\n",
       "<style scoped>\n",
       "    .dataframe tbody tr th:only-of-type {\n",
       "        vertical-align: middle;\n",
       "    }\n",
       "\n",
       "    .dataframe tbody tr th {\n",
       "        vertical-align: top;\n",
       "    }\n",
       "\n",
       "    .dataframe thead th {\n",
       "        text-align: right;\n",
       "    }\n",
       "</style>\n",
       "<table border=\"1\" class=\"dataframe\">\n",
       "  <thead>\n",
       "    <tr style=\"text-align: right;\">\n",
       "      <th></th>\n",
       "      <th>user_id</th>\n",
       "      <th>spendings</th>\n",
       "      <th>date</th>\n",
       "    </tr>\n",
       "  </thead>\n",
       "  <tbody>\n",
       "    <tr>\n",
       "      <th>1013</th>\n",
       "      <td>288436107</td>\n",
       "      <td>47987.0</td>\n",
       "      <td>2023-02-10</td>\n",
       "    </tr>\n",
       "    <tr>\n",
       "      <th>5479</th>\n",
       "      <td>288436107</td>\n",
       "      <td>47987.0</td>\n",
       "      <td>2023-02-11</td>\n",
       "    </tr>\n",
       "    <tr>\n",
       "      <th>6583</th>\n",
       "      <td>288436107</td>\n",
       "      <td>47987.0</td>\n",
       "      <td>2023-02-12</td>\n",
       "    </tr>\n",
       "    <tr>\n",
       "      <th>9405</th>\n",
       "      <td>288436107</td>\n",
       "      <td>47987.0</td>\n",
       "      <td>2023-02-13</td>\n",
       "    </tr>\n",
       "    <tr>\n",
       "      <th>12204</th>\n",
       "      <td>288436107</td>\n",
       "      <td>47987.0</td>\n",
       "      <td>2023-02-14</td>\n",
       "    </tr>\n",
       "    <tr>\n",
       "      <th>17816</th>\n",
       "      <td>288436107</td>\n",
       "      <td>47987.0</td>\n",
       "      <td>2023-02-17</td>\n",
       "    </tr>\n",
       "    <tr>\n",
       "      <th>26597</th>\n",
       "      <td>288436107</td>\n",
       "      <td>47987.0</td>\n",
       "      <td>2023-02-20</td>\n",
       "    </tr>\n",
       "    <tr>\n",
       "      <th>27234</th>\n",
       "      <td>288436107</td>\n",
       "      <td>47987.0</td>\n",
       "      <td>2023-02-21</td>\n",
       "    </tr>\n",
       "    <tr>\n",
       "      <th>33836</th>\n",
       "      <td>288436107</td>\n",
       "      <td>47987.0</td>\n",
       "      <td>2023-02-24</td>\n",
       "    </tr>\n",
       "  </tbody>\n",
       "</table>\n",
       "</div>"
      ],
      "text/plain": [
       "         user_id  spendings        date\n",
       "1013   288436107    47987.0  2023-02-10\n",
       "5479   288436107    47987.0  2023-02-11\n",
       "6583   288436107    47987.0  2023-02-12\n",
       "9405   288436107    47987.0  2023-02-13\n",
       "12204  288436107    47987.0  2023-02-14\n",
       "17816  288436107    47987.0  2023-02-17\n",
       "26597  288436107    47987.0  2023-02-20\n",
       "27234  288436107    47987.0  2023-02-21\n",
       "33836  288436107    47987.0  2023-02-24"
      ]
     },
     "execution_count": 21,
     "metadata": {},
     "output_type": "execute_result"
    }
   ],
   "source": [
    "financial[financial['user_id'] == 288436107]\n",
    "# Смотрим конкретного юзера по которому обнаружены выбросы в финданных. Назовем его \"оптовым покупателем\""
   ]
  },
  {
   "cell_type": "code",
   "execution_count": 22,
   "metadata": {
    "colab": {
     "base_uri": "https://localhost:8080/",
     "height": 423
    },
    "executionInfo": {
     "elapsed": 17,
     "status": "ok",
     "timestamp": 1730269094214,
     "user": {
      "displayName": "Кирилл",
      "userId": "00039198927998476912"
     },
     "user_tz": -180
    },
    "id": "orOAbaIqydj5",
    "outputId": "d06efa3e-5a71-45c7-f028-0962190927f6"
   },
   "outputs": [
    {
     "data": {
      "text/html": [
       "<div>\n",
       "<style scoped>\n",
       "    .dataframe tbody tr th:only-of-type {\n",
       "        vertical-align: middle;\n",
       "    }\n",
       "\n",
       "    .dataframe tbody tr th {\n",
       "        vertical-align: top;\n",
       "    }\n",
       "\n",
       "    .dataframe thead th {\n",
       "        text-align: right;\n",
       "    }\n",
       "</style>\n",
       "<table border=\"1\" class=\"dataframe\">\n",
       "  <thead>\n",
       "    <tr style=\"text-align: right;\">\n",
       "      <th></th>\n",
       "      <th>user_id</th>\n",
       "      <th>ab_group</th>\n",
       "      <th>spendings</th>\n",
       "    </tr>\n",
       "  </thead>\n",
       "  <tbody>\n",
       "    <tr>\n",
       "      <th>995</th>\n",
       "      <td>24184394</td>\n",
       "      <td>b</td>\n",
       "      <td>99252.0</td>\n",
       "    </tr>\n",
       "    <tr>\n",
       "      <th>2260</th>\n",
       "      <td>25304493</td>\n",
       "      <td>a</td>\n",
       "      <td>85280.0</td>\n",
       "    </tr>\n",
       "    <tr>\n",
       "      <th>977</th>\n",
       "      <td>24211200</td>\n",
       "      <td>a</td>\n",
       "      <td>84623.0</td>\n",
       "    </tr>\n",
       "    <tr>\n",
       "      <th>855</th>\n",
       "      <td>15197585</td>\n",
       "      <td>a</td>\n",
       "      <td>84557.0</td>\n",
       "    </tr>\n",
       "    <tr>\n",
       "      <th>3522</th>\n",
       "      <td>37317577</td>\n",
       "      <td>b</td>\n",
       "      <td>83712.0</td>\n",
       "    </tr>\n",
       "    <tr>\n",
       "      <th>...</th>\n",
       "      <td>...</td>\n",
       "      <td>...</td>\n",
       "      <td>...</td>\n",
       "    </tr>\n",
       "    <tr>\n",
       "      <th>3715</th>\n",
       "      <td>24863600</td>\n",
       "      <td>b</td>\n",
       "      <td>13560.0</td>\n",
       "    </tr>\n",
       "    <tr>\n",
       "      <th>120</th>\n",
       "      <td>24775296</td>\n",
       "      <td>a</td>\n",
       "      <td>10785.0</td>\n",
       "    </tr>\n",
       "    <tr>\n",
       "      <th>3134</th>\n",
       "      <td>15551380</td>\n",
       "      <td>b</td>\n",
       "      <td>10524.0</td>\n",
       "    </tr>\n",
       "    <tr>\n",
       "      <th>2332</th>\n",
       "      <td>16314804</td>\n",
       "      <td>b</td>\n",
       "      <td>10290.0</td>\n",
       "    </tr>\n",
       "    <tr>\n",
       "      <th>562</th>\n",
       "      <td>22153824</td>\n",
       "      <td>a</td>\n",
       "      <td>4881.0</td>\n",
       "    </tr>\n",
       "  </tbody>\n",
       "</table>\n",
       "<p>1880 rows × 3 columns</p>\n",
       "</div>"
      ],
      "text/plain": [
       "       user_id ab_group  spendings\n",
       "995   24184394        b    99252.0\n",
       "2260  25304493        a    85280.0\n",
       "977   24211200        a    84623.0\n",
       "855   15197585        a    84557.0\n",
       "3522  37317577        b    83712.0\n",
       "...        ...      ...        ...\n",
       "3715  24863600        b    13560.0\n",
       "120   24775296        a    10785.0\n",
       "3134  15551380        b    10524.0\n",
       "2332  16314804        b    10290.0\n",
       "562   22153824        a     4881.0\n",
       "\n",
       "[1880 rows x 3 columns]"
      ]
     },
     "execution_count": 22,
     "metadata": {},
     "output_type": "execute_result"
    }
   ],
   "source": [
    "# Убираем юзера с выбросом и убираем всех юзеров у которых нулевые покупки\n",
    "df1 = df[(df['user_id'] != 288436107) & (df['spendings'] != 0)]\n",
    "df1"
   ]
  },
  {
   "cell_type": "code",
   "execution_count": 23,
   "metadata": {
    "colab": {
     "base_uri": "https://localhost:8080/",
     "height": 468
    },
    "executionInfo": {
     "elapsed": 355,
     "status": "ok",
     "timestamp": 1730269094554,
     "user": {
      "displayName": "Кирилл",
      "userId": "00039198927998476912"
     },
     "user_tz": -180
    },
    "id": "bdqyzKz7iFgV",
    "outputId": "c807da41-627c-4012-9367-9a018dc389fd"
   },
   "outputs": [
    {
     "data": {
      "text/plain": [
       "<Axes: xlabel='ab_group', ylabel='spendings'>"
      ]
     },
     "execution_count": 23,
     "metadata": {},
     "output_type": "execute_result"
    },
    {
     "data": {
      "image/png": "[encoded data removed]",
      "text/plain": [
       "<Figure size 640x480 with 1 Axes>"
      ]
     },
     "metadata": {},
     "output_type": "display_data"
    }
   ],
   "source": [
    "sns.boxplot(x=\"ab_group\", y=\"spendings\", data=df[(df['user_id'] != 288436107)])\n",
    "# Смотрим данные убрав выброс из за оптового покупателя (юзер - 288436107)"
   ]
  },
  {
   "cell_type": "code",
   "execution_count": 24,
   "metadata": {
    "colab": {
     "base_uri": "https://localhost:8080/",
     "height": 300
    },
    "executionInfo": {
     "elapsed": 24,
     "status": "ok",
     "timestamp": 1730269094555,
     "user": {
      "displayName": "Кирилл",
      "userId": "00039198927998476912"
     },
     "user_tz": -180
    },
    "id": "dYBfNGyRMo_Z",
    "outputId": "b61dce11-c6c1-4040-c82d-788c67214dde"
   },
   "outputs": [
    {
     "data": {
      "text/html": [
       "<div>\n",
       "<style scoped>\n",
       "    .dataframe tbody tr th:only-of-type {\n",
       "        vertical-align: middle;\n",
       "    }\n",
       "\n",
       "    .dataframe tbody tr th {\n",
       "        vertical-align: top;\n",
       "    }\n",
       "\n",
       "    .dataframe thead th {\n",
       "        text-align: right;\n",
       "    }\n",
       "</style>\n",
       "<table border=\"1\" class=\"dataframe\">\n",
       "  <thead>\n",
       "    <tr style=\"text-align: right;\">\n",
       "      <th></th>\n",
       "      <th>user_id</th>\n",
       "      <th>spendings</th>\n",
       "    </tr>\n",
       "  </thead>\n",
       "  <tbody>\n",
       "    <tr>\n",
       "      <th>count</th>\n",
       "      <td>4.181000e+03</td>\n",
       "      <td>4181.000000</td>\n",
       "    </tr>\n",
       "    <tr>\n",
       "      <th>mean</th>\n",
       "      <td>1.900841e+09</td>\n",
       "      <td>18922.905047</td>\n",
       "    </tr>\n",
       "    <tr>\n",
       "      <th>std</th>\n",
       "      <td>2.028184e+09</td>\n",
       "      <td>23388.530292</td>\n",
       "    </tr>\n",
       "    <tr>\n",
       "      <th>min</th>\n",
       "      <td>5.214352e+06</td>\n",
       "      <td>0.000000</td>\n",
       "    </tr>\n",
       "    <tr>\n",
       "      <th>25%</th>\n",
       "      <td>2.566213e+07</td>\n",
       "      <td>0.000000</td>\n",
       "    </tr>\n",
       "    <tr>\n",
       "      <th>50%</th>\n",
       "      <td>1.999113e+09</td>\n",
       "      <td>0.000000</td>\n",
       "    </tr>\n",
       "    <tr>\n",
       "      <th>75%</th>\n",
       "      <td>4.998368e+09</td>\n",
       "      <td>39336.000000</td>\n",
       "    </tr>\n",
       "    <tr>\n",
       "      <th>max</th>\n",
       "      <td>5.003325e+09</td>\n",
       "      <td>431883.000000</td>\n",
       "    </tr>\n",
       "  </tbody>\n",
       "</table>\n",
       "</div>"
      ],
      "text/plain": [
       "            user_id      spendings\n",
       "count  4.181000e+03    4181.000000\n",
       "mean   1.900841e+09   18922.905047\n",
       "std    2.028184e+09   23388.530292\n",
       "min    5.214352e+06       0.000000\n",
       "25%    2.566213e+07       0.000000\n",
       "50%    1.999113e+09       0.000000\n",
       "75%    4.998368e+09   39336.000000\n",
       "max    5.003325e+09  431883.000000"
      ]
     },
     "execution_count": 24,
     "metadata": {},
     "output_type": "execute_result"
    }
   ],
   "source": [
    "df.describe()"
   ]
  },
  {
   "cell_type": "code",
   "execution_count": 25,
   "metadata": {
    "colab": {
     "base_uri": "https://localhost:8080/",
     "height": 143
    },
    "executionInfo": {
     "elapsed": 22,
     "status": "ok",
     "timestamp": 1730269094555,
     "user": {
      "displayName": "Кирилл",
      "userId": "00039198927998476912"
     },
     "user_tz": -180
    },
    "id": "z5bhk3QGNPyM",
    "outputId": "03c98bb5-12bc-479f-9831-35f7cf4bfd35"
   },
   "outputs": [
    {
     "data": {
      "text/html": [
       "<div>\n",
       "<style scoped>\n",
       "    .dataframe tbody tr th:only-of-type {\n",
       "        vertical-align: middle;\n",
       "    }\n",
       "\n",
       "    .dataframe tbody tr th {\n",
       "        vertical-align: top;\n",
       "    }\n",
       "\n",
       "    .dataframe thead th {\n",
       "        text-align: right;\n",
       "    }\n",
       "</style>\n",
       "<table border=\"1\" class=\"dataframe\">\n",
       "  <thead>\n",
       "    <tr style=\"text-align: right;\">\n",
       "      <th></th>\n",
       "      <th>spendings</th>\n",
       "    </tr>\n",
       "    <tr>\n",
       "      <th>ab_group</th>\n",
       "      <th></th>\n",
       "    </tr>\n",
       "  </thead>\n",
       "  <tbody>\n",
       "    <tr>\n",
       "      <th>a</th>\n",
       "      <td>17636.504085</td>\n",
       "    </tr>\n",
       "    <tr>\n",
       "      <th>b</th>\n",
       "      <td>20197.667143</td>\n",
       "    </tr>\n",
       "  </tbody>\n",
       "</table>\n",
       "</div>"
      ],
      "text/plain": [
       "             spendings\n",
       "ab_group              \n",
       "a         17636.504085\n",
       "b         20197.667143"
      ]
     },
     "execution_count": 25,
     "metadata": {},
     "output_type": "execute_result"
    }
   ],
   "source": [
    "df.pivot_table(index='ab_group', aggfunc={'spendings': 'mean'})"
   ]
  },
  {
   "cell_type": "markdown",
   "metadata": {
    "id": "rf8pIRxkOBRB"
   },
   "source": [
    "Среднее выше на 14,5%"
   ]
  },
  {
   "cell_type": "code",
   "execution_count": 26,
   "metadata": {
    "colab": {
     "base_uri": "https://localhost:8080/"
    },
    "executionInfo": {
     "elapsed": 20,
     "status": "ok",
     "timestamp": 1730269094556,
     "user": {
      "displayName": "Кирилл",
      "userId": "00039198927998476912"
     },
     "user_tz": -180
    },
    "id": "1s6F_s_MOD2D",
    "outputId": "4e0242f2-edc0-420e-cb24-1a5b421ea1fd"
   },
   "outputs": [
    {
     "data": {
      "text/plain": [
       "0.14521942929598453"
      ]
     },
     "execution_count": 26,
     "metadata": {},
     "output_type": "execute_result"
    }
   ],
   "source": [
    "20197.667143/17636.504085-1"
   ]
  },
  {
   "cell_type": "code",
   "execution_count": 31,
   "metadata": {
    "executionInfo": {
     "elapsed": 15,
     "status": "ok",
     "timestamp": 1730269094556,
     "user": {
      "displayName": "Кирилл",
      "userId": "00039198927998476912"
     },
     "user_tz": -180
    },
    "id": "KoggRFX_O_KD"
   },
   "outputs": [],
   "source": [
    "from scipy import stats"
   ]
  },
  {
   "cell_type": "code",
   "execution_count": 32,
   "metadata": {
    "colab": {
     "base_uri": "https://localhost:8080/"
    },
    "executionInfo": {
     "elapsed": 14,
     "status": "ok",
     "timestamp": 1730269094556,
     "user": {
      "displayName": "Кирилл",
      "userId": "00039198927998476912"
     },
     "user_tz": -180
    },
    "id": "mPuxLTZhO_FN",
    "outputId": "02cfb489-7c11-4b87-bd1e-4653e43c7654"
   },
   "outputs": [
    {
     "data": {
      "text/plain": [
       "TtestResult(statistic=np.float64(-3.5451942695552376), pvalue=np.float64(0.00039662223018680886), df=np.float64(4179.0))"
      ]
     },
     "execution_count": 32,
     "metadata": {},
     "output_type": "execute_result"
    }
   ],
   "source": [
    "stats.ttest_ind(df.query('ab_group==\"a\"')['spendings'], df.query('ab_group==\"b\"')['spendings'])"
   ]
  },
  {
   "cell_type": "markdown",
   "metadata": {
    "id": "xBuEWMzrUrAR"
   },
   "source": [
    "### pvalue<0.05 Эксперимент статзначимый"
   ]
  },
  {
   "cell_type": "code",
   "execution_count": 28,
   "metadata": {
    "executionInfo": {
     "elapsed": 12,
     "status": "ok",
     "timestamp": 1730269094556,
     "user": {
      "displayName": "Кирилл",
      "userId": "00039198927998476912"
     },
     "user_tz": -180
    },
    "id": "0j-9udfKRpWq"
   },
   "outputs": [],
   "source": []
  },
  {
   "cell_type": "code",
   "execution_count": 28,
   "metadata": {
    "executionInfo": {
     "elapsed": 11,
     "status": "ok",
     "timestamp": 1730269094556,
     "user": {
      "displayName": "Кирилл",
      "userId": "00039198927998476912"
     },
     "user_tz": -180
    },
    "id": "nCRf581MRpPm"
   },
   "outputs": [],
   "source": []
  },
  {
   "cell_type": "code",
   "execution_count": null,
   "metadata": {
    "id": "mUv_G_loFXsL"
   },
   "outputs": [],
   "source": []
  },
  {
   "cell_type": "code",
   "execution_count": null,
   "metadata": {
    "id": "W38RJDwNFXmZ"
   },
   "outputs": [],
   "source": []
  },
  {
   "cell_type": "code",
   "execution_count": null,
   "metadata": {
    "id": "GmDQE3riFXgz"
   },
   "outputs": [],
   "source": []
  },
  {
   "cell_type": "code",
   "execution_count": null,
   "metadata": {
    "id": "CiMXDQiEaaAP"
   },
   "outputs": [],
   "source": []
  },
  {
   "cell_type": "code",
   "execution_count": null,
   "metadata": {
    "executionInfo": {
     "elapsed": 11,
     "status": "ok",
     "timestamp": 1730269094557,
     "user": {
      "displayName": "Кирилл",
      "userId": "00039198927998476912"
     },
     "user_tz": -180
    },
    "id": "AeefK4jkC5LD"
   },
   "outputs": [],
   "source": []
  },
  {
   "cell_type": "code",
   "execution_count": 31,
   "metadata": {
    "colab": {
     "base_uri": "https://localhost:8080/",
     "height": 458
    },
    "executionInfo": {
     "elapsed": 21,
     "status": "ok",
     "timestamp": 1730269094965,
     "user": {
      "displayName": "Кирилл",
      "userId": "00039198927998476912"
     },
     "user_tz": -180
    },
    "id": "t-SZEaZ4O-vX",
    "outputId": "7c9a6e90-5e8f-4dd9-94e8-785e882c43ad"
   },
   "outputs": [
    {
     "data": {
      "text/html": [
       "<div>\n",
       "<style scoped>\n",
       "    .dataframe tbody tr th:only-of-type {\n",
       "        vertical-align: middle;\n",
       "    }\n",
       "\n",
       "    .dataframe tbody tr th {\n",
       "        vertical-align: top;\n",
       "    }\n",
       "\n",
       "    .dataframe thead th {\n",
       "        text-align: right;\n",
       "    }\n",
       "</style>\n",
       "<table border=\"1\" class=\"dataframe\">\n",
       "  <thead>\n",
       "    <tr style=\"text-align: right;\">\n",
       "      <th></th>\n",
       "      <th>spendings</th>\n",
       "    </tr>\n",
       "  </thead>\n",
       "  <tbody>\n",
       "    <tr>\n",
       "      <th>1880</th>\n",
       "      <td>431883.0</td>\n",
       "    </tr>\n",
       "    <tr>\n",
       "      <th>2260</th>\n",
       "      <td>85280.0</td>\n",
       "    </tr>\n",
       "    <tr>\n",
       "      <th>977</th>\n",
       "      <td>84623.0</td>\n",
       "    </tr>\n",
       "    <tr>\n",
       "      <th>855</th>\n",
       "      <td>84557.0</td>\n",
       "    </tr>\n",
       "    <tr>\n",
       "      <th>582</th>\n",
       "      <td>81290.0</td>\n",
       "    </tr>\n",
       "    <tr>\n",
       "      <th>...</th>\n",
       "      <td>...</td>\n",
       "    </tr>\n",
       "    <tr>\n",
       "      <th>1776</th>\n",
       "      <td>0.0</td>\n",
       "    </tr>\n",
       "    <tr>\n",
       "      <th>1779</th>\n",
       "      <td>0.0</td>\n",
       "    </tr>\n",
       "    <tr>\n",
       "      <th>1782</th>\n",
       "      <td>0.0</td>\n",
       "    </tr>\n",
       "    <tr>\n",
       "      <th>1787</th>\n",
       "      <td>0.0</td>\n",
       "    </tr>\n",
       "    <tr>\n",
       "      <th>4180</th>\n",
       "      <td>0.0</td>\n",
       "    </tr>\n",
       "  </tbody>\n",
       "</table>\n",
       "<p>2081 rows × 1 columns</p>\n",
       "</div><br><label><b>dtype:</b> float64</label>"
      ],
      "text/plain": [
       "1880    431883.0\n",
       "2260     85280.0\n",
       "977      84623.0\n",
       "855      84557.0\n",
       "582      81290.0\n",
       "          ...   \n",
       "1776         0.0\n",
       "1779         0.0\n",
       "1782         0.0\n",
       "1787         0.0\n",
       "4180         0.0\n",
       "Name: spendings, Length: 2081, dtype: float64"
      ]
     },
     "execution_count": 31,
     "metadata": {},
     "output_type": "execute_result"
    }
   ],
   "source": [
    "df.query('ab_group==\"a\"')['spendings']"
   ]
  },
  {
   "cell_type": "code",
   "execution_count": 28,
   "metadata": {
    "colab": {
     "base_uri": "https://localhost:8080/",
     "height": 468
    },
    "executionInfo": {
     "elapsed": 21,
     "status": "ok",
     "timestamp": 1730269094966,
     "user": {
      "displayName": "Кирилл",
      "userId": "00039198927998476912"
     },
     "user_tz": -180
    },
    "id": "0qvS1z6Q3Xp3",
    "outputId": "bddcac10-f1c9-44b2-e325-824b0a9c95d2"
   },
   "outputs": [
    {
     "data": {
      "text/plain": [
       "<Axes: xlabel='ab_group', ylabel='spendings'>"
      ]
     },
     "execution_count": 28,
     "metadata": {},
     "output_type": "execute_result"
    },
    {
     "data": {
      "image/png": "[encoded data removed]",
      "text/plain": [
       "<Figure size 640x480 with 1 Axes>"
      ]
     },
     "metadata": {},
     "output_type": "display_data"
    }
   ],
   "source": [
    "sns.boxplot(x=\"ab_group\", y=\"spendings\", data=df1)\n",
    "# Смотрим данные убрав выброс из за отпового покупателя (юзер - 288436107) и всех юзеров с нулевыми покупками"
   ]
  },
  {
   "cell_type": "code",
   "execution_count": 29,
   "metadata": {
    "colab": {
     "base_uri": "https://localhost:8080/",
     "height": 36
    },
    "executionInfo": {
     "elapsed": 16,
     "status": "ok",
     "timestamp": 1730269094966,
     "user": {
      "displayName": "Кирилл",
      "userId": "00039198927998476912"
     },
     "user_tz": -180
    },
    "id": "WC0PVuumTp9s",
    "outputId": "bd905db8-41d0-42d4-f594-13f516365e2f"
   },
   "outputs": [
    {
     "data": {
      "text/plain": [
       "'2023-02-10'"
      ]
     },
     "execution_count": 29,
     "metadata": {},
     "output_type": "execute_result"
    }
   ],
   "source": [
    "# @title Мы рассматриваем временной период в 14 дней\n",
    "from datetime import datetime\n",
    "\n",
    "min_dt = financial['date'].min()\n",
    "min_dt"
   ]
  },
  {
   "cell_type": "code",
   "execution_count": 30,
   "metadata": {
    "colab": {
     "base_uri": "https://localhost:8080/",
     "height": 36
    },
    "executionInfo": {
     "elapsed": 16,
     "status": "ok",
     "timestamp": 1730269094967,
     "user": {
      "displayName": "Кирилл",
      "userId": "00039198927998476912"
     },
     "user_tz": -180
    },
    "id": "1SGkSLGjECM4",
    "outputId": "5bd5e290-b334-493f-ce06-e429b00c7e66"
   },
   "outputs": [
    {
     "data": {
      "text/plain": [
       "'2023-02-24'"
      ]
     },
     "execution_count": 30,
     "metadata": {},
     "output_type": "execute_result"
    }
   ],
   "source": [
    "max_dt = financial['date'].max()\n",
    "max_dt"
   ]
  },
  {
   "cell_type": "code",
   "execution_count": 34,
   "metadata": {
    "executionInfo": {
     "elapsed": 14,
     "status": "ok",
     "timestamp": 1730269094967,
     "user": {
      "displayName": "Кирилл",
      "userId": "00039198927998476912"
     },
     "user_tz": -180
    },
    "id": "Rb4TVPn2GxZ2"
   },
   "outputs": [],
   "source": []
  }
 ],
 "metadata": {
  "colab": {
   "authorship_tag": "ABX9TyPjT2n/Cli15pr0bME88HuT",
   "provenance": []
  },
  "kernelspec": {
   "display_name": "Python 3",
   "name": "python3"
  },
  "language_info": {
   "codemirror_mode": {
    "name": "ipython",
    "version": 3
   },
   "file_extension": ".py",
   "mimetype": "text/x-python",
   "name": "python",
   "nbconvert_exporter": "python",
   "pygments_lexer": "ipython3",
   "version": "3.10.12"
  }
 },
 "nbformat": 4,
 "nbformat_minor": 0
}
