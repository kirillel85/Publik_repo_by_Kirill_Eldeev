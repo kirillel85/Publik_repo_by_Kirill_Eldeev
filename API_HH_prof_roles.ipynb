{
  "nbformat": 4,
  "nbformat_minor": 0,
  "metadata": {
    "colab": {
      "provenance": [],
      "toc_visible": true,
      "include_colab_link": true
    },
    "kernelspec": {
      "name": "python3",
      "display_name": "Python 3"
    },
    "language_info": {
      "name": "python"
    }
  },
  "cells": [
    {
      "cell_type": "markdown",
      "metadata": {
        "id": "view-in-github",
        "colab_type": "text"
      },
      "source": [
        "<a href=\"https://colab.research.google.com/github/kirillel85/kirillel85/blob/public_main/API_HH_prof_roles.ipynb\" target=\"_parent\"><img src=\"https://colab.research.google.com/assets/colab-badge.svg\" alt=\"Open In Colab\"/></a>"
      ]
    },
    {
      "cell_type": "code",
      "source": [
        "import pandas as pd\n",
        "import numpy as np\n",
        "import requests as req\n",
        "import matplotlib\n",
        "import json\n",
        "from tqdm import tqdm\n",
        "import time"
      ],
      "metadata": {
        "id": "a-zLyx-EBBF2"
      },
      "execution_count": 2,
      "outputs": []
    },
    {
      "cell_type": "markdown",
      "source": [
        "### Запрос полного справочника professional_roles (Дерево профессий и категорий профессиональных ролей)"
      ],
      "metadata": {
        "id": "k08IYECtB9UH"
      }
    },
    {
      "cell_type": "code",
      "source": [
        "response_curl = ! curl -H 'User-Agent: api-test-agent' 'https://api.hh.ru/professional_roles'\n",
        "\n",
        "# используем метод spstr что бы получить строку из списка IPython.utils.text.SList\n",
        "# Потом из этой строки получаем json методом json.loads()\n",
        "response = json.loads(response_curl.spstr)\n",
        "print(f\"Тип данных response до фильтрации: {type(response)}\")\n",
        "print(f\"Список ключей: {response.keys()}\")\n",
        "\n",
        "# Фильтруем по категории\n",
        "response = response['categories']\n",
        "print(f\"Тип данных response после фильтрации ['categories']: {type(response)}\")"
      ],
      "metadata": {
        "colab": {
          "base_uri": "https://localhost:8080/"
        },
        "id": "af18pXIlB6Mz",
        "outputId": "af7dacde-f9e1-431e-b05a-235a3913fa74"
      },
      "execution_count": 3,
      "outputs": [
        {
          "output_type": "stream",
          "name": "stdout",
          "text": [
            "Тип данных response до фильтрации: <class 'dict'>\n",
            "Список ключей: dict_keys(['categories'])\n",
            "Тип данных response после фильтрации ['categories']: <class 'list'>\n"
          ]
        }
      ]
    },
    {
      "cell_type": "code",
      "source": [
        "# response_curl"
      ],
      "metadata": {
        "id": "Old80-pUSdE7"
      },
      "execution_count": 4,
      "outputs": []
    },
    {
      "cell_type": "code",
      "source": [
        "# response\n",
        "# [{'id': '19',\n",
        "#   'name': 'Автомобильный бизнес',\n",
        "#   'roles': [{'id': '4',\n",
        "#     'name': 'Автомойщик',\n",
        "#     'accept_incomplete_resumes': True,\n",
        "#     'is_default': False,\n",
        "#     'select_deprecated': False,\n",
        "#     'search_deprecated': False},\n",
        "#    {'id': '5',\n",
        "#     'name': 'Автослесарь, автомеханик',\n",
        "#     'accept_incomplete_resumes': True,\n",
        "#     'is_default': False,\n",
        "#     'select_deprecated': False,\n",
        "#     'search_deprecated': False},\n",
        "#    {'id': '62',\n",
        "#     'name': 'Мастер-приемщик',\n",
        "#     'accept_incomplete_resumes': True,\n",
        "#     'is_default': False,\n",
        "#     'select_deprecated': False,\n",
        "#     'search_deprecated': False},\n",
        "#    {'id': '70',\n",
        "#     'name': 'Менеджер по продажам, менеджер по работе с клиентами',\n",
        "#     'accept_incomplete_resumes': False,\n",
        "#     'is_default': False,\n",
        "#     'select_deprecated': False,\n",
        "#     'search_deprecated': False}]},\n",
        "#  {'id': '5',\n",
        "#   'name': 'Административный персонал',\n",
        "#   'roles': [{'id': '8', ........................................."
      ],
      "metadata": {
        "id": "d1rV56UAIJHP"
      },
      "execution_count": null,
      "outputs": []
    },
    {
      "cell_type": "code",
      "source": [
        "final_dataframe = pd.DataFrame() # Создаём пустой фрейм\n",
        "\n",
        "for dicts_in_list in response: # Распаковываю список словарей и в следующем цикле итеррирую обьекты\n",
        "\n",
        "  # print(dicts_in_list)\n",
        "  # print('----------'*10)\n",
        "\n",
        "  # Получаем такую колбасу в одном цикле итеррации\n",
        "  # {'id': '19', 'name': 'Автомобильный бизнес', 'roles': [{'id': '4', 'name': 'Автомойщик', 'accept_incomplete_resumes': True, 'is_d...........\n",
        "\n",
        "  for key, value in dicts_in_list.items():\n",
        "\n",
        "    category_id = dicts_in_list['id']\n",
        "    category_name = dicts_in_list['name']\n",
        "\n",
        "    # print(key, value)\n",
        "    # print('----------'*10)\n",
        "    # Получаем в третьем по счету value такое:\n",
        "    #  {'id': '19', 'name': 'Автомобильный бизнес', 'roles': [{'id': '4', 'name': 'Автомойщик', 'accept_incomplete_resumes': True, 'is_default': False, 'select_deprecated': False, 'search_deprecated': False}, {'id': '5', 'name': 'Автослесарь, автомеханик', 'accept_incomplete_resumes': True, 'is_default': False, 'select_deprecated': False, 'search_deprecated': False}, {'id': '62', 'name': 'Мастер-приемщик', 'accept_incomplete_resumes': True, 'is_default': False, 'select_deprecated': False, 'search_deprecated': False}, {'id': '70', 'name': 'Менеджер по продажам, менеджер по работе с клиентами', 'accept_incomplete_resumes': False, 'is_default': False, 'select_deprecated': False, 'search_deprecated': False}]}\n",
        "\n",
        "    # Мы проходим циклом по вложенному списку словарей с названием рабочих специальностей\n",
        "    if key == 'roles':  # Если ключ в словаре == 'roles', то иттерировать список в значениях ключа\n",
        "      for dicts_in_list2 in dicts_in_list['roles']:\n",
        "      # Получаем:  {'id': '4', 'name': 'Автомойщик', 'accept_incomplete_resumes': True, 'is_default': False, 'select_d.................\n",
        "        profession_id = dicts_in_list2['id']\n",
        "        profession_name = dicts_in_list2['name']\n",
        "\n",
        "        cycle_df = pd.json_normalize(dicts_in_list2)[['id','name']] # Превращаем в датафрейм\n",
        "        cycle_df.columns = [['profession_id', 'profession_name']]\n",
        "        cycle_df.insert(0, 'category_id', category_id) # Добавляем поле 'category_id'\n",
        "        cycle_df.insert(1, 'category_name', category_name) # Добавляем поле 'category_name'\n",
        "\n",
        "        final_dataframe = pd.concat([final_dataframe, cycle_df], ignore_index=True) #  Соединяем все датафреймы в цикле\n",
        "print('Датафрейм получен')\n",
        "print(f'Длина строк {len(final_dataframe)}')\n"
      ],
      "metadata": {
        "id": "PpmEl9TjB8qN",
        "colab": {
          "base_uri": "https://localhost:8080/"
        },
        "outputId": "b10c9584-912e-4b93-b83b-206782bf3ae9"
      },
      "execution_count": 18,
      "outputs": [
        {
          "output_type": "stream",
          "name": "stdout",
          "text": [
            "Датафрейм получен\n",
            "Длина строк 270\n"
          ]
        }
      ]
    },
    {
      "cell_type": "code",
      "source": [
        "# cycle_df"
      ],
      "metadata": {
        "id": "AOnVJXQ-PVru"
      },
      "execution_count": null,
      "outputs": []
    },
    {
      "cell_type": "code",
      "source": [
        "# final_dataframe.head()"
      ],
      "metadata": {
        "id": "NVPv11CQunIg"
      },
      "execution_count": null,
      "outputs": []
    },
    {
      "cell_type": "markdown",
      "source": [
        "#### Получили итоговый датафрейм"
      ],
      "metadata": {
        "id": "11AeDW6Bqbz_"
      }
    },
    {
      "cell_type": "code",
      "source": [
        "print(f'Строк всего: - {len(final_dataframe)}')\n",
        "final_dataframe.to_excel('/content/final_dataframe.xlsx', sheet_name='Справочник HH', index=True)\n",
        "\n",
        "print('Датафрейм выгружен в Excel')"
      ],
      "metadata": {
        "colab": {
          "base_uri": "https://localhost:8080/"
        },
        "id": "jJW3LC4aKFa5",
        "outputId": "16af9a07-2dde-414e-c87e-0de11d4e6b06"
      },
      "execution_count": 19,
      "outputs": [
        {
          "output_type": "stream",
          "name": "stdout",
          "text": [
            "Строк всего: - 270\n",
            "Датафрейм выгружен в Excel\n"
          ]
        }
      ]
    },
    {
      "cell_type": "markdown",
      "source": [
        "#### Запросы через curl / Linux и направление потока в текстовый файл"
      ],
      "metadata": {
        "id": "JHfGL9DKW5oc"
      }
    },
    {
      "cell_type": "code",
      "source": [
        "# ! curl --help all >> curl_help1.txt\n",
        "# # Записываем вывод команды в текстовый файл"
      ],
      "metadata": {
        "id": "BTQNeK8l0ELp"
      },
      "execution_count": null,
      "outputs": []
    },
    {
      "cell_type": "code",
      "source": [
        "# ! cat /content/curl_help.txt | grep 'H'\n",
        "# # Ищем в этом текстовом файле ключ H"
      ],
      "metadata": {
        "id": "7Lm5xR8NO9LZ"
      },
      "execution_count": null,
      "outputs": []
    },
    {
      "cell_type": "code",
      "source": [
        "# !whatis wc"
      ],
      "metadata": {
        "id": "N1u_6QDx19Vd"
      },
      "execution_count": null,
      "outputs": []
    },
    {
      "cell_type": "code",
      "source": [
        "# Тоесть в линуксе запрос выглядел бы так\n",
        "# curl -H 'User-Agent: api-test-agent' 'https://api.hh.ru/professional_roles' >> curl_json.txt | (перенаправление на поток который открывает скрипт пайтон)\n",
        "# Надо подумать как в скрипте пайтона можно обратится к утелите curl когда ты находишься в Linux"
      ],
      "metadata": {
        "id": "fG2veXudyALk"
      },
      "execution_count": null,
      "outputs": []
    },
    {
      "cell_type": "markdown",
      "source": [
        "https://blog.parente.dev/jupyter-tidbit-ipython-slists/\n",
        "обработка  в пайтоне потоков вывода системных команд линукс. (Для инфо)"
      ],
      "metadata": {
        "id": "Oe_Nm8iMK27S"
      }
    },
    {
      "cell_type": "markdown",
      "source": [
        "### Запрос профессиональные роли в категории \"Информационные технологии\" по общему User-Agent"
      ],
      "metadata": {
        "id": "c_LOdRiSdaaf"
      }
    },
    {
      "cell_type": "code",
      "execution_count": null,
      "metadata": {
        "id": "17V_44O7aVb1"
      },
      "outputs": [],
      "source": [
        "# Запрашиваем справочник через cURL\n",
        "response_curl2 = ! curl -H 'User-Agent: api-test-agent' 'https://api.hh.ru/professional_roles'\n",
        "# удалил ключ -k   --insecure           Allow insecure server connections\n",
        "# -H, --header <header/@file> Pass custom header(s) to server"
      ]
    },
    {
      "cell_type": "code",
      "source": [
        "response_curl2 == response_curl2.l == response_curl2.list == response_curl2.get_list()\n",
        "# способы из статьи выше"
      ],
      "metadata": {
        "colab": {
          "base_uri": "https://localhost:8080/"
        },
        "id": "ELQ0SlG2O9xY",
        "outputId": "fc80d7b6-c02d-4b74-bb59-a0eb5dc74865"
      },
      "execution_count": null,
      "outputs": [
        {
          "output_type": "execute_result",
          "data": {
            "text/plain": [
              "True"
            ]
          },
          "metadata": {},
          "execution_count": 205
        }
      ]
    },
    {
      "cell_type": "code",
      "source": [
        "# response_curl"
      ],
      "metadata": {
        "id": "RGhZ39lypSOk"
      },
      "execution_count": null,
      "outputs": []
    },
    {
      "cell_type": "code",
      "source": [
        "# type(response_curl)"
      ],
      "metadata": {
        "id": "2KPCm2GFbru3"
      },
      "execution_count": null,
      "outputs": []
    },
    {
      "cell_type": "code",
      "source": [
        "response2 = json.loads(response_curl2.spstr)\n",
        "# используем метод spstr что бы получить строку из списка IPython.utils.text.SList\n",
        "# Потом из этой строки получаем json методом json.loads()"
      ],
      "metadata": {
        "id": "mTmpAOZ4HFki"
      },
      "execution_count": null,
      "outputs": []
    },
    {
      "cell_type": "code",
      "source": [
        "print(type(response2))\n",
        "print(response2.keys())"
      ],
      "metadata": {
        "id": "y1ovJAnqemzz",
        "colab": {
          "base_uri": "https://localhost:8080/"
        },
        "outputId": "aefdc16f-8413-4a55-8c76-a621ed881e1a"
      },
      "execution_count": null,
      "outputs": [
        {
          "output_type": "stream",
          "name": "stdout",
          "text": [
            "<class 'dict'>\n",
            "dict_keys(['categories'])\n"
          ]
        }
      ]
    },
    {
      "cell_type": "code",
      "source": [
        "# response2"
      ],
      "metadata": {
        "id": "Fgb0Xo-_Wvkc"
      },
      "execution_count": null,
      "outputs": []
    },
    {
      "cell_type": "code",
      "source": [
        "# Фильтруем по категории\n",
        "response2 = response2['categories']\n",
        "print(type(response2))"
      ],
      "metadata": {
        "id": "k-VZDJA_cbsK",
        "colab": {
          "base_uri": "https://localhost:8080/"
        },
        "outputId": "0d5e6a5e-51e9-4f6e-8f48-4bca6d20dc83"
      },
      "execution_count": null,
      "outputs": [
        {
          "output_type": "stream",
          "name": "stdout",
          "text": [
            "<class 'list'>\n"
          ]
        }
      ]
    },
    {
      "cell_type": "code",
      "source": [
        "pd.json_normalize(response2)\n",
        "# метод pd для создания датафрейма"
      ],
      "metadata": {
        "colab": {
          "base_uri": "https://localhost:8080/",
          "height": 895
        },
        "id": "ywawkNiYWlpE",
        "outputId": "b0eb15cf-f80d-42f9-9c98-1fd4fa792af6"
      },
      "execution_count": null,
      "outputs": [
        {
          "output_type": "execute_result",
          "data": {
            "text/plain": [
              "    id                                      name  \\\n",
              "0   19                      Автомобильный бизнес   \n",
              "1    5                 Административный персонал   \n",
              "2   15                              Безопасность   \n",
              "3   26               Высший и средний менеджмент   \n",
              "4    8                              Добыча сырья   \n",
              "5   16          Домашний, обслуживающий персонал   \n",
              "6   14                                   Закупки   \n",
              "7   11                 Информационные технологии   \n",
              "8   24         Искусство, развлечения, массмедиа   \n",
              "9    6                    Маркетинг, реклама, PR   \n",
              "10  23                    Медицина, фармацевтика   \n",
              "11  25                        Наука, образование   \n",
              "12   1            Продажи, обслуживание клиентов   \n",
              "13   7      Производство, сервисное обслуживание   \n",
              "14  17                          Рабочий персонал   \n",
              "15   2                        Розничная торговля   \n",
              "16   9                        Сельское хозяйство   \n",
              "17  21  Спортивные клубы, фитнес, салоны красоты   \n",
              "18   4         Стратегия, инвестиции, консалтинг   \n",
              "19  22                               Страхование   \n",
              "20  18               Строительство, недвижимость   \n",
              "21  10           Транспорт, логистика, перевозки   \n",
              "22  20              Туризм, гостиницы, рестораны   \n",
              "23  12           Управление персоналом, тренинги   \n",
              "24   3                      Финансы, бухгалтерия   \n",
              "25  13                                    Юристы   \n",
              "26  27                                    Другое   \n",
              "\n",
              "                                                roles  \n",
              "0   [{'id': '4', 'name': 'Автомойщик', 'accept_inc...  \n",
              "1   [{'id': '8', 'name': 'Администратор', 'accept_...  \n",
              "2   [{'id': '22', 'name': 'Военнослужащий', 'accep...  \n",
              "3   [{'id': '26', 'name': 'Генеральный директор, и...  \n",
              "4   [{'id': '27', 'name': 'Геодезист', 'accept_inc...  \n",
              "5   [{'id': '8', 'name': 'Администратор', 'accept_...  \n",
              "6   [{'id': '66', 'name': 'Менеджер по закупкам', ...  \n",
              "7   [{'id': '156', 'name': 'BI-аналитик, аналитик ...  \n",
              "8   [{'id': '12', 'name': 'Арт-директор, креативны...  \n",
              "9   [{'id': '1', 'name': 'Event-менеджер', 'accept...  \n",
              "10  [{'id': '8', 'name': 'Администратор', 'accept_...  \n",
              "11  [{'id': '17', 'name': 'Бизнес-тренер', 'accept...  \n",
              "12  [{'id': '6', 'name': 'Агент по недвижимости', ...  \n",
              "13  [{'id': '174', 'name': 'Инженер ПНР', 'accept_...  \n",
              "14  [{'id': '5', 'name': 'Автослесарь, автомеханик...  \n",
              "15  [{'id': '9', 'name': 'Администратор магазина, ...  \n",
              "16  [{'id': '7', 'name': 'Агроном', 'accept_incomp...  \n",
              "17  [{'id': '8', 'name': 'Администратор', 'accept_...  \n",
              "18  [{'id': '10', 'name': 'Аналитик', 'accept_inco...  \n",
              "19  [{'id': '11', 'name': 'Андеррайтер', 'accept_i...  \n",
              "20  [{'id': '6', 'name': 'Агент по недвижимости', ...  \n",
              "21  [{'id': '159', 'name': 'Бортпроводник', 'accep...  \n",
              "22  [{'id': '8', 'name': 'Администратор', 'accept_...  \n",
              "23  [{'id': '17', 'name': 'Бизнес-тренер', 'accept...  \n",
              "24  [{'id': '16', 'name': 'Аудитор', 'accept_incom...  \n",
              "25  [{'id': '166', 'name': 'Директор юридического ...  \n",
              "26  [{'id': '40', 'name': 'Другое', 'accept_incomp...  "
            ],
            "text/html": [
              "\n",
              "  <div id=\"df-684a1659-9869-4eaf-8bca-a37caaf82180\" class=\"colab-df-container\">\n",
              "    <div>\n",
              "<style scoped>\n",
              "    .dataframe tbody tr th:only-of-type {\n",
              "        vertical-align: middle;\n",
              "    }\n",
              "\n",
              "    .dataframe tbody tr th {\n",
              "        vertical-align: top;\n",
              "    }\n",
              "\n",
              "    .dataframe thead th {\n",
              "        text-align: right;\n",
              "    }\n",
              "</style>\n",
              "<table border=\"1\" class=\"dataframe\">\n",
              "  <thead>\n",
              "    <tr style=\"text-align: right;\">\n",
              "      <th></th>\n",
              "      <th>id</th>\n",
              "      <th>name</th>\n",
              "      <th>roles</th>\n",
              "    </tr>\n",
              "  </thead>\n",
              "  <tbody>\n",
              "    <tr>\n",
              "      <th>0</th>\n",
              "      <td>19</td>\n",
              "      <td>Автомобильный бизнес</td>\n",
              "      <td>[{'id': '4', 'name': 'Автомойщик', 'accept_inc...</td>\n",
              "    </tr>\n",
              "    <tr>\n",
              "      <th>1</th>\n",
              "      <td>5</td>\n",
              "      <td>Административный персонал</td>\n",
              "      <td>[{'id': '8', 'name': 'Администратор', 'accept_...</td>\n",
              "    </tr>\n",
              "    <tr>\n",
              "      <th>2</th>\n",
              "      <td>15</td>\n",
              "      <td>Безопасность</td>\n",
              "      <td>[{'id': '22', 'name': 'Военнослужащий', 'accep...</td>\n",
              "    </tr>\n",
              "    <tr>\n",
              "      <th>3</th>\n",
              "      <td>26</td>\n",
              "      <td>Высший и средний менеджмент</td>\n",
              "      <td>[{'id': '26', 'name': 'Генеральный директор, и...</td>\n",
              "    </tr>\n",
              "    <tr>\n",
              "      <th>4</th>\n",
              "      <td>8</td>\n",
              "      <td>Добыча сырья</td>\n",
              "      <td>[{'id': '27', 'name': 'Геодезист', 'accept_inc...</td>\n",
              "    </tr>\n",
              "    <tr>\n",
              "      <th>5</th>\n",
              "      <td>16</td>\n",
              "      <td>Домашний, обслуживающий персонал</td>\n",
              "      <td>[{'id': '8', 'name': 'Администратор', 'accept_...</td>\n",
              "    </tr>\n",
              "    <tr>\n",
              "      <th>6</th>\n",
              "      <td>14</td>\n",
              "      <td>Закупки</td>\n",
              "      <td>[{'id': '66', 'name': 'Менеджер по закупкам', ...</td>\n",
              "    </tr>\n",
              "    <tr>\n",
              "      <th>7</th>\n",
              "      <td>11</td>\n",
              "      <td>Информационные технологии</td>\n",
              "      <td>[{'id': '156', 'name': 'BI-аналитик, аналитик ...</td>\n",
              "    </tr>\n",
              "    <tr>\n",
              "      <th>8</th>\n",
              "      <td>24</td>\n",
              "      <td>Искусство, развлечения, массмедиа</td>\n",
              "      <td>[{'id': '12', 'name': 'Арт-директор, креативны...</td>\n",
              "    </tr>\n",
              "    <tr>\n",
              "      <th>9</th>\n",
              "      <td>6</td>\n",
              "      <td>Маркетинг, реклама, PR</td>\n",
              "      <td>[{'id': '1', 'name': 'Event-менеджер', 'accept...</td>\n",
              "    </tr>\n",
              "    <tr>\n",
              "      <th>10</th>\n",
              "      <td>23</td>\n",
              "      <td>Медицина, фармацевтика</td>\n",
              "      <td>[{'id': '8', 'name': 'Администратор', 'accept_...</td>\n",
              "    </tr>\n",
              "    <tr>\n",
              "      <th>11</th>\n",
              "      <td>25</td>\n",
              "      <td>Наука, образование</td>\n",
              "      <td>[{'id': '17', 'name': 'Бизнес-тренер', 'accept...</td>\n",
              "    </tr>\n",
              "    <tr>\n",
              "      <th>12</th>\n",
              "      <td>1</td>\n",
              "      <td>Продажи, обслуживание клиентов</td>\n",
              "      <td>[{'id': '6', 'name': 'Агент по недвижимости', ...</td>\n",
              "    </tr>\n",
              "    <tr>\n",
              "      <th>13</th>\n",
              "      <td>7</td>\n",
              "      <td>Производство, сервисное обслуживание</td>\n",
              "      <td>[{'id': '174', 'name': 'Инженер ПНР', 'accept_...</td>\n",
              "    </tr>\n",
              "    <tr>\n",
              "      <th>14</th>\n",
              "      <td>17</td>\n",
              "      <td>Рабочий персонал</td>\n",
              "      <td>[{'id': '5', 'name': 'Автослесарь, автомеханик...</td>\n",
              "    </tr>\n",
              "    <tr>\n",
              "      <th>15</th>\n",
              "      <td>2</td>\n",
              "      <td>Розничная торговля</td>\n",
              "      <td>[{'id': '9', 'name': 'Администратор магазина, ...</td>\n",
              "    </tr>\n",
              "    <tr>\n",
              "      <th>16</th>\n",
              "      <td>9</td>\n",
              "      <td>Сельское хозяйство</td>\n",
              "      <td>[{'id': '7', 'name': 'Агроном', 'accept_incomp...</td>\n",
              "    </tr>\n",
              "    <tr>\n",
              "      <th>17</th>\n",
              "      <td>21</td>\n",
              "      <td>Спортивные клубы, фитнес, салоны красоты</td>\n",
              "      <td>[{'id': '8', 'name': 'Администратор', 'accept_...</td>\n",
              "    </tr>\n",
              "    <tr>\n",
              "      <th>18</th>\n",
              "      <td>4</td>\n",
              "      <td>Стратегия, инвестиции, консалтинг</td>\n",
              "      <td>[{'id': '10', 'name': 'Аналитик', 'accept_inco...</td>\n",
              "    </tr>\n",
              "    <tr>\n",
              "      <th>19</th>\n",
              "      <td>22</td>\n",
              "      <td>Страхование</td>\n",
              "      <td>[{'id': '11', 'name': 'Андеррайтер', 'accept_i...</td>\n",
              "    </tr>\n",
              "    <tr>\n",
              "      <th>20</th>\n",
              "      <td>18</td>\n",
              "      <td>Строительство, недвижимость</td>\n",
              "      <td>[{'id': '6', 'name': 'Агент по недвижимости', ...</td>\n",
              "    </tr>\n",
              "    <tr>\n",
              "      <th>21</th>\n",
              "      <td>10</td>\n",
              "      <td>Транспорт, логистика, перевозки</td>\n",
              "      <td>[{'id': '159', 'name': 'Бортпроводник', 'accep...</td>\n",
              "    </tr>\n",
              "    <tr>\n",
              "      <th>22</th>\n",
              "      <td>20</td>\n",
              "      <td>Туризм, гостиницы, рестораны</td>\n",
              "      <td>[{'id': '8', 'name': 'Администратор', 'accept_...</td>\n",
              "    </tr>\n",
              "    <tr>\n",
              "      <th>23</th>\n",
              "      <td>12</td>\n",
              "      <td>Управление персоналом, тренинги</td>\n",
              "      <td>[{'id': '17', 'name': 'Бизнес-тренер', 'accept...</td>\n",
              "    </tr>\n",
              "    <tr>\n",
              "      <th>24</th>\n",
              "      <td>3</td>\n",
              "      <td>Финансы, бухгалтерия</td>\n",
              "      <td>[{'id': '16', 'name': 'Аудитор', 'accept_incom...</td>\n",
              "    </tr>\n",
              "    <tr>\n",
              "      <th>25</th>\n",
              "      <td>13</td>\n",
              "      <td>Юристы</td>\n",
              "      <td>[{'id': '166', 'name': 'Директор юридического ...</td>\n",
              "    </tr>\n",
              "    <tr>\n",
              "      <th>26</th>\n",
              "      <td>27</td>\n",
              "      <td>Другое</td>\n",
              "      <td>[{'id': '40', 'name': 'Другое', 'accept_incomp...</td>\n",
              "    </tr>\n",
              "  </tbody>\n",
              "</table>\n",
              "</div>\n",
              "    <div class=\"colab-df-buttons\">\n",
              "\n",
              "  <div class=\"colab-df-container\">\n",
              "    <button class=\"colab-df-convert\" onclick=\"convertToInteractive('df-684a1659-9869-4eaf-8bca-a37caaf82180')\"\n",
              "            title=\"Convert this dataframe to an interactive table.\"\n",
              "            style=\"display:none;\">\n",
              "\n",
              "  <svg xmlns=\"http://www.w3.org/2000/svg\" height=\"24px\" viewBox=\"0 -960 960 960\">\n",
              "    <path d=\"M120-120v-720h720v720H120Zm60-500h600v-160H180v160Zm220 220h160v-160H400v160Zm0 220h160v-160H400v160ZM180-400h160v-160H180v160Zm440 0h160v-160H620v160ZM180-180h160v-160H180v160Zm440 0h160v-160H620v160Z\"/>\n",
              "  </svg>\n",
              "    </button>\n",
              "\n",
              "  <style>\n",
              "    .colab-df-container {\n",
              "      display:flex;\n",
              "      gap: 12px;\n",
              "    }\n",
              "\n",
              "    .colab-df-convert {\n",
              "      background-color: #E8F0FE;\n",
              "      border: none;\n",
              "      border-radius: 50%;\n",
              "      cursor: pointer;\n",
              "      display: none;\n",
              "      fill: #1967D2;\n",
              "      height: 32px;\n",
              "      padding: 0 0 0 0;\n",
              "      width: 32px;\n",
              "    }\n",
              "\n",
              "    .colab-df-convert:hover {\n",
              "      background-color: #E2EBFA;\n",
              "      box-shadow: 0px 1px 2px rgba(60, 64, 67, 0.3), 0px 1px 3px 1px rgba(60, 64, 67, 0.15);\n",
              "      fill: #174EA6;\n",
              "    }\n",
              "\n",
              "    .colab-df-buttons div {\n",
              "      margin-bottom: 4px;\n",
              "    }\n",
              "\n",
              "    [theme=dark] .colab-df-convert {\n",
              "      background-color: #3B4455;\n",
              "      fill: #D2E3FC;\n",
              "    }\n",
              "\n",
              "    [theme=dark] .colab-df-convert:hover {\n",
              "      background-color: #434B5C;\n",
              "      box-shadow: 0px 1px 3px 1px rgba(0, 0, 0, 0.15);\n",
              "      filter: drop-shadow(0px 1px 2px rgba(0, 0, 0, 0.3));\n",
              "      fill: #FFFFFF;\n",
              "    }\n",
              "  </style>\n",
              "\n",
              "    <script>\n",
              "      const buttonEl =\n",
              "        document.querySelector('#df-684a1659-9869-4eaf-8bca-a37caaf82180 button.colab-df-convert');\n",
              "      buttonEl.style.display =\n",
              "        google.colab.kernel.accessAllowed ? 'block' : 'none';\n",
              "\n",
              "      async function convertToInteractive(key) {\n",
              "        const element = document.querySelector('#df-684a1659-9869-4eaf-8bca-a37caaf82180');\n",
              "        const dataTable =\n",
              "          await google.colab.kernel.invokeFunction('convertToInteractive',\n",
              "                                                    [key], {});\n",
              "        if (!dataTable) return;\n",
              "\n",
              "        const docLinkHtml = 'Like what you see? Visit the ' +\n",
              "          '<a target=\"_blank\" href=https://colab.research.google.com/notebooks/data_table.ipynb>data table notebook</a>'\n",
              "          + ' to learn more about interactive tables.';\n",
              "        element.innerHTML = '';\n",
              "        dataTable['output_type'] = 'display_data';\n",
              "        await google.colab.output.renderOutput(dataTable, element);\n",
              "        const docLink = document.createElement('div');\n",
              "        docLink.innerHTML = docLinkHtml;\n",
              "        element.appendChild(docLink);\n",
              "      }\n",
              "    </script>\n",
              "  </div>\n",
              "\n",
              "\n",
              "<div id=\"df-9856f3f0-8e03-46f6-a542-4aff1bf6e62a\">\n",
              "  <button class=\"colab-df-quickchart\" onclick=\"quickchart('df-9856f3f0-8e03-46f6-a542-4aff1bf6e62a')\"\n",
              "            title=\"Suggest charts\"\n",
              "            style=\"display:none;\">\n",
              "\n",
              "<svg xmlns=\"http://www.w3.org/2000/svg\" height=\"24px\"viewBox=\"0 0 24 24\"\n",
              "     width=\"24px\">\n",
              "    <g>\n",
              "        <path d=\"M19 3H5c-1.1 0-2 .9-2 2v14c0 1.1.9 2 2 2h14c1.1 0 2-.9 2-2V5c0-1.1-.9-2-2-2zM9 17H7v-7h2v7zm4 0h-2V7h2v10zm4 0h-2v-4h2v4z\"/>\n",
              "    </g>\n",
              "</svg>\n",
              "  </button>\n",
              "\n",
              "<style>\n",
              "  .colab-df-quickchart {\n",
              "      --bg-color: #E8F0FE;\n",
              "      --fill-color: #1967D2;\n",
              "      --hover-bg-color: #E2EBFA;\n",
              "      --hover-fill-color: #174EA6;\n",
              "      --disabled-fill-color: #AAA;\n",
              "      --disabled-bg-color: #DDD;\n",
              "  }\n",
              "\n",
              "  [theme=dark] .colab-df-quickchart {\n",
              "      --bg-color: #3B4455;\n",
              "      --fill-color: #D2E3FC;\n",
              "      --hover-bg-color: #434B5C;\n",
              "      --hover-fill-color: #FFFFFF;\n",
              "      --disabled-bg-color: #3B4455;\n",
              "      --disabled-fill-color: #666;\n",
              "  }\n",
              "\n",
              "  .colab-df-quickchart {\n",
              "    background-color: var(--bg-color);\n",
              "    border: none;\n",
              "    border-radius: 50%;\n",
              "    cursor: pointer;\n",
              "    display: none;\n",
              "    fill: var(--fill-color);\n",
              "    height: 32px;\n",
              "    padding: 0;\n",
              "    width: 32px;\n",
              "  }\n",
              "\n",
              "  .colab-df-quickchart:hover {\n",
              "    background-color: var(--hover-bg-color);\n",
              "    box-shadow: 0 1px 2px rgba(60, 64, 67, 0.3), 0 1px 3px 1px rgba(60, 64, 67, 0.15);\n",
              "    fill: var(--button-hover-fill-color);\n",
              "  }\n",
              "\n",
              "  .colab-df-quickchart-complete:disabled,\n",
              "  .colab-df-quickchart-complete:disabled:hover {\n",
              "    background-color: var(--disabled-bg-color);\n",
              "    fill: var(--disabled-fill-color);\n",
              "    box-shadow: none;\n",
              "  }\n",
              "\n",
              "  .colab-df-spinner {\n",
              "    border: 2px solid var(--fill-color);\n",
              "    border-color: transparent;\n",
              "    border-bottom-color: var(--fill-color);\n",
              "    animation:\n",
              "      spin 1s steps(1) infinite;\n",
              "  }\n",
              "\n",
              "  @keyframes spin {\n",
              "    0% {\n",
              "      border-color: transparent;\n",
              "      border-bottom-color: var(--fill-color);\n",
              "      border-left-color: var(--fill-color);\n",
              "    }\n",
              "    20% {\n",
              "      border-color: transparent;\n",
              "      border-left-color: var(--fill-color);\n",
              "      border-top-color: var(--fill-color);\n",
              "    }\n",
              "    30% {\n",
              "      border-color: transparent;\n",
              "      border-left-color: var(--fill-color);\n",
              "      border-top-color: var(--fill-color);\n",
              "      border-right-color: var(--fill-color);\n",
              "    }\n",
              "    40% {\n",
              "      border-color: transparent;\n",
              "      border-right-color: var(--fill-color);\n",
              "      border-top-color: var(--fill-color);\n",
              "    }\n",
              "    60% {\n",
              "      border-color: transparent;\n",
              "      border-right-color: var(--fill-color);\n",
              "    }\n",
              "    80% {\n",
              "      border-color: transparent;\n",
              "      border-right-color: var(--fill-color);\n",
              "      border-bottom-color: var(--fill-color);\n",
              "    }\n",
              "    90% {\n",
              "      border-color: transparent;\n",
              "      border-bottom-color: var(--fill-color);\n",
              "    }\n",
              "  }\n",
              "</style>\n",
              "\n",
              "  <script>\n",
              "    async function quickchart(key) {\n",
              "      const quickchartButtonEl =\n",
              "        document.querySelector('#' + key + ' button');\n",
              "      quickchartButtonEl.disabled = true;  // To prevent multiple clicks.\n",
              "      quickchartButtonEl.classList.add('colab-df-spinner');\n",
              "      try {\n",
              "        const charts = await google.colab.kernel.invokeFunction(\n",
              "            'suggestCharts', [key], {});\n",
              "      } catch (error) {\n",
              "        console.error('Error during call to suggestCharts:', error);\n",
              "      }\n",
              "      quickchartButtonEl.classList.remove('colab-df-spinner');\n",
              "      quickchartButtonEl.classList.add('colab-df-quickchart-complete');\n",
              "    }\n",
              "    (() => {\n",
              "      let quickchartButtonEl =\n",
              "        document.querySelector('#df-9856f3f0-8e03-46f6-a542-4aff1bf6e62a button');\n",
              "      quickchartButtonEl.style.display =\n",
              "        google.colab.kernel.accessAllowed ? 'block' : 'none';\n",
              "    })();\n",
              "  </script>\n",
              "</div>\n",
              "    </div>\n",
              "  </div>\n"
            ],
            "application/vnd.google.colaboratory.intrinsic+json": {
              "type": "dataframe",
              "summary": "{\n  \"name\": \"# \\u043c\\u0435\\u0442\\u043e\\u0434 pd \\u0434\\u043b\\u044f \\u0441\\u043e\\u0437\\u0434\\u0430\\u043d\\u0438\\u044f \\u0434\\u0430\\u0442\\u0430\\u0444\\u0440\\u0435\\u0439\\u043c\\u0430\",\n  \"rows\": 27,\n  \"fields\": [\n    {\n      \"column\": \"id\",\n      \"properties\": {\n        \"dtype\": \"string\",\n        \"num_unique_values\": 27,\n        \"samples\": [\n          \"24\",\n          \"7\",\n          \"6\"\n        ],\n        \"semantic_type\": \"\",\n        \"description\": \"\"\n      }\n    },\n    {\n      \"column\": \"name\",\n      \"properties\": {\n        \"dtype\": \"string\",\n        \"num_unique_values\": 27,\n        \"samples\": [\n          \"\\u0418\\u0441\\u043a\\u0443\\u0441\\u0441\\u0442\\u0432\\u043e, \\u0440\\u0430\\u0437\\u0432\\u043b\\u0435\\u0447\\u0435\\u043d\\u0438\\u044f, \\u043c\\u0430\\u0441\\u0441\\u043c\\u0435\\u0434\\u0438\\u0430\",\n          \"\\u041f\\u0440\\u043e\\u0438\\u0437\\u0432\\u043e\\u0434\\u0441\\u0442\\u0432\\u043e, \\u0441\\u0435\\u0440\\u0432\\u0438\\u0441\\u043d\\u043e\\u0435 \\u043e\\u0431\\u0441\\u043b\\u0443\\u0436\\u0438\\u0432\\u0430\\u043d\\u0438\\u0435\",\n          \"\\u041c\\u0430\\u0440\\u043a\\u0435\\u0442\\u0438\\u043d\\u0433, \\u0440\\u0435\\u043a\\u043b\\u0430\\u043c\\u0430, PR\"\n        ],\n        \"semantic_type\": \"\",\n        \"description\": \"\"\n      }\n    },\n    {\n      \"column\": \"roles\",\n      \"properties\": {\n        \"dtype\": \"object\",\n        \"semantic_type\": \"\",\n        \"description\": \"\"\n      }\n    }\n  ]\n}"
            }
          },
          "metadata": {},
          "execution_count": 212
        }
      ]
    },
    {
      "cell_type": "code",
      "source": [
        "# pd.DataFrame(response[2])['roles']\n",
        "# # Смотрим записи в json по определенному индексу в списке"
      ],
      "metadata": {
        "id": "uZAWImTliAtP"
      },
      "execution_count": null,
      "outputs": []
    },
    {
      "cell_type": "code",
      "source": [
        "# print(*response, sep= '\\n')\n",
        "# # смотрим весь список словарей"
      ],
      "metadata": {
        "id": "25WZlWE73txm"
      },
      "execution_count": null,
      "outputs": []
    },
    {
      "cell_type": "code",
      "source": [
        "dataframes = pd.DataFrame()\n",
        "\n",
        "for dicts_in_list in response: # Распаковываю список словарей и в следующем цикле итерирую обьекты\n",
        "  # print(dicts_in_list)\n",
        "  for key, value in dicts_in_list.items():\n",
        "    category_name = value   # Имя категории в которой мы проходим\n",
        "    # Получаем такое\n",
        "    #  {'id': '19', 'name': 'Автомобильный бизнес', 'roles': [{'id': '4', 'name': 'Автомойщик', 'accept_incomplete_resumes': True, 'is_default': False, 'select_deprecated': False, 'search_deprecated': False}, {'id': '5', 'name': 'Автослесарь, автомеханик', 'accept_incomplete_resumes': True, 'is_default': False, 'select_deprecated': False, 'search_deprecated': False}, {'id': '62', 'name': 'Мастер-приемщик', 'accept_incomplete_resumes': True, 'is_default': False, 'select_deprecated': False, 'search_deprecated': False}, {'id': '70', 'name': 'Менеджер по продажам, менеджер по работе с клиентами', 'accept_incomplete_resumes': False, 'is_default': False, 'select_deprecated': False, 'search_deprecated': False}]}\n",
        "\n",
        "    # print(f\"{key}: {value}\")\n",
        "    # print(category_name)\n",
        "\n",
        "    if \"Информационные технологии\" == value: # В этом цикле проходим по имени категории и выбираем только Информационные технологии\n",
        "      # print(f\"{key}: {value}\")\n",
        "      # print('----------'*10)\n",
        "\n",
        "      # Мы проходим циклом по вложенному списку словарей с названием рабочих специальностей в категории Информационные технологии (Бизнес-аналитик, Аналитик и т.д.)\n",
        "      for dicts_in_list2 in dicts_in_list['roles']:\n",
        "\n",
        "        # print(dicts_in_list2)  # Печать словарей с названием рабочих специальностей в категории\n",
        "        # К примеру:\n",
        "        # {'id': '156', 'name': 'BI-аналитик, аналитик данных', 'accept_incomplete_resumes': False, 'is_default': False, 'select_deprecated': False, 'search_deprecated': False}\n",
        "        # {'id': '160', 'name': 'DevOps-инженер', 'accept_incomplete_resumes': False, 'is_default': False, 'select_deprecated': False, 'search_deprecated': False}\n",
        "\n",
        "\n",
        "        df = pd.json_normalize(dicts_in_list2)[['id','name']] # Превращаем в датафрейм\n",
        "        df.insert(1, 'category_name', category_name) # Добавляем поле 'category_name'\n",
        "        # print(type(df))\n",
        "\n",
        "        dataframes = pd.concat([dataframes, df], ignore_index=True) #  Соединяем в все датавреймы в цикле\n",
        "      # print('----------'*10)"
      ],
      "metadata": {
        "id": "hGT47Pr9TYMo"
      },
      "execution_count": null,
      "outputs": []
    },
    {
      "cell_type": "code",
      "source": [
        "df"
      ],
      "metadata": {
        "colab": {
          "base_uri": "https://localhost:8080/",
          "height": 81
        },
        "id": "9rQaRkjxfJa9",
        "outputId": "3c22cf94-b420-4f30-a0f3-4e09c07c9721"
      },
      "execution_count": null,
      "outputs": [
        {
          "output_type": "execute_result",
          "data": {
            "text/plain": [
              "    id              category_name                  name\n",
              "0  126  Информационные технологии  Технический писатель"
            ],
            "text/html": [
              "\n",
              "  <div id=\"df-060aab63-39dd-4c23-85ae-66b0ad92b74b\" class=\"colab-df-container\">\n",
              "    <div>\n",
              "<style scoped>\n",
              "    .dataframe tbody tr th:only-of-type {\n",
              "        vertical-align: middle;\n",
              "    }\n",
              "\n",
              "    .dataframe tbody tr th {\n",
              "        vertical-align: top;\n",
              "    }\n",
              "\n",
              "    .dataframe thead th {\n",
              "        text-align: right;\n",
              "    }\n",
              "</style>\n",
              "<table border=\"1\" class=\"dataframe\">\n",
              "  <thead>\n",
              "    <tr style=\"text-align: right;\">\n",
              "      <th></th>\n",
              "      <th>id</th>\n",
              "      <th>category_name</th>\n",
              "      <th>name</th>\n",
              "    </tr>\n",
              "  </thead>\n",
              "  <tbody>\n",
              "    <tr>\n",
              "      <th>0</th>\n",
              "      <td>126</td>\n",
              "      <td>Информационные технологии</td>\n",
              "      <td>Технический писатель</td>\n",
              "    </tr>\n",
              "  </tbody>\n",
              "</table>\n",
              "</div>\n",
              "    <div class=\"colab-df-buttons\">\n",
              "\n",
              "  <div class=\"colab-df-container\">\n",
              "    <button class=\"colab-df-convert\" onclick=\"convertToInteractive('df-060aab63-39dd-4c23-85ae-66b0ad92b74b')\"\n",
              "            title=\"Convert this dataframe to an interactive table.\"\n",
              "            style=\"display:none;\">\n",
              "\n",
              "  <svg xmlns=\"http://www.w3.org/2000/svg\" height=\"24px\" viewBox=\"0 -960 960 960\">\n",
              "    <path d=\"M120-120v-720h720v720H120Zm60-500h600v-160H180v160Zm220 220h160v-160H400v160Zm0 220h160v-160H400v160ZM180-400h160v-160H180v160Zm440 0h160v-160H620v160ZM180-180h160v-160H180v160Zm440 0h160v-160H620v160Z\"/>\n",
              "  </svg>\n",
              "    </button>\n",
              "\n",
              "  <style>\n",
              "    .colab-df-container {\n",
              "      display:flex;\n",
              "      gap: 12px;\n",
              "    }\n",
              "\n",
              "    .colab-df-convert {\n",
              "      background-color: #E8F0FE;\n",
              "      border: none;\n",
              "      border-radius: 50%;\n",
              "      cursor: pointer;\n",
              "      display: none;\n",
              "      fill: #1967D2;\n",
              "      height: 32px;\n",
              "      padding: 0 0 0 0;\n",
              "      width: 32px;\n",
              "    }\n",
              "\n",
              "    .colab-df-convert:hover {\n",
              "      background-color: #E2EBFA;\n",
              "      box-shadow: 0px 1px 2px rgba(60, 64, 67, 0.3), 0px 1px 3px 1px rgba(60, 64, 67, 0.15);\n",
              "      fill: #174EA6;\n",
              "    }\n",
              "\n",
              "    .colab-df-buttons div {\n",
              "      margin-bottom: 4px;\n",
              "    }\n",
              "\n",
              "    [theme=dark] .colab-df-convert {\n",
              "      background-color: #3B4455;\n",
              "      fill: #D2E3FC;\n",
              "    }\n",
              "\n",
              "    [theme=dark] .colab-df-convert:hover {\n",
              "      background-color: #434B5C;\n",
              "      box-shadow: 0px 1px 3px 1px rgba(0, 0, 0, 0.15);\n",
              "      filter: drop-shadow(0px 1px 2px rgba(0, 0, 0, 0.3));\n",
              "      fill: #FFFFFF;\n",
              "    }\n",
              "  </style>\n",
              "\n",
              "    <script>\n",
              "      const buttonEl =\n",
              "        document.querySelector('#df-060aab63-39dd-4c23-85ae-66b0ad92b74b button.colab-df-convert');\n",
              "      buttonEl.style.display =\n",
              "        google.colab.kernel.accessAllowed ? 'block' : 'none';\n",
              "\n",
              "      async function convertToInteractive(key) {\n",
              "        const element = document.querySelector('#df-060aab63-39dd-4c23-85ae-66b0ad92b74b');\n",
              "        const dataTable =\n",
              "          await google.colab.kernel.invokeFunction('convertToInteractive',\n",
              "                                                    [key], {});\n",
              "        if (!dataTable) return;\n",
              "\n",
              "        const docLinkHtml = 'Like what you see? Visit the ' +\n",
              "          '<a target=\"_blank\" href=https://colab.research.google.com/notebooks/data_table.ipynb>data table notebook</a>'\n",
              "          + ' to learn more about interactive tables.';\n",
              "        element.innerHTML = '';\n",
              "        dataTable['output_type'] = 'display_data';\n",
              "        await google.colab.output.renderOutput(dataTable, element);\n",
              "        const docLink = document.createElement('div');\n",
              "        docLink.innerHTML = docLinkHtml;\n",
              "        element.appendChild(docLink);\n",
              "      }\n",
              "    </script>\n",
              "  </div>\n",
              "\n",
              "    </div>\n",
              "  </div>\n"
            ],
            "application/vnd.google.colaboratory.intrinsic+json": {
              "type": "dataframe",
              "variable_name": "df",
              "summary": "{\n  \"name\": \"df\",\n  \"rows\": 1,\n  \"fields\": [\n    {\n      \"column\": \"id\",\n      \"properties\": {\n        \"dtype\": \"string\",\n        \"num_unique_values\": 1,\n        \"samples\": [\n          \"126\"\n        ],\n        \"semantic_type\": \"\",\n        \"description\": \"\"\n      }\n    },\n    {\n      \"column\": \"category_name\",\n      \"properties\": {\n        \"dtype\": \"string\",\n        \"num_unique_values\": 1,\n        \"samples\": [\n          \"\\u0418\\u043d\\u0444\\u043e\\u0440\\u043c\\u0430\\u0446\\u0438\\u043e\\u043d\\u043d\\u044b\\u0435 \\u0442\\u0435\\u0445\\u043d\\u043e\\u043b\\u043e\\u0433\\u0438\\u0438\"\n        ],\n        \"semantic_type\": \"\",\n        \"description\": \"\"\n      }\n    },\n    {\n      \"column\": \"name\",\n      \"properties\": {\n        \"dtype\": \"string\",\n        \"num_unique_values\": 1,\n        \"samples\": [\n          \"\\u0422\\u0435\\u0445\\u043d\\u0438\\u0447\\u0435\\u0441\\u043a\\u0438\\u0439 \\u043f\\u0438\\u0441\\u0430\\u0442\\u0435\\u043b\\u044c\"\n        ],\n        \"semantic_type\": \"\",\n        \"description\": \"\"\n      }\n    }\n  ]\n}"
            }
          },
          "metadata": {},
          "execution_count": 216
        }
      ]
    },
    {
      "cell_type": "markdown",
      "source": [
        "#### Итоговый датафрейм получен"
      ],
      "metadata": {
        "id": "Tz-yyKX29lR0"
      }
    },
    {
      "cell_type": "code",
      "source": [
        "# dataframes"
      ],
      "metadata": {
        "id": "LvEqAr_y47iQ"
      },
      "execution_count": null,
      "outputs": []
    },
    {
      "cell_type": "code",
      "source": [
        "print(f'Строк всего: - {len(dataframes)}')\n",
        "dataframes.to_excel('/content/dataframes.xlsx', sheet_name='Справочник HH', index=True)\n",
        "\n",
        "print('Датафрейм выгружен в Excel')"
      ],
      "metadata": {
        "colab": {
          "base_uri": "https://localhost:8080/"
        },
        "id": "hwVCcqFKzA2E",
        "outputId": "47fc917f-5513-4613-a828-f2aaf5cf8785"
      },
      "execution_count": null,
      "outputs": [
        {
          "output_type": "stream",
          "name": "stdout",
          "text": [
            "Строк всего: - 25\n",
            "Датафрейм выгружен в Excel\n"
          ]
        }
      ]
    },
    {
      "cell_type": "markdown",
      "source": [
        "##### Разбираюсь с итеррацией словарей в цикле"
      ],
      "metadata": {
        "id": "dUKe7-oycrGK"
      }
    },
    {
      "cell_type": "code",
      "source": [
        "# Метод pd.DataFrame() кушает только словари со значениями в виде списка\n",
        "d = {'id': ['156'], 'name': ['BI-аналитик, аналитик данных'], 'accept_incomplete_resumes': False, 'is_default': False, 'select_deprecated': False, 'search_deprecated': False}\n",
        "df1 = pd.DataFrame(d)\n",
        "df1"
      ],
      "metadata": {
        "id": "mvekcB8rhhn8",
        "colab": {
          "base_uri": "https://localhost:8080/",
          "height": 81
        },
        "outputId": "000d8716-77d0-49d2-8786-04b32150537c"
      },
      "execution_count": null,
      "outputs": [
        {
          "output_type": "execute_result",
          "data": {
            "text/plain": [
              "    id                          name  accept_incomplete_resumes  is_default  \\\n",
              "0  156  BI-аналитик, аналитик данных                      False       False   \n",
              "\n",
              "   select_deprecated  search_deprecated  \n",
              "0              False              False  "
            ],
            "text/html": [
              "\n",
              "  <div id=\"df-b3a54639-18bd-4f1f-a84b-9b58068a3391\" class=\"colab-df-container\">\n",
              "    <div>\n",
              "<style scoped>\n",
              "    .dataframe tbody tr th:only-of-type {\n",
              "        vertical-align: middle;\n",
              "    }\n",
              "\n",
              "    .dataframe tbody tr th {\n",
              "        vertical-align: top;\n",
              "    }\n",
              "\n",
              "    .dataframe thead th {\n",
              "        text-align: right;\n",
              "    }\n",
              "</style>\n",
              "<table border=\"1\" class=\"dataframe\">\n",
              "  <thead>\n",
              "    <tr style=\"text-align: right;\">\n",
              "      <th></th>\n",
              "      <th>id</th>\n",
              "      <th>name</th>\n",
              "      <th>accept_incomplete_resumes</th>\n",
              "      <th>is_default</th>\n",
              "      <th>select_deprecated</th>\n",
              "      <th>search_deprecated</th>\n",
              "    </tr>\n",
              "  </thead>\n",
              "  <tbody>\n",
              "    <tr>\n",
              "      <th>0</th>\n",
              "      <td>156</td>\n",
              "      <td>BI-аналитик, аналитик данных</td>\n",
              "      <td>False</td>\n",
              "      <td>False</td>\n",
              "      <td>False</td>\n",
              "      <td>False</td>\n",
              "    </tr>\n",
              "  </tbody>\n",
              "</table>\n",
              "</div>\n",
              "    <div class=\"colab-df-buttons\">\n",
              "\n",
              "  <div class=\"colab-df-container\">\n",
              "    <button class=\"colab-df-convert\" onclick=\"convertToInteractive('df-b3a54639-18bd-4f1f-a84b-9b58068a3391')\"\n",
              "            title=\"Convert this dataframe to an interactive table.\"\n",
              "            style=\"display:none;\">\n",
              "\n",
              "  <svg xmlns=\"http://www.w3.org/2000/svg\" height=\"24px\" viewBox=\"0 -960 960 960\">\n",
              "    <path d=\"M120-120v-720h720v720H120Zm60-500h600v-160H180v160Zm220 220h160v-160H400v160Zm0 220h160v-160H400v160ZM180-400h160v-160H180v160Zm440 0h160v-160H620v160ZM180-180h160v-160H180v160Zm440 0h160v-160H620v160Z\"/>\n",
              "  </svg>\n",
              "    </button>\n",
              "\n",
              "  <style>\n",
              "    .colab-df-container {\n",
              "      display:flex;\n",
              "      gap: 12px;\n",
              "    }\n",
              "\n",
              "    .colab-df-convert {\n",
              "      background-color: #E8F0FE;\n",
              "      border: none;\n",
              "      border-radius: 50%;\n",
              "      cursor: pointer;\n",
              "      display: none;\n",
              "      fill: #1967D2;\n",
              "      height: 32px;\n",
              "      padding: 0 0 0 0;\n",
              "      width: 32px;\n",
              "    }\n",
              "\n",
              "    .colab-df-convert:hover {\n",
              "      background-color: #E2EBFA;\n",
              "      box-shadow: 0px 1px 2px rgba(60, 64, 67, 0.3), 0px 1px 3px 1px rgba(60, 64, 67, 0.15);\n",
              "      fill: #174EA6;\n",
              "    }\n",
              "\n",
              "    .colab-df-buttons div {\n",
              "      margin-bottom: 4px;\n",
              "    }\n",
              "\n",
              "    [theme=dark] .colab-df-convert {\n",
              "      background-color: #3B4455;\n",
              "      fill: #D2E3FC;\n",
              "    }\n",
              "\n",
              "    [theme=dark] .colab-df-convert:hover {\n",
              "      background-color: #434B5C;\n",
              "      box-shadow: 0px 1px 3px 1px rgba(0, 0, 0, 0.15);\n",
              "      filter: drop-shadow(0px 1px 2px rgba(0, 0, 0, 0.3));\n",
              "      fill: #FFFFFF;\n",
              "    }\n",
              "  </style>\n",
              "\n",
              "    <script>\n",
              "      const buttonEl =\n",
              "        document.querySelector('#df-b3a54639-18bd-4f1f-a84b-9b58068a3391 button.colab-df-convert');\n",
              "      buttonEl.style.display =\n",
              "        google.colab.kernel.accessAllowed ? 'block' : 'none';\n",
              "\n",
              "      async function convertToInteractive(key) {\n",
              "        const element = document.querySelector('#df-b3a54639-18bd-4f1f-a84b-9b58068a3391');\n",
              "        const dataTable =\n",
              "          await google.colab.kernel.invokeFunction('convertToInteractive',\n",
              "                                                    [key], {});\n",
              "        if (!dataTable) return;\n",
              "\n",
              "        const docLinkHtml = 'Like what you see? Visit the ' +\n",
              "          '<a target=\"_blank\" href=https://colab.research.google.com/notebooks/data_table.ipynb>data table notebook</a>'\n",
              "          + ' to learn more about interactive tables.';\n",
              "        element.innerHTML = '';\n",
              "        dataTable['output_type'] = 'display_data';\n",
              "        await google.colab.output.renderOutput(dataTable, element);\n",
              "        const docLink = document.createElement('div');\n",
              "        docLink.innerHTML = docLinkHtml;\n",
              "        element.appendChild(docLink);\n",
              "      }\n",
              "    </script>\n",
              "  </div>\n",
              "\n",
              "    </div>\n",
              "  </div>\n"
            ],
            "application/vnd.google.colaboratory.intrinsic+json": {
              "type": "dataframe",
              "variable_name": "df1",
              "summary": "{\n  \"name\": \"df1\",\n  \"rows\": 1,\n  \"fields\": [\n    {\n      \"column\": \"id\",\n      \"properties\": {\n        \"dtype\": \"string\",\n        \"num_unique_values\": 1,\n        \"samples\": [\n          \"156\"\n        ],\n        \"semantic_type\": \"\",\n        \"description\": \"\"\n      }\n    },\n    {\n      \"column\": \"name\",\n      \"properties\": {\n        \"dtype\": \"string\",\n        \"num_unique_values\": 1,\n        \"samples\": [\n          \"BI-\\u0430\\u043d\\u0430\\u043b\\u0438\\u0442\\u0438\\u043a, \\u0430\\u043d\\u0430\\u043b\\u0438\\u0442\\u0438\\u043a \\u0434\\u0430\\u043d\\u043d\\u044b\\u0445\"\n        ],\n        \"semantic_type\": \"\",\n        \"description\": \"\"\n      }\n    },\n    {\n      \"column\": \"accept_incomplete_resumes\",\n      \"properties\": {\n        \"dtype\": \"boolean\",\n        \"num_unique_values\": 1,\n        \"samples\": [\n          false\n        ],\n        \"semantic_type\": \"\",\n        \"description\": \"\"\n      }\n    },\n    {\n      \"column\": \"is_default\",\n      \"properties\": {\n        \"dtype\": \"boolean\",\n        \"num_unique_values\": 1,\n        \"samples\": [\n          false\n        ],\n        \"semantic_type\": \"\",\n        \"description\": \"\"\n      }\n    },\n    {\n      \"column\": \"select_deprecated\",\n      \"properties\": {\n        \"dtype\": \"boolean\",\n        \"num_unique_values\": 1,\n        \"samples\": [\n          false\n        ],\n        \"semantic_type\": \"\",\n        \"description\": \"\"\n      }\n    },\n    {\n      \"column\": \"search_deprecated\",\n      \"properties\": {\n        \"dtype\": \"boolean\",\n        \"num_unique_values\": 1,\n        \"samples\": [\n          false\n        ],\n        \"semantic_type\": \"\",\n        \"description\": \"\"\n      }\n    }\n  ]\n}"
            }
          },
          "metadata": {},
          "execution_count": 59
        }
      ]
    },
    {
      "cell_type": "code",
      "source": [
        "# А вот в виде строки не кушает\n",
        "# Ошибка:  If using all scalar values, you must pass an index\n",
        "dd = {'id': '156', 'name': 'BI-аналитик, аналитик данных', 'accept_incomplete_resumes': False, 'is_default': False, 'select_deprecated': False, 'search_deprecated': False}\n",
        "df2 = pd.DataFrame(dd)\n",
        "df2"
      ],
      "metadata": {
        "id": "xhxQp9Ul_CbW"
      },
      "execution_count": null,
      "outputs": []
    },
    {
      "cell_type": "code",
      "source": [
        "print(type(list(dd.items())))\n",
        "print('----------'*10)\n",
        "list(dd.items())"
      ],
      "metadata": {
        "colab": {
          "base_uri": "https://localhost:8080/"
        },
        "id": "Jx-eIoD3--o_",
        "outputId": "4b18cf93-6dc4-472a-dfee-5fec1a445e85"
      },
      "execution_count": null,
      "outputs": [
        {
          "output_type": "stream",
          "name": "stdout",
          "text": [
            "<class 'list'>\n",
            "----------------------------------------------------------------------------------------------------\n"
          ]
        },
        {
          "output_type": "execute_result",
          "data": {
            "text/plain": [
              "[('id', '156'),\n",
              " ('name', 'BI-аналитик, аналитик данных'),\n",
              " ('accept_incomplete_resumes', False),\n",
              " ('is_default', False),\n",
              " ('select_deprecated', False),\n",
              " ('search_deprecated', False)]"
            ]
          },
          "metadata": {},
          "execution_count": 65
        }
      ]
    },
    {
      "cell_type": "code",
      "source": [
        "# В виде листа транспонирует\n",
        "df3 = pd.DataFrame(list(dd.items()),  columns=[['id', 'name']])\n",
        "df3\n",
        "# , columns=[['id', 'name']]"
      ],
      "metadata": {
        "colab": {
          "base_uri": "https://localhost:8080/",
          "height": 237
        },
        "id": "2lKOgGQK-1G5",
        "outputId": "b119fb7e-c5a2-4e32-a8cc-8202f80112ba"
      },
      "execution_count": null,
      "outputs": [
        {
          "output_type": "execute_result",
          "data": {
            "text/plain": [
              "                          id                          name\n",
              "0                         id                           156\n",
              "1                       name  BI-аналитик, аналитик данных\n",
              "2  accept_incomplete_resumes                         False\n",
              "3                 is_default                         False\n",
              "4          select_deprecated                         False\n",
              "5          search_deprecated                         False"
            ],
            "text/html": [
              "\n",
              "  <div id=\"df-c71c021f-0121-48a0-bab1-28b487c72820\" class=\"colab-df-container\">\n",
              "    <div>\n",
              "<style scoped>\n",
              "    .dataframe tbody tr th:only-of-type {\n",
              "        vertical-align: middle;\n",
              "    }\n",
              "\n",
              "    .dataframe tbody tr th {\n",
              "        vertical-align: top;\n",
              "    }\n",
              "\n",
              "    .dataframe thead tr th {\n",
              "        text-align: left;\n",
              "    }\n",
              "</style>\n",
              "<table border=\"1\" class=\"dataframe\">\n",
              "  <thead>\n",
              "    <tr>\n",
              "      <th></th>\n",
              "      <th>id</th>\n",
              "      <th>name</th>\n",
              "    </tr>\n",
              "  </thead>\n",
              "  <tbody>\n",
              "    <tr>\n",
              "      <th>0</th>\n",
              "      <td>id</td>\n",
              "      <td>156</td>\n",
              "    </tr>\n",
              "    <tr>\n",
              "      <th>1</th>\n",
              "      <td>name</td>\n",
              "      <td>BI-аналитик, аналитик данных</td>\n",
              "    </tr>\n",
              "    <tr>\n",
              "      <th>2</th>\n",
              "      <td>accept_incomplete_resumes</td>\n",
              "      <td>False</td>\n",
              "    </tr>\n",
              "    <tr>\n",
              "      <th>3</th>\n",
              "      <td>is_default</td>\n",
              "      <td>False</td>\n",
              "    </tr>\n",
              "    <tr>\n",
              "      <th>4</th>\n",
              "      <td>select_deprecated</td>\n",
              "      <td>False</td>\n",
              "    </tr>\n",
              "    <tr>\n",
              "      <th>5</th>\n",
              "      <td>search_deprecated</td>\n",
              "      <td>False</td>\n",
              "    </tr>\n",
              "  </tbody>\n",
              "</table>\n",
              "</div>\n",
              "    <div class=\"colab-df-buttons\">\n",
              "\n",
              "  <div class=\"colab-df-container\">\n",
              "    <button class=\"colab-df-convert\" onclick=\"convertToInteractive('df-c71c021f-0121-48a0-bab1-28b487c72820')\"\n",
              "            title=\"Convert this dataframe to an interactive table.\"\n",
              "            style=\"display:none;\">\n",
              "\n",
              "  <svg xmlns=\"http://www.w3.org/2000/svg\" height=\"24px\" viewBox=\"0 -960 960 960\">\n",
              "    <path d=\"M120-120v-720h720v720H120Zm60-500h600v-160H180v160Zm220 220h160v-160H400v160Zm0 220h160v-160H400v160ZM180-400h160v-160H180v160Zm440 0h160v-160H620v160ZM180-180h160v-160H180v160Zm440 0h160v-160H620v160Z\"/>\n",
              "  </svg>\n",
              "    </button>\n",
              "\n",
              "  <style>\n",
              "    .colab-df-container {\n",
              "      display:flex;\n",
              "      gap: 12px;\n",
              "    }\n",
              "\n",
              "    .colab-df-convert {\n",
              "      background-color: #E8F0FE;\n",
              "      border: none;\n",
              "      border-radius: 50%;\n",
              "      cursor: pointer;\n",
              "      display: none;\n",
              "      fill: #1967D2;\n",
              "      height: 32px;\n",
              "      padding: 0 0 0 0;\n",
              "      width: 32px;\n",
              "    }\n",
              "\n",
              "    .colab-df-convert:hover {\n",
              "      background-color: #E2EBFA;\n",
              "      box-shadow: 0px 1px 2px rgba(60, 64, 67, 0.3), 0px 1px 3px 1px rgba(60, 64, 67, 0.15);\n",
              "      fill: #174EA6;\n",
              "    }\n",
              "\n",
              "    .colab-df-buttons div {\n",
              "      margin-bottom: 4px;\n",
              "    }\n",
              "\n",
              "    [theme=dark] .colab-df-convert {\n",
              "      background-color: #3B4455;\n",
              "      fill: #D2E3FC;\n",
              "    }\n",
              "\n",
              "    [theme=dark] .colab-df-convert:hover {\n",
              "      background-color: #434B5C;\n",
              "      box-shadow: 0px 1px 3px 1px rgba(0, 0, 0, 0.15);\n",
              "      filter: drop-shadow(0px 1px 2px rgba(0, 0, 0, 0.3));\n",
              "      fill: #FFFFFF;\n",
              "    }\n",
              "  </style>\n",
              "\n",
              "    <script>\n",
              "      const buttonEl =\n",
              "        document.querySelector('#df-c71c021f-0121-48a0-bab1-28b487c72820 button.colab-df-convert');\n",
              "      buttonEl.style.display =\n",
              "        google.colab.kernel.accessAllowed ? 'block' : 'none';\n",
              "\n",
              "      async function convertToInteractive(key) {\n",
              "        const element = document.querySelector('#df-c71c021f-0121-48a0-bab1-28b487c72820');\n",
              "        const dataTable =\n",
              "          await google.colab.kernel.invokeFunction('convertToInteractive',\n",
              "                                                    [key], {});\n",
              "        if (!dataTable) return;\n",
              "\n",
              "        const docLinkHtml = 'Like what you see? Visit the ' +\n",
              "          '<a target=\"_blank\" href=https://colab.research.google.com/notebooks/data_table.ipynb>data table notebook</a>'\n",
              "          + ' to learn more about interactive tables.';\n",
              "        element.innerHTML = '';\n",
              "        dataTable['output_type'] = 'display_data';\n",
              "        await google.colab.output.renderOutput(dataTable, element);\n",
              "        const docLink = document.createElement('div');\n",
              "        docLink.innerHTML = docLinkHtml;\n",
              "        element.appendChild(docLink);\n",
              "      }\n",
              "    </script>\n",
              "  </div>\n",
              "\n",
              "\n",
              "<div id=\"df-31927e24-b017-45b4-b73e-13d9236c254a\">\n",
              "  <button class=\"colab-df-quickchart\" onclick=\"quickchart('df-31927e24-b017-45b4-b73e-13d9236c254a')\"\n",
              "            title=\"Suggest charts\"\n",
              "            style=\"display:none;\">\n",
              "\n",
              "<svg xmlns=\"http://www.w3.org/2000/svg\" height=\"24px\"viewBox=\"0 0 24 24\"\n",
              "     width=\"24px\">\n",
              "    <g>\n",
              "        <path d=\"M19 3H5c-1.1 0-2 .9-2 2v14c0 1.1.9 2 2 2h14c1.1 0 2-.9 2-2V5c0-1.1-.9-2-2-2zM9 17H7v-7h2v7zm4 0h-2V7h2v10zm4 0h-2v-4h2v4z\"/>\n",
              "    </g>\n",
              "</svg>\n",
              "  </button>\n",
              "\n",
              "<style>\n",
              "  .colab-df-quickchart {\n",
              "      --bg-color: #E8F0FE;\n",
              "      --fill-color: #1967D2;\n",
              "      --hover-bg-color: #E2EBFA;\n",
              "      --hover-fill-color: #174EA6;\n",
              "      --disabled-fill-color: #AAA;\n",
              "      --disabled-bg-color: #DDD;\n",
              "  }\n",
              "\n",
              "  [theme=dark] .colab-df-quickchart {\n",
              "      --bg-color: #3B4455;\n",
              "      --fill-color: #D2E3FC;\n",
              "      --hover-bg-color: #434B5C;\n",
              "      --hover-fill-color: #FFFFFF;\n",
              "      --disabled-bg-color: #3B4455;\n",
              "      --disabled-fill-color: #666;\n",
              "  }\n",
              "\n",
              "  .colab-df-quickchart {\n",
              "    background-color: var(--bg-color);\n",
              "    border: none;\n",
              "    border-radius: 50%;\n",
              "    cursor: pointer;\n",
              "    display: none;\n",
              "    fill: var(--fill-color);\n",
              "    height: 32px;\n",
              "    padding: 0;\n",
              "    width: 32px;\n",
              "  }\n",
              "\n",
              "  .colab-df-quickchart:hover {\n",
              "    background-color: var(--hover-bg-color);\n",
              "    box-shadow: 0 1px 2px rgba(60, 64, 67, 0.3), 0 1px 3px 1px rgba(60, 64, 67, 0.15);\n",
              "    fill: var(--button-hover-fill-color);\n",
              "  }\n",
              "\n",
              "  .colab-df-quickchart-complete:disabled,\n",
              "  .colab-df-quickchart-complete:disabled:hover {\n",
              "    background-color: var(--disabled-bg-color);\n",
              "    fill: var(--disabled-fill-color);\n",
              "    box-shadow: none;\n",
              "  }\n",
              "\n",
              "  .colab-df-spinner {\n",
              "    border: 2px solid var(--fill-color);\n",
              "    border-color: transparent;\n",
              "    border-bottom-color: var(--fill-color);\n",
              "    animation:\n",
              "      spin 1s steps(1) infinite;\n",
              "  }\n",
              "\n",
              "  @keyframes spin {\n",
              "    0% {\n",
              "      border-color: transparent;\n",
              "      border-bottom-color: var(--fill-color);\n",
              "      border-left-color: var(--fill-color);\n",
              "    }\n",
              "    20% {\n",
              "      border-color: transparent;\n",
              "      border-left-color: var(--fill-color);\n",
              "      border-top-color: var(--fill-color);\n",
              "    }\n",
              "    30% {\n",
              "      border-color: transparent;\n",
              "      border-left-color: var(--fill-color);\n",
              "      border-top-color: var(--fill-color);\n",
              "      border-right-color: var(--fill-color);\n",
              "    }\n",
              "    40% {\n",
              "      border-color: transparent;\n",
              "      border-right-color: var(--fill-color);\n",
              "      border-top-color: var(--fill-color);\n",
              "    }\n",
              "    60% {\n",
              "      border-color: transparent;\n",
              "      border-right-color: var(--fill-color);\n",
              "    }\n",
              "    80% {\n",
              "      border-color: transparent;\n",
              "      border-right-color: var(--fill-color);\n",
              "      border-bottom-color: var(--fill-color);\n",
              "    }\n",
              "    90% {\n",
              "      border-color: transparent;\n",
              "      border-bottom-color: var(--fill-color);\n",
              "    }\n",
              "  }\n",
              "</style>\n",
              "\n",
              "  <script>\n",
              "    async function quickchart(key) {\n",
              "      const quickchartButtonEl =\n",
              "        document.querySelector('#' + key + ' button');\n",
              "      quickchartButtonEl.disabled = true;  // To prevent multiple clicks.\n",
              "      quickchartButtonEl.classList.add('colab-df-spinner');\n",
              "      try {\n",
              "        const charts = await google.colab.kernel.invokeFunction(\n",
              "            'suggestCharts', [key], {});\n",
              "      } catch (error) {\n",
              "        console.error('Error during call to suggestCharts:', error);\n",
              "      }\n",
              "      quickchartButtonEl.classList.remove('colab-df-spinner');\n",
              "      quickchartButtonEl.classList.add('colab-df-quickchart-complete');\n",
              "    }\n",
              "    (() => {\n",
              "      let quickchartButtonEl =\n",
              "        document.querySelector('#df-31927e24-b017-45b4-b73e-13d9236c254a button');\n",
              "      quickchartButtonEl.style.display =\n",
              "        google.colab.kernel.accessAllowed ? 'block' : 'none';\n",
              "    })();\n",
              "  </script>\n",
              "</div>\n",
              "    </div>\n",
              "  </div>\n"
            ],
            "application/vnd.google.colaboratory.intrinsic+json": {
              "type": "dataframe",
              "variable_name": "df3",
              "summary": "{\n  \"name\": \"df3\",\n  \"rows\": 6,\n  \"fields\": [\n    {\n      \"column\": [\n        \"id\"\n      ],\n      \"properties\": {\n        \"dtype\": \"string\",\n        \"num_unique_values\": 6,\n        \"samples\": [\n          \"id\",\n          \"name\",\n          \"search_deprecated\"\n        ],\n        \"semantic_type\": \"\",\n        \"description\": \"\"\n      }\n    },\n    {\n      \"column\": [\n        \"name\"\n      ],\n      \"properties\": {\n        \"dtype\": \"string\",\n        \"num_unique_values\": 3,\n        \"samples\": [\n          \"156\",\n          \"BI-\\u0430\\u043d\\u0430\\u043b\\u0438\\u0442\\u0438\\u043a, \\u0430\\u043d\\u0430\\u043b\\u0438\\u0442\\u0438\\u043a \\u0434\\u0430\\u043d\\u043d\\u044b\\u0445\",\n          false\n        ],\n        \"semantic_type\": \"\",\n        \"description\": \"\"\n      }\n    }\n  ]\n}"
            }
          },
          "metadata": {},
          "execution_count": 69
        }
      ]
    },
    {
      "cell_type": "code",
      "source": [
        "# # Метод pd.DataFrame.from_dict работает так же как и метод pd.DataFrame()\n",
        "# # Ошибка:  If using all scalar values, you must pass an index\n",
        "# d_dict = {'id': '156', 'name': 'BI-аналитик, аналитик данных', 'accept_incomplete_resumes': False, 'is_default': False, 'select_deprecated': False, 'search_deprecated': False}\n",
        "# pd.DataFrame.from_dict((d_dict))"
      ],
      "metadata": {
        "id": "e_d-f1zi7nyE"
      },
      "execution_count": null,
      "outputs": []
    },
    {
      "cell_type": "code",
      "source": [
        "data = {'row_1': [3, 2, 1, 0], 'row_2': ['a', 'b', 'c', 'd']}\n",
        "\n",
        "pd.DataFrame.from_dict(data, orient='Columns')\n",
        "\n",
        "# Вывод  orient='index'\n",
        "#        A  B  C  D\n",
        "# row_1  3  2  1  0\n",
        "# row_2  a  b  c  d\n",
        "\n",
        "# Вывод  orient='Columns'\n",
        "# \trow_1\trow_2\n",
        "# 0 \t3\t  a\n",
        "# 1\t  2\t  b\n",
        "# 2\t  1\t  c\n",
        "# 3\t  0\t  d"
      ],
      "metadata": {
        "id": "OsXmg9fv9KRK"
      },
      "execution_count": null,
      "outputs": []
    },
    {
      "cell_type": "code",
      "source": [
        "# dict_data = {\n",
        "#     '2022-01-01': 100,\n",
        "#     '2022-01-02': 200,\n",
        "#     '2022-01-03': 300,\n",
        "#     '2022-01-04': 400,\n",
        "#     '2022-01-05': 500\n",
        "# }\n",
        "\n",
        "# # преобразование словаря в DataFrame\n",
        "# df = pd.DataFrame(list(dict_data.items()), columns=['Date', 'Value'])\n",
        "\n",
        "# # вывод DataFrame\n",
        "# print(df)"
      ],
      "metadata": {
        "colab": {
          "base_uri": "https://localhost:8080/"
        },
        "id": "QziC6-Tw7KgU",
        "outputId": "e56ca4c6-2d4f-44db-b4af-46f80f10eba3"
      },
      "execution_count": null,
      "outputs": [
        {
          "output_type": "stream",
          "name": "stdout",
          "text": [
            "         Date  Value\n",
            "0  2022-01-01    100\n",
            "1  2022-01-02    200\n",
            "2  2022-01-03    300\n",
            "3  2022-01-04    400\n",
            "4  2022-01-05    500\n"
          ]
        }
      ]
    }
  ]
}