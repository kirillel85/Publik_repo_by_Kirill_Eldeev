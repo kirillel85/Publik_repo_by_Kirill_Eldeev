{
  "cells": [
    {
      "cell_type": "markdown",
      "metadata": {
        "id": "view-in-github",
        "colab_type": "text"
      },
      "source": [
        "<a href=\"https://colab.research.google.com/github/kirillel85/kirillel85/blob/public_main/x5_task_diag_sankey.ipynb\" target=\"_parent\"><img src=\"https://colab.research.google.com/assets/colab-badge.svg\" alt=\"Open In Colab\"/></a>"
      ]
    },
    {
      "cell_type": "markdown",
      "id": "3fb6c886",
      "metadata": {
        "id": "3fb6c886"
      },
      "source": [
        "The full text of [Step Sankey](https://doc.retentioneering.com/stable/doc/user_guides/step_sankey.html) user guide is available on the retentioneering website."
      ]
    },
    {
      "cell_type": "markdown",
      "source": [
        "Задача:\n",
        "Для обеспечения потребности на распределительный центр на 49 неделю (номер недели ISO) заказали различные товары. По определенным причинам весь запланированный товар не был доставлен на плановой неделе. В таблице на листе \"таблица тест 3\" данные по заказам, с которыми возникли проблемы. На любой BI-платформе (PowerBI Desktop, Tableu, Yandex DataLens или другая) постройте диаграмму Sankey с потоками объемов товаров не поставленных на 49 плановой неделе на распределительный центр. При необходимости провести дополнительные вычисления допустимо в Excel. Измерениями Sankey-диаграммы должны стать столбцы \"Проблема\", \"Группа проблем\" и \"Ответственный департамент\". При выполнении стоит учесть, что диаграмма может быть продемонстрирована на собрании директору организации. Результат приложите в виде файла, экспортированного из BI-системы."
      ],
      "metadata": {
        "id": "wEIDzd3364pq"
      },
      "id": "wEIDzd3364pq"
    },
    {
      "cell_type": "code",
      "execution_count": null,
      "id": "ASxlM__w-OEQ",
      "metadata": {
        "id": "ASxlM__w-OEQ",
        "pycharm": {
          "is_executing": true
        }
      },
      "outputs": [],
      "source": [
        "!pip install retentioneering\n",
        "# Установка библиотеки retentioneering"
      ]
    },
    {
      "cell_type": "code",
      "source": [
        "import seaborn as sns\n",
        "import pandas as pd\n",
        "import numpy as np\n",
        "import matplotlib\n",
        "from IPython.display import display, HTML\n",
        "import matplotlib.pyplot as plt\n",
        "import retentioneering\n",
        "from retentioneering import datasets\n",
        "import matplotlib.pyplot as plt\n",
        "from retentioneering.eventstream import Eventstream"
      ],
      "metadata": {
        "id": "hgjWI3Ls0iy7"
      },
      "id": "hgjWI3Ls0iy7",
      "execution_count": 1,
      "outputs": []
    },
    {
      "cell_type": "code",
      "source": [
        "! gdown --id 1WrYjFIX62_q62O-vB76gWOVq696F6CIX\n",
        "# Загружаем эксель файл"
      ],
      "metadata": {
        "id": "uNs7HUqTz4j6"
      },
      "id": "uNs7HUqTz4j6",
      "execution_count": null,
      "outputs": []
    },
    {
      "cell_type": "code",
      "source": [
        "proba = pd.read_excel('/content/Тестовые задания.xlsx', sheet_name='таблица тест 3')\n",
        "# Читаем"
      ],
      "metadata": {
        "id": "noKrKp580PDq"
      },
      "id": "noKrKp580PDq",
      "execution_count": 5,
      "outputs": []
    },
    {
      "cell_type": "code",
      "source": [
        "proba.columns = ['orders_id', 'date_plan',\n",
        "       'date_fact', 'good_id', 'amount_ordered',\n",
        "       'amount_accepted', 'problem', 'group_problem',\n",
        "       'depatment']\n",
        "# Переименовываем"
      ],
      "metadata": {
        "id": "_pNjEmqm4GQL"
      },
      "id": "_pNjEmqm4GQL",
      "execution_count": 6,
      "outputs": []
    },
    {
      "cell_type": "code",
      "source": [
        "proba['underloading'] = proba['amount_ordered'] - proba['amount_accepted']\n",
        "# Создаём расчетное поле недогруз"
      ],
      "metadata": {
        "id": "dmGo8YYf4snM"
      },
      "id": "dmGo8YYf4snM",
      "execution_count": 7,
      "outputs": []
    },
    {
      "cell_type": "code",
      "source": [
        "proba.date_fact = pd.to_datetime(proba['date_fact'], format='%Y-%M-%D')\n",
        "# Переводим в формат даты"
      ],
      "metadata": {
        "id": "jrph_pqdMhI4"
      },
      "id": "jrph_pqdMhI4",
      "execution_count": 8,
      "outputs": []
    },
    {
      "cell_type": "code",
      "source": [
        "proba.insert(3, \"date_fact_week\", proba['date_fact'].dt.week)\n",
        "# Вставляем поле с номером недели в датасет"
      ],
      "metadata": {
        "colab": {
          "base_uri": "https://localhost:8080/"
        },
        "id": "9rLkKiCwJ0KJ",
        "outputId": "14a5d191-c875-4ed1-e4d7-db0bd1f93681"
      },
      "id": "9rLkKiCwJ0KJ",
      "execution_count": 9,
      "outputs": [
        {
          "output_type": "stream",
          "name": "stderr",
          "text": [
            "<ipython-input-9-8dde8d61e871>:1: FutureWarning: Series.dt.weekofyear and Series.dt.week have been deprecated. Please use Series.dt.isocalendar().week instead.\n",
            "  proba.insert(3, \"date_fact_week\", proba['date_fact'].dt.week)\n"
          ]
        }
      ]
    },
    {
      "cell_type": "code",
      "source": [
        "proba = proba[proba['date_fact_week'] == 49].sort_values(by='problem')\n",
        "# Сортируем по 49 неделе"
      ],
      "metadata": {
        "id": "WuT67v-pIQdq"
      },
      "id": "WuT67v-pIQdq",
      "execution_count": 10,
      "outputs": []
    },
    {
      "cell_type": "code",
      "source": [
        "proba.problem = proba.problem.str.replace('Проблемы с качеством товара', 'Качество')\n",
        "# Готов"
      ],
      "metadata": {
        "id": "oMFclhwdP2z5"
      },
      "id": "oMFclhwdP2z5",
      "execution_count": 11,
      "outputs": []
    },
    {
      "cell_type": "code",
      "source": [
        "proba = proba[['orders_id','date_fact','problem', 'group_problem', 'depatment','underloading']]\n",
        "part1 = proba[['orders_id','date_fact','problem']]\n",
        "part1.columns = ['orders_id', 'date_fact', 'event_name']\n",
        "part2 = proba[['orders_id','date_fact','group_problem']]\n",
        "part2.columns = ['orders_id', 'date_fact', 'event_name']\n",
        "part3 = proba[['orders_id','date_fact','depatment']]\n",
        "part3.columns = ['orders_id', 'date_fact', 'event_name']\n",
        "proba4 = pd.concat([part1,part2,part3])"
      ],
      "metadata": {
        "id": "ChozrCDwAKgH"
      },
      "id": "ChozrCDwAKgH",
      "execution_count": 12,
      "outputs": []
    },
    {
      "cell_type": "code",
      "source": [
        "# Создаём схему ключей инвентов для потока\n",
        "raw_data_schema = {\n",
        "    'user_id': 'orders_id',\n",
        "    'event_name': 'event_name',\n",
        "    'event_timestamp': 'date_fact'\n",
        "    }\n",
        "\n",
        "# Загружаем в конструктор потока.\n",
        "stream_proba = Eventstream(proba4, raw_data_schema=raw_data_schema)\n"
      ],
      "metadata": {
        "id": "vJaM6dkfjNCv"
      },
      "id": "vJaM6dkfjNCv",
      "execution_count": 13,
      "outputs": []
    },
    {
      "cell_type": "code",
      "source": [
        "stream_proba.step_sankey(max_steps=5);\n",
        "# @title Создаём диаграмму Санкей"
      ],
      "metadata": {
        "colab": {
          "base_uri": "https://localhost:8080/",
          "height": 542
        },
        "id": "A_kDmhrukMX4",
        "outputId": "78e07fe6-18b4-4a10-8a27-e87d44261298"
      },
      "id": "A_kDmhrukMX4",
      "execution_count": 14,
      "outputs": [
        {
          "output_type": "display_data",
          "data": {
            "text/html": [
              "<html>\n",
              "<head><meta charset=\"utf-8\" /></head>\n",
              "<body>\n",
              "    <div>            <script src=\"https://cdnjs.cloudflare.com/ajax/libs/mathjax/2.7.5/MathJax.js?config=TeX-AMS-MML_SVG\"></script><script type=\"text/javascript\">if (window.MathJax && window.MathJax.Hub && window.MathJax.Hub.Config) {window.MathJax.Hub.Config({SVG: {font: \"STIX-Web\"}});}</script>                <script type=\"text/javascript\">window.PlotlyConfig = {MathJaxConfig: 'local'};</script>\n",
              "        <script charset=\"utf-8\" src=\"https://cdn.plot.ly/plotly-2.35.2.min.js\"></script>                <div id=\"62ffc6f5-f931-4624-98ba-fd9c1f06df33\" class=\"plotly-graph-div\" style=\"height:525px; width:100%;\"></div>            <script type=\"text/javascript\">                                    window.PLOTLYENV=window.PLOTLYENV || {};                                    if (document.getElementById(\"62ffc6f5-f931-4624-98ba-fd9c1f06df33\")) {                    Plotly.newPlot(                        \"62ffc6f5-f931-4624-98ba-fd9c1f06df33\",                        [{\"arrangement\":\"snap\",\"link\":{\"hovertemplate\":\"%{value} unique users went from %{source.label} to %{target.label}.\\u003cbr \\u002f\\u003e\\u003cbr \\u002f\\u003eIt took them %{label} in average.\\u003cextra\\u003e\\u003c\\u002fextra\\u003e\",\"label\":[\"0 days 00:00:00\",\"0 days 00:00:00\",\"0 days 00:00:00\",\"0 days 00:00:00\",\"0 days 00:00:00\",\"0 days 00:00:00\",\"0 days 00:00:00\",\"0 days 00:00:00\",\"0 days 00:00:00\",\"0 days 00:00:00\",\"0 days 00:00:00\",\"0 days 00:00:00\",\"0 days 00:00:00\",\"0 days 00:00:00\"],\"source\":[0,0,0,0,1,2,3,4,5,5,6,7,8,9],\"target\":[1,2,3,4,6,5,5,5,7,9,8,10,10,10],\"value\":[3,2,1,1,3,2,1,1,3,1,3,3,3,1]},\"node\":{\"color\":[\"rgb(80, 190, 151)\",\"rgb(228, 101, 92)\",\"rgb(252, 200, 101)\",\"rgb(191, 214, 222)\",\"rgb(62, 80, 102)\",\"rgb(230, 230, 230)\",\"rgb(53, 58, 62)\",\"rgb(221, 132, 82)\",\"rgb(76, 114, 176)\",\"rgb(85, 168, 104)\",\"rgb(196, 78, 82)\"],\"customdata\":[100.0,42.86,28.57,14.29,14.29,57.14,42.86,42.86,42.86,14.29,100.0],\"hovertemplate\":\"Total unique users: %{value} (%{customdata}% of total)\\u003cextra\\u003e\\u003c\\u002fextra\\u003e\",\"label\":[\"path_start\",\"Недоотгрузка поставщиком\",\"Качество (гниение)\",\"Качество (нарушение температурного режима)\",\"Качество (срок годности)\",\"Качество товара\",\"Проблемы на стороне поставщика\",\"Департамент качества\",\"Департамент по работе с поставщиками\",\"Департамент логистики\",\"ENDED\"],\"line\":{\"color\":\"black\",\"width\":0.5},\"pad\":20,\"thickness\":15,\"x\":[0.05,0.27,0.27,0.27,0.27,0.5,0.5,0.72,0.72,0.72,0.95],\"y\":[0.05,0.05,0.35,0.61,0.95,0.05,0.95,0.05,0.5,0.95,0.05]},\"type\":\"sankey\"}],                        {\"template\":{\"data\":{\"histogram2dcontour\":[{\"type\":\"histogram2dcontour\",\"colorbar\":{\"outlinewidth\":0,\"ticks\":\"\"},\"colorscale\":[[0.0,\"#0d0887\"],[0.1111111111111111,\"#46039f\"],[0.2222222222222222,\"#7201a8\"],[0.3333333333333333,\"#9c179e\"],[0.4444444444444444,\"#bd3786\"],[0.5555555555555556,\"#d8576b\"],[0.6666666666666666,\"#ed7953\"],[0.7777777777777778,\"#fb9f3a\"],[0.8888888888888888,\"#fdca26\"],[1.0,\"#f0f921\"]]}],\"choropleth\":[{\"type\":\"choropleth\",\"colorbar\":{\"outlinewidth\":0,\"ticks\":\"\"}}],\"histogram2d\":[{\"type\":\"histogram2d\",\"colorbar\":{\"outlinewidth\":0,\"ticks\":\"\"},\"colorscale\":[[0.0,\"#0d0887\"],[0.1111111111111111,\"#46039f\"],[0.2222222222222222,\"#7201a8\"],[0.3333333333333333,\"#9c179e\"],[0.4444444444444444,\"#bd3786\"],[0.5555555555555556,\"#d8576b\"],[0.6666666666666666,\"#ed7953\"],[0.7777777777777778,\"#fb9f3a\"],[0.8888888888888888,\"#fdca26\"],[1.0,\"#f0f921\"]]}],\"heatmap\":[{\"type\":\"heatmap\",\"colorbar\":{\"outlinewidth\":0,\"ticks\":\"\"},\"colorscale\":[[0.0,\"#0d0887\"],[0.1111111111111111,\"#46039f\"],[0.2222222222222222,\"#7201a8\"],[0.3333333333333333,\"#9c179e\"],[0.4444444444444444,\"#bd3786\"],[0.5555555555555556,\"#d8576b\"],[0.6666666666666666,\"#ed7953\"],[0.7777777777777778,\"#fb9f3a\"],[0.8888888888888888,\"#fdca26\"],[1.0,\"#f0f921\"]]}],\"heatmapgl\":[{\"type\":\"heatmapgl\",\"colorbar\":{\"outlinewidth\":0,\"ticks\":\"\"},\"colorscale\":[[0.0,\"#0d0887\"],[0.1111111111111111,\"#46039f\"],[0.2222222222222222,\"#7201a8\"],[0.3333333333333333,\"#9c179e\"],[0.4444444444444444,\"#bd3786\"],[0.5555555555555556,\"#d8576b\"],[0.6666666666666666,\"#ed7953\"],[0.7777777777777778,\"#fb9f3a\"],[0.8888888888888888,\"#fdca26\"],[1.0,\"#f0f921\"]]}],\"contourcarpet\":[{\"type\":\"contourcarpet\",\"colorbar\":{\"outlinewidth\":0,\"ticks\":\"\"}}],\"contour\":[{\"type\":\"contour\",\"colorbar\":{\"outlinewidth\":0,\"ticks\":\"\"},\"colorscale\":[[0.0,\"#0d0887\"],[0.1111111111111111,\"#46039f\"],[0.2222222222222222,\"#7201a8\"],[0.3333333333333333,\"#9c179e\"],[0.4444444444444444,\"#bd3786\"],[0.5555555555555556,\"#d8576b\"],[0.6666666666666666,\"#ed7953\"],[0.7777777777777778,\"#fb9f3a\"],[0.8888888888888888,\"#fdca26\"],[1.0,\"#f0f921\"]]}],\"surface\":[{\"type\":\"surface\",\"colorbar\":{\"outlinewidth\":0,\"ticks\":\"\"},\"colorscale\":[[0.0,\"#0d0887\"],[0.1111111111111111,\"#46039f\"],[0.2222222222222222,\"#7201a8\"],[0.3333333333333333,\"#9c179e\"],[0.4444444444444444,\"#bd3786\"],[0.5555555555555556,\"#d8576b\"],[0.6666666666666666,\"#ed7953\"],[0.7777777777777778,\"#fb9f3a\"],[0.8888888888888888,\"#fdca26\"],[1.0,\"#f0f921\"]]}],\"mesh3d\":[{\"type\":\"mesh3d\",\"colorbar\":{\"outlinewidth\":0,\"ticks\":\"\"}}],\"scatter\":[{\"fillpattern\":{\"fillmode\":\"overlay\",\"size\":10,\"solidity\":0.2},\"type\":\"scatter\"}],\"parcoords\":[{\"type\":\"parcoords\",\"line\":{\"colorbar\":{\"outlinewidth\":0,\"ticks\":\"\"}}}],\"scatterpolargl\":[{\"type\":\"scatterpolargl\",\"marker\":{\"colorbar\":{\"outlinewidth\":0,\"ticks\":\"\"}}}],\"bar\":[{\"error_x\":{\"color\":\"#2a3f5f\"},\"error_y\":{\"color\":\"#2a3f5f\"},\"marker\":{\"line\":{\"color\":\"#E5ECF6\",\"width\":0.5},\"pattern\":{\"fillmode\":\"overlay\",\"size\":10,\"solidity\":0.2}},\"type\":\"bar\"}],\"scattergeo\":[{\"type\":\"scattergeo\",\"marker\":{\"colorbar\":{\"outlinewidth\":0,\"ticks\":\"\"}}}],\"scatterpolar\":[{\"type\":\"scatterpolar\",\"marker\":{\"colorbar\":{\"outlinewidth\":0,\"ticks\":\"\"}}}],\"histogram\":[{\"marker\":{\"pattern\":{\"fillmode\":\"overlay\",\"size\":10,\"solidity\":0.2}},\"type\":\"histogram\"}],\"scattergl\":[{\"type\":\"scattergl\",\"marker\":{\"colorbar\":{\"outlinewidth\":0,\"ticks\":\"\"}}}],\"scatter3d\":[{\"type\":\"scatter3d\",\"line\":{\"colorbar\":{\"outlinewidth\":0,\"ticks\":\"\"}},\"marker\":{\"colorbar\":{\"outlinewidth\":0,\"ticks\":\"\"}}}],\"scattermapbox\":[{\"type\":\"scattermapbox\",\"marker\":{\"colorbar\":{\"outlinewidth\":0,\"ticks\":\"\"}}}],\"scatterternary\":[{\"type\":\"scatterternary\",\"marker\":{\"colorbar\":{\"outlinewidth\":0,\"ticks\":\"\"}}}],\"scattercarpet\":[{\"type\":\"scattercarpet\",\"marker\":{\"colorbar\":{\"outlinewidth\":0,\"ticks\":\"\"}}}],\"carpet\":[{\"aaxis\":{\"endlinecolor\":\"#2a3f5f\",\"gridcolor\":\"white\",\"linecolor\":\"white\",\"minorgridcolor\":\"white\",\"startlinecolor\":\"#2a3f5f\"},\"baxis\":{\"endlinecolor\":\"#2a3f5f\",\"gridcolor\":\"white\",\"linecolor\":\"white\",\"minorgridcolor\":\"white\",\"startlinecolor\":\"#2a3f5f\"},\"type\":\"carpet\"}],\"table\":[{\"cells\":{\"fill\":{\"color\":\"#EBF0F8\"},\"line\":{\"color\":\"white\"}},\"header\":{\"fill\":{\"color\":\"#C8D4E3\"},\"line\":{\"color\":\"white\"}},\"type\":\"table\"}],\"barpolar\":[{\"marker\":{\"line\":{\"color\":\"#E5ECF6\",\"width\":0.5},\"pattern\":{\"fillmode\":\"overlay\",\"size\":10,\"solidity\":0.2}},\"type\":\"barpolar\"}],\"pie\":[{\"automargin\":true,\"type\":\"pie\"}]},\"layout\":{\"autotypenumbers\":\"strict\",\"colorway\":[\"#636efa\",\"#EF553B\",\"#00cc96\",\"#ab63fa\",\"#FFA15A\",\"#19d3f3\",\"#FF6692\",\"#B6E880\",\"#FF97FF\",\"#FECB52\"],\"font\":{\"color\":\"#2a3f5f\"},\"hovermode\":\"closest\",\"hoverlabel\":{\"align\":\"left\"},\"paper_bgcolor\":\"white\",\"plot_bgcolor\":\"#E5ECF6\",\"polar\":{\"bgcolor\":\"#E5ECF6\",\"angularaxis\":{\"gridcolor\":\"white\",\"linecolor\":\"white\",\"ticks\":\"\"},\"radialaxis\":{\"gridcolor\":\"white\",\"linecolor\":\"white\",\"ticks\":\"\"}},\"ternary\":{\"bgcolor\":\"#E5ECF6\",\"aaxis\":{\"gridcolor\":\"white\",\"linecolor\":\"white\",\"ticks\":\"\"},\"baxis\":{\"gridcolor\":\"white\",\"linecolor\":\"white\",\"ticks\":\"\"},\"caxis\":{\"gridcolor\":\"white\",\"linecolor\":\"white\",\"ticks\":\"\"}},\"coloraxis\":{\"colorbar\":{\"outlinewidth\":0,\"ticks\":\"\"}},\"colorscale\":{\"sequential\":[[0.0,\"#0d0887\"],[0.1111111111111111,\"#46039f\"],[0.2222222222222222,\"#7201a8\"],[0.3333333333333333,\"#9c179e\"],[0.4444444444444444,\"#bd3786\"],[0.5555555555555556,\"#d8576b\"],[0.6666666666666666,\"#ed7953\"],[0.7777777777777778,\"#fb9f3a\"],[0.8888888888888888,\"#fdca26\"],[1.0,\"#f0f921\"]],\"sequentialminus\":[[0.0,\"#0d0887\"],[0.1111111111111111,\"#46039f\"],[0.2222222222222222,\"#7201a8\"],[0.3333333333333333,\"#9c179e\"],[0.4444444444444444,\"#bd3786\"],[0.5555555555555556,\"#d8576b\"],[0.6666666666666666,\"#ed7953\"],[0.7777777777777778,\"#fb9f3a\"],[0.8888888888888888,\"#fdca26\"],[1.0,\"#f0f921\"]],\"diverging\":[[0,\"#8e0152\"],[0.1,\"#c51b7d\"],[0.2,\"#de77ae\"],[0.3,\"#f1b6da\"],[0.4,\"#fde0ef\"],[0.5,\"#f7f7f7\"],[0.6,\"#e6f5d0\"],[0.7,\"#b8e186\"],[0.8,\"#7fbc41\"],[0.9,\"#4d9221\"],[1,\"#276419\"]]},\"xaxis\":{\"gridcolor\":\"white\",\"linecolor\":\"white\",\"ticks\":\"\",\"title\":{\"standoff\":15},\"zerolinecolor\":\"white\",\"automargin\":true,\"zerolinewidth\":2},\"yaxis\":{\"gridcolor\":\"white\",\"linecolor\":\"white\",\"ticks\":\"\",\"title\":{\"standoff\":15},\"zerolinecolor\":\"white\",\"automargin\":true,\"zerolinewidth\":2},\"scene\":{\"xaxis\":{\"backgroundcolor\":\"#E5ECF6\",\"gridcolor\":\"white\",\"linecolor\":\"white\",\"showbackground\":true,\"ticks\":\"\",\"zerolinecolor\":\"white\",\"gridwidth\":2},\"yaxis\":{\"backgroundcolor\":\"#E5ECF6\",\"gridcolor\":\"white\",\"linecolor\":\"white\",\"showbackground\":true,\"ticks\":\"\",\"zerolinecolor\":\"white\",\"gridwidth\":2},\"zaxis\":{\"backgroundcolor\":\"#E5ECF6\",\"gridcolor\":\"white\",\"linecolor\":\"white\",\"showbackground\":true,\"ticks\":\"\",\"zerolinecolor\":\"white\",\"gridwidth\":2}},\"shapedefaults\":{\"line\":{\"color\":\"#2a3f5f\"}},\"annotationdefaults\":{\"arrowcolor\":\"#2a3f5f\",\"arrowhead\":0,\"arrowwidth\":1},\"geo\":{\"bgcolor\":\"white\",\"landcolor\":\"#E5ECF6\",\"subunitcolor\":\"white\",\"showland\":true,\"showlakes\":true,\"lakecolor\":\"white\"},\"title\":{\"x\":0.05},\"mapbox\":{\"style\":\"light\"}}},\"font\":{\"size\":15},\"plot_bgcolor\":\"white\",\"autosize\":true},                        {\"responsive\": true}                    ).then(function(){\n",
              "                            \n",
              "var gd = document.getElementById('62ffc6f5-f931-4624-98ba-fd9c1f06df33');\n",
              "var x = new MutationObserver(function (mutations, observer) {{\n",
              "        var display = window.getComputedStyle(gd).display;\n",
              "        if (!display || display === 'none') {{\n",
              "            console.log([gd, 'removed!']);\n",
              "            Plotly.purge(gd);\n",
              "            observer.disconnect();\n",
              "        }}\n",
              "}});\n",
              "\n",
              "// Listen for the removal of the full notebook cells\n",
              "var notebookContainer = gd.closest('#notebook-container');\n",
              "if (notebookContainer) {{\n",
              "    x.observe(notebookContainer, {childList: true});\n",
              "}}\n",
              "\n",
              "// Listen for the clearing of the current output cell\n",
              "var outputEl = gd.closest('.output');\n",
              "if (outputEl) {{\n",
              "    x.observe(outputEl, {childList: true});\n",
              "}}\n",
              "\n",
              "                        })                };                            </script>        </div>\n",
              "</body>\n",
              "</html>"
            ]
          },
          "metadata": {}
        }
      ]
    },
    {
      "cell_type": "code",
      "source": [
        "# stream_proba.to_dataframe()"
      ],
      "metadata": {
        "id": "RIMVodijsNzm"
      },
      "id": "RIMVodijsNzm",
      "execution_count": 15,
      "outputs": []
    },
    {
      "cell_type": "code",
      "source": [
        "# stream_proba\\\n",
        "#     .step_sankey(show_plot=False)\\\n",
        "#     .values[0]"
      ],
      "metadata": {
        "id": "sSDDZg_dE_9d"
      },
      "id": "sSDDZg_dE_9d",
      "execution_count": 16,
      "outputs": []
    }
  ],
  "metadata": {
    "colab": {
      "provenance": [],
      "include_colab_link": true
    },
    "kernelspec": {
      "display_name": "Python 3",
      "language": "python",
      "name": "python3"
    },
    "language_info": {
      "codemirror_mode": {
        "name": "ipython",
        "version": 3
      },
      "file_extension": ".py",
      "mimetype": "text/x-python",
      "name": "python",
      "nbconvert_exporter": "python",
      "pygments_lexer": "ipython3",
      "version": "3.8.15"
    }
  },
  "nbformat": 4,
  "nbformat_minor": 5
}