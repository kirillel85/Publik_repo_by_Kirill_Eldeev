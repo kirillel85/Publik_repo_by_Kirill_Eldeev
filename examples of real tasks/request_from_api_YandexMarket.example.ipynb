{
  "nbformat": 4,
  "nbformat_minor": 0,
  "metadata": {
    "colab": {
      "provenance": []
    },
    "kernelspec": {
      "name": "python3",
      "display_name": "Python 3"
    },
    "language_info": {
      "name": "python"
    }
  },
  "cells": [
    {
      "cell_type": "markdown",
      "source": [
        "\n",
        "## Отчет по реализации\n",
        "\n",
        "https://yandex.ru/dev/market/partner-api/doc/ru/reference/reports/generateGoodsRealizationReport"
      ],
      "metadata": {
        "id": "3BnPEa7_RJYc"
      }
    },
    {
      "cell_type": "code",
      "source": [
        "import requests as req\n",
        "import pandas as pd\n",
        "import matplotlib\n",
        "import json\n",
        "import time\n",
        "from datetime import datetime"
      ],
      "metadata": {
        "id": "hF3RV3-AhcAE"
      },
      "execution_count": null,
      "outputs": []
    },
    {
      "cell_type": "code",
      "source": [
        "from google.colab import drive\n",
        "drive.mount('/content/gdrive')\n",
        "# Монтирую образ GOOGLE DRIVE"
      ],
      "metadata": {
        "id": "rAlWxf-Xv5Xy"
      },
      "execution_count": null,
      "outputs": []
    },
    {
      "cell_type": "code",
      "source": [
        "time.sleep(60)"
      ],
      "metadata": {
        "id": "eYbsqTRug7WV"
      },
      "execution_count": null,
      "outputs": []
    },
    {
      "cell_type": "code",
      "source": [
        "! cp /content/gdrive/MyDrive/1_pet_project/colab_notebooks/tokens_ym.txt /content/tokens_ym\n",
        "# # Копируем файл с токенами из образа моего GOOGLE DRIVE во временый сервер ноутбука"
      ],
      "metadata": {
        "id": "zAx2elJyiB5E"
      },
      "execution_count": null,
      "outputs": []
    },
    {
      "cell_type": "code",
      "source": [
        "time.sleep(20)"
      ],
      "metadata": {
        "id": "jZdf6gAp7tYL"
      },
      "execution_count": null,
      "outputs": []
    },
    {
      "cell_type": "code",
      "source": [
        "# Читаем файл с токенами\n",
        "with open('/content/tokens_ym', 'r') as api_key_dct:\n",
        "    api_key_list = json.load(api_key_dct)\n",
        "\n",
        "# type(api_key_list)\n",
        "# Всё хорошо. Даёт список словарей"
      ],
      "metadata": {
        "id": "qmAU7Lc8sVMS"
      },
      "execution_count": null,
      "outputs": []
    },
    {
      "cell_type": "code",
      "source": [
        "api_key_list"
      ],
      "metadata": {
        "id": "0MLsRe6kIB7j"
      },
      "execution_count": null,
      "outputs": []
    },
    {
      "cell_type": "code",
      "source": [
        "# @title Формирование запроса на получение отчета о реализации и получение ключа доступа к отчету\n",
        "\n",
        "\n",
        "# Назначаю функцию которая мне в цикле изменит лист на словарь в каждой итеррации\n",
        "def convert_to_dict(my_list):\n",
        "    convert_dict = {}\n",
        "    for i in range(0, len(my_list), 2):\n",
        "        convert_dict[my_list[i]] = my_list[i + 1]\n",
        "    return convert_dict"
      ],
      "metadata": {
        "id": "HlumJpY_7nwV"
      },
      "execution_count": null,
      "outputs": []
    },
    {
      "cell_type": "code",
      "source": [
        "# Создаю цикл в котором проходим по каждому кабинету и вставляем в реквест campaignId\n",
        "sheet_with_keys_for_reports = []\n",
        "\n",
        "for item in api_key_list:\n",
        "  campaignId = item['campaign_id']\n",
        "  api_key = item['api_key']\n",
        "  year = datetime.now().year\n",
        "  month = datetime.now().month - 1   # за прошлый месяц\n",
        "\n",
        "  # POST Запрос на получение ключей доступа к отчетам\n",
        "  body = {\"campaignId\": campaignId, \"year\": year, \"month\" : month}\n",
        "  url = 'https://api.partner.market.yandex.ru/reports/goods-realization/generate'\n",
        "  api_key_dict = {'Api-Key': api_key}\n",
        "  response = req.post(url=url, headers=api_key_dict, json=body)\n",
        "\n",
        "  if response.json()['status'] == \"OK\":\n",
        "\n",
        "    # Если статус ответа ОК, то добавляем к списку апи ключ от кабинета и ключ для доступа к отчету и брэнд:\n",
        "    iterrable_string = [response.json()['result']['reportId'], [api_key, item['brand']]]\n",
        "\n",
        "    dict_with_keys = convert_to_dict(iterrable_string)  # Конвертируем в словарь\n",
        "\n",
        "    # Добавляем словари в список словарей\n",
        "    sheet_with_keys_for_reports.append(dict_with_keys)\n",
        "    print(item['client'], item['brand'], \"Status\", response.json()['status'], sep='  -  ', end='\\n')\n",
        "\n",
        "  else:\n",
        "    print('----------------------------------------------------------------------------')\n",
        "    print('ВНИМАНИЕ!!! Данные по кабинету {a} и брэнду {b} : не загрузились и отсутствуют в списке sheet_with_keys_for_reports'.format(a=item['client'], b=item['brand']))"
      ],
      "metadata": {
        "id": "W_5lFQfwtQ36"
      },
      "execution_count": null,
      "outputs": []
    },
    {
      "cell_type": "code",
      "source": [
        "# response.json()"
      ],
      "metadata": {
        "id": "Lex5b-7ZoppJ"
      },
      "execution_count": null,
      "outputs": []
    },
    {
      "cell_type": "code",
      "source": [
        "# sheet_with_keys_for_reports"
      ],
      "metadata": {
        "id": "QQGzLwsOuLiA"
      },
      "execution_count": null,
      "outputs": []
    },
    {
      "cell_type": "code",
      "source": [
        "# @title Блок для отладки отдельных кабинетов\n",
        "# campaignId = --------\n",
        "# year = datetime.now().year\n",
        "# month = datetime.now().month - 3   # за прошлый месяц\n",
        "# body = {\"campaignId\": campaignId, \"year\": year, \"month\" : month}\n",
        "# url = 'https://api.partner.market.yandex.ru/reports/goods-realization/generate'\n",
        "# api_Key = {'Api-Key': '-------------'}\n",
        "# response = req.post(url=url, headers=api_Key, json=body)\n",
        "# reportId = response.json()['result']['reportId']\n",
        "# reportId"
      ],
      "metadata": {
        "id": "QmfggIeZDLFM"
      },
      "execution_count": null,
      "outputs": []
    },
    {
      "cell_type": "code",
      "source": [
        "# # Для отладки отдельных кабинетов\n",
        "# url = f'https://api.partner.market.yandex.ru/reports/info/{reportId}'\n",
        "# headers = {'Api-Key': '-------'} # Создаём словарь для тела запроса\n",
        "\n",
        "# # Запрашиваем\n",
        "# realization_report = req.get(url=url, headers=headers)\n",
        "# realization_report.json()"
      ],
      "metadata": {
        "id": "aXl4Vny3Xg_t"
      },
      "execution_count": null,
      "outputs": []
    },
    {
      "cell_type": "code",
      "source": [
        "# @title Ожидаем пока сформируются отчеты\n",
        "print(\"Жду 2 мин\")\n",
        "time.sleep(120)\n",
        "print(\"Загружаю\")"
      ],
      "metadata": {
        "id": "39WV_YxuLxTm"
      },
      "execution_count": null,
      "outputs": []
    },
    {
      "cell_type": "code",
      "source": [
        "# @title Запрос и получение отчета о реализации по ключу.\n",
        "realization_report_links_list = []\n",
        "for i in sheet_with_keys_for_reports:\n",
        "  for key_for_reports, api in i.items():\n",
        "\n",
        "    # Данные для GET запроса\n",
        "    # reportId = list(key_for_reports)[0]  # Узнаём метку ключа словаря и передаём её в переменную reportId. Первый вариант кода без метода items()\n",
        "    reportId = key_for_reports # Узнаём метку ключа словаря и передаём её в переменную reportId через метод .items()\n",
        "    url = f'https://api.partner.market.yandex.ru/reports/info/{reportId}'\n",
        "\n",
        "    api_token = api[0] # Из итеррируемого словаря в этом цикле берем значение по ключу словаря, который также является и ключём к отчету\n",
        "    brand = api[1]\n",
        "    # print(key_for_reports, api_token, brand)\n",
        "    headers = {'Api-Key': api_token} # Создаём словарь для тела запроса\n",
        "\n",
        "    # Запрашиваем\n",
        "    realization_report = req.get(url=url, headers=headers)\n",
        "\n",
        "    if 'file' in realization_report.json()['result']: # Если ключ 'file' содержиться в словаре realization_report.json()['result'] то:\n",
        "      print(brand,':  ', realization_report.json()['result']['file'])\n",
        "      realization_report_links_list.append(realization_report.json()['result']['file'])\n",
        "    else:\n",
        "      print(brand,':  ', 'Нет продаж', realization_report.json()['result'])\n"
      ],
      "metadata": {
        "id": "LABy-sq09v5X"
      },
      "execution_count": null,
      "outputs": []
    },
    {
      "cell_type": "code",
      "source": [
        "# # Проба работы метода .items()\n",
        "# for i in sheet_with_keys_for_reports:\n",
        "#   for k, v in i.items():\n",
        "#     print(k)\n",
        "#     print('          ')\n",
        "#     print(v[0])\n",
        "#     print('         ')\n",
        "#     print(v[1])\n",
        "#     print('----------')\n",
        "#     print('----------')"
      ],
      "metadata": {
        "id": "eUk3cWtrvIZo"
      },
      "execution_count": null,
      "outputs": []
    },
    {
      "cell_type": "code",
      "source": [
        "# dct = {'a': 1, 'b': 2, 'c': 3}\n",
        "# 'a' in dct\n",
        "# Способ проверки значения в словаре"
      ],
      "metadata": {
        "id": "rCGdk6gJ8i5V"
      },
      "execution_count": null,
      "outputs": []
    },
    {
      "cell_type": "code",
      "source": [
        "# realization_report_links_list"
      ],
      "metadata": {
        "id": "CdPMfN0G9eXF"
      },
      "execution_count": null,
      "outputs": []
    },
    {
      "cell_type": "code",
      "source": [
        "# pd.read_excel(realization_report_links_list[0], skiprows=13,sheet_name='Товары, переданные в доставку')"
      ],
      "metadata": {
        "id": "y2Hq2HP8lyhp"
      },
      "execution_count": null,
      "outputs": []
    },
    {
      "cell_type": "code",
      "source": [
        "# @title Соединение в один отчет\n",
        "\n",
        "dataframes = []\n",
        "for i in range(len(realization_report_links_list)): # Проходим по списку ссылок на отчеты и загружаем каждый отчет. Предобрабатываем и обьединяем в цикле\n",
        "\n",
        "  # Создаём датафрейм в итерации цикла\n",
        "  dfn = pd.read_excel(realization_report_links_list[i],skiprows=13,sheet_name='Товары, переданные в доставку')  \\\n",
        "  .drop( # Дропаем ненужные поля\n",
        "       axis=1,\n",
        "       columns=['Регистрационный номер таможенной декларации или Регистрационный номер партии товара, подлежащего прослеживаемости (РНПТ)',\n",
        "           'Наименование организации', 'ИНН', 'КПП', 'Юридический адрес',\n",
        "           'Статус УПД', 'Дата УПД', 'Номер УПД', 'Дата товарной накладной',\n",
        "           'Номер товарной накладной', 'Дата счёта-фактуры', 'Номер счёта фактуры']) \\\n",
        "  .dropna(axis=0, thresh=10) # Убираем строку итого\n",
        "\n",
        "  dataframes.append(dfn) # Добавляем созданный в цикле датафрейм в список датафреймов\n",
        "  initial_dataframe = pd.concat(dataframes) # Соединяем список датафреймов в один датафрейм"
      ],
      "metadata": {
        "id": "bC3y88dOBaDk"
      },
      "execution_count": null,
      "outputs": []
    },
    {
      "cell_type": "markdown",
      "source": [
        "## Получили начальный датафрейм по всем кабинетам"
      ],
      "metadata": {
        "id": "jVNvE-FVBK1Z"
      }
    },
    {
      "cell_type": "code",
      "source": [
        "initial_dataframe.to_excel(f'/content/Товары переданные в доставку_{month}.{year}.xlsx', sheet_name='Товары, переданные в доставку')"
      ],
      "metadata": {
        "id": "H6N6sqT2-iTj"
      },
      "execution_count": null,
      "outputs": []
    },
    {
      "cell_type": "code",
      "source": [
        "# initial_dataframe.isna().sum()"
      ],
      "metadata": {
        "id": "L76vXv6d1e9V"
      },
      "execution_count": null,
      "outputs": []
    },
    {
      "cell_type": "code",
      "source": [
        "# otladka_df = dfn = pd.read_excel(realization_report_links_list[i],skiprows=13,sheet_name='Товары, переданные в доставку')  \\\n",
        "#   .drop( # Дропаем ненужные поля\n",
        "#        axis=1,\n",
        "#        columns=['Регистрационный номер таможенной декларации или Регистрационный номер партии товара, подлежащего прослеживаемости (РНПТ)',\n",
        "#            'Наименование организации', 'ИНН', 'КПП', 'Юридический адрес',\n",
        "#            'Статус УПД', 'Дата УПД', 'Номер УПД', 'Дата товарной накладной',\n",
        "#            'Номер товарной накладной', 'Дата счёта-фактуры', 'Номер счёта фактуры']) \\\n",
        "#   .dropna(axis=0, thresh=10) # Убираем строку итого\n"
      ],
      "metadata": {
        "id": "nKtgf05eGmni"
      },
      "execution_count": null,
      "outputs": []
    },
    {
      "cell_type": "code",
      "source": [
        "# otladka_df.head(15)"
      ],
      "metadata": {
        "id": "k1mVq3SkGuVg"
      },
      "execution_count": null,
      "outputs": []
    },
    {
      "cell_type": "code",
      "source": [],
      "metadata": {
        "id": "tqj2FNnyG80Q"
      },
      "execution_count": null,
      "outputs": []
    }
  ]
}