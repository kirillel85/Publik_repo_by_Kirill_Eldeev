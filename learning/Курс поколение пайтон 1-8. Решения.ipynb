{
 "cells": [
  {
   "cell_type": "code",
   "execution_count": null,
   "id": "0066a292-b710-4571-8703-6f3aea22a562",
   "metadata": {},
   "outputs": [],
   "source": [
    "# 4.2 10/16 пройдено. 11 шаг.\n",
    "\n",
    "x = int(input())\n",
    "\n",
    "if  -30 < x <= -2 or 7 < x <= 25:\n",
    "    print('Принадлежит')\n",
    "else: \n",
    "    print('Не принадлежит')"
   ]
  },
  {
   "cell_type": "code",
   "execution_count": null,
   "id": "d1550695-c56f-4cde-9750-91a8ab6e2f58",
   "metadata": {},
   "outputs": [],
   "source": [
    "# 4.2 11/16 пройдено. 12 шаг.\n",
    "\n",
    "x = int(input())\n",
    "\n",
    "if  (x % 7 == 0 or x % 17 == 0) and 999 < x < 10000:\n",
    "    print('YES')\n",
    "else: \n",
    "\n",
    "    print('NO')"
   ]
  },
  {
   "cell_type": "code",
   "execution_count": null,
   "id": "83fa4109-58bb-4cf6-bac3-bf25bb343949",
   "metadata": {},
   "outputs": [],
   "source": [
    "# 4.2 12/16 пройдено. 13 шаг.\n",
    "\n",
    "a, b, c = float(input()), float(input()), float(input())\n",
    "\n",
    "if  a + b > c and a + c > b and b + c > a:\n",
    "    print('YES')\n",
    "else: \n",
    "    print('NO')"
   ]
  },
  {
   "cell_type": "code",
   "execution_count": null,
   "id": "6b9a774c-0ac2-41a8-9d6d-5c2313c02cd9",
   "metadata": {},
   "outputs": [],
   "source": [
    "# 4.2 13/16 пройдено. 14 шаг. Високосный год\n",
    "\n",
    "x = int(input())\n",
    "\n",
    "if x % 4 == 0 and (x % 100 != 0 or x % 400 == 0):\n",
    "    print('YES')\n",
    "else: \n",
    "    print('NO')"
   ]
  },
  {
   "cell_type": "code",
   "execution_count": null,
   "id": "9466d490-2570-473a-b879-3797766d6cb4",
   "metadata": {},
   "outputs": [],
   "source": [
    "# 4.2 14/16 пройдено. 15 шаг. Шахматная доска аля таблица\n",
    "\n",
    "x1 = int(input()) # ось x\n",
    "y1 = int(input()) # ось y\n",
    "x2 = int(input()) \n",
    "y2 = int(input())\n",
    " \n",
    "if (x1 == x2 and y1 != y2) or ( x1 != x2 and y1 == y2):\n",
    "    print('YES')\n",
    "else: \n",
    "    print('NO')"
   ]
  },
  {
   "cell_type": "code",
   "execution_count": null,
   "id": "b9ecc0e3-f938-4717-a6f4-b2f810bebe21",
   "metadata": {},
   "outputs": [],
   "source": [
    "# 4.2 15/16 пройдено. 16 шаг. Шахматная доска \n",
    "# Ход короля 🌶️\n",
    "\n",
    "x1 = int(input()) # номер столбца\n",
    "y1 = int(input()) # номер строки\n",
    "x2 = int(input()) \n",
    "y2 = int(input())\n",
    "\n",
    "if (-1 <= x2 - x1 <= 1)  and (-1 <= y2 - y1 <= 1) :                                     \n",
    "    print('YES')\n",
    "else: \n",
    "    print('NO')\n"
   ]
  },
  {
   "cell_type": "code",
   "execution_count": null,
   "id": "01042f42-5995-4b2c-bf1e-613f23a40b8d",
   "metadata": {},
   "outputs": [],
   "source": [
    "# 4.3 2/11 пройдено. 3 шаг. Гонка спидстеров\n",
    "\n",
    "n = int(input()) # скорость зума\n",
    "k = int(input()) # скорость флэша\n",
    "\n",
    "if n < k:\n",
    "    print('YES')\n",
    "elif k < n:\n",
    "    print('NO')\n",
    "else:\n",
    "    print(\"Don't know\")\n",
    "\n"
   ]
  },
  {
   "cell_type": "code",
   "execution_count": null,
   "id": "0e944ac1-f50c-4415-b220-e8811ef8afc6",
   "metadata": {},
   "outputs": [],
   "source": [
    "# 4.3 3/11 пройдено. 4 шаг. Вид треугольника\n",
    "\n",
    "a = int(input())\n",
    "b = int(input())\n",
    "c = int(input())\n",
    "\n",
    "if a == b == c:\n",
    "    print('Равносторонний')\n",
    "elif a == b or b == c or c == a:\n",
    "    print('Равнобедренный')\n",
    "else:\n",
    "    print('Разносторонний')\n"
   ]
  },
  {
   "cell_type": "code",
   "execution_count": null,
   "id": "de524851-9ed8-47c7-9cfd-e930c516ba5a",
   "metadata": {},
   "outputs": [],
   "source": [
    "# 4.3 4/11 пройдено. 5 шаг. Серединное число\n",
    "\n",
    "a = int(input())\n",
    "b = int(input())\n",
    "c = int(input())\n",
    "\n",
    "if a < b < c or a > b > c :\n",
    "    print(b)\n",
    "elif a < c < b or a > c > b:\n",
    "    print(c)\n",
    "elif c < a < b or c > a > b:\n",
    "    print(a)\n",
    "\n",
    "# 4.3 4/11 Серединное число. Решение короче\n",
    "\n",
    "a = int(input())\n",
    "b = int(input())\n",
    "c = int(input())\n",
    "\n",
    "if a < b < c or a > b > c :\n",
    "    print(b)\n",
    "elif a < c < b or a > c > b:\n",
    "    print(c)\n",
    "else:\n",
    "    print(a)\n"
   ]
  },
  {
   "cell_type": "code",
   "execution_count": null,
   "id": "9a39e91a-a108-4c17-b955-f033a08c405e",
   "metadata": {},
   "outputs": [],
   "source": [
    "# 4.3 5/11 пройдено. 6 шаг. Количество дней\n",
    "a = int(input())\n",
    "\n",
    "if a == 2:\n",
    "    print(28)\n",
    "elif (1 <= a <= 7 and a % 2 == 0) or (7 < a <= 12 and a % 2 != 0):\n",
    "    print(30)\n",
    "else: \n",
    "    print(31)"
   ]
  },
  {
   "cell_type": "code",
   "execution_count": null,
   "id": "2ebc954f-6063-4aad-b627-283e52e9166c",
   "metadata": {},
   "outputs": [],
   "source": [
    "# 4.3 6/11 пройдено. 7 шаг. Церемония взвешивания\n",
    "a = int(input())\n",
    "\n",
    "if a < 60:\n",
    "    print('Легкий вес')\n",
    "elif a < 64:\n",
    "    print('Первый полусредний вес')\n",
    "elif a <= 68:\n",
    "    print('Полусредний вес')"
   ]
  },
  {
   "cell_type": "code",
   "execution_count": null,
   "id": "032f238e-9008-4ba4-88aa-d7bce2a3b9e0",
   "metadata": {},
   "outputs": [],
   "source": [
    "# 4.3 7/11 пройдено. 8 шаг. Церемония взвешивания\n",
    "# Самописный калькулятор 🌶️\n",
    "\n",
    "a = int(input())\n",
    "b = int(input())\n",
    "c = input()\n",
    "\n",
    "if c == '+':\n",
    "    print(a + b)\n",
    "elif c == '-':\n",
    "    print(a-b)\n",
    "elif c == '*':\n",
    "    print(a * b)\n",
    "elif b == 0 and c == '/':\n",
    "    print('На ноль делить нельзя!')\n",
    "elif c == '/':\n",
    "    print(a / b) \n",
    "else:\n",
    "    print('Неверная операция')\n"
   ]
  },
  {
   "cell_type": "code",
   "execution_count": null,
   "id": "f602a17b-c830-4241-b46c-84c1b9ad3a17",
   "metadata": {},
   "outputs": [],
   "source": [
    "# 4.3 8/11 пройдено. 9 шаг.  Цветовой микшер 🌶️\n",
    "a = input()   # Подаём  (или) - красный, синий, желтый \n",
    "b = input()   # Подаём  (или) - красный, синий, желтый\n",
    "\n",
    "# если смешать красный и синий, то получится фиолетовый;\n",
    "# если смешать красный и желтый, то получится оранжевый;\n",
    "# # если смешать синий и желтый, то получится зеленый.\n",
    "\n",
    "if not (a == 'красный' or a ==  'синий' or a == 'желтый') and not (b == 'красный' or b =='синий' or b == 'желтый'):\n",
    "    print('ошибка цвета')\n",
    "elif a == 'красный' and b == 'синий' or a == 'синий' and b == 'красный':\n",
    "    print('фиолетовый')\n",
    "elif a == 'красный' and b == 'желтый' or b == 'красный' and a == 'желтый':\n",
    "    print('оранжевый')\n",
    "elif a == 'синий' and b == 'желтый' or b == 'синий' and a == 'желтый':\n",
    "    print('зеленый')\n",
    "elif a == b:\n",
    "    print(a)\n",
    "else:\n",
    "    print('ошибка цвета')\n",
    "\n",
    "# второе решение. Короче\n",
    "\n",
    "a, b = input(), input()\n",
    "\n",
    "if a == 'красный' and b == 'синий' or a == 'синий' and b == 'красный':\n",
    "    print('фиолетовый')\n",
    "elif a == 'красный' and b == 'желтый' or a == 'желтый' and b == 'красный':\n",
    "    print('оранжевый')\n",
    "elif a == 'синий' and b == 'желтый' or a == 'желтый' and b == 'синий':\n",
    "    print('зеленый')\n",
    "elif (a == 'синий' or a == 'красный' or a == 'желтый') and a == b:\n",
    "    print(a)\n",
    "else:\n",
    "    print('ошибка цвета')\n",
    "\n"
   ]
  },
  {
   "cell_type": "code",
   "execution_count": null,
   "id": "cce2167a-b34c-46f4-aae5-9297e5028703",
   "metadata": {},
   "outputs": [],
   "source": [
    " # 4.3 9/11 пройдено. 10 шаг. Цвета колеса рулетки 🌶️\n",
    "a = int(input())\n",
    "\n",
    "if 0 <= a < 37:\n",
    "    if a == 0:\n",
    "        print('зеленый')\n",
    "    elif (1 <= a < 10 or 19 <= a < 28) and a % 2 != 0:\n",
    "        print('красный')\n",
    "    elif (10 < a <= 18 or 28 < a < 37) and a % 2 == 0:\n",
    "        print('красный')\n",
    "    else:\n",
    "        print('черный')\n",
    "else:\n",
    "    print('ошибка ввода')\n"
   ]
  },
  {
   "cell_type": "code",
   "execution_count": null,
   "id": "aed67d70-32c7-420b-b865-98f64143f8f4",
   "metadata": {},
   "outputs": [],
   "source": [
    " # 4.3 10/11 пройдено. 11 шаг. Пересечение отрезков 🌶️🌶️\n",
    "a = int(input())\n",
    "b = int(input())\n",
    "c = int(input())\n",
    "d = int(input())\n",
    "\n",
    "# знаю что жесть но мне пох\n",
    "\n",
    "if c < b and d > b and a < c:\n",
    "    print (c , b)\n",
    "elif c == b:\n",
    "    print(b)\n",
    "elif d <= b and a < c:\n",
    "    print(c,d)\n",
    "elif a >= c and d > b:\n",
    "    print(a,b)\n",
    "elif b > d and a != d and a < d:\n",
    "    print(a,d)\n",
    "elif (c + d) < (a + b) and b <= d:\n",
    "    print(a,b)\n",
    "elif a == d:\n",
    "    print(a)\n",
    "else:\n",
    "    print('пустое множество')"
   ]
  },
  {
   "cell_type": "code",
   "execution_count": null,
   "id": "421e00bd-f99f-4932-9306-f63bee8005c2",
   "metadata": {},
   "outputs": [],
   "source": [
    "# 5.1 Экзамен\n",
    "# YES or NO вот в чем вопрос\n",
    " # 4.3 10/11 пройдено. 11 шаг. Пересечение отрезков 🌶️🌶️\n",
    "a = int(input())\n",
    "\n",
    "if a % 2 != 0 or (a % 2 == 0 and 6 <= a <= 20):\n",
    "    print ('YES')\n",
    "else:\n",
    "    print('NO')\n",
    "\n",
    "\n"
   ]
  },
  {
   "cell_type": "code",
   "execution_count": null,
   "id": "6fa39674-5d71-4368-9aed-c4692733e96d",
   "metadata": {},
   "outputs": [],
   "source": [
    "# или\n",
    "n = int(input())\n",
    "\n",
    "if n%2!=0:\n",
    "    print('YES')\n",
    "else:\n",
    "    if 2<=n<=5:\n",
    "        print('NO')\n",
    "    elif 6<=n<=20:\n",
    "        print('YES')\n",
    "    elif n>20:\n",
    "        print('NO')\n"
   ]
  },
  {
   "cell_type": "code",
   "execution_count": null,
   "id": "1fc33df2-05e3-488b-98fd-a1a5b93e6db9",
   "metadata": {},
   "outputs": [],
   "source": [
    "# Ход слона\n",
    "\n",
    "x1, y1, x2, y2 = int(input()), int(input()), int(input()), int(input())\n",
    "\n",
    "xy1 = x1 + y1\n",
    "xy2 = x2 + y2\n",
    "\n",
    "if (x1 - y1) == (x2 - y2) or xy1 == xy2:\n",
    "    print ('YES')\n",
    "else:\n",
    "    print('NO')"
   ]
  },
  {
   "cell_type": "code",
   "execution_count": null,
   "id": "2c159b04-1948-4969-975c-9d6035cb45f1",
   "metadata": {},
   "outputs": [],
   "source": [
    "# Ход коня\n",
    "\n",
    "x1, y1, x2, y2 = int(input()), int(input()), int(input()), int(input())\n",
    "\n",
    "sum = x1 + y1 + x2 + y2\n",
    "\n",
    "\n",
    "if sum % 2 != 0 and y1 != y2 and x1 != x2:\n",
    "    print ('YES')\n",
    "else:\n",
    "    print('NO')\n",
    "\n"
   ]
  },
  {
   "cell_type": "code",
   "execution_count": null,
   "id": "2f52640a-8699-4e87-bf0d-0f8211f416ea",
   "metadata": {},
   "outputs": [],
   "source": [
    "# или\n",
    "\n",
    "x1, y1, x2, y2 = int(input()), int(input()), int(input()), int(input())\n",
    "if (x1 - x2) ** 2 + (y1 - y2) ** 2 == 5:\n",
    "    print(\"YES\")\n",
    "else:\n",
    "    print(\"NO\")\n",
    "\n"
   ]
  },
  {
   "cell_type": "code",
   "execution_count": null,
   "id": "03a7986b-87ab-4527-a8bf-eab84a4141ee",
   "metadata": {},
   "outputs": [],
   "source": [
    "# Ход ферзя\n",
    "\n",
    "x1, y1, x2, y2 = int(input()), int(input()), int(input()), int(input())\n",
    "\n",
    "xy1 = x1 + y1\n",
    "xy2 = x2 + y2\n",
    "\n",
    "if ((x2-1) <= x1 <= (x2+1) and (y2-1) <= y1 <= (y2+1)):\n",
    "    print(\"YES\")\n",
    "else:\n",
    "    if ((x1 - y1) == (x2 - y2) or xy1 == xy2) or (y1 == y2 or x1 == x2):\n",
    "        print(\"YES\")\n",
    "    else:  \n",
    "        print(\"NO\")\n"
   ]
  },
  {
   "cell_type": "code",
   "execution_count": null,
   "id": "3d29ba46-e921-4a21-9bb1-2c863f275830",
   "metadata": {},
   "outputs": [],
   "source": [
    "# или\n",
    "# Ход ферзя\n",
    "x1 = int(input())\n",
    "y1 = int(input())\n",
    "x2 = int(input())\n",
    "y2 = int(input())\n",
    "if abs(x1 - x2) == abs(y1 - y2) or x1 == x2 or y1 == y2:\n",
    "    print('YES')\n",
    "else:\n",
    "    print('NO')\n",
    "\n"
   ]
  },
  {
   "cell_type": "markdown",
   "id": "c0a109c2-9f55-4a00-bc22-e58a371ba7ff",
   "metadata": {},
   "source": [
    "#### 6.1 Числовые типы данных\n"
   ]
  },
  {
   "cell_type": "code",
   "execution_count": null,
   "id": "d3cd15cb-86ec-4b2b-8d87-dc3a0110cd48",
   "metadata": {},
   "outputs": [],
   "source": [
    "# Все целочисленные операторы\n",
    "a = 13\n",
    "b = 7\n",
    "\n",
    "total = a + b\n",
    "diff = a - b\n",
    "prod = a * b\n",
    "div1 = a / b\n",
    "div2 = a // b\n",
    "mod = a % b\n",
    "exp = a ** b\n",
    "\n",
    "print(a, '+', b, '=', total)\n",
    "print(a, '-', b, '=', diff)\n",
    "print(a, '*', b, '=', prod)\n",
    "print(a, '/', b, '=', div1)\n",
    "print(a, '//', b, '=', div2)\n",
    "print(a, '%', b, '=', mod)\n",
    "print(a, '**', b, '=', exp)"
   ]
  },
  {
   "cell_type": "code",
   "execution_count": null,
   "id": "b63d8abe-1436-45f6-8ac9-6d3da356df9b",
   "metadata": {},
   "outputs": [],
   "source": [
    "# Символ разделитель\n",
    "num1 = 25_000_000\n",
    "num2 = 25000000\n",
    "print(num1)\n",
    "print(num2)\n"
   ]
  },
  {
   "cell_type": "code",
   "execution_count": null,
   "id": "79e8ef3b-f5ec-42eb-a5e7-18038f446ec5",
   "metadata": {},
   "outputs": [],
   "source": [
    "# Площадь треугольника\n",
    "a, b = float(input()), float(input())\n",
    "s = 1/2 * a * b\n",
    "print(s)\n",
    "\n"
   ]
  },
  {
   "cell_type": "code",
   "execution_count": null,
   "id": "dbe9eea3-9a5d-42fa-9328-a808ba9caf2a",
   "metadata": {},
   "outputs": [],
   "source": [
    "# Две старушки 👵\n",
    "s, v1, v2 = float(input()), float(input()), float(input())\n",
    "\n",
    "v3 = s/(v1 + v2)\n",
    "print(v3)\n"
   ]
  },
  {
   "cell_type": "code",
   "execution_count": null,
   "id": "0b910de7-4d86-4d89-a64a-b4ea9c7d3665",
   "metadata": {},
   "outputs": [],
   "source": [
    "# Обратное число\n",
    "a = float(input())\n",
    "\n",
    "if a == 0: \n",
    "    print(\"Обратного числа не существует\")\n",
    "else:\n",
    "    print(1 / a)\n",
    "    "
   ]
  },
  {
   "cell_type": "code",
   "execution_count": null,
   "id": "cfe258c8-57c0-436e-bf7c-fefb11829fe1",
   "metadata": {},
   "outputs": [],
   "source": [
    "# 451 градус по Фаренгейту 🌡️\n",
    "\n",
    "a = float(input())\n",
    "t = 5/9 * (a-32)\n",
    "print(t)\n"
   ]
  },
  {
   "cell_type": "code",
   "execution_count": null,
   "id": "966db117-524b-434d-ad6a-a1ddd30451a4",
   "metadata": {},
   "outputs": [],
   "source": [
    "# Dog age 🐶\n",
    "\n",
    "age = float(input())\n",
    "if age < 3:\n",
    "    print(age * 10.5)\n",
    "else:\n",
    "    print(21 + (age - 2) * 4) "
   ]
  },
  {
   "cell_type": "code",
   "execution_count": null,
   "id": "86a15996-7c9c-4f7f-8eb8-777683524896",
   "metadata": {},
   "outputs": [],
   "source": [
    "# Первая цифра после точки\n",
    "a = float(input())\n",
    "b = int((a * 10) % 10)\n",
    "print(b)"
   ]
  },
  {
   "cell_type": "code",
   "execution_count": null,
   "id": "67c6fe2b-62ba-4f1c-902e-8d33a6ca0734",
   "metadata": {},
   "outputs": [],
   "source": [
    "# Дробная часть\n",
    "a = float(input())\n",
    "b = a - int((a))\n",
    "print(b)"
   ]
  },
  {
   "cell_type": "markdown",
   "id": "22271bda-344e-44f3-9112-9dc6996850ea",
   "metadata": {},
   "source": [
    "#### 6.1 Встроенные функции"
   ]
  },
  {
   "cell_type": "code",
   "execution_count": null,
   "id": "22ba2dee-ab13-47c8-9087-1e48d458afa4",
   "metadata": {},
   "outputs": [],
   "source": [
    "# Наибольшее и наименьшее\n",
    "a, b, c, d, e = int(input()), int(input()), int(input()), int(input()), int(input())\n",
    "\n",
    "print('Наименьшее число =', min(a, b, c, d, e))\n",
    "print('Наибольшее число =', max(a, b, c, d, e))"
   ]
  },
  {
   "cell_type": "code",
   "execution_count": null,
   "id": "7d0f783b-8217-4e49-88d4-5e97442b84a7",
   "metadata": {},
   "outputs": [],
   "source": [
    "# Сортировка трех 🌶️\n",
    "a, b, c = int(input()), int(input()), int(input())\n",
    "max = max(a, b, c)\n",
    "min = min(a, b, c)\n",
    "sred = a + b + c - max - min\n",
    "\n",
    "print(max)\n",
    "print(sred)\n",
    "print(min)"
   ]
  },
  {
   "cell_type": "code",
   "execution_count": null,
   "id": "e3c2aab4-5b92-4d98-b678-5d6b2bb64e17",
   "metadata": {},
   "outputs": [],
   "source": [
    "# Интересное число\n",
    "# int(input()), int(input()), int(input())\n",
    "x = int(input())\n",
    "a = x // 100\n",
    "b = (x // 10) % 10\n",
    "c = x % 10\n",
    "\n",
    "num = a + b + c - max(a, b, c) - min(a, b, c)\n",
    "difference = max(a, b, c) - min(a, b, c)\n",
    "\n",
    "\n",
    "if num == difference and a != b and c != b:\n",
    "    print('Число интересное')\n",
    "else:\n",
    "    print('Число неинтересное')"
   ]
  },
  {
   "cell_type": "code",
   "execution_count": null,
   "id": "ce24b09c",
   "metadata": {},
   "outputs": [],
   "source": [
    "# Абсолютная сумма🌶️\n",
    "a = float(input())\n",
    "b = float(input())\n",
    "c = float(input())\n",
    "d = float(input())\n",
    "e = float(input())\n",
    "\n",
    "sum_abs = abs(a) + abs(b) + abs(c) + abs(d) + abs(e) \n",
    "print(sum_abs)"
   ]
  },
  {
   "cell_type": "code",
   "execution_count": null,
   "id": "4d58e19e",
   "metadata": {},
   "outputs": [],
   "source": [
    "# Манхэттенское расстояние\n",
    "p1 = int(input())\n",
    "p2 = int(input())\n",
    "q1 = int(input())\n",
    "q2 = int(input())\n",
    "\n",
    "mr = abs(p1-q1)+abs(p2-q2)\n",
    "print(mr)"
   ]
  },
  {
   "cell_type": "markdown",
   "id": "bcaad402",
   "metadata": {},
   "source": [
    "#### 6.2 Тема урока: строковый тип данных"
   ]
  },
  {
   "cell_type": "code",
   "execution_count": null,
   "id": "3bf09186",
   "metadata": {},
   "outputs": [],
   "source": [
    "# Текст в кавычках\n",
    "str1 = '\"Python is a great language!\", said Fred.'\n",
    "str2 = '''\"I don't ever remember having this much fun before.\"'''\n",
    "## использовали тройные кавычки\n",
    "print(str1, str2)"
   ]
  },
  {
   "cell_type": "code",
   "execution_count": null,
   "id": "cc2f7f12",
   "metadata": {},
   "outputs": [],
   "source": [
    "# What's Your Name?\n",
    "fname = input()\n",
    "sname = input()\n",
    "print('Hello', fname, sname + '!', 'You have just delved into Python')"
   ]
  },
  {
   "cell_type": "code",
   "execution_count": null,
   "id": "b2ea91d6",
   "metadata": {},
   "outputs": [],
   "source": [
    "# Футбольная команда ⚽\n",
    "\n",
    "foot_name = input()\n",
    "x = len(foot_name)\n",
    "print('Футбольная команда', foot_name, 'имеет длину', x, 'символов')\n",
    "\n"
   ]
  },
  {
   "cell_type": "code",
   "execution_count": null,
   "id": "695bbbb3",
   "metadata": {},
   "outputs": [],
   "source": [
    "# Три города 🏙️\n",
    "city1 = input()\n",
    "city2 = input()\n",
    "city3 = input()\n",
    "\n",
    "if len(city1)<len(city2)<len(city3):\n",
    "    print(city1)\n",
    "    print(city3)\n",
    "elif len(city1)<len(city3)<len(city2):\n",
    "    print(city1)\n",
    "    print(city2)\n",
    "elif len(city2)<len(city3)<len(city1):\n",
    "    print(city2)\n",
    "    print(city1)\n",
    "elif len(city2)<len(city1)<len(city3):\n",
    "    print(city2)\n",
    "    print(city3)\n",
    "elif len(city3)<len(city1)<len(city2):\n",
    "    print(city3)\n",
    "    print(city2)\n",
    "elif len(city3)<len(city2)<len(city1):\n",
    "    print(city3)\n",
    "    print(city1)\n"
   ]
  },
  {
   "cell_type": "code",
   "execution_count": null,
   "id": "8df58503",
   "metadata": {},
   "outputs": [],
   "source": [
    "# Арифметические строки\n",
    "\n",
    "x = input()\n",
    "y = input()\n",
    "z = input()\n",
    "\n",
    "max = max(len(x), len(y), len (z))\n",
    "min = min(len(x), len(y), len (z))\n",
    "\n",
    "if (max+min)/2 == len(x) or (max+min)/2 == len(y) or (max+min)/2  == len(z):\n",
    "    print('YES')\n",
    "else: \n",
    "    print('NO')"
   ]
  },
  {
   "cell_type": "markdown",
   "id": "d2ff324c",
   "metadata": {},
   "source": [
    "#### Оператор in"
   ]
  },
  {
   "cell_type": "code",
   "execution_count": null,
   "id": "a4e1bc9b",
   "metadata": {},
   "outputs": [],
   "source": [
    "# Цвет настроения синий 🟦\n",
    "str1 = input()\n",
    "if 'синий' in str1:\n",
    "    print('YES')\n",
    "else:\n",
    "    print('NO')\n"
   ]
  },
  {
   "cell_type": "code",
   "execution_count": null,
   "id": "f5a0d263",
   "metadata": {},
   "outputs": [],
   "source": [
    "# Отдыхаем ли?\n",
    "str1 = input()\n",
    "if 'суббота' in str1 or 'воскресенье' in str1:\n",
    "    print('YES')\n",
    "else:\n",
    "    print('NO')"
   ]
  },
  {
   "cell_type": "code",
   "execution_count": null,
   "id": "d7114ddd",
   "metadata": {},
   "outputs": [],
   "source": [
    "# Корректный email 📧\n",
    "str1 = input()\n",
    "if '@' in str1 and '.' in str1:\n",
    "    print('YES')\n",
    "else:\n",
    "    print('NO')"
   ]
  },
  {
   "cell_type": "markdown",
   "id": "4f499abb",
   "metadata": {},
   "source": [
    "#### Тема урока: модуль math"
   ]
  },
  {
   "cell_type": "code",
   "execution_count": null,
   "id": "3fba261a",
   "metadata": {},
   "outputs": [],
   "source": [
    "# Пример импорта модуля (встроенной библиотеки)\n",
    "import math\n",
    "\n",
    "num1 = math.sqrt(2)     # вычисление квадратного корня из двух\n",
    "num2 = math.ceil(3.8)   # округление числа вверх\n",
    "num3 = math.floor(3.8)  # округление числа вниз\n",
    "\n",
    "print(num1)\n",
    "print(num2)\n",
    "print(num3)"
   ]
  },
  {
   "cell_type": "code",
   "execution_count": null,
   "id": "299d9638",
   "metadata": {},
   "outputs": [],
   "source": [
    "# Евклидово расстояние\n",
    "import math\n",
    "\n",
    "p1 = float(input())\n",
    "q1 = float(input())\n",
    "p2 = float(input())\n",
    "q2 = float(input())\n",
    "\n",
    "x = math.sqrt(((p1 - p2) ** 2) + ((q1 - q2) ** 2))\n",
    "print(x)"
   ]
  },
  {
   "cell_type": "code",
   "execution_count": null,
   "id": "b83ad658",
   "metadata": {},
   "outputs": [],
   "source": [
    "# Площадь и длина\n",
    "\n",
    "import math\n",
    "r = float(input())\n",
    "pi =math.pi\n",
    "s = pi * r **2\n",
    "c = 2 * pi * r\n",
    "\n",
    "print(s)\n",
    "print(c)"
   ]
  },
  {
   "cell_type": "code",
   "execution_count": null,
   "id": "1f25303e",
   "metadata": {},
   "outputs": [],
   "source": [
    "# Тригонометрическое выражение sinx + cosx + tan2x\n",
    "import math\n",
    "k = float(input())\n",
    "r = math.radians(k)\n",
    "s = math.sin(r) + math.cos(r) + math.tan(r) ** 2 \n",
    "print(s)"
   ]
  },
  {
   "cell_type": "code",
   "execution_count": null,
   "id": "d006dc31",
   "metadata": {},
   "outputs": [],
   "source": [
    "# Пол и потолок\n",
    "from math import floor, ceil\n",
    "x = float(input())\n",
    "pol = floor(x)\n",
    "potolok = ceil(x)\n",
    "print(pol + potolok)"
   ]
  },
  {
   "cell_type": "code",
   "execution_count": null,
   "id": "a4d56d51",
   "metadata": {},
   "outputs": [],
   "source": [
    "# Квадратное уравнение 🌶️🌶️ ax**2+bx+c=0\n",
    "\n",
    "from math import floor, ceil, sqrt\n",
    "a = float(input())\n",
    "b = float(input())\n",
    "c = float(input())\n",
    "\n",
    "d = b**2-4*a*c\n",
    "\n",
    "if d > 0:\n",
    "    x1 = (-b-sqrt(d))/(2*a)\n",
    "    x2 = (-b+sqrt(d))/(2*a)\n",
    "    print(min(x1,x2))\n",
    "    print(max(x1,x2))\n",
    "elif d == 0:\n",
    "    print(-b/(2*a))\n",
    "else:\n",
    "    print('Нет корней')"
   ]
  },
  {
   "cell_type": "code",
   "execution_count": null,
   "id": "496bcf4a",
   "metadata": {},
   "outputs": [],
   "source": [
    "# Правильный многоугольник\n",
    "from math import tan, pi\n",
    "n = float(input())\n",
    "a = float(input())\n",
    "s = (n * a**2)/(4 * tan(pi/n))\n",
    "print(s)"
   ]
  },
  {
   "cell_type": "markdown",
   "id": "32a6270a",
   "metadata": {},
   "source": [
    "### 7.1 Тема урока: цикл for "
   ]
  },
  {
   "cell_type": "code",
   "execution_count": null,
   "id": "64884070",
   "metadata": {},
   "outputs": [],
   "source": [
    "# примеры\n",
    "print(\"A\")\n",
    "print(\"B\")\n",
    "\n",
    "for i in range(5):\n",
    "    print(\"C\")\n",
    "    print(\"D\")\n",
    "\n",
    "print(\"E\")"
   ]
  },
  {
   "cell_type": "code",
   "execution_count": null,
   "id": "9ff7ac39",
   "metadata": {},
   "outputs": [],
   "source": [
    "# Python is awesome\n",
    "for i in range(10):\n",
    "   print('Python is awesome!')"
   ]
  },
  {
   "cell_type": "code",
   "execution_count": null,
   "id": "ed4a353d",
   "metadata": {},
   "outputs": [],
   "source": [
    "# Повторяй за мной\n",
    "p = input()\n",
    "k = int(input())\n",
    "\n",
    "for i in range(k):\n",
    "   print(p)\n"
   ]
  },
  {
   "cell_type": "code",
   "execution_count": null,
   "id": "a0641e09",
   "metadata": {},
   "outputs": [],
   "source": [
    "#  Последовательность символов\n",
    "for i in range(6):\n",
    "    print('AAA')    \n",
    "for i in range(5):\n",
    "    print('BBBB')\n",
    "print('E')\n",
    "for i in range(9):\n",
    "    print('TTTTT')\n",
    "print('G')"
   ]
  },
  {
   "cell_type": "code",
   "execution_count": null,
   "id": "dd625107",
   "metadata": {},
   "outputs": [],
   "source": [
    "# Звездный прямоугольник\n",
    "\n",
    "x = int(input())\n",
    "for i in range(x):\n",
    "    print(\"*\"*19)\n"
   ]
  },
  {
   "cell_type": "markdown",
   "id": "fc3dfb14",
   "metadata": {},
   "source": [
    "##### Переменная цикла"
   ]
  },
  {
   "cell_type": "code",
   "execution_count": null,
   "id": "fc93acd2",
   "metadata": {},
   "outputs": [],
   "source": [
    "# Повторяй за мной 2\n",
    "\n",
    "x = input()\n",
    "for i in range(10):\n",
    "    print(i + 1, x)"
   ]
  },
  {
   "cell_type": "code",
   "execution_count": null,
   "id": "dd603a0a",
   "metadata": {},
   "outputs": [],
   "source": [
    "# Квадрат числа\n",
    "\n",
    "x = int(input())\n",
    "for i in range(x+1):\n",
    "    print('Квадрат числа', i, 'равен', i ** 2)"
   ]
  },
  {
   "cell_type": "code",
   "execution_count": null,
   "id": "33e2ce90",
   "metadata": {},
   "outputs": [],
   "source": [
    "# Звёздный треугольник ⭐\n",
    "n = int(input())\n",
    "\n",
    "for i in range(n-1, -1 , -1):\n",
    "    print((i + 1) * '*')\n",
    "\n"
   ]
  },
  {
   "cell_type": "code",
   "execution_count": null,
   "id": "993d8903",
   "metadata": {},
   "outputs": [],
   "source": [
    "# Или\n",
    "# вёздный треугольник ⭐\n",
    "\n",
    "a = int(input())\n",
    "for i in range(a):\n",
    "    print('*'*(a-i))"
   ]
  },
  {
   "cell_type": "code",
   "execution_count": null,
   "id": "e2896e99",
   "metadata": {},
   "outputs": [],
   "source": [
    "# Популяция 🦠🧫\n",
    "# m: стартовое количество организмов;\n",
    "# p: среднесуточное увеличение в %;\n",
    "# n: количество дней для размножения.\n",
    "m, p, n = int(input()), int(input()), int(input())\n",
    "\n",
    "for i in range(n):\n",
    "    print(i+1, m*(1+p/100)**i)\n"
   ]
  },
  {
   "cell_type": "markdown",
   "id": "a182d001",
   "metadata": {},
   "source": [
    "#### 7.2 Тема урока: цикл for \n"
   ]
  },
  {
   "cell_type": "code",
   "execution_count": null,
   "id": "c5e5fd48",
   "metadata": {},
   "outputs": [],
   "source": [
    "for i in range(1, 8):\n",
    "    print(i)"
   ]
  },
  {
   "cell_type": "code",
   "execution_count": null,
   "id": "818e4427",
   "metadata": {},
   "outputs": [],
   "source": [
    "for i in range(3, 11, 2):\n",
    "    print(i)"
   ]
  },
  {
   "cell_type": "code",
   "execution_count": null,
   "id": "c87b9e02",
   "metadata": {},
   "outputs": [],
   "source": [
    "for i in range(10, 0, -2):\n",
    "    print(i)"
   ]
  },
  {
   "cell_type": "code",
   "execution_count": null,
   "id": "6bc419fc",
   "metadata": {},
   "outputs": [],
   "source": [
    "# Последовательность чисел 1\n",
    "\n",
    "m, n = int(input()), int(input())\n",
    "for i in range(m, n+1):\n",
    "    print(i)"
   ]
  },
  {
   "cell_type": "code",
   "execution_count": null,
   "id": "1a15a0d0",
   "metadata": {},
   "outputs": [],
   "source": [
    "# Последовательность чисел 2 🌶️\n",
    "\n",
    "m, n = int(input()), int(input())\n",
    "if m < n:\n",
    "    for i in range(m, n+1):\n",
    "        print(i)\n",
    "else:\n",
    "    for i in range(m, n-1, -1):\n",
    "        print(i)"
   ]
  },
  {
   "cell_type": "code",
   "execution_count": null,
   "id": "d32af993",
   "metadata": {},
   "outputs": [],
   "source": [
    "# Последовательность чисел 3 🌶️\n",
    "# Так и не получилось решение\n",
    "\n",
    "\n",
    "m, n = int(input()), int(input())\n",
    "\n",
    "if m % 2 == 0 and m > n+1:\n",
    "    for i in range(m-1, n, -2):\n",
    "        print(i)\n",
    "elif m - n == 1 and n % 2 != 0:\n",
    "    for i in range(m-1, n-1, -1):\n",
    "        print(i) \n",
    "elif n % 2 != 0:\n",
    "    for i in range(m, n, -1):\n",
    "        print(i) \n",
    "else:\n",
    "    for i in range(m, n, -2):\n",
    "        print(i)"
   ]
  },
  {
   "cell_type": "code",
   "execution_count": null,
   "id": "d8612459",
   "metadata": {},
   "outputs": [],
   "source": [
    "# оч. красивое решение \n",
    "m, n = int(input()), int(input())\n",
    "\n",
    "for i in range(m, n-1, -1):\n",
    "    if i % 2 != 0:\n",
    "        print(i)"
   ]
  },
  {
   "cell_type": "code",
   "execution_count": null,
   "id": "e46f323d",
   "metadata": {},
   "outputs": [],
   "source": [
    "# Последовательность чисел 4\n",
    "\n",
    "m = int(input())\n",
    "n = int(input())\n",
    "\n",
    "for i in range(m, n+1):\n",
    "    if i % 17 == 0 or i % 15 == 0 or i % 10 == 9: \n",
    "        print(i)"
   ]
  },
  {
   "cell_type": "code",
   "execution_count": null,
   "id": "f1bd188d",
   "metadata": {},
   "outputs": [],
   "source": [
    "# Таблица умножения\n",
    "n = int(input())\n",
    "\n",
    "for i in range(1,11):\n",
    "    print(n,\"x\",i,\"=\",i * n,sep=' ')"
   ]
  },
  {
   "cell_type": "markdown",
   "id": "2c2892b7",
   "metadata": {},
   "source": [
    "#### 7.3 Тема урока: частые сценарии"
   ]
  },
  {
   "cell_type": "code",
   "execution_count": null,
   "id": "6bd36b4b",
   "metadata": {},
   "outputs": [],
   "source": [
    "# Количество чисел\n",
    "a, b = int(input()), int(input())\n",
    "counter = 0\n",
    "for i in range(a, b+1):\n",
    "    if (i ** 3) % 10 == 4 or (i ** 3) % 10 == 9:\n",
    "        counter += 1\n",
    "        \n",
    "print(counter)"
   ]
  },
  {
   "cell_type": "code",
   "execution_count": 2,
   "id": "9dcb72e4",
   "metadata": {},
   "outputs": [
    {
     "name": "stdout",
     "output_type": "stream",
     "text": [
      "9\n"
     ]
    }
   ],
   "source": [
    "# Сумма чисел (в цикле)\n",
    "\n",
    "n = int(input())\n",
    "\n",
    "total = 0\n",
    "for i in range(n):\n",
    "    num = int(input())\n",
    "    total += num    \n",
    "\n",
    "print(total)\n",
    "\n"
   ]
  },
  {
   "cell_type": "code",
   "execution_count": null,
   "id": "583a391b",
   "metadata": {},
   "outputs": [],
   "source": [
    "# Асимптотическое приближение\n",
    "from math import log\n",
    "\n",
    "n = int(input())\n",
    "\n",
    "total = 0\n",
    "for i in range(n):\n",
    "    num = 1/(i+1) \n",
    "    total += num\n",
    "\n",
    "print(total-log(n))"
   ]
  },
  {
   "cell_type": "code",
   "execution_count": null,
   "id": "b70e7cac",
   "metadata": {},
   "outputs": [],
   "source": [
    "# Сумма чисел 2\n",
    "n = int(input())\n",
    "\n",
    "total = 0\n",
    "for i in range(1, n+1):\n",
    "    if (i ** 2) % 10 == 2 or (i ** 2) % 10 == 5 or (i ** 2) % 10 == 8:\n",
    "        total += i\n",
    "    \n",
    "\n",
    "print(total)"
   ]
  },
  {
   "cell_type": "code",
   "execution_count": null,
   "id": "b406f68b",
   "metadata": {},
   "outputs": [],
   "source": [
    "# N факториал\n",
    "n = int(input())\n",
    "\n",
    "total = 1\n",
    "for i in range(1, n+1):\n",
    "    total = total * i\n",
    "    \n",
    "print(total)"
   ]
  },
  {
   "cell_type": "code",
   "execution_count": null,
   "id": "0431d81d",
   "metadata": {},
   "outputs": [],
   "source": [
    "# N факториал  (decision 2)\n",
    "n = int(input())\n",
    "\n",
    "from math import factorial\n",
    "print(factorial(n))\n"
   ]
  },
  {
   "cell_type": "code",
   "execution_count": null,
   "id": "99580ddc",
   "metadata": {},
   "outputs": [],
   "source": [
    "# Без нулей\n",
    "\n",
    "x = 10\n",
    "\n",
    "total = 1\n",
    "for i in range(1, x+1):\n",
    "    num = int(input())\n",
    "    if num != 0:\n",
    "        total = total * num\n",
    "    \n",
    "print(total)\n"
   ]
  },
  {
   "cell_type": "code",
   "execution_count": null,
   "id": "0e2a124d",
   "metadata": {},
   "outputs": [],
   "source": [
    "# Сумма делителей\n",
    "\n",
    "n = int(input())\n",
    "\n",
    "total = 0\n",
    "for i in range(1, n+1):\n",
    "    if n % i == 0:\n",
    "        total = total + i\n",
    "\n",
    "print(total)\n",
    "\n"
   ]
  },
  {
   "cell_type": "code",
   "execution_count": null,
   "id": "2dbef6f0",
   "metadata": {},
   "outputs": [],
   "source": [
    "# Знакочередующаяся сумма\n",
    "\n",
    "n = int(input())\n",
    "\n",
    "totalminus = 0\n",
    "totalplus = 0\n",
    "for i in range(1, n+1):\n",
    "    if i % 2 == 0:\n",
    "        totalminus -= i\n",
    "    elif i % 2 != 0:\n",
    "        totalplus += i\n",
    "\n",
    "print(totalminus+totalplus)\n"
   ]
  },
  {
   "cell_type": "code",
   "execution_count": null,
   "id": "cc48207a",
   "metadata": {},
   "outputs": [],
   "source": [
    "# Наибольшие числа 🌶️🌶️\n",
    "\n",
    "n = int(input())\n",
    "\n",
    "largest = 0\n",
    "prelargest = 0\n",
    "for i in range(1, n+1):\n",
    "    num = int(input())\n",
    "    if num > largest:\n",
    "        prelargest = largest\n",
    "        largest = num\n",
    "    elif num > prelargest:\n",
    "        prelargest = num\n",
    "\n",
    "print(largest)\n",
    "print(prelargest)"
   ]
  },
  {
   "cell_type": "code",
   "execution_count": null,
   "id": "11203ce7",
   "metadata": {},
   "outputs": [],
   "source": [
    "# Only even numbers 🌶️\n",
    "\n",
    "x = 10\n",
    "flag = True\n",
    "total = 0\n",
    "for i in range(1, x+1):\n",
    "    num = int(input())\n",
    "    if abs(num) % 2 != 0:\n",
    "        flag = False\n",
    "        total = flag\n",
    "    else:\n",
    "        total += flag\n",
    "\n",
    "if total == False:\n",
    "    print(\"NO\")\n",
    "else:\n",
    "    print(\"YES\")\n"
   ]
  },
  {
   "cell_type": "code",
   "execution_count": null,
   "id": "530460ef",
   "metadata": {},
   "outputs": [],
   "source": [
    "# Последовательность Фибоначчи 🌶️\n",
    "\n",
    "fibo = int(input())\n",
    "\n",
    "f1 = 1\n",
    "f2 = 0\n",
    "for i in range(1, fibo+1):\n",
    "    f3 = f1\n",
    "    f1 = f3 + f2\n",
    "    f2 = f3\n",
    "    print(f3, end=\" \")\n",
    "    "
   ]
  },
  {
   "cell_type": "code",
   "execution_count": null,
   "id": "2bee2502",
   "metadata": {},
   "outputs": [],
   "source": [
    "\n",
    "# Python 3: Fibonacci series up to n\n",
    "def fib(n):\n",
    "    a, b = 0, 1\n",
    "    while a < n:\n",
    "        print(a, end=' ')\n",
    "        a, b = b, a+b\n",
    "    print()\n",
    "fib(1000)\n"
   ]
  },
  {
   "cell_type": "markdown",
   "id": "9fafc0ac",
   "metadata": {},
   "source": [
    "#### 7.4 Тема урока: цикл while"
   ]
  },
  {
   "cell_type": "code",
   "execution_count": null,
   "id": "cec4c579",
   "metadata": {},
   "outputs": [],
   "source": [
    "i = 0\n",
    "while i < 10:\n",
    "    i += 1\n",
    "    print('Привет')\n",
    "    "
   ]
  },
  {
   "cell_type": "code",
   "execution_count": null,
   "id": "f46a43c4",
   "metadata": {},
   "outputs": [],
   "source": [
    "# Напишем программу, которая считывает числа и выводит их квадраты, пока не будет введено −1\n",
    "num = int(input())\n",
    "while num != -1:\n",
    "    print('Квадрат вашего числа равен:', num * num)\n",
    "    num = int(input())"
   ]
  },
  {
   "cell_type": "code",
   "execution_count": null,
   "id": "3e579698",
   "metadata": {},
   "outputs": [],
   "source": [
    "# используем for\n",
    "for i in range(0, 10):\n",
    "    print(i+1)"
   ]
  },
  {
   "cell_type": "code",
   "execution_count": null,
   "id": "edbca6f4",
   "metadata": {},
   "outputs": [],
   "source": [
    "# используем while\n",
    "i = 0\n",
    "while i < 10:\n",
    "    print(i+1)\n",
    "    i += 1"
   ]
  },
  {
   "cell_type": "code",
   "execution_count": null,
   "id": "c5c3697b",
   "metadata": {},
   "outputs": [],
   "source": [
    "# используем for\n",
    "for i in range(0, 12, 3):\n",
    "    print(i)"
   ]
  },
  {
   "cell_type": "code",
   "execution_count": null,
   "id": "96e3c4af",
   "metadata": {},
   "outputs": [],
   "source": [
    "# используем while\n",
    "i = 0\n",
    "while i < 12:\n",
    "    print(i)\n",
    "    i += 3"
   ]
  },
  {
   "cell_type": "code",
   "execution_count": null,
   "id": "4c96363f",
   "metadata": {},
   "outputs": [],
   "source": [
    "count = 1\n",
    "while count < 10:\n",
    "    print(count)\n",
    "    count += 1"
   ]
  },
  {
   "cell_type": "code",
   "execution_count": null,
   "id": "febb441d",
   "metadata": {},
   "outputs": [],
   "source": [
    "i = 5\n",
    "while i <= 11:\n",
    "    print(i)\n",
    "    i += 1"
   ]
  },
  {
   "cell_type": "code",
   "execution_count": null,
   "id": "902ace98",
   "metadata": {},
   "outputs": [],
   "source": [
    "# До КОНЦА 1\n",
    "i = input()\n",
    "while i != 'КОНЕЦ':\n",
    "    print(i)\n",
    "    i = input()"
   ]
  },
  {
   "cell_type": "code",
   "execution_count": null,
   "id": "dfdf9e6b",
   "metadata": {},
   "outputs": [],
   "source": [
    "# До КОНЦА 2\n",
    "i = input()\n",
    "while (i != 'конец') and (i != 'КОНЕЦ'):\n",
    "    print(i)\n",
    "    i = input()"
   ]
  },
  {
   "cell_type": "code",
   "execution_count": null,
   "id": "f1c65e6c",
   "metadata": {},
   "outputs": [],
   "source": [
    "# Количество членов\n",
    "i = input()\n",
    "counter = 0\n",
    "while (i != 'стоп') and (i != 'хватит') and (i != 'достаточно'):\n",
    "    counter += 1\n",
    "    i = input()\n",
    "print(counter)"
   ]
  },
  {
   "cell_type": "code",
   "execution_count": null,
   "id": "19d78800",
   "metadata": {},
   "outputs": [],
   "source": [
    "# Количество членов\n",
    "i = int(input())\n",
    "\n",
    "while i % 7 == 0:\n",
    "    print(i)\n",
    "    i = int(input())\n",
    "    "
   ]
  },
  {
   "cell_type": "code",
   "execution_count": null,
   "id": "823288fa",
   "metadata": {},
   "outputs": [],
   "source": [
    "# Сумма чисел\n",
    "i = int(input())\n",
    "\n",
    "total = 0\n",
    "while i >= 0:\n",
    "    total += i\n",
    "    i = int(input())\n",
    "\n",
    "print(total)"
   ]
  },
  {
   "cell_type": "code",
   "execution_count": null,
   "id": "6a4fa92c",
   "metadata": {},
   "outputs": [],
   "source": [
    "# Количество пятёрок 5️⃣\n",
    "\n",
    "i = int(input())\n",
    "\n",
    "total = 0\n",
    "while 0 < i <= 5:\n",
    "    if i == 5:\n",
    "        total += 1\n",
    "    i = int(input())\n",
    "\n",
    "print(total)\n"
   ]
  },
  {
   "cell_type": "code",
   "execution_count": null,
   "id": "3f5fc606",
   "metadata": {},
   "outputs": [],
   "source": [
    "# Ведьмаку заплатите чеканной монетой\n",
    "n = int(input())\n",
    "\n",
    "counter = 0\n",
    "\n",
    "while n >= 25: \n",
    "    counter += 1\n",
    "    n=n - 25\n",
    "while n >= 10:\n",
    "    counter += 1\n",
    "    n=n - 10\n",
    "while n >= 5:\n",
    "    counter += 1\n",
    "    n=n - 5\n",
    "while n >= 1:\n",
    "    counter += 1\n",
    "    n=n - 1\n",
    "\n",
    "print(counter)"
   ]
  },
  {
   "cell_type": "markdown",
   "id": "0d159476",
   "metadata": {},
   "source": [
    "#### 7.5 Цикл while: обработка цифр числа\n"
   ]
  },
  {
   "cell_type": "code",
   "execution_count": null,
   "id": "7cb435a0",
   "metadata": {},
   "outputs": [],
   "source": [
    "n = int(input())\n",
    "while n != 0:  # пока в числе есть цифры\n",
    "    last_digit = n % 10  # получить последнюю цифру\n",
    "    # код обработки последней цифры\n",
    "    n = n // 10  # удалить последнюю цифру из числа"
   ]
  },
  {
   "cell_type": "code",
   "execution_count": null,
   "id": "8d0b108b",
   "metadata": {},
   "outputs": [],
   "source": [
    "num = int(input())\n",
    "has_seven = False  # сигнальная метка\n",
    "\n",
    "while num != 0:\n",
    "    last_digit = num % 10\n",
    "    if last_digit == 7:\n",
    "        has_seven = True\n",
    "    num = num // 10\n",
    "\n",
    "if has_seven == True:\n",
    "    print('YES')\n",
    "else:\n",
    "    print('NO')"
   ]
  },
  {
   "cell_type": "markdown",
   "id": "88a21f8d",
   "metadata": {},
   "source": [
    "##### 4/10. Обратный порядок 1\n",
    "Дано натуральное число. Напишите программу, которая выводит его цифры в столбик в обратном порядке."
   ]
  },
  {
   "cell_type": "code",
   "execution_count": null,
   "id": "1a821186",
   "metadata": {},
   "outputs": [],
   "source": [
    "# Обратный порядок 1\n",
    "\n",
    "n = int(input())\n",
    "\n",
    "while n != 0:  # пока в числе есть цифры\n",
    "    last_digit = n % 10  # получить последнюю цифру\n",
    "    n = n // 10  # удалить последнюю цифру из числа\n",
    "    print(last_digit)\n"
   ]
  },
  {
   "cell_type": "markdown",
   "id": "2a21e2f1",
   "metadata": {},
   "source": [
    "##### 5/10. Обратный порядок 2\n",
    "Дано натуральное число. Напишите программу, которая меняет порядок цифр числа на обратный."
   ]
  },
  {
   "cell_type": "code",
   "execution_count": null,
   "id": "9447f97d",
   "metadata": {},
   "outputs": [],
   "source": [
    "# Обратный порядок 2\n",
    "\n",
    "n = int(input())\n",
    "\n",
    "while n != 0:  # пока в числе есть цифры\n",
    "    last_digit = n % 10  # получить последнюю цифру\n",
    "    n = n // 10  # удалить последнюю цифру из числа\n",
    "    print(last_digit, end = '')\n"
   ]
  },
  {
   "cell_type": "markdown",
   "id": "fb9678dc",
   "metadata": {},
   "source": [
    "##### 6/10. max и min \n",
    "Дано натуральное число n(n≥10)\n",
    "Напишите программу, которая определяет его максимальную и минимальную цифры и выводит текст в следующем формате:\n",
    "\n",
    "Максимальная цифра равна <максимальная цифра>\n",
    "Минимальная цифра равна <минимальная цифра>"
   ]
  },
  {
   "cell_type": "code",
   "execution_count": null,
   "id": "101d0cd0",
   "metadata": {},
   "outputs": [],
   "source": [
    "# max и min\n",
    "\n",
    "n = int(input())\n",
    "max_dig = 0\n",
    "min_dig = 10\n",
    "while n != 0:\n",
    "    last_digit = n % 10  \n",
    "    if last_digit > max_dig: # Сравниваем последнее число с МАКС \n",
    "        max_dig = last_digit\n",
    "    if last_digit < min_dig: # Сравниваем последнее число c МИН\n",
    "        min_dig = last_digit\n",
    "    n = n // 10  # удалить последнюю цифру из числа\n",
    "print('Максимальная цифра равна', max_dig)\n",
    "print('Минимальная цифра равна', min_dig)\n",
    "    "
   ]
  },
  {
   "cell_type": "markdown",
   "id": "2dbc4a4e",
   "metadata": {},
   "source": [
    "##### 7/10. Все вместе \n",
    "Дано натуральное число. Напишите программу, которая вычисляет:\n",
    "\n",
    "- сумму его цифр;\n",
    "- количество цифр в нем;\n",
    "- произведение его цифр;\n",
    "- среднее арифметическое его цифр;\n",
    "- его первую цифру;\n",
    "- сумму его первой и последней цифры."
   ]
  },
  {
   "cell_type": "code",
   "execution_count": null,
   "id": "15c69947",
   "metadata": {},
   "outputs": [],
   "source": [
    "# Все вместе\n",
    "\n",
    "n = int(input())\n",
    "last = n % 10\n",
    "total = 0\n",
    "counter = 0\n",
    "counter2 = 1\n",
    "while n != 0:  # пока в числе есть цифры\n",
    "    last_digit = n % 10  # получить последнюю цифру\n",
    "    total += last_digit\n",
    "    counter += 1\n",
    "    counter2 = counter2 * last_digit\n",
    "    n = n // 10  # удалить последнюю цифру из числа\n",
    "\n",
    "print(total)\n",
    "print(counter)\n",
    "print(counter2)\n",
    "print(total/counter)\n",
    "print(last_digit)\n",
    "print(last_digit + last)\n"
   ]
  },
  {
   "cell_type": "markdown",
   "id": "231eb106",
   "metadata": {},
   "source": [
    "##### 8/10.  Вторая цифра\n",
    "Дано натуральное число n(n>9). Напишите программу, которая определяет его вторую (с начала) цифру.\n",
    "\n",
    "Формат входных данных \n",
    "На вход программе подается одно натуральное число, состоящее как минимум из двух цифр.\n",
    "\n",
    "Формат выходных данных\n",
    "Программа должна вывести его вторую (с начала) цифру."
   ]
  },
  {
   "cell_type": "code",
   "execution_count": null,
   "id": "576951c6",
   "metadata": {},
   "outputs": [],
   "source": [
    "# Вторая цифра\n",
    "\n",
    "n = int(input())\n",
    "\n",
    "while n >= 10:\n",
    "    last_digit = n % 10  # получить последнюю цифру\n",
    "    n = n // 10  # удалить последнюю цифру из числа\n",
    "\n",
    "print(last_digit)"
   ]
  },
  {
   "cell_type": "markdown",
   "id": "b21309dc",
   "metadata": {},
   "source": [
    "##### 9/10. Одинаковые цифры\n",
    "Дано натуральное число. Напишите программу, которая определяет, состоит ли указанное число из одинаковых цифр.\n",
    "\n",
    "Формат входных данных \n",
    "На вход программе подается одно натуральное число.\n",
    "\n",
    "Формат выходных данных\n",
    "Программа должна вывести «YES» если число состоит из одинаковых цифр и «NO» в противном случае."
   ]
  },
  {
   "cell_type": "code",
   "execution_count": null,
   "id": "1b67947e",
   "metadata": {},
   "outputs": [],
   "source": [
    "# Одинаковые цифры\n",
    "\n",
    "n = int(input())\n",
    "flag = True  # сигнальная метка\n",
    "last_digit = n % 10 # последняя цифра\n",
    "while n != 0 :\n",
    "    c_digit = n % 10\n",
    "    if c_digit != last_digit: \n",
    "        # если последняя цифра не сходится с предпоследней то меняется сигнальная метка\n",
    "        flag = False \n",
    "    n = n // 10 # удалить последнюю цифру из числа\n",
    "\n",
    "if flag == True:\n",
    "    print('YES')\n",
    "else:\n",
    "    print('NO')\n"
   ]
  },
  {
   "cell_type": "markdown",
   "id": "fdb92bd2",
   "metadata": {},
   "source": [
    "#### 10/10. Упорядоченные цифры 🌶️\n",
    "Дано натуральное число. Напишите программу, которая определяет, является ли последовательность его цифр при просмотре справа налево упорядоченной по неубыванию.\n",
    "\n",
    "Формат входных данных \n",
    "На вход программе подаётся одно натуральное число.\n",
    "\n",
    "Формат выходных данных\n",
    "Программа должна вывести «YES», если последовательность его цифр при просмотре справа налево является упорядоченной по неубыванию, или «NO» в противном случае."
   ]
  },
  {
   "cell_type": "code",
   "execution_count": null,
   "id": "94b5813a",
   "metadata": {},
   "outputs": [],
   "source": [
    "# Упорядоченные цифры 🌶️\n",
    "\n",
    "n = int(input())\n",
    "flag = True\n",
    "last_digit = n % 10 # последняя цифра\n",
    "while n != 0 :\n",
    "    prev_digit = n % 10\n",
    "    if last_digit > prev_digit: \n",
    "        # если последняя цифра не сходится с предпоследней то меняется сигнальная метка\n",
    "        flag = False \n",
    "    last_digit = prev_digit \n",
    "    n = n // 10 # удалить последнюю цифру из числа\n",
    "\n",
    "if flag == True:\n",
    "    print('YES')\n",
    "else:\n",
    "    print('NO')"
   ]
  },
  {
   "cell_type": "markdown",
   "id": "5c64c6ff",
   "metadata": {},
   "source": [
    "#### 7.6 Тема урока: break, continue, else"
   ]
  },
  {
   "cell_type": "code",
   "execution_count": null,
   "id": "4d2a8702",
   "metadata": {},
   "outputs": [],
   "source": [
    "mult = 1\n",
    "for i in range(1, 11):\n",
    "   if i % 2 == 0:\n",
    "      continue\n",
    "   if i % 9 == 0:\n",
    "      break\n",
    "   mult *= i\n",
    "print(mult)"
   ]
  },
  {
   "cell_type": "markdown",
   "id": "9105cd81",
   "metadata": {},
   "source": [
    "##### 6/12. Наименьший делитель\n",
    "На вход программе подается число n>1. Напишите программу, которая выводит его наименьший отличный от 1 делитель.\n",
    "\n",
    "Формат входных данных: На вход программе подается одно натуральное число n.\n",
    "\n",
    "Формат выходных данных: Программа должна вывести наименьший делитель отличный от 1.\n",
    "\n",
    "Примечание. Используйте оператор break при обнаружении делителя."
   ]
  },
  {
   "cell_type": "code",
   "execution_count": null,
   "id": "d83bb746",
   "metadata": {},
   "outputs": [],
   "source": [
    "# Наименьший делитель\n",
    "\n",
    "n= int(input())\n",
    "i = 2\n",
    "while n % i != 0:\n",
    "    i += 1\n",
    "    if n % i == 0:\n",
    "        break\n",
    "print(i)"
   ]
  },
  {
   "cell_type": "markdown",
   "id": "b130289e",
   "metadata": {},
   "source": [
    "##### 7/12 Следуй правилам\n",
    "На вход программе подается натуральное число n. Напишите программу, которая выводит числа от 1 до n включительно за исключением:\n",
    "\n",
    " - чисел от 5 до 9 включительно;\n",
    " - чисел от 17 до 37 включительно;\n",
    " - чисел от 78 до 87 включительно.\n",
    "\n",
    "Формат входных данных. На вход программе подается одно натуральное число n.\n",
    "\n",
    "Формат выходных данных\n",
    "Программа должна вывести числа в соответствии с условием задачи, каждое на отдельной строке.\n",
    "\n",
    "Примечание. Используйте оператор continue ."
   ]
  },
  {
   "cell_type": "code",
   "execution_count": null,
   "id": "81f7a62e",
   "metadata": {},
   "outputs": [],
   "source": [
    "# Следуй правилам\n",
    "\n",
    "n = int(input())\n",
    "\n",
    "for i in range(1, n+1):\n",
    "    if 5 <= i <= 9:\n",
    "        continue\n",
    "    elif 17 <= i <= 37:\n",
    "        continue\n",
    "    elif 78 <= i <= 87:\n",
    "        continue\n",
    "    print(i)"
   ]
  },
  {
   "cell_type": "code",
   "execution_count": null,
   "id": "47452876",
   "metadata": {},
   "outputs": [],
   "source": [
    "n = 0\n",
    "while n < 10:\n",
    "    n += 2\n",
    "    if n == 7:\n",
    "        break\n",
    "    print(n)\n",
    "else:\n",
    "    print('Цикл завершен.')"
   ]
  },
  {
   "cell_type": "markdown",
   "id": "585202af",
   "metadata": {},
   "source": [
    "#### 7.7. Тема урока: ревью кода"
   ]
  },
  {
   "cell_type": "code",
   "execution_count": null,
   "id": "0bb8d865",
   "metadata": {},
   "outputs": [],
   "source": [
    "num = int(input())\n",
    "flag = True\n",
    "\n",
    "for i in range(2, int(num ** 0.5) + 1):\n",
    "    if num % i == 0:\n",
    "        flag = False\n",
    "if num > 1 and flag == True:\n",
    "    print('Число простое')\n",
    "else:\n",
    "    print('Число составное')"
   ]
  },
  {
   "cell_type": "markdown",
   "id": "677bae01",
   "metadata": {},
   "source": [
    "❤️ Happy Pythoning! 🐍"
   ]
  },
  {
   "cell_type": "markdown",
   "id": "43a3e19c",
   "metadata": {},
   "source": [
    "##### 3/8. Ревью кода-1 🌶️🌶️"
   ]
  },
  {
   "cell_type": "code",
   "execution_count": null,
   "id": "9b2275d0",
   "metadata": {},
   "outputs": [],
   "source": [
    "# Ревью кода-1 🌶️🌶️\n",
    "count = 0\n",
    "p = 1\n",
    "for i in range(1, 11):\n",
    "    x = int(input())\n",
    "    if x >= 0:\n",
    "        p = p * x\n",
    "        count = count + 1\n",
    "if count > 0:\n",
    "    print(count)\n",
    "    print(p)\n",
    "else:\n",
    "    print('NO')"
   ]
  },
  {
   "cell_type": "code",
   "execution_count": null,
   "id": "a163e51e",
   "metadata": {},
   "outputs": [],
   "source": [
    "spisok = \"1,2,3,4,5\"\n",
    "\n",
    "r = spisok.split(\",\")\n",
    "total = 0\n",
    "for i in (r):\n",
    "    total += int(i) \n",
    "print(total) "
   ]
  },
  {
   "cell_type": "code",
   "execution_count": null,
   "id": "aad488a9",
   "metadata": {},
   "outputs": [],
   "source": [
    "# то что выше можно сделать через лист компрехеншонс\n",
    "# list comprehensions\n",
    "\n",
    "[[] for i in range(4)]"
   ]
  },
  {
   "cell_type": "code",
   "execution_count": null,
   "id": "152fe6da",
   "metadata": {},
   "outputs": [],
   "source": [
    "import pandas as pd\n",
    "x = ((6,2), [2,4], [6,7], [4,0])\n",
    "pd.DataFrame(x)"
   ]
  },
  {
   "cell_type": "markdown",
   "id": "a3ed1255",
   "metadata": {},
   "source": [
    "##### 4/8. Ревью кода-2 🌶️🌶️"
   ]
  },
  {
   "cell_type": "code",
   "execution_count": null,
   "id": "9ea4bdd8",
   "metadata": {},
   "outputs": [],
   "source": [
    "mx = -10**6\n",
    "s = 0\n",
    "for i in range(10):\n",
    "    x = int(input())\n",
    "    if x < 0:\n",
    "        s += x\n",
    "        if x > mx:\n",
    "            mx = x\n",
    "if s == 0:\n",
    "    print(\"NO\")            \n",
    "else: \n",
    "    print(s)\n",
    "    print(mx)"
   ]
  },
  {
   "cell_type": "markdown",
   "id": "49e6c916",
   "metadata": {},
   "source": [
    "##### 5/8. Ревью кода-3"
   ]
  },
  {
   "cell_type": "code",
   "execution_count": null,
   "id": "29946fa5",
   "metadata": {},
   "outputs": [],
   "source": [
    "total = 0\n",
    "for i in range(1, 8):\n",
    "    n = int(input())\n",
    "    if n % 2 == 0:\n",
    "        total += n\n",
    "if total > 0:\n",
    "    print(total)\n",
    "else:\n",
    "    print(0)"
   ]
  },
  {
   "cell_type": "markdown",
   "id": "31b6e997",
   "metadata": {},
   "source": [
    "##### 6/8. Ревью кода-4 🌶️🌶️"
   ]
  },
  {
   "cell_type": "code",
   "execution_count": null,
   "id": "73cb53f5",
   "metadata": {},
   "outputs": [],
   "source": [
    "n = int(input())\n",
    "max_digit = -1\n",
    "while n > 0:\n",
    "    digit = n % 10\n",
    "    if digit % 3 == 0:\n",
    "        if digit > max_digit:\n",
    "            max_digit = digit\n",
    "    n = n // 10\n",
    "if max_digit == -1:\n",
    "    print('NO')\n",
    "else:\n",
    "    print(max_digit)"
   ]
  },
  {
   "cell_type": "markdown",
   "id": "c745ef3b",
   "metadata": {},
   "source": [
    "##### 7/8. Ревью кода-5 🌶️"
   ]
  },
  {
   "cell_type": "code",
   "execution_count": null,
   "id": "5ffdfac0",
   "metadata": {},
   "outputs": [],
   "source": [
    "n = int(input())\n",
    "while n != 0:\n",
    "    f = n % 10\n",
    "    n = n //10\n",
    "print(f)\n"
   ]
  },
  {
   "cell_type": "markdown",
   "id": "c2ee7632",
   "metadata": {},
   "source": [
    "##### 8/8.  Ревью кода-6"
   ]
  },
  {
   "cell_type": "code",
   "execution_count": null,
   "id": "206c60b8",
   "metadata": {},
   "outputs": [],
   "source": [
    "n = int(input())\n",
    "product = 1\n",
    "while n > 0:\n",
    "    last_digit = n % 10\n",
    "    product = product * last_digit\n",
    "    n //= 10\n",
    "print(product)"
   ]
  },
  {
   "cell_type": "markdown",
   "id": "96aecb1c",
   "metadata": {},
   "source": [
    "### 7.8 Вложенные циклы. Часть 1"
   ]
  },
  {
   "cell_type": "code",
   "execution_count": null,
   "id": "dcb3da2b",
   "metadata": {},
   "outputs": [],
   "source": [
    "for minutes in range(60):\n",
    "    for seconds in range(60):\n",
    "        print(minutes, ':', seconds)"
   ]
  },
  {
   "cell_type": "code",
   "execution_count": null,
   "id": "0374dd43",
   "metadata": {},
   "outputs": [],
   "source": [
    "for hours in range(24):\n",
    "    for minutes in range(60):\n",
    "        for seconds in range(60):\n",
    "            print(hours, ':', minutes, ':', seconds)"
   ]
  },
  {
   "cell_type": "code",
   "execution_count": null,
   "id": "ccd48c1f",
   "metadata": {},
   "outputs": [],
   "source": [
    "for i in range(1, 4):\n",
    "    for j in range(3, 5):\n",
    "        print(i + j, end='')"
   ]
  },
  {
   "cell_type": "code",
   "execution_count": null,
   "id": "0f43cf26",
   "metadata": {},
   "outputs": [],
   "source": [
    "counter = 0\n",
    "for i in range(99, 102):\n",
    "    temp = i\n",
    "    while temp > 0:\n",
    "        counter += 1\n",
    "        temp //= 10\n",
    "print(counter)"
   ]
  },
  {
   "cell_type": "markdown",
   "id": "3431c290",
   "metadata": {},
   "source": [
    "##### 5/13. Таблица-1\n",
    "Дано натуральное число n(n≤9).\n",
    "Напишите программу, которая печатает таблицу размером n×3, состоящую из данного числа (числа отделены одним пробелом).\n",
    "\n",
    "Формат входных данных: На вход программе подается одно натуральное число.\n",
    "\n",
    "Формат выходных данных: Программа должна вывести таблицу размером n×3, состоящую из данного числа.\n",
    "\n",
    "Примечание. В конце строки может быть пробел."
   ]
  },
  {
   "cell_type": "code",
   "execution_count": null,
   "id": "2bc9d504",
   "metadata": {},
   "outputs": [],
   "source": [
    "# Таблица-1\n",
    "\n",
    "n = int(input())\n",
    "for i in range(0,n):\n",
    "    print(n, n, n, sep =\" \")"
   ]
  },
  {
   "cell_type": "code",
   "execution_count": null,
   "id": "eae6de91",
   "metadata": {},
   "outputs": [],
   "source": [
    "# Таблица-2\n",
    "\n",
    "n = int(input())\n",
    "\n",
    "for i in range(1, n + 1):\n",
    "    for j in range(3):\n",
    "        print(n, end=' ')\n",
    "    print()"
   ]
  },
  {
   "cell_type": "markdown",
   "id": "cd346751",
   "metadata": {},
   "source": [
    "##### 6/13. Таблица-2\n",
    "Дано натуральное число n(n≤9).\n",
    "Напишите программу, которая печатает таблицу размером n×5, где в i-ой строке указано число i (числа отделены одним пробелом).\n",
    "\n",
    "Формат входных данных: На вход программе подается одно натуральное число.\n",
    "\n",
    "Формат выходных данных: Программа должна вывести таблицу размером n×5 в соответствии с условием.\n",
    "\n",
    "Примечание. В конце строки может быть пробел."
   ]
  },
  {
   "cell_type": "code",
   "execution_count": null,
   "id": "ef371b4f",
   "metadata": {},
   "outputs": [],
   "source": [
    "# Таблица-2\n",
    "\n",
    "n = int(input())\n",
    "for i in range(1,n+1):\n",
    "    print(i, i, i, i, i, sep=\" \")"
   ]
  },
  {
   "cell_type": "code",
   "execution_count": null,
   "id": "70a5d3dd",
   "metadata": {},
   "outputs": [],
   "source": [
    "# Таблица-2\n",
    "\n",
    "n = int(input())\n",
    "for i in range(1,n+1):\n",
    "    r = str(i)+' '\n",
    "    print(r*5)"
   ]
  },
  {
   "cell_type": "code",
   "execution_count": null,
   "id": "cf79f331",
   "metadata": {},
   "outputs": [],
   "source": [
    "# Таблица-2\n",
    "\n",
    "n = int(input())\n",
    "\n",
    "for i in range(1, n + 1):\n",
    "    for j in range(5):\n",
    "        print(i, end=' ')\n",
    "    print()"
   ]
  },
  {
   "cell_type": "markdown",
   "id": "c3f99263",
   "metadata": {},
   "source": [
    "##### 7/13. Таблица-3\n",
    "Дано натуральное число n(n≤9). Напишите программу, которая печатает таблицу сложения для всех чисел от 1 до n (включительно) в соответствии с примером.\n",
    "\n",
    "Формат входных данных: На вход программе подается одно натуральное число.\n",
    "\n",
    "Формат выходных данных: Программа должна вывести таблицу сложения для всех чисел от 1 до n.\n",
    "\n",
    "Примечание 1. Таблицу сложения подразумеваем от 1 до 9 (включительно).\n",
    "\n",
    "Примечание 2. В конце строки может быть пробел."
   ]
  },
  {
   "cell_type": "code",
   "execution_count": null,
   "id": "0037e2c7",
   "metadata": {},
   "outputs": [],
   "source": [
    "# Таблица-3\n",
    "\n",
    "n = int(input())\n",
    "\n",
    "for i in range(1, n+1):\n",
    "    for j in range(1, 10):\n",
    "        print(i, \"+\", j, \"=\", i+j)\n",
    "    print()\n"
   ]
  },
  {
   "cell_type": "markdown",
   "id": "3bd6deaf",
   "metadata": {},
   "source": [
    "##### 8/13. Звездный треугольник 🌶️🌶️\n",
    "Дано нечетное натуральное число n. Напишите программу, которая печатает равнобедренный звездный треугольник с основанием, равным n в соответствии с примером:\n",
    "<!-- \n",
    "*\n",
    "**\n",
    "***\n",
    "****\n",
    "***\n",
    "**\n",
    "*\n",
    "  -->\n",
    "Формат входных данных: На вход программе подается одно нечетное натуральное число.\n",
    "\n",
    "Формат выходных данных: Программа должна вывести треугольник в соответствии с условием.\n",
    "\n",
    "Примечание. Используйте вложенный цикл for.\n",
    "\n"
   ]
  },
  {
   "cell_type": "code",
   "execution_count": null,
   "id": "5977c7a8",
   "metadata": {},
   "outputs": [],
   "source": [
    "# Звездный треугольник 🌶️🌶️\n",
    "\n",
    "n = int(input())\n",
    "\n",
    "\n",
    "for j in range(1, n+1):\n",
    "    if j < n/2:\n",
    "        print(\"*\"*j)\n",
    "    else:\n",
    "        break\n",
    "for k in range(j, 0, -1):\n",
    "    print(\"*\"*k)"
   ]
  },
  {
   "cell_type": "code",
   "execution_count": null,
   "id": "c3b4bab3",
   "metadata": {},
   "outputs": [],
   "source": [
    "# Звездный треугольник 🌶️🌶️. \n",
    "# По приколу\n",
    "\n",
    "n = int(input())\n",
    "\n",
    "for i in range(1):\n",
    "    for j in range(1, n+1):\n",
    "        if j < n/2:\n",
    "            print(\"*\"*j, j*\" \", j * \"/\")\n",
    "        else:\n",
    "            break\n",
    "    for k in range(j, 0, -1):\n",
    "        print(\"*\"*k, k*\" \", k * \"/\")"
   ]
  },
  {
   "cell_type": "markdown",
   "id": "013a439f",
   "metadata": {},
   "source": [
    "##### 9.13.  Численный треугольник 1\n",
    "Дано натуральное число n. Напишите программу, которая печатает численный треугольник в соответствии с примером:\n",
    "\n",
    "<!-- 1\n",
    "22\n",
    "333\n",
    "4444\n",
    "55555 -->"
   ]
  },
  {
   "cell_type": "code",
   "execution_count": null,
   "id": "1d5b7b05",
   "metadata": {},
   "outputs": [],
   "source": [
    "# Численный треугольник 1\n",
    "n = int(input())\n",
    "\n",
    "for i in range(1,n+1):\n",
    "    r = str(i)\n",
    "    print(r*i)"
   ]
  },
  {
   "cell_type": "code",
   "execution_count": null,
   "id": "9abe783e",
   "metadata": {},
   "outputs": [],
   "source": [
    "n = int(input())\n",
    "for i in range(1, n + 1):\n",
    "    for j in range(i):\n",
    "        print(i, end='')\n",
    "    print()"
   ]
  },
  {
   "cell_type": "markdown",
   "id": "02c48b8d",
   "metadata": {},
   "source": [
    "##### Использование вложенных циклов при решении уравнений\n",
    "Вложенные циклы можно использовать для решения уравнений с несколькими переменными. Зная, что решения (корни) уравнения являются натуральными (целыми) числами, несложно написать программу, содержащую вложенный цикл и перебирающую все возможные значения переменных."
   ]
  },
  {
   "cell_type": "code",
   "execution_count": null,
   "id": "bf601f6d",
   "metadata": {},
   "outputs": [],
   "source": [
    "total = 0\n",
    "for x in range(1, 65):\n",
    "    for y in range(1, 60):\n",
    "        if 12 * x + 13 * y == 777:\n",
    "            total += 1\n",
    "            print('x =', x, 'y =', y)\n",
    "print('Общее количество натуральных решений =', total)\n"
   ]
  },
  {
   "cell_type": "code",
   "execution_count": null,
   "id": "ae2d12ba",
   "metadata": {},
   "outputs": [],
   "source": [
    "total = 0\n",
    "for x in range(1, 45):\n",
    "    for y in range(1, 45):\n",
    "        for z in range(1, 45):\n",
    "            if x ** 2 + y ** 2 + z ** 2 == 2020:\n",
    "                total += 1\n",
    "                print('x =', x, 'y =', y, 'z =', z)\n",
    "print('Общее количество натуральных решений =', total)"
   ]
  },
  {
   "cell_type": "markdown",
   "id": "6a348f0c",
   "metadata": {},
   "source": [
    "#### 12 месяцев.\n",
    "\n",
    "Решите уравнение в натуральных числах 28n+30k+31m=365.\n",
    "\n",
    "Примечание. Используйте вложенный цикл for. В первую очередь запишите решение с наименьшим значением \n",
    "n\n",
    "n."
   ]
  },
  {
   "cell_type": "code",
   "execution_count": null,
   "id": "e38a7840",
   "metadata": {},
   "outputs": [],
   "source": [
    "total = 0\n",
    "for n in range(1, 13):\n",
    "    for k in range(1, 12):\n",
    "        for m in range(1, 11):\n",
    "            if 28 * n + 30 * k + 31 * m == 365:\n",
    "                total += 1\n",
    "                print('n =', n, 'k =', k,  'm =', m)\n",
    "print('Общее количество натуральных решений =', total)"
   ]
  },
  {
   "cell_type": "markdown",
   "id": "3683c40f",
   "metadata": {},
   "source": [
    "Старинная задача. Имеется 100 рублей. Сколько быков, коров и телят можно купить на все эти деньги, если плата за быка – 10 рублей, за корову – 5 рублей, за теленка – 0.5 рубля и надо купить 100 голов скота?\n",
    "\n",
    "Примечание. Используйте вложенный цикл for."
   ]
  },
  {
   "cell_type": "code",
   "execution_count": null,
   "id": "5308e21d",
   "metadata": {},
   "outputs": [],
   "source": [
    "total = 0\n",
    "for n in range(1, 10):\n",
    "    for k in range(1, 20):\n",
    "        for m in range(1, 200):\n",
    "            if  10 * n + 5 * k + 0.5 * m == 100 and n + k + m == 100:\n",
    "                total += 1\n",
    "                print('n =', n, 'k =', k,  'm =', m)\n",
    "print('Общее количество натуральных решений =', total)"
   ]
  },
  {
   "cell_type": "code",
   "execution_count": null,
   "id": "ce4ca16a",
   "metadata": {},
   "outputs": [],
   "source": [
    "# Гипотеза Эйлера о сумме степеней 🌶️🌶️\n",
    "\n",
    "ответ: 498"
   ]
  },
  {
   "cell_type": "markdown",
   "id": "3785d71a",
   "metadata": {},
   "source": [
    "#### 7.9. Вложенные циклы. Часть 2"
   ]
  },
  {
   "cell_type": "markdown",
   "id": "76b72a2b",
   "metadata": {},
   "source": [
    "##### 1/7. Численный треугольник 2  \n",
    "Дано натуральное число \n",
    "n\n",
    "Напишите программу, которая печатает численный треугольник с высотой равной \n",
    "n, в соответствии с примером:\n",
    "\n",
    "1  \n",
    "2 3  \n",
    "4 5 6  \n",
    "7 8 9 10  \n",
    "11 12 13 14 15  \n",
    "16 17 18 19 20 21  \n",
    "...\n"
   ]
  },
  {
   "cell_type": "code",
   "execution_count": null,
   "id": "e939eae9",
   "metadata": {},
   "outputs": [],
   "source": [
    "# Численный треугольник 2\n",
    "n = int(input())\n",
    "counter = 0\n",
    "for i in range(1, n + 1):\n",
    "    for j in range(i):\n",
    "        counter += 1\n",
    "        print(counter,  end=' ')\n",
    "    print()"
   ]
  },
  {
   "cell_type": "markdown",
   "id": "83ad7328",
   "metadata": {},
   "source": [
    "##### 2/7. Численный треугольник 3\n",
    "Дано натуральное число n. Напишите программу, которая печатает численный треугольник с высотой равной n, в соответствии с примером:\n",
    "\n",
    "1  \n",
    "121  \n",
    "12321  \n",
    "1234321  \n",
    "123454321  \n",
    "...  \n"
   ]
  },
  {
   "cell_type": "code",
   "execution_count": null,
   "id": "e18d802b",
   "metadata": {},
   "outputs": [],
   "source": [
    "# Численный треугольник 3\n",
    "n = int(input())\n",
    "\n",
    "for i in range(1, n + 1):\n",
    "    for j in range(1, i+1):\n",
    "        print(j,  end='')\n",
    "    for k in range(j-1,0,-1):\n",
    "        print(k, end='')\n",
    "    print()"
   ]
  },
  {
   "cell_type": "markdown",
   "id": "879224eb",
   "metadata": {},
   "source": [
    "##### 3/7. Делители-1 🌶️\n",
    "На вход программе подаются два натуральных числа a и b (a< b). Напишите программу, которая находит натуральное число из отрезка [a;b] (от a до b включительно) с максимальной суммой делителей. Если чисел с максимальной суммой делителей несколько, то искомым числом является наибольшее из них. Ваша программа должна выводить ответ в следующем формате:\n",
    "\n",
    "<число с максимальной суммой делителей> <сумма делителей этого числа>  \n",
    "\n",
    "Формат входных данных: На вход программе подаются два числа, каждое на отдельной строке.\n",
    "\n",
    "Формат выходных данных: Программа должна вывести два числа на одной строке, разделенных пробелом: число с максимальной суммой делителей и сумму его делителей."
   ]
  },
  {
   "cell_type": "code",
   "execution_count": null,
   "id": "05d5bdf8",
   "metadata": {},
   "outputs": [],
   "source": [
    "# Делители-1 🌶️\n",
    "a, b = int(input()), int(input())\n",
    "max_total = 0 # Вводим переменную - максимаьная сумма\n",
    "max_dig = 0 # Вводим переменную - максимальное колличество делителей\n",
    "for i in range(a, b+1): # Проходим циклом по каждому числу в отрезке от a до b\n",
    "    total = 0 # В начале каждого верхнеуровнего цикла обнуляем муксимальную сумму делителей\n",
    "    for k in range(1, i+1): # Теперь во вложенном цикле ищем для каждого числа все делители \n",
    "        if i % k == 0: \n",
    "            total += k \n",
    "        if total >= max_total and i >= max_dig: # пиздец. Оказывается надо было поставить >= в двух условиях\n",
    "            max_total = total\n",
    "            max_dig = i\n",
    "print(max_dig, max_total, end = \" \")\n"
   ]
  },
  {
   "cell_type": "markdown",
   "id": "09dcf013",
   "metadata": {},
   "source": [
    "##### 4/7. Делители-2\n",
    "На вход программе подается натуральное число \n",
    "n. Напишите программу, выводящую графическое изображение делимости чисел от \n",
    "1 до \n",
    "n включительно. В каждой строке надо напечатать очередное число и столько символов «+», сколько делителей у этого числа.\n",
    "\n",
    "Формат входных данных: На вход программе подается одно натуральное число.\n",
    "\n",
    "Формат выходных данных: Программа должна вывести графическое изображение чисел от 1 до n, каждое на отдельной строке.\n",
    "\n",
    "1+  \n",
    "2++  \n",
    "3++  \n",
    "4+++  \n",
    "5++  \n"
   ]
  },
  {
   "cell_type": "code",
   "execution_count": null,
   "id": "cb6338e5",
   "metadata": {},
   "outputs": [],
   "source": [
    "# 4/7. Делители-2\n",
    "\n",
    "n = int(input())\n",
    "\n",
    "for i in range(1, n+1):\n",
    "    counter = 0\n",
    "    for k in range(1, n+1):\n",
    "        if i % k == 0:\n",
    "            counter += 1\n",
    "    print(i, '+' * counter, sep = \"\")\n"
   ]
  },
  {
   "cell_type": "markdown",
   "id": "7badc460",
   "metadata": {},
   "source": [
    "##### 5/7. Цифровой корень 🌶️\n",
    "На вход программе подаётся натуральное число n. Напишите программу, которая находит цифровой корень данного числа. Цифровой корень числа n получается следующим образом: если сложить все цифры этого числа, затем все цифры найденной суммы и повторять этот процесс до тех пор, пока в результате не будет получено однозначное число (цифра), которое и называется цифровым корнем первоначального числа n.\n",
    "\n",
    "Формат входных данных: На вход программе подаётся одно натуральное число.\n",
    "\n",
    "Формат выходных данных: Программа должна вывести цифровой корень введенного числа.\n",
    "\n",
    "Примечание. Используйте вложенные циклы while."
   ]
  },
  {
   "cell_type": "code",
   "execution_count": null,
   "id": "173c8ed3",
   "metadata": {},
   "outputs": [],
   "source": [
    "# Цифровой корень 🌶️\n",
    "\n",
    "n = int(input())\n",
    "\n",
    "while n > 9:\n",
    "    total = 0\n",
    "    while n > 0:\n",
    "        last_digit = n % 10\n",
    "        total += last_digit\n",
    "        n = n // 10\n",
    "    n = total\n",
    "print(n)"
   ]
  },
  {
   "cell_type": "markdown",
   "id": "d72fb4c5",
   "metadata": {},
   "source": [
    "##### 6/7. Сумма факториалов ❗\n",
    "Дано натуральное число n. Напишите программу, которая выводит значение суммы: 1!+2!+3!+…+n!\n",
    "\n",
    "Формат входных данных: На вход программе подается одно натуральное число.\n",
    "\n",
    "Формат выходных данных: Программа должна вывести значение суммы \n",
    "\n",
    "1!+2!+3!+…+n!.\n",
    "\n",
    "Примечание 1. Факториалом натурального числа n, называется произведение всех натуральных чисел от 1 до n, то есть\n",
    "\n",
    "n!=1⋅2⋅3⋅…⋅n\n",
    "\n",
    "Примечание 2. Задачу можно решить без вложенного цикла. Напишите две версии программы =)"
   ]
  },
  {
   "cell_type": "code",
   "execution_count": null,
   "id": "ad0c7be2",
   "metadata": {},
   "outputs": [],
   "source": [
    "# Сумма факториалов ❗\n",
    "\n",
    "n = int(input())\n",
    "factorial = 1\n",
    "total = 0\n",
    "for i in range(1, n+1):\n",
    "    factorial *= i\n",
    "    total += factorial\n",
    "\n",
    "print(total)"
   ]
  },
  {
   "cell_type": "code",
   "execution_count": null,
   "id": "e7c62660",
   "metadata": {},
   "outputs": [],
   "source": [
    "# Сумма факториалов ❗ решение через вложенный цикл\n",
    "\n"
   ]
  },
  {
   "cell_type": "markdown",
   "id": "c4ba0735",
   "metadata": {},
   "source": [
    "##### 7/7. Простые числа\n",
    "На вход программе подается два натуральных числа a и b (a< b). Напишите программу, которая находит все простые числа от a до b включительно.\n",
    "\n",
    "Формат входных данных: На вход программе подаются два числа, каждое на отдельной строке.\n",
    "\n",
    "Формат выходных данных: Программа должна вывести все простые числа от a до b включительно, каждое на отдельной строке.\n",
    "\n",
    "Примечание 1. Простое число – это натуральное число, единственными делителями которого являются только оно само и 1.\n",
    "\n",
    "Примечание 2. Число 1 простым не является."
   ]
  },
  {
   "cell_type": "code",
   "execution_count": null,
   "id": "3d36432a",
   "metadata": {},
   "outputs": [],
   "source": [
    "# Простые числа\n",
    "\n",
    "a,b = int(input()), int(input())\n",
    "for i in range(a, b+1):\n",
    "    counter = 0\n",
    "    for k in range(1, i):\n",
    "        if i % k == 0:\n",
    "            counter += 1\n",
    "    if counter < 2 and i != 1:\n",
    "        print(i)"
   ]
  },
  {
   "cell_type": "markdown",
   "id": "c50179f0",
   "metadata": {},
   "source": [
    "### 9. Строковый тип данных\n",
    "##### 9.1 Индексация"
   ]
  },
  {
   "cell_type": "code",
   "execution_count": null,
   "id": "210f96ff",
   "metadata": {},
   "outputs": [],
   "source": [
    "# В столбик 2\n",
    "s = input()\n",
    "\n",
    "for i in range(-1, -len(s)-1, -1):\n",
    "    print(s[i])\n"
   ]
  },
  {
   "cell_type": "code",
   "execution_count": null,
   "id": "e23c47d9",
   "metadata": {},
   "outputs": [],
   "source": [
    "# ФИО\n",
    "\n",
    "name, fam, otches = input(), input(), input()\n",
    "n = name[0]\n",
    "f = fam[0]\n",
    "o = otches[0]\n",
    "print(f, n, o, sep ='')\n"
   ]
  },
  {
   "cell_type": "code",
   "execution_count": null,
   "id": "270547ab",
   "metadata": {},
   "outputs": [],
   "source": [
    "# Цифра 1\n",
    "\n",
    "total = 0\n",
    "n = input()\n",
    "for i in range(len(n)):\n",
    "    total += int(n[i])\n",
    "print(total)\n"
   ]
  },
  {
   "cell_type": "code",
   "execution_count": null,
   "id": "fb8afe10",
   "metadata": {},
   "outputs": [],
   "source": [
    "# Цифра 2\n",
    "n = input()\n",
    "for i in range(len(n)):\n",
    "    if n[i] in '0123456789':\n",
    "        print(\"Цифра\")\n",
    "        break\n",
    "else:\n",
    "    print(\"Цифр нет\")\n"
   ]
  },
  {
   "cell_type": "markdown",
   "id": "45d37272",
   "metadata": {},
   "source": [
    "### Экзамен на циклы\n"
   ]
  },
  {
   "cell_type": "code",
   "execution_count": null,
   "id": "a1dd4eb8",
   "metadata": {},
   "outputs": [],
   "source": [
    "# Ревью кода - 7 🌶️\n",
    "\n",
    "n = int(input())\n",
    "s = 0\n",
    "while n != 0:\n",
    "    if n % 2 == 0:\n",
    "        s += n % 10 \n",
    "    n //= 10\n",
    "print(s)"
   ]
  },
  {
   "cell_type": "code",
   "execution_count": null,
   "id": "3c92bfd7",
   "metadata": {},
   "outputs": [],
   "source": [
    "# Ревью кода - 8 🌶️\n",
    "\n",
    "\n",
    "count = 0\n",
    "maximum = -10 ** 13\n",
    "for i in range(8):\n",
    "    x = int(input())\n",
    "    if x % 4 == 0:\n",
    "        count += 1\n",
    "        if x > maximum:\n",
    "            maximum = x\n",
    "if count != 0:\n",
    "    print(count)\n",
    "    print(maximum)\n",
    "else:\n",
    "    print('NO')"
   ]
  },
  {
   "cell_type": "code",
   "execution_count": null,
   "id": "ce94025d",
   "metadata": {},
   "outputs": [],
   "source": [
    "# Ревью кода - 9\n",
    "\n",
    "count = 0\n",
    "maximum = -10 ** 9\n",
    "for i in range(4):\n",
    "    x = int(input())\n",
    "    if x % 2 != 0:\n",
    "        count += 1\n",
    "        if x > maximum:\n",
    "            maximum = x\n",
    "            \n",
    "if count != 0:\n",
    "    print(count)\n",
    "    print(maximum)\n",
    "else:\n",
    "    print('NO')\n"
   ]
  },
  {
   "cell_type": "code",
   "execution_count": null,
   "id": "8b944df1",
   "metadata": {},
   "outputs": [],
   "source": [
    "# Звездная рамка\n",
    "\n",
    "n = int(input())\n",
    "\n",
    "for i in range(1, n+1):\n",
    "    if i == 1 or i == n:\n",
    "        print(\"*\" * 19)\n",
    "    if i > 1 and i < n:\n",
    "        print(\"*\" + (\" \" * 17) + \"*\")\n"
   ]
  },
  {
   "cell_type": "code",
   "execution_count": null,
   "id": "871ea608",
   "metadata": {},
   "outputs": [],
   "source": [
    "# Третья цифра\n",
    "\n",
    "n = input()\n",
    "\n",
    "for i in range(2,3):\n",
    "    print(int(n[i]))"
   ]
  },
  {
   "cell_type": "code",
   "execution_count": null,
   "id": "ccd64b64",
   "metadata": {},
   "outputs": [],
   "source": [
    "# Все вместе 2\n",
    "\n",
    "n = int(input())\n",
    "counter_dig = 0         # количество цифр 3 в нем\n",
    "last_dig = n % 10       # последняя цифра\n",
    "last_dig_counter = 0    # сколько раз в нем встречается последняя цифра\n",
    "chet = 0                # количество четных цифр\n",
    "total5 = 0              # Сумма цифр больше пяти\n",
    "factor7 =  1            # произведение цифр, больших семи\n",
    "counter05 = 0           # сколько раз в нем встречаются цифры 0 и 5\n",
    "\n",
    "while n != 0:\n",
    "    ld = n % 10\n",
    "    if ld == 3:\n",
    "        counter_dig += 1\n",
    "    if ld == last_dig:\n",
    "        last_dig_counter += 1\n",
    "    if ld % 2 == 0:\n",
    "        chet += 1\n",
    "    if ld > 5:\n",
    "        total5 += ld\n",
    "    if ld > 7:\n",
    "        factor7 *= ld\n",
    "    if ld == 0 or ld == 5: \n",
    "        counter05 += 1\n",
    "    n = n // 10\n",
    "    \n",
    "\n",
    "print(counter_dig)\n",
    "print(last_dig_counter) \n",
    "print(chet)        \n",
    "print(total5) \n",
    "if factor7 > 0:        \n",
    "    print(factor7)\n",
    "else:\n",
    "    print(1)          \n",
    "print(counter05)  \n"
   ]
  },
  {
   "cell_type": "code",
   "execution_count": null,
   "id": "503be510",
   "metadata": {},
   "outputs": [],
   "source": [
    "# Числа Рамануджана 🌶️\n",
    "1729\n",
    "4104\n",
    "13832\n",
    "20683\n",
    "32832\n"
   ]
  }
 ],
 "metadata": {
  "kernelspec": {
   "display_name": "Python 3 (ipykernel)",
   "language": "python",
   "name": "python3"
  },
  "language_info": {
   "codemirror_mode": {
    "name": "ipython",
    "version": 3
   },
   "file_extension": ".py",
   "mimetype": "text/x-python",
   "name": "python",
   "nbconvert_exporter": "python",
   "pygments_lexer": "ipython3",
   "version": "3.10.12"
  }
 },
 "nbformat": 4,
 "nbformat_minor": 5
}
