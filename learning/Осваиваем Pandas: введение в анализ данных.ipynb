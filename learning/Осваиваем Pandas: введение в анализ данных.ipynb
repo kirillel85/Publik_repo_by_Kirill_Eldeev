{
 "cells": [
  {
   "cell_type": "markdown",
   "metadata": {},
   "source": [
    "# Осваиваем Pandas: введение в анализ данных  \n",
    "### Александр Сидоров\n"
   ]
  },
  {
   "cell_type": "code",
   "execution_count": null,
   "metadata": {},
   "outputs": [],
   "source": [
    "# Создать объект Series из списка чисел [1, 2, 3] \n",
    "# с метками [a, b, c] и вывести его на печать.\n",
    "\n",
    "import pandas as pd\n",
    "p = pd.Series([1, 2, 3], index=['a', 'b', 'c'])\n",
    "print(p)"
   ]
  },
  {
   "cell_type": "code",
   "execution_count": null,
   "metadata": {},
   "outputs": [],
   "source": [
    "import pandas as pd\n",
    "p = pd.Series({'a': 1, 'b': 2, 'c': 3})\n",
    "print(p)"
   ]
  },
  {
   "cell_type": "code",
   "execution_count": null,
   "metadata": {},
   "outputs": [],
   "source": [
    "import numpy as np\n",
    "import pandas as pd\n",
    "arr = np.array([1, 2, 3, 4, 5])\n",
    "p = pd.Series(arr)\n",
    "print(p)"
   ]
  },
  {
   "cell_type": "code",
   "execution_count": null,
   "metadata": {},
   "outputs": [],
   "source": [
    "# В первой строке поступает строка с символами разлепленными пробелом, \n",
    "# во второй строка с целыми числами. На их основе создать список кортежей \n",
    "# и из него объект Series, вывести его на печать.\n",
    "\n",
    "import pandas as pd\n",
    "s = 'a b c'\n",
    "s1 = '4 6 2'\n",
    "p = pd.Series(s1.split(\" \")) + pd.Series(s.split(\" \"))\n",
    "print(p)"
   ]
  },
  {
   "cell_type": "code",
   "execution_count": 46,
   "metadata": {},
   "outputs": [
    {
     "name": "stdout",
     "output_type": "stream",
     "text": [
      "0       banana\n",
      "1      ananasa\n",
      "2    mandarina\n",
      "3     apelsina\n",
      "dtype: object\n"
     ]
    }
   ],
   "source": [
    "# На вход поступает строка слов, разделенных пробелом. \n",
    "# Создать на ее основе объект Series с метками 0, 1, 2,... Вывести его на печать\n",
    "\n",
    "import pandas as pd\n",
    "s = 'banana ananasa mandarina apelsina'\n",
    "s1 = s.split(\" \")\n",
    "p = pd.Series(s1)\n",
    "print(p) \n",
    "\n"
   ]
  },
  {
   "cell_type": "code",
   "execution_count": null,
   "metadata": {},
   "outputs": [],
   "source": []
  }
 ],
 "metadata": {
  "kernelspec": {
   "display_name": "env",
   "language": "python",
   "name": "python3"
  },
  "language_info": {
   "codemirror_mode": {
    "name": "ipython",
    "version": 3
   },
   "file_extension": ".py",
   "mimetype": "text/x-python",
   "name": "python",
   "nbconvert_exporter": "python",
   "pygments_lexer": "ipython3",
   "version": "3.10.12"
  }
 },
 "nbformat": 4,
 "nbformat_minor": 2
}
