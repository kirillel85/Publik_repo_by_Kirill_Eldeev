{
 "cells": [
  {
   "cell_type": "markdown",
   "metadata": {},
   "source": [
    "### 9. Строковый тип данных\n",
    "##### 9.1 Индексация"
   ]
  },
  {
   "cell_type": "code",
   "execution_count": null,
   "metadata": {},
   "outputs": [],
   "source": [
    "# В столбик 2\n",
    "s = input()\n",
    "\n",
    "for i in range(-1, -len(s)-1, -1):\n",
    "    print(s[i])\n"
   ]
  },
  {
   "cell_type": "code",
   "execution_count": null,
   "metadata": {},
   "outputs": [],
   "source": [
    "# ФИО\n",
    "\n",
    "name, fam, otches = input(), input(), input()\n",
    "n = name[0]\n",
    "f = fam[0]\n",
    "o = otches[0]\n",
    "print(f, n, o, sep ='')\n"
   ]
  },
  {
   "cell_type": "code",
   "execution_count": null,
   "metadata": {},
   "outputs": [],
   "source": [
    "# Цифра 1\n",
    "\n",
    "total = 0\n",
    "n = input()\n",
    "for i in range(len(n)):\n",
    "    total += int(n[i])\n",
    "print(total)\n"
   ]
  },
  {
   "cell_type": "code",
   "execution_count": null,
   "metadata": {},
   "outputs": [],
   "source": [
    "# Цифра 2\n",
    "n = input()\n",
    "for i in range(len(n)):\n",
    "    if n[i] in '0123456789':\n",
    "        print(\"Цифра\")\n",
    "        break\n",
    "else:\n",
    "    print(\"Цифр нет\")\n"
   ]
  },
  {
   "cell_type": "code",
   "execution_count": null,
   "metadata": {},
   "outputs": [],
   "source": [
    "# Сколько раз?\n",
    "n = input()\n",
    "counter1 = 0\n",
    "counter2 = 0\n",
    "for i in range(len(n)):\n",
    "    if n[i] in '*':\n",
    "        counter1 += 1\n",
    "    if n[i] in '+':\n",
    "        counter2 += 1    \n",
    "\n",
    "print('Символ + встречается', counter2, 'раз', sep = ' ')\n",
    "print('Символ * встречается', counter1, 'раз', sep = ' ')"
   ]
  },
  {
   "cell_type": "code",
   "execution_count": null,
   "metadata": {},
   "outputs": [],
   "source": [
    "# Одинаковые соседи\n",
    "# На вход программе подается одна строка. \n",
    "# Напишите программу, которая определяет сколько в ней одинаковых соседних символов.\n",
    "\n",
    "n = input()\n",
    "first = n[0]    # первая буква в строке\n",
    "counter = 0     # Счетчик повторяющихся цифр\n",
    "for i in range(1, len(n)):\n",
    "    r = n[i]\n",
    "    if r == first:\n",
    "        counter += 1\n",
    "    first = n[i]    # первая буква в строке\n",
    "\n",
    "print(counter)\n",
    "   "
   ]
  },
  {
   "cell_type": "code",
   "execution_count": null,
   "metadata": {},
   "outputs": [],
   "source": [
    "# Гласные и согласные 🔠\n",
    "\n",
    "n = input()\n",
    "concordant = 0    # \n",
    "vowel = 0     # \n",
    "for i in range(0, len(n)):\n",
    "    if n[i].lower() in 'бвгджзйклмнпрстфхцчшщ':\n",
    "        concordant += 1\n",
    "    if n[i].lower() in 'ауоыиэяюе':\n",
    "        vowel += 1   \n",
    "print('Количество гласных букв равно', vowel)\n",
    "print('Количество согласных букв равно', concordant)\n"
   ]
  },
  {
   "cell_type": "code",
   "execution_count": null,
   "metadata": {},
   "outputs": [],
   "source": [
    "# Decimal to Binary 🔟\n",
    "# Двоичное число\n",
    "n = int(input())\n",
    "n = format(n,'b')\n",
    "\n",
    "print(n)"
   ]
  },
  {
   "cell_type": "markdown",
   "metadata": {},
   "source": [
    "#### 9.2  Тема урока: строки"
   ]
  },
  {
   "cell_type": "code",
   "execution_count": null,
   "metadata": {},
   "outputs": [],
   "source": [
    "s = 'Мы создаем два среза'\n",
    "s = s[:4] + 'X' + s[5:]\n",
    "\n",
    "print(s)"
   ]
  },
  {
   "cell_type": "code",
   "execution_count": null,
   "metadata": {},
   "outputs": [],
   "source": [
    "s = 'abcdefg'\n",
    "print(s[::-3])"
   ]
  },
  {
   "cell_type": "code",
   "execution_count": null,
   "metadata": {},
   "outputs": [],
   "source": [
    "# Дополните приведенный код, используя срезы, \n",
    "# так чтобы он вывел последние 9 символов строки s.\n",
    "\n",
    "s = \"In 2010, someone paid 10k Bitcoin for two pizzas.\"\n",
    "\n",
    "print(s[len(s)-9:])\n",
    "\n"
   ]
  },
  {
   "cell_type": "code",
   "execution_count": null,
   "metadata": {},
   "outputs": [],
   "source": [
    "# Дополните приведенный код, используя срезы, \n",
    "# так чтобы он вывел строку s в обратном порядке.\n",
    "s = \"In 2010, someone paid 10k Bitcoin for two pizzas.\"\n",
    "\n",
    "print(s[len(s)::-1])"
   ]
  },
  {
   "cell_type": "code",
   "execution_count": null,
   "metadata": {},
   "outputs": [],
   "source": [
    "# Палиндром\n",
    "n = input()\n",
    "p = n[len(n)::-1]\n",
    "if n == p:\n",
    "    print(\"YES\")\n",
    "else: \n",
    "    print(\"NO\")"
   ]
  },
  {
   "cell_type": "code",
   "execution_count": null,
   "metadata": {},
   "outputs": [],
   "source": [
    "# Делаем срезы 1\n",
    "n = input()\n",
    "print(len(n))\n",
    "print(n*3)\n",
    "print(n[0])\n",
    "print(n[0:3])\n",
    "print(n[len(n)-3:])\n",
    "print(n[len(n)::-1])\n",
    "print(n[1:len(n)-1])"
   ]
  },
  {
   "cell_type": "code",
   "execution_count": null,
   "metadata": {},
   "outputs": [],
   "source": [
    "# Делаем срезы 2\n",
    "\n",
    "n = input()\n",
    "\n",
    "print(n[2])\n",
    "print(n[len(n)-2])\n",
    "print(n[0:2])\n",
    "print(n[0:len(n)-2])\n",
    "print(n[::2])\n",
    "print(n[1::2])\n",
    "print(n[::-1])\n",
    "print(n[::-2])"
   ]
  },
  {
   "cell_type": "code",
   "execution_count": null,
   "metadata": {},
   "outputs": [],
   "source": [
    "# Две половинки\n",
    "n = input()\n",
    "\n",
    "x = int(len(n)/2)\n",
    "if len(n) % 2 == 0:\n",
    "    print(n[x:len(n)] + n[0:x])\n",
    "else:\n",
    "   print(n[x+1:len(n)] + n[0:x+1])\n"
   ]
  },
  {
   "cell_type": "markdown",
   "metadata": {},
   "source": [
    "##### 9.3 Методы строк. Часть 1"
   ]
  },
  {
   "cell_type": "code",
   "execution_count": null,
   "metadata": {},
   "outputs": [],
   "source": [
    "s = 'foo123#BAR#.'\n",
    "print(s.capitalize())"
   ]
  },
  {
   "cell_type": "code",
   "execution_count": null,
   "metadata": {},
   "outputs": [],
   "source": [
    "s = 'i LEARN Python LAnguaGE'\n",
    "print(s.swapcase())"
   ]
  },
  {
   "cell_type": "code",
   "execution_count": null,
   "metadata": {},
   "outputs": [],
   "source": [
    "# Заглавные буквы\n",
    "\n",
    "s = input()\n",
    "s1 = s.title()\n",
    "if s == s1:\n",
    "    print(\"YES\")\n",
    "else: \n",
    "    print(\"NO\")"
   ]
  },
  {
   "cell_type": "code",
   "execution_count": null,
   "metadata": {},
   "outputs": [],
   "source": [
    "# sWAP cASE\n",
    "s = input()\n",
    "print(s.swapcase())"
   ]
  },
  {
   "cell_type": "code",
   "execution_count": null,
   "metadata": {},
   "outputs": [],
   "source": [
    "# Хороший оттенок\n",
    "s = input().lower()\n",
    "\n",
    "\n",
    "if \"хорош\" in s: # находим подстроку \"хорош\" в строке s\n",
    "    print(\"YES\")\n",
    "else: \n",
    "    print(\"NO\")\n",
    "\n"
   ]
  },
  {
   "cell_type": "code",
   "execution_count": null,
   "metadata": {},
   "outputs": [],
   "source": [
    "# Нижний регистр\n",
    "\n",
    "s = input()\n",
    "counter = 0\n",
    "for i in range(len(s)):\n",
    "    if \"a\" <= s[i] <= \"z\":\n",
    "        counter += 1\n",
    "print(counter)"
   ]
  },
  {
   "cell_type": "markdown",
   "metadata": {},
   "source": [
    "#### 9.4 Методы строк. Часть 2"
   ]
  },
  {
   "cell_type": "code",
   "execution_count": null,
   "metadata": {},
   "outputs": [],
   "source": [
    "# Пример\n",
    "s = 'foo goo moo'\n",
    "print(s.count('oo'))\n",
    "print(s.count('oo', 0, 8)) "
   ]
  },
  {
   "cell_type": "code",
   "execution_count": null,
   "metadata": {},
   "outputs": [],
   "source": [
    "# Пример\n",
    "s = 'foo bar foo baz foo qux'\n",
    "print(s.find('foo'))\n",
    "print(s.find('bar'))\n",
    "print(s.find('qu'))\n",
    "print(s.find('python'))"
   ]
  },
  {
   "cell_type": "code",
   "execution_count": null,
   "metadata": {},
   "outputs": [],
   "source": [
    "# Количество слов\n",
    "\n",
    "n = input().count(\" \") # Количество слов это количество пробелов + 1\n",
    "print(n+1)\n"
   ]
  },
  {
   "cell_type": "code",
   "execution_count": null,
   "metadata": {},
   "outputs": [],
   "source": [
    "# Минутка генетики 🧬\n",
    "n = input().lower()\n",
    "\n"
   ]
  },
  {
   "cell_type": "code",
   "execution_count": null,
   "metadata": {},
   "outputs": [],
   "source": [
    "# Очень странные дела 📻\n",
    "n = int(input())\n",
    "counter = 0\n",
    "for i in range(1,n+1):\n",
    "    s = input()\n",
    "    if s.count(\"11\") >= 3:\n",
    "        counter += 1\n",
    "print(counter)"
   ]
  },
  {
   "cell_type": "code",
   "execution_count": null,
   "metadata": {},
   "outputs": [],
   "source": [
    "# Количество цифр в строке\n",
    "s = input()\n",
    "counter = 0\n",
    "for i in range(len(s)):\n",
    "    if \"0\" <= s[i] <= \"9\":\n",
    "        counter += 1\n",
    "print(counter)"
   ]
  },
  {
   "cell_type": "code",
   "execution_count": null,
   "metadata": {},
   "outputs": [],
   "source": [
    "# Количество цифр в строке\n",
    "# Решение 2\n",
    "s = input()\n",
    "counter = 0\n",
    "for i in range(10):\n",
    "    counter += s.count(str(i))\n",
    "print(counter)"
   ]
  },
  {
   "cell_type": "code",
   "execution_count": null,
   "metadata": {},
   "outputs": [],
   "source": [
    "# Количество цифр в строке\n",
    "# Решение 3\n",
    "s = input()\n",
    "counter = 0\n",
    "for i in '0123456789':\n",
    "  counter += s.count(i)\n",
    "print(counter)"
   ]
  },
  {
   "cell_type": "code",
   "execution_count": null,
   "metadata": {},
   "outputs": [],
   "source": [
    "# .com or .ru\n",
    "s = input()\n",
    "if s.endswith(\".ru\") or s.endswith(\".com\"):\n",
    "    print(\"YES\")\n",
    "else:\n",
    "    print(\"NO\")"
   ]
  },
  {
   "cell_type": "code",
   "execution_count": null,
   "metadata": {},
   "outputs": [],
   "source": [
    "# Самый частотный символ. Моё решение\n",
    "s = input()\n",
    "counter_symb = 0 # сколько раз встречается символ в строке \n",
    "symb = \"\"  # переменная в которую прописываем символ в срезе цикла \n",
    "last_counter_symb = 0 # последний символ который встречался в строке максимальное количество раз\n",
    "for i in range(len(s)): # по каждому индексу строки проходим циклом\n",
    "    counter_symb = s.count(s[i]) # берем символ в каждом индексе и считаем сколько раз он встречается в данной строке\n",
    "    if counter_symb >= last_counter_symb: # Если символ встречался в строке больше раз чем предыдущий то:\n",
    "        last_counter_symb = counter_symb # То записываем его в переменную последнего символа\n",
    "        symb = s[i]  # Записываем срез индекса символа в переменную symb\n",
    "   \n",
    "print(f'{symb}')\n"
   ]
  },
  {
   "cell_type": "code",
   "execution_count": null,
   "metadata": {},
   "outputs": [],
   "source": [
    "# Самый частотный символ\n",
    "# Вариант2\n",
    "s = input()\n",
    "\n",
    "most_common = s[0]\n",
    "for el in s:\n",
    "    if s.count(el) >= s.count(most_common):\n",
    "        most_common = el\n",
    "print(most_common)"
   ]
  },
  {
   "cell_type": "code",
   "execution_count": null,
   "metadata": {},
   "outputs": [],
   "source": [
    "# Пример f строки\n",
    "print(f'Сумма цифр \\t{\"2+7\"}', \"       \", \"s\")"
   ]
  },
  {
   "cell_type": "code",
   "execution_count": null,
   "metadata": {},
   "outputs": [],
   "source": [
    "# Первое и последнее вхождение\n",
    "\n",
    "s = input()\n",
    "\n",
    "if s.count('f') == 0:\n",
    "    print(\"NO\")\n",
    "if s.count('f') == 1:\n",
    "    print(s.find('f'))\n",
    "if s.count('f') >= 2:\n",
    "    print(s.find(\"f\"), end = ' ')\n",
    "    print(s.rfind(\"f\"), end = ' ')\n"
   ]
  },
  {
   "cell_type": "code",
   "execution_count": null,
   "metadata": {},
   "outputs": [],
   "source": [
    "# Первое и последнее вхождение\n",
    "# Вариант2\n",
    "s = input()\n",
    "cnt = s.count(\"f\")\n",
    "\n",
    "if cnt == 0:\n",
    "    print(\"NO\")\n",
    "elif cnt == 1:\n",
    "    print(s.index(\"f\"))\n",
    "else:\n",
    "    print(s.index(\"f\"), s.rindex(\"f\"))"
   ]
  },
  {
   "cell_type": "code",
   "execution_count": null,
   "metadata": {},
   "outputs": [],
   "source": [
    "# Первое и последнее вхождение\n",
    "# Вариант3\n",
    "n = input()\n",
    "if n.count(\"f\") == 1:  print(n.index(\"f\"))\n",
    "elif n.count(\"f\") > 1: print(n.index(\"f\"), n.rindex(\"f\"))\n",
    "else:                  print(\"NO\")"
   ]
  },
  {
   "cell_type": "code",
   "execution_count": null,
   "metadata": {},
   "outputs": [],
   "source": [
    "# Удаление фрагмента\n",
    "s = input()\n",
    "left_i = s.index(\"h\")\n",
    "right_i = s.rindex(\"h\")\n",
    "print(s[:left_i] + s[right_i + 1:])\n",
    "\n"
   ]
  },
  {
   "cell_type": "markdown",
   "metadata": {},
   "source": [
    "#### 9.5 Методы строк. Часть 3\n"
   ]
  },
  {
   "cell_type": "code",
   "execution_count": null,
   "metadata": {},
   "outputs": [],
   "source": [
    "# Пример\n",
    "\n",
    "print('Cyberpunk 2077'.isalnum())"
   ]
  },
  {
   "cell_type": "code",
   "execution_count": null,
   "metadata": {},
   "outputs": [],
   "source": [
    "\n",
    "# Плохие комментарии 😈\n",
    "n = int(input())\n",
    "\n",
    "for i in range(1, n+1):\n",
    "    s = input()\n",
    "    if s.isspace() == True or s == '':\n",
    "        print(i,': ', \"COMMENT SHOULD BE DELETED\", sep=\"\")\n",
    "    else:\n",
    "        print(i,': ', s, sep=\"\")\n"
   ]
  },
  {
   "cell_type": "code",
   "execution_count": null,
   "metadata": {},
   "outputs": [],
   "source": [
    "# Автомобильный номер 🚘🌶️ (Мой код)\n",
    "\n",
    "s = input()\n",
    "flag = True\n",
    "s1 = 'АВЕКМНОРСТУХ'\n",
    "\n",
    "\n",
    "if (len(s) > 10) or (len(s) < 9):\n",
    "    flag = False\n",
    "elif s[0] not in s1:\n",
    "    flag = False\n",
    "elif s[0].isalpha() != True:\n",
    "    flag = False\n",
    "elif s[1:4].isdigit() != True:\n",
    "    flag = False\n",
    "elif s[4:6].isalpha() != True:\n",
    "    flag = False\n",
    "elif s[4] not in s1: \n",
    "    flag = False\n",
    "elif s[5] not in s1:\n",
    "    flag = False\n",
    "elif s[6] != '_':\n",
    "    flag = False\n",
    "elif s[7:10].isdigit() != True:\n",
    "    flag = False\n",
    "\n",
    "\n",
    "if flag == True:\n",
    "    print(\"YES\")\n",
    "else:\n",
    "    print(\"NO\")"
   ]
  },
  {
   "cell_type": "code",
   "execution_count": null,
   "metadata": {},
   "outputs": [],
   "source": [
    "# Автомобильный номер 🚘🌶️\n",
    "# Вариант2\n",
    "\n",
    "s, a = input(), 'АВЕКМНОРСТУХ'\n",
    "res = 8 < len(s) < 11 and (s[1:4]+s[7:9]+s[-1]).isdigit() \\\n",
    "        and (s[0] in a and s[4] in a and s[5] in a) and s[6]=='_'\n",
    "print('YES' if res else 'NO')"
   ]
  },
  {
   "cell_type": "code",
   "execution_count": null,
   "metadata": {},
   "outputs": [],
   "source": [
    "# Проверь никнейм 👩🌶️ (мой код)\n",
    "s = input()\n",
    "\n",
    "flag = True\n",
    "\n",
    "if s[0] != \"@\":\n",
    "    flag = False\n",
    "elif (len(s) > 15) or (len(s) < 5):\n",
    "    flag = False\n",
    "elif s[1:].isalnum() != True:\n",
    "    flag = False\n",
    "elif s[1:] != s[1:].lower():\n",
    "    flag = False\n",
    "    \n",
    "if flag == True:\n",
    "    print(\"Correct\")\n",
    "else:\n",
    "    print(\"Incorrect\")\n"
   ]
  },
  {
   "cell_type": "code",
   "execution_count": null,
   "metadata": {},
   "outputs": [],
   "source": [
    "# Проверь никнейм 👩🌶️\n",
    "# Вариант2\n",
    "\n",
    "s = input()\n",
    "\n",
    "if (\n",
    "    s.startswith('@')\n",
    "    and 5 <= len(s) <= 15\n",
    "    and s[1:].isalnum()\n",
    "    and s == s.lower()\n",
    "):\n",
    "    print('Correct')\n",
    "else:\n",
    "    print('Incorrect')"
   ]
  },
  {
   "cell_type": "code",
   "execution_count": null,
   "metadata": {},
   "outputs": [],
   "source": [
    "# Проверь никнейм 👩🌶️\n",
    "# Вариант3\n",
    "s  = input()\n",
    "s1 = s[1:]\n",
    "if s.startswith('@') == True and 5<=len(s)<=15 and s == s.lower() and s1.isalnum()==True:\n",
    "    print('Correct')\n",
    "else:\n",
    "    print('Incorrect')"
   ]
  },
  {
   "cell_type": "code",
   "execution_count": null,
   "metadata": {},
   "outputs": [],
   "source": [
    "# Проверь никнейм 👩🌶️\n",
    "# Вариант4\n",
    "\n",
    "nick = input()\n",
    "res = 'Incorrect'\n",
    "if nick[0] == '@':\n",
    "    if 5 <= len(nick) <= 15:\n",
    "        if nick[1:].isalnum() and (nick[1:] + 'a').islower():\n",
    "            res = 'Correct'\n",
    "print(res)"
   ]
  },
  {
   "cell_type": "markdown",
   "metadata": {},
   "source": [
    "#### 9.6  Форматирование строк. f-строки и метод format()"
   ]
  },
  {
   "cell_type": "code",
   "execution_count": null,
   "metadata": {},
   "outputs": [],
   "source": [
    "# Пример где нет префикса f.\n",
    "name = 'Imperium'\n",
    "text = 'For the {name} spice is used by the navigators to find safe paths between the stars.'\n",
    "\n",
    "print(text)"
   ]
  },
  {
   "cell_type": "code",
   "execution_count": null,
   "metadata": {},
   "outputs": [],
   "source": [
    "# 7/11.  Используя метод format(), дополните приведённый код так, чтобы он вывел текст:\n",
    "# In 2010, someone paid 10K Bitcoin for two pizzas.\n",
    "\n",
    "s = 'In {0}, someone paid {1} {2} for two pizzas.'.format('2010','10k','Bitcoin'); print(s)"
   ]
  },
  {
   "cell_type": "code",
   "execution_count": null,
   "metadata": {},
   "outputs": [],
   "source": [
    "# 8/11.  Используя f-строку, дополните приведённый код так, чтобы он вывел текст:\n",
    "# In 2010, someone paid 10K Bitcoin for two pizzas.\n",
    "a, y, s1 = '10K', '2010', 'Bitcoin'\n",
    "s = f'In {y}, someone paid {a} {s1} for two pizzas.'; print(s)"
   ]
  },
  {
   "cell_type": "code",
   "execution_count": null,
   "metadata": {},
   "outputs": [],
   "source": [
    "# 8/11.  Используя f-строку, дополните приведённый код так, чтобы он вывел текст:\n",
    "# In 2010, someone paid 10K Bitcoin for two pizzas.\n",
    "# Вариант2\n",
    "s = f'In {\"2010\"}, someone paid {\"10K\"} {\"Bitcoin\"} for two pizzas.'; print(s)"
   ]
  },
  {
   "cell_type": "code",
   "execution_count": null,
   "metadata": {},
   "outputs": [],
   "source": [
    "# Курсы валют 💹\n",
    "# На вход программе подаются три строки (каждая на новой строке): дата, курс доллара и курс юаня.\n",
    "date = input()\n",
    "curs_usd = input()\n",
    "curs_cny = input()\n",
    "\n",
    "print(f'На {date}: 1$ = {curs_usd}₽, 1¥ = {curs_cny}₽')"
   ]
  },
  {
   "cell_type": "code",
   "execution_count": null,
   "metadata": {},
   "outputs": [],
   "source": [
    "# Сумма кубов 🆚 Куб суммы\n",
    "a, b = int(input()), int(input())\n",
    "sum, cube_sum = (a**3 + b**3), ((a + b)**3)\n",
    "print(f'Для чисел {a} и {b}:')\n",
    "print(f'  Сумма кубов: {a}**3 + {b}**3 = {sum}')\n",
    "print('  Куб суммы: ({0} + {1})**3 = {2}'.format(a, b, cube_sum))"
   ]
  },
  {
   "cell_type": "code",
   "execution_count": null,
   "metadata": {},
   "outputs": [],
   "source": [
    "# (Не) Активное похудение 🏃🌶️\n",
    "day, cur_weight, = int(input()), float(input())\n",
    "check_weight = 100 - day*0.2\n",
    "\n",
    "if cur_weight <= check_weight:\n",
    "    print('Все идет по плану')\n",
    "    print(f'#{day} ДЕНЬ: ТЕКУЩИЙ ВЕС = {cur_weight} кг, ЦЕЛЬ по ВЕСУ = {check_weight} кг')\n",
    "else:\n",
    "    print('Что-то пошло не так')\n",
    "    print(f'#{day} ДЕНЬ: ТЕКУЩИЙ ВЕС = {cur_weight} кг, ЦЕЛЬ по ВЕСУ = {check_weight} кг')\n",
    "\n"
   ]
  },
  {
   "cell_type": "markdown",
   "metadata": {},
   "source": [
    "#### 9.7 Тема урока: представление строк в памяти компьютера, ASCII и Unicode"
   ]
  },
  {
   "cell_type": "code",
   "execution_count": null,
   "metadata": {},
   "outputs": [],
   "source": [
    "# Функции ord() и chr() часто работают в паре. \n",
    "# Мы можем использовать следующий код для вывода всех заглавных букв английского алфавита:\n",
    "\n",
    "for i in range(26):\n",
    "    print(chr(ord('A') + i), end =\"\")"
   ]
  },
  {
   "cell_type": "code",
   "execution_count": null,
   "metadata": {},
   "outputs": [],
   "source": [
    "print(chr(ord('A')) == 'A')\n",
    "print(ord(chr(65)) == 65)\n"
   ]
  },
  {
   "cell_type": "code",
   "execution_count": null,
   "metadata": {},
   "outputs": [],
   "source": [
    "# Соотнесите символы с их кодами в таблице Unicode (ASCII).\n",
    "print(ord('a'))\n",
    "print(ord('A'))\n",
    "print(ord('z'))\n",
    "print(ord('Z'))\n",
    "print(ord('6'))\n",
    "print(ord('7'))"
   ]
  },
  {
   "cell_type": "code",
   "execution_count": null,
   "metadata": {},
   "outputs": [],
   "source": [
    "# Что покажет приведенный ниже код?\n",
    "print(chr(ord('🐍')))\n",
    "print(ord(chr(128013)))"
   ]
  },
  {
   "cell_type": "code",
   "execution_count": null,
   "metadata": {},
   "outputs": [],
   "source": [
    "print(chr(128013))"
   ]
  },
  {
   "cell_type": "code",
   "execution_count": null,
   "metadata": {},
   "outputs": [],
   "source": [
    "# 6/13. Какая следующая буква? 🔜\n",
    "word = input()\n",
    "if word in 'ЯяZz':\n",
    "    print('Дальше букв нет')\n",
    "else:\n",
    "    print(chr(ord(word)+1))\n"
   ]
  },
  {
   "cell_type": "code",
   "execution_count": null,
   "metadata": {},
   "outputs": [],
   "source": [
    "# 7/13. Символы в диапазоне\n",
    "dig1, dig2 = int(input()), int(input())\n",
    "\n",
    "for i in range(dig1, dig2+1):\n",
    "    print(chr(i), end = ' ')\n"
   ]
  },
  {
   "cell_type": "code",
   "execution_count": null,
   "metadata": {},
   "outputs": [],
   "source": [
    "# 8/13. Простой шифр\n",
    "s = input()\n",
    "for i in range(len(s)): print(ord(s[i]), end = ' ')\n"
   ]
  },
  {
   "cell_type": "code",
   "execution_count": null,
   "metadata": {},
   "outputs": [],
   "source": [
    "# Самое тяжелое слово 🗿\n",
    "# Я знаю что это жесть но мне пох\n",
    "s1, s2, s3, s4 = input(), input(), input(), input()\n",
    "total1 = 0\n",
    "total2 = 0\n",
    "total3 = 0\n",
    "total4 = 0\n",
    "for i in range(len(s1)):\n",
    "    dig1 = ord(s1[i])\n",
    "    total1 += dig1\n",
    "for i in range(len(s2)):\n",
    "    dig2 = ord(s2[i])\n",
    "    total2 += dig2\n",
    "for i in range(len(s3)):\n",
    "    dig3 = ord(s3[i])\n",
    "    total3 += dig3\n",
    "for i in range(len(s4)):\n",
    "    dig4 = ord(s4[i])\n",
    "    total4 += dig4\n",
    "total_max = max(total1, total2, total3, total4)\n",
    "if total_max == total1:\n",
    "    print(s1)\n",
    "elif total_max == total2 and total2 != total1 and total2 != total3:\n",
    "    print(s2)\n",
    "elif total_max == total3 and total3 != total2 and total3 != total1:\n",
    "    print(s3)\n",
    "else:\n",
    "    print(s4)\n"
   ]
  },
  {
   "cell_type": "code",
   "execution_count": null,
   "metadata": {},
   "outputs": [],
   "source": [
    "# Для предыдущего задания. Разбираюсь с типами данных \n",
    "# которые отдаёт функция ord()\n",
    "s1 = 'строки'\n",
    "print(type(ord(s1[1])))\n",
    "print(ord(s1[1]))"
   ]
  },
  {
   "cell_type": "code",
   "execution_count": null,
   "metadata": {},
   "outputs": [],
   "source": [
    "# Стоимость ответа 💬🐝. Мое решение\n",
    "s = input()\n",
    "total = 0\n",
    "for i in range(len(s)):\n",
    "    dig = ord(s[i])\n",
    "    total += dig\n",
    "print(f\"Текст сообщения: '{s}'\")    # применил экранирование\n",
    "print(f'Стоимость сообщения: {total*3}🐝')"
   ]
  },
  {
   "cell_type": "code",
   "execution_count": null,
   "metadata": {},
   "outputs": [],
   "source": [
    "# разбираюсь с последующими задачами на примере \"Стоимость ответа\"\n",
    "s = input()\n",
    "total = 0\n",
    "for i in range(len(s)):\n",
    "    dig = ord(s[i])\n",
    "    total += dig\n",
    "    print(f'{s[i]}: {dig} + total = {total}')"
   ]
  },
  {
   "cell_type": "code",
   "execution_count": null,
   "metadata": {},
   "outputs": [],
   "source": [
    "# Стоимость ответа 💬🐝.\n",
    "# Вариант2\n",
    "string = input()\n",
    "print(f\"Текст сообщения: '{string}'\", f\"Стоимость сообщения: {sum(ord(i) * 3 for i in list(string))}🐝\", sep='\\n')"
   ]
  },
  {
   "cell_type": "code",
   "execution_count": null,
   "metadata": {},
   "outputs": [],
   "source": [
    "# 11/13. Накручиваем стоимость ответа ⬆️🌶️\n",
    "s = input()\n",
    "total = 0\n",
    "for i in range(len(s)):\n",
    "    dig = ord(s[i])\n",
    "    total += dig\n",
    "print(f'Старая стоимость: {total*3}🐝')\n",
    "\n",
    "eng = \"eyopaxcETOPAHXCBM\"\n",
    "rus = \"еуорахсЕТОРАНХСВМ\"\n",
    "for j in range(len(eng)):\n",
    "    s = s.replace(eng[j], rus[j]) # Меняем английские буквы на русские\n",
    "\n",
    "total1 = 0\n",
    "for i in range(len(s)):\n",
    "    dig1 = ord(s[i])\n",
    "    total1 += dig1\n",
    "print(f'Новая стоимость: {total1*3}🐝')"
   ]
  },
  {
   "cell_type": "code",
   "execution_count": null,
   "metadata": {},
   "outputs": [],
   "source": [
    "# 12/13. Шифр Цезаря 🌶️\n",
    "n = int(input())\n",
    "s = input()\n",
    "s1 = \"\"\n",
    "for i in range(len(s)):\n",
    "    dig = ord(s[i])-n\n",
    "    if dig < 97:\n",
    "        dig += 26\n",
    "        s1 += chr(dig)\n",
    "    elif dig > 122:\n",
    "        dig -= 26\n",
    "        s1 += chr(dig)\n",
    "    else:\n",
    "        s1 += chr(ord(s[i])-n)\n",
    "print(s1)"
   ]
  },
  {
   "cell_type": "code",
   "execution_count": null,
   "metadata": {},
   "outputs": [],
   "source": [
    "# 12/13. Шифр Цезаря 🌶️\n",
    "# Вариант2\n",
    "n = int(input())\n",
    "s = input()\n",
    "\n",
    "for i in s:\n",
    "    # Интересное решение. Но ничего не понятно\n",
    "    cur_n = ord(\"a\") + (ord(i) - ord(\"a\") + 26 - n) % 26\n",
    "    print(chr(cur_n), end=\"\")\n",
    "\n"
   ]
  },
  {
   "cell_type": "code",
   "execution_count": null,
   "metadata": {},
   "outputs": [],
   "source": [
    "rus_letters = 'абвгдеёжзийклмнопрстуфхцчшщъыьэюя'\n",
    "ang_letters = 'abcdefghijklmnopqrstuvwxyz'\n",
    "\n",
    "text = input('Введите текст:    ')\n",
    "\n",
    "def cipher_or_un():\n",
    "    cipher_or_un = input('Хотите зашифровать или дешифровать? Зашифровать - 1, Дешифровать = 2    ')\n",
    "    while True:\n",
    "        if cipher_or_un == '1':\n",
    "            return 1\n",
    "        elif cipher_or_un == '2':\n",
    "            return -1\n",
    "        else:\n",
    "            print('Введено некорректно значение')\n",
    "\n",
    "def text_lang():\n",
    "    lang = input('Будем использовать русский или английский алфавит? Русский - 1, Английский - 2    ')\n",
    "    while True:\n",
    "        if lang == '1':\n",
    "            return rus_letters\n",
    "        elif lang == '2':\n",
    "            return ang_letters\n",
    "        else:\n",
    "            print('Введено некорректно значение')\n",
    "\n",
    "def step():\n",
    "    step = int(input('Введите шаг шифрования (значение должно быть положительным)    '))\n",
    "    while True:\n",
    "        if step > 0:\n",
    "            return step\n",
    "        else:\n",
    "            print('Введено некорректно значение')\n",
    "\n",
    "def caesar_cipher(direction, lang, step):\n",
    "    res = ''\n",
    "    for c in text:\n",
    "        if c.isupper() and c.lower() in lang:\n",
    "            res += chr(ord(lang[0].upper()) + ((ord(c) + step * direction - ord(lang[0].upper())) % len(lang)))\n",
    "        elif c.islower() and c in lang:\n",
    "            res += chr(ord(lang[0]) + ((ord(c) + step * direction - ord(lang[0])) % len(lang)))\n",
    "        else:\n",
    "            res += c\n",
    "    print(res)\n",
    "\n",
    "\n",
    "direction = cipher_or_un()\n",
    "lang = text_lang()\n",
    "step = step()\n",
    "caesar_cipher(direction, lang, step)"
   ]
  },
  {
   "cell_type": "code",
   "execution_count": null,
   "metadata": {},
   "outputs": [],
   "source": [
    "# 13/13. Сбой в системе ⚠️🌶️🌶️\n",
    "s = input()\n",
    "alphabet = \"АБВГДЕЁЖЗИЙКЛМНОПРСТУФХЦЧШЩЪЬЫЭЮЯабвгдеёжзийклмнопрстуфхцчшщъьыэюя\"\n",
    "for i in alphabet:\n",
    "    u = ord(i)\n",
    "    # Используя ф строку заменияем цифру юникода на букву \n",
    "    # в каждой итерации цикла, которы проходит по каждой букве алфавита\n",
    "    s = s.replace(f'[u-{u}]', chr(u)) \n",
    "print(s)\n"
   ]
  },
  {
   "cell_type": "code",
   "execution_count": null,
   "metadata": {},
   "outputs": [],
   "source": [
    "# Для решения задачи сбой в сестеме\n",
    "s =\"Hello, my name is [u-1061][u-1072][u-1082][u-1080]!\"\n",
    "\n",
    "s.replace(f'[u-{1061}]', chr(1061))\n"
   ]
  },
  {
   "cell_type": "markdown",
   "metadata": {},
   "source": [
    "#### 9.8 Сравнение строк"
   ]
  },
  {
   "cell_type": "code",
   "execution_count": null,
   "metadata": {},
   "outputs": [],
   "source": [
    "# 11.16 Строковые минимум и максимум. Моё решение\n",
    "# # s1, s2, s3, s4 = \"буря\", \"мглою\", \"небо\", \"кроет\"\n",
    "# lines = list(iter(input, 'КОНЕЦ'))\n",
    "min = chr(2000)\n",
    "max = chr(0)\n",
    "s = input()\n",
    "while s != 'КОНЕЦ':\n",
    "    if s > max:\n",
    "        max = s\n",
    "    if s < min:\n",
    "        min = s\n",
    "    s = input()\n",
    "print('Минимальная строка ⬇️: {}'.format(min))\n",
    "print(f\"Максимальная строка ⬆️: {max}\")\n"
   ]
  },
  {
   "cell_type": "code",
   "execution_count": null,
   "metadata": {},
   "outputs": [],
   "source": [
    "# 11.16 Строковые минимум и максимум. Мое второе решение через append\n",
    "# Вариант2\n",
    "s, n = [], input() \n",
    "while n != 'КОНЕЦ':\n",
    "    s.append(n)\n",
    "    n = input() \n",
    "print(f'Минимальная строка ⬇️: {min(s)}', f'Максимальная строка ⬆️: {max(s)}', sep='\\n')"
   ]
  },
  {
   "cell_type": "code",
   "execution_count": null,
   "metadata": {},
   "outputs": [],
   "source": [
    "# 12/16. Волшебное число ✨\n",
    "s1, s2, s3, s4 = input(), input(), input(), input()\n",
    "mins = min(s1, s2, s3, s4)\n",
    "maxs = max(s1, s2, s3, s4)\n",
    "print((ord(mins[len(mins)-1:]) * ord(maxs[len(maxs)-1:]))**2)\n"
   ]
  },
  {
   "cell_type": "code",
   "execution_count": null,
   "metadata": {},
   "outputs": [],
   "source": [
    "# Вывел несколько букв из UTF таблицы\n",
    "print('А', ord('А'))\n",
    "print('а', ord('а'))\n",
    "print('П', ord('П'))\n",
    "print(chr(1104),ord('ѐ'))\n",
    "print('ё', ord('ё'))"
   ]
  },
  {
   "cell_type": "code",
   "execution_count": null,
   "metadata": {},
   "outputs": [],
   "source": [
    "# 13/16. Название класса 👩🏻‍🏫\n",
    "n = int(input())\n",
    "\n",
    "for i in range(n):\n",
    "    s = input()\n",
    "    if len(s) == 2:\n",
    "        if '0' <= s[0] <= '9':\n",
    "            if 'А' <= s[-1] <= 'П':\n",
    "                print(\"YES\")\n",
    "            else:\n",
    "                print(\"NO\")\n",
    "        else:\n",
    "            print(\"NO\")\n",
    "    else:\n",
    "        print(\"NO\")"
   ]
  },
  {
   "cell_type": "code",
   "execution_count": null,
   "metadata": {},
   "outputs": [],
   "source": [
    "# Название класса 👩🏻‍🏫\n",
    "# Вариант2\n",
    "for i in range(int(input())):\n",
    "    s = input()\n",
    "    if (len(s) == 2 and 'А' <= s[1] <= 'П' and '0' <= s[0] <= '9'):\n",
    "        print('YES')\n",
    "    else:\n",
    "        print('NO')\n"
   ]
  },
  {
   "cell_type": "code",
   "execution_count": null,
   "metadata": {},
   "outputs": [],
   "source": [
    "# 14/16. Необычное сравнение 📊\n",
    "n1, n2 = input(), input()\n",
    "s1, s2 = \"\", \"\"\n",
    "for i in range(len(n1)):\n",
    "    mb1 = n1[i].lower()\n",
    "    if mb1.isalpha() == True:\n",
    "        s1 += mb1\n",
    "\n",
    "for j in range(len(n2)):\n",
    "    mb2 = n2[j].lower()\n",
    "    if mb2.isalpha() == True:\n",
    "        s2 += mb2\n",
    "\n",
    "if s1 == s2:\n",
    "    print(\"YES\")  \n",
    "else:\n",
    "    print(\"NO\")   "
   ]
  },
  {
   "cell_type": "code",
   "execution_count": null,
   "metadata": {},
   "outputs": [],
   "source": [
    "# n1, n2 = \"Ab4c1$#ddd\", \"a_b_c##DDD70\"\n",
    "# p = max(len(n1), len(n2))\n",
    "# print(type(p))\n",
    "# print(len(n1))\n",
    "# print(len(n2))\n",
    "# print(n1[0].lower())"
   ]
  },
  {
   "cell_type": "code",
   "execution_count": null,
   "metadata": {},
   "outputs": [],
   "source": [
    "# 15/16. Сортируем слова 📶\n",
    "\n",
    "n1, n2, n3 = input(), input(), input()\n",
    "maxn = max(n1, n2, n3)\n",
    "minn = min(n1, n2, n3)\n",
    "third = min(max(n1, n2), max(n1, n3), max(n2, n3))\n",
    "print(minn, third, maxn)"
   ]
  },
  {
   "cell_type": "code",
   "execution_count": null,
   "metadata": {},
   "outputs": [],
   "source": [
    "# 16/16. Порядок книг 📚🌶️\n",
    "n = int(input())\n",
    "ss = \"\"\n",
    "last_s = \"\"\n",
    "for i in range(n):\n",
    "    s = input()\n",
    "    ss = s[:s.index(\" \")] + s[s.index(\" \")+6:] # Вырезаем из строки инициалы авторов\n",
    "    if ss < last_s:\n",
    "        print(\"NO\")\n",
    "        break\n",
    "    else:\n",
    "        last_s = ss\n",
    "else:\n",
    "    print(\"YES\")"
   ]
  },
  {
   "cell_type": "code",
   "execution_count": null,
   "metadata": {},
   "outputs": [],
   "source": [
    "# Проверка сових идей в решениее задания - Порядок книг.\n",
    "n1, n2, n3 = \"Толстой А.Н., «Петр Первый»\", \"Толстой А.Н., «Хмурое утро»\", \"Толстой Л.Н., «Война и мир»\"\n",
    "maxn = max(n1, n2, n3)\n",
    "minn = min(n1, n2, n3)\n",
    "third = min(max(n1, n2), max(n1, n3), max(n2, n3))\n",
    "print(minn, third, maxn)"
   ]
  },
  {
   "cell_type": "code",
   "execution_count": null,
   "metadata": {},
   "outputs": [],
   "source": [
    "# Проверка сових идей в решениее задания - Порядок книг.\n",
    "s = 'Гончаров И.А., «Обломов»'\n",
    "print(s[:s.index(\" \")+1], end = \"\")\n",
    "print(s[s.index(\" \")+7:])"
   ]
  },
  {
   "cell_type": "markdown",
   "metadata": {},
   "source": [
    "### 10. Итоговая работа на строки. Экзамен"
   ]
  },
  {
   "cell_type": "markdown",
   "metadata": {},
   "source": [
    "#### 10.2 Часть 2. Задачи"
   ]
  },
  {
   "cell_type": "code",
   "execution_count": null,
   "metadata": {},
   "outputs": [],
   "source": [
    "# Каждый третий\n",
    "s = input()\n",
    "p = ''\n",
    "for i in range(1, len(s)):\n",
    "    if i % 3 != 0:\n",
    "        p += s[i]\n",
    "print(p)"
   ]
  },
  {
   "cell_type": "code",
   "execution_count": null,
   "metadata": {},
   "outputs": [],
   "source": [
    "# Замени меня полностью\n",
    "s = input()\n",
    "p = s.replace('1', 'one')\n",
    "print(p)"
   ]
  },
  {
   "cell_type": "code",
   "execution_count": null,
   "metadata": {},
   "outputs": [],
   "source": [
    "# Удали меня полностью\n",
    "s = input()\n",
    "p = s.replace('@', '')\n",
    "print(p)"
   ]
  },
  {
   "cell_type": "code",
   "execution_count": null,
   "metadata": {},
   "outputs": [],
   "source": [
    "# Второе вхождение\n",
    "\n",
    "s = input()\n",
    "p = s.count('f')\n",
    "if p == 1:\n",
    "    print(\"-1\")\n",
    "elif p == 0:\n",
    "    print(\"-2\")\n",
    "else:\n",
    "    print(s.find(\"f\", s.index(\"f\")+1))\n"
   ]
  },
  {
   "cell_type": "code",
   "execution_count": null,
   "metadata": {},
   "outputs": [],
   "source": [
    "# Переворот\n",
    "\n",
    "s = input()\n",
    "h1 = s.find(\"h\")\n",
    "h2 = s.rfind(\"h\")\n",
    "print(s[:h1 + 1] + s[h2-1:h1:-1] + s[h2:])"
   ]
  },
  {
   "cell_type": "markdown",
   "metadata": {},
   "source": [
    "### 11. СПИСКИ"
   ]
  },
  {
   "cell_type": "markdown",
   "metadata": {},
   "source": [
    "##### 11.2 Основы работы со списками"
   ]
  },
  {
   "cell_type": "code",
   "execution_count": null,
   "metadata": {},
   "outputs": [],
   "source": [
    "# 8/9. Перевернуть список задом на перед\n",
    "languages = ['Chinese', 'Spanish', 'English', 'Hindi', 'Arabic', 'Bengali', 'Portuguese', 'Russian', 'Japanese', 'Lahnda']\n",
    "languages =languages[::-1]\n",
    "\n",
    "print(languages)\n"
   ]
  },
  {
   "cell_type": "code",
   "execution_count": null,
   "metadata": {},
   "outputs": [],
   "source": [
    "# 8/9. Перевернуть список задом на перед\n",
    "# 2 вариант\n",
    "languages = ['Chinese', 'Spanish', 'English', 'Hindi', 'Arabic', 'Bengali', 'Portuguese', 'Russian', 'Japanese', 'Lahnda']\n",
    "l = list() # создаём пустой список\n",
    "for i in range(-1,-len(languages),-1):\n",
    "    l += [languages[i]]\n",
    "print(l)\n"
   ]
  },
  {
   "cell_type": "code",
   "execution_count": null,
   "metadata": {},
   "outputs": [],
   "source": [
    "# 9/9. Основы работы со списками\n",
    "# Дополните приведенный код, используя операторы конкатенации (+) и \n",
    "# умножения списка на число (*), так чтобы он вывел список:\n",
    "numbers1 = [1, 2, 3]\n",
    "numbers2 = [6]\n",
    "numbers3 = [7, 8, 9, 10, 11, 12, 13]\n",
    "\n",
    "print(numbers1*2+numbers2*9+numbers3)"
   ]
  },
  {
   "cell_type": "markdown",
   "metadata": {},
   "source": [
    "##### 11.3 Методы списков. Добавления и удаления элементов"
   ]
  },
  {
   "cell_type": "code",
   "execution_count": null,
   "metadata": {},
   "outputs": [],
   "source": [
    "# Все сразу 1 🌶️\n",
    "numbers = [2, 6, 3, 14, 10, 4, 11, 16, 12, 5, 4, 16, 1, 0, 8, 16, 10, 10, 8, 5, 1, 11, 10, 10, 12, 0, 0, 6, 14, 8, 2, 12, 14, 5, 6, 12, 1, 2, 10, 14, 9, 1, 15, 1, 2, 14, 16, 6, 7, 5]\n",
    "print(len(numbers)) # Вывел длину списка\n",
    "print(numbers[len(numbers)-1]) # Вывел последний элемент списка по индексу -1\n",
    "# print([numbers[-1]]) # Вывел последний элемент списка через индекс\n",
    "print(numbers[len(numbers)-1::-1]) # Вывел список в обратном порядке (вспоминаем срезы)\n",
    "if 5 in numbers and 17 in numbers: \n",
    "    print(\"YES\")\n",
    "else:\n",
    "    print(\"NO\")\n",
    "# print(numbers[1:len(numbers)-1]) # Вывел список с удаленными первым и последним элементами.\n",
    "del numbers[0]\n",
    "del numbers[len(numbers)-1]\n",
    "print(numbers)"
   ]
  },
  {
   "cell_type": "code",
   "execution_count": null,
   "metadata": {},
   "outputs": [],
   "source": [
    "# Список строк\n",
    "# put your python code here\n",
    "n = int(input())\n",
    "spisok = []\n",
    "for i in range(n):\n",
    "    s = [input()]\n",
    "    spisok += s\n",
    "print(spisok)"
   ]
  },
  {
   "cell_type": "code",
   "execution_count": null,
   "metadata": {},
   "outputs": [],
   "source": [
    "# Алфавит\n",
    "spisok = []\n",
    "s = \"abcdefghijklmnopqrstuvwxyz\"\n",
    "for i in range(26):\n",
    "    spisok +=  [s[i] * (i+1)]\n",
    "print(spisok)"
   ]
  },
  {
   "cell_type": "code",
   "execution_count": null,
   "metadata": {},
   "outputs": [],
   "source": [
    "# Список кубов\n",
    "n, spisok = int(input()), []\n",
    "for i in range(n):     \n",
    "    n1 = int(input())\n",
    "    spisok.append(n1 ** 3) \n",
    "print(spisok)"
   ]
  },
  {
   "cell_type": "code",
   "execution_count": null,
   "metadata": {},
   "outputs": [],
   "source": [
    "# Список делителей\n",
    "n = int(input())\n",
    "spisok = []\n",
    "for i in range(1, n+1):\n",
    "    if n % i == 0:\n",
    "        spisok.append(i)\n",
    "print(spisok)"
   ]
  },
  {
   "cell_type": "code",
   "execution_count": null,
   "metadata": {},
   "outputs": [],
   "source": [
    "# Суммы двух\n",
    "\n",
    "n, spisok = int(input()), []\n",
    "counter = 0\n",
    "for i in range(1, n+1):\n",
    "    n1 = int(input())\n",
    "    spisok += [counter + n1]\n",
    "    counter = n1\n",
    "del spisok[0]\n",
    "print(spisok)"
   ]
  },
  {
   "cell_type": "code",
   "execution_count": null,
   "metadata": {},
   "outputs": [],
   "source": [
    "# Удалите нечетные индексы\n",
    "n, spisok = int(input()), []\n",
    "for i in range(n): \n",
    "    n1 = int(input())\n",
    "    spisok.append(n1)\n",
    "del spisok[1::2]\n",
    "print(spisok)"
   ]
  },
  {
   "cell_type": "code",
   "execution_count": null,
   "metadata": {},
   "outputs": [],
   "source": [
    "# k-ая буква слова 🌶️\n",
    "n = int(input())  \n",
    "d= []  \n",
    "for _ in range(n):\n",
    "    s = input()   \n",
    "    d.append(s)  \n",
    "t= int(input())  \n",
    "f = '' \n",
    "for s in d:  \n",
    "    if len(s) >= t:       \n",
    "        f = f+s[t - 1]\n",
    "print(f)"
   ]
  },
  {
   "cell_type": "code",
   "execution_count": null,
   "metadata": {},
   "outputs": [],
   "source": [
    "# Символы всех строк\n",
    "n, s = int(input()), []\n",
    "for i in range(n):  s.extend(input())\n",
    "print(s)"
   ]
  },
  {
   "cell_type": "markdown",
   "metadata": {},
   "source": [
    "#### 11.4 Вывод элементов списка"
   ]
  },
  {
   "cell_type": "code",
   "execution_count": null,
   "metadata": {},
   "outputs": [],
   "source": [
    "numbers = [0, 1, 2, 3, 4, 5, 6, 7, 8, 9, 10]\n",
    "\n",
    "print(*numbers, sep = '\\n')"
   ]
  },
  {
   "cell_type": "code",
   "execution_count": null,
   "metadata": {},
   "outputs": [],
   "source": [
    "s = 'Python' ; print(*s) ; print(*s[1:], sep='\\n')"
   ]
  },
  {
   "cell_type": "code",
   "execution_count": null,
   "metadata": {},
   "outputs": [],
   "source": [
    "# Дополните приведенный код, так чтобы он вывел сумму квадратов элементов списка numbers.\n",
    "number, numsum= [1, 78, 23, -65, 99, 9089, 34, -32, 0, -67, 1, 11, 111], []\n",
    "for i in number:    numsum.append(i**2) \n",
    "print(sum(numsum))"
   ]
  },
  {
   "cell_type": "code",
   "execution_count": null,
   "metadata": {},
   "outputs": [],
   "source": [
    "# Значение функции\n",
    "n, sp1, sp2 = int(input()), [], []\n",
    "for i in range(n):\n",
    "    n1 = int(input())\n",
    "    sp1.append(n1)\n",
    "    sp2 += [n1**2 + 2*n1 + 1]\n",
    "\n",
    "print(*sp1, sep = '\\n')\n",
    "print(\"\")\n",
    "print(*sp2, sep = '\\n')"
   ]
  },
  {
   "cell_type": "code",
   "execution_count": null,
   "metadata": {},
   "outputs": [],
   "source": [
    "# Remove outliers\n",
    "n, s =int(input()), []\n",
    "for i in range(n):\n",
    "    s.append(int(input()))\n",
    "    \n",
    "s.remove(min(s))\n",
    "s.remove(max(s))\n",
    "print(*s, sep='\\n')"
   ]
  },
  {
   "cell_type": "code",
   "execution_count": null,
   "metadata": {},
   "outputs": [],
   "source": [
    "# Без дубликатов\n",
    "\n",
    "n, s =int(input()), []\n",
    "for i in range(n):\n",
    "    s1 = input()\n",
    "    if s1 not in s:\n",
    "        s.append(s1)\n",
    "print(*s, sep='\\n')"
   ]
  },
  {
   "cell_type": "code",
   "execution_count": null,
   "metadata": {},
   "outputs": [],
   "source": [
    "# Google search - 1\n",
    "n, s =int(input()), []\n",
    "for i in range(n):\n",
    "    st = input()\n",
    "    s.append(st)\n",
    "s1 = input().lower()\n",
    "for j in s:\n",
    "    if s1 in j.lower():\n",
    "        print(j)"
   ]
  },
  {
   "cell_type": "code",
   "execution_count": null,
   "metadata": {},
   "outputs": [],
   "source": [
    "# Google search - 2 🌶️🌶️\n",
    "n = int(input()) # Число строк \n",
    "y=[]\n",
    "for i in range(n):\n",
    "    y.append(input())\n",
    "z=[]\n",
    "for i in range(int(input())):\n",
    "    z.append(input())\n",
    "for i in y:\n",
    "    o=0\n",
    "    for e in z:\n",
    "        if e.lower() in i.lower():\n",
    "            o=o+1\n",
    "            if o >=len(z):\n",
    "                print(i)"
   ]
  },
  {
   "cell_type": "code",
   "execution_count": null,
   "metadata": {},
   "outputs": [],
   "source": [
    "# Negatives, Zeros and Positives\n",
    "n, s1,s2,s3 =int(input()), [],[],[]\n",
    "for i in range(n):\n",
    "    n1 = int(input())\n",
    "    if n1 == 0: s1.append(n1)\n",
    "    elif n1 > 0: s2.append(n1)\n",
    "    elif n1 < 0: s3.append(n1)\n",
    "print(*s3,*s1,*s2, sep='\\n')"
   ]
  },
  {
   "cell_type": "markdown",
   "metadata": {},
   "source": [
    "#### 11.5 Cтроковые методы\n",
    "Метод split()  \n",
    "Метод join()"
   ]
  },
  {
   "cell_type": "code",
   "execution_count": null,
   "metadata": {},
   "outputs": [],
   "source": [
    "# 10/16. Построчный вывод\n",
    "s = input().split()\n",
    "print(*s, sep='\\n')"
   ]
  },
  {
   "cell_type": "code",
   "execution_count": null,
   "metadata": {},
   "outputs": [],
   "source": [
    "# 11/16. Инициалы\n",
    "s = input().split()\n",
    "for i in s:    print(i[0], end=\".\")"
   ]
  },
  {
   "cell_type": "code",
   "execution_count": 2,
   "metadata": {},
   "outputs": [],
   "source": [
    "# 12/16. Windows OS\n",
    "s = input().split(\"\\\\\") # \\\\ - Это экранирование обратного слэша\n",
    "print(*s, sep='\\n')"
   ]
  },
  {
   "cell_type": "code",
   "execution_count": null,
   "metadata": {},
   "outputs": [],
   "source": [
    "# 13/16.  Диаграмма\n",
    "s = input().split()\n",
    "for i in s: \n",
    "    k = int(i)\n",
    "    print(k * \"+\")\n",
    "   "
   ]
  },
  {
   "cell_type": "code",
   "execution_count": null,
   "metadata": {},
   "outputs": [],
   "source": [
    "# 14/16.  Корректный ip-адрес\n",
    "\n",
    "s = input().split(\".\")\n",
    "counter = 0\n",
    "for i in s:\n",
    "    if -1 < int(i) < 256:\n",
    "        counter += 1\n",
    "    else:\n",
    "        counter += 0\n",
    "if counter == len(s):    print(\"ДА\")\n",
    "else:    print(\"НЕТ\")"
   ]
  },
  {
   "cell_type": "code",
   "execution_count": null,
   "metadata": {},
   "outputs": [],
   "source": [
    "# 15/16. Добавь разделитель\n",
    "s, s1 = input(), input()\n",
    "k = s1.join(s)\n",
    "print(k)"
   ]
  },
  {
   "cell_type": "code",
   "execution_count": null,
   "metadata": {},
   "outputs": [],
   "source": [
    "# 16/16. Количество совпадающих пар\n",
    "s, counter = input().split(), 0  # Вводим счетчик\n",
    "# Проходим по каждому индексу i в списке s\n",
    "for i in range(len(s)): \n",
    "    # Для каждого индекса i, проходим по оставшимся словам, начиная с индекса i + 1\n",
    "    for j in range(i + 1, len(s)): \n",
    "        if s[j] == s[i]:\n",
    "            counter += 1\n",
    "print(counter)"
   ]
  },
  {
   "cell_type": "markdown",
   "metadata": {},
   "source": [
    "#### 11.6 Методы списков часть 2\n",
    "Метод insert()  \n",
    "Метод index()  \n",
    "Метод remove()  \n",
    "Метод pop()  \n",
    "Метод reverse()  \n",
    "Метод count()  \n",
    "Метод clear()  \n",
    "Метод copy()  \n",
    "Метод sort()"
   ]
  },
  {
   "cell_type": "code",
   "execution_count": null,
   "metadata": {},
   "outputs": [],
   "source": [
    "# Всё сразу 2 🌶️\n",
    "numbers = [8, 9, 10, 11]\n",
    "numbers.pop(1)\n",
    "numbers.insert(1,17)\n",
    "numbers.append(4) ; numbers.append(5) ; numbers.append(6) # Добавил числа 4, 5 и 6 в конец списка;\n",
    "numbers.pop(0)\n",
    "numbers = numbers*2\n",
    "numbers.insert(3,25)\n",
    "print(numbers)"
   ]
  },
  {
   "cell_type": "code",
   "execution_count": null,
   "metadata": {},
   "outputs": [],
   "source": [
    "# Переставить min и max\n",
    "\n",
    "s, s1 = input().split(), []\n",
    "for i in s:    s1.append(int(i))\n",
    "mindig = min(s1)\n",
    "maxdig = max(s1)\n",
    "minindx = s1.index(min(s1))\n",
    "maxindx = s1.index(max(s1))\n",
    "s1[minindx] = maxdig\n",
    "s1[maxindx] = mindig\n",
    "print(*s1)"
   ]
  },
  {
   "cell_type": "code",
   "execution_count": null,
   "metadata": {},
   "outputs": [],
   "source": [
    "# Количество артиклей\n",
    "# Код работает только если после артикля нет запятой\n",
    "s = input().lower().split()\n",
    "counter = 0\n",
    "for i in s:\n",
    "    if i == 'a' or i == 'an' or i == 'the':\n",
    "        counter += 1\n",
    "print(f'Общее количество артиклей: {counter}')"
   ]
  },
  {
   "cell_type": "code",
   "execution_count": null,
   "metadata": {},
   "outputs": [],
   "source": [
    "# Взлом Братства Стали 🌶️\n",
    "#(f'#{int(input())}')\n",
    "s1 = input()\n",
    "n = int(s1[1:])\n",
    "\n",
    "for i in range(n): \n",
    "    s = input()\n",
    "    if s.count(\"#\") > 0:\n",
    "        s = s[:s.find(\"#\")]\n",
    "        s = s.rstrip()\n",
    "    print(s)"
   ]
  },
  {
   "cell_type": "code",
   "execution_count": null,
   "metadata": {},
   "outputs": [],
   "source": [
    "# Сортировка чисел\n",
    "s, s1 = input().split(), []\n",
    "for i in s:\n",
    "    s1.append(int(i))\n",
    "s1.sort()\n",
    "print(*s1)\n",
    "s1.reverse()\n",
    "print(*s1)\n",
    "    "
   ]
  },
  {
   "cell_type": "markdown",
   "metadata": {},
   "source": [
    "#### 11.7   Списочные выражения  (list comprehension)"
   ]
  },
  {
   "cell_type": "code",
   "execution_count": null,
   "metadata": {},
   "outputs": [],
   "source": [
    "# Примеры использования списочных выражений\n",
    "# Создать список, заполненный 10 нулями можно и при помощи списочного выражения:\n",
    "\n",
    "zeros = [0 for i in range(10)]\n",
    "print(zeros)\n",
    "\n",
    "# Создать список, заполненный квадратами целых чисел от 0 до 9 можно так:\n",
    "\n",
    "squares = [i ** 2 for i in range(10)]\n",
    "print(squares)\n",
    "\n",
    "# Создать список, заполненный кубами целых чисел от 10 до 20 можно так:\n",
    "\n",
    "cubes = [i ** 3 for i in range(10, 21)]\n",
    "print(cubes)\n",
    "\n",
    "# Создать список, заполненный символами строки:\n",
    "\n",
    "chars = [c for c in 'abcdefg']\n",
    "print(chars)"
   ]
  },
  {
   "cell_type": "code",
   "execution_count": null,
   "metadata": {},
   "outputs": [],
   "source": [
    "# Дополните приведенный код, используя списочное выражение так, чтобы получить\n",
    "#  новый список, содержащий строки исходного списка, где у каждой строки удалён первый символ.\n",
    "\n",
    "s = ['False', 'True', 'None', 'and', 'with', 'as', 'assert', 'break', 'class', 'continue', 'def', 'del', 'elif', 'else', 'except', 'finally', 'try', 'for', 'from', 'global', 'if', 'import', 'in', 'is', 'lambda', 'nonlocal', 'not', 'or', 'pass', 'raise', 'return', 'while', 'yield']\n",
    "s1 = []\n",
    "new_keywords = [s1.append(i[1:]) for i in s]\n",
    "print(s1)\n"
   ]
  },
  {
   "cell_type": "code",
   "execution_count": null,
   "metadata": {},
   "outputs": [],
   "source": [
    "# Дополните приведенный код, используя списочное выражение, так, \n",
    "# чтобы получить новый список, содержащий длины строк исходного списка.\n",
    "\n",
    "\n",
    "s = ['False', 'True', 'None', 'and', 'with', 'as', 'assert', 'break', 'class', 'continue', 'def', 'del', 'elif', 'else', 'except', 'finally', 'try', 'for', 'from', 'global', 'if', 'import', 'in', 'is', 'lambda', 'nonlocal', 'not', 'or', 'pass', 'raise', 'return', 'while', 'yield']\n",
    "s1 = []\n",
    "new_keywords = [s1.append(len(i)) for i in s]\n",
    "print(s1)\n"
   ]
  },
  {
   "cell_type": "code",
   "execution_count": null,
   "metadata": {},
   "outputs": [],
   "source": [
    "# Дополните приведенный код списочным выражением, чтобы получить новый список, \n",
    "# содержащий только слова длиной не менее пяти символов (включительно).\n",
    "\n",
    "s = ['False', 'True', 'None', 'and', 'with', 'as', 'assert', 'break', 'class', 'continue', 'def', 'del', 'elif', 'else', 'except', 'finally', 'try', 'for', 'from', 'global', 'if', 'import', 'in', 'is', 'lambda', 'nonlocal', 'not', 'or', 'pass', 'raise', 'return', 'while', 'yield']\n",
    "s1 = []\n",
    "new_keywords = [s1.append(i) for i in s if len(i) >= 5]\n",
    "print(s1)\n"
   ]
  },
  {
   "cell_type": "code",
   "execution_count": null,
   "metadata": {},
   "outputs": [],
   "source": [
    "# Дополните приведенный код, используя списочное выражение, так чтобы получить \n",
    "# список всех чисел-палиндромов от 100 до 1000 (включительно).\n",
    "\n",
    "palindromes = [i for i in range(100,1001) if str(i) == str(i)[::-1]]\n",
    "\n",
    "print(palindromes)"
   ]
  },
  {
   "cell_type": "code",
   "execution_count": null,
   "metadata": {},
   "outputs": [],
   "source": [
    "# Списочное выражение 1\n",
    "n, s = int(input()), []\n",
    "s = [i**2 for i in range(1,n+1)]\n",
    "print(*s, sep='\\n')"
   ]
  },
  {
   "cell_type": "code",
   "execution_count": null,
   "metadata": {},
   "outputs": [],
   "source": [
    "# Списочное выражение 2\n",
    "\n",
    "s = [int(i)**3 for i in input().split()] ; print(*s)"
   ]
  },
  {
   "cell_type": "code",
   "execution_count": null,
   "metadata": {},
   "outputs": [],
   "source": [
    "# В одну строку 1\n",
    "s = [i for i in input().split()] ; print(*s, sep='\\n')"
   ]
  },
  {
   "cell_type": "code",
   "execution_count": null,
   "metadata": {},
   "outputs": [],
   "source": [
    "# В одну строку 2\n",
    "s = [i for i in input() if i.isdigit()]\n",
    "# for i in s:\n",
    "#     if i.isdigit() == True:\n",
    "#         s1.append(i)\n",
    "print(*s, sep=\"\")"
   ]
  },
  {
   "cell_type": "code",
   "execution_count": null,
   "metadata": {},
   "outputs": [],
   "source": [
    "# В одну строку 2. Решение 2\n",
    "print(*(i for i in input() if i.isdigit()),sep=\"\")"
   ]
  },
  {
   "cell_type": "code",
   "execution_count": null,
   "metadata": {},
   "outputs": [],
   "source": [
    "# В одну строку 3\n",
    "s = [int(i)**2 for i in input().split() if int(i) % 2 == 0 and (int(i)**2 % 10) != 4]\n",
    "print(*s, sep=\" \")"
   ]
  },
  {
   "cell_type": "markdown",
   "metadata": {},
   "source": [
    "#### 11.8  Cортировка списков"
   ]
  },
  {
   "cell_type": "code",
   "execution_count": null,
   "metadata": {},
   "outputs": [],
   "source": [
    "# Оптимизируйте приведенный код, реализующий алгоритм пузырьковой сортировки\n",
    "a = [17, 24, 91, 96, 67, -27, 79, -71, -71, 58, 48, 88, 88, -16, -78, 96, -76, 56, 92, 1, 32, -17, 36, 88, -61, -97, -37, -84, 50, 47, 94, -6, 52, -76, 93, 14, -32, 98, -65, -16, -9, -68, -20, -40, -71, 93, -91, 44, 25, 79, 97, 0, -94, 7, -47, -96, -55, -58, -78, -78, -79, 75, 44, -56, -41, 38, 16, 70, 17, -17, -24, -83, -74, -73, 11, -26, 63, -75, -19, -13, -51, -74, 21, -8, 21, -68, -66, -84, -95, 78, 69, -29, 39, 38, -55, 7, -11, -26, -62, -84]\n",
    "\n",
    "n = len(a)\n",
    "\n",
    "for i in range(n - 1):\n",
    "    exchanges = 0\n",
    "    for j in range(n - i - 1):\n",
    "        if a[j] > a[j + 1]:\n",
    "            exchanges += 1\n",
    "            a[j], a[j + 1] = a[j + 1], a[j]\n",
    "    \n",
    "    if exchanges == 0:\n",
    "        break\n",
    "\n",
    "print(a)"
   ]
  },
  {
   "cell_type": "code",
   "execution_count": null,
   "metadata": {},
   "outputs": [],
   "source": [
    "# Отсортируйте список по возрастанию, реализовав алгоритм сортировки выбором.\n",
    "a = [78, -32, 5, 39, 58, -5, -63, 57, 72, 9, 53, -1, 63, -97, -21, -94, -47, 57, -8, 60, -23, -72, -22, -79, 90, 96, -41, -71, -48, 84, 89, -96, 41, -16, 94, -60, -64, -39, 60, -14, -62, -19, -3, 32, 98, 14, 43, 3, -56, 71, -71, -67, 80, 27, 92, 92, -64, 0, -77, 2, -26, 41, 3, -31, 48, 39, 20, -30, 35, 32, -58, 2, 63, 64, 66, 62, 82, -62, 9, -52, 35, -61, 87, 78, 93, -42, 87, -72, -10, -36, 61, -16, 59, 59, 22, -24, -67, 76, -94, 59]\n",
    "\n",
    "n = len(a)\n",
    "\n",
    "for i in range(n):\n",
    "    mx = max(a[:n - i])\n",
    "    mx_ind = a.index(mx)\n",
    "    \n",
    "    a[n - 1 - i], a[mx_ind] = a[mx_ind], a[n - 1 - i]\n",
    "\n",
    "print(a)"
   ]
  },
  {
   "cell_type": "markdown",
   "metadata": {},
   "source": [
    "###  12. Экзамен.  Итоговая работа на списки"
   ]
  },
  {
   "cell_type": "code",
   "execution_count": null,
   "metadata": {},
   "outputs": [],
   "source": [
    "# Список четных\n",
    "n = int(input())\n",
    "s = [i for i in range(1, n+1) if i % 2 == 0]\n",
    "print(s) "
   ]
  },
  {
   "cell_type": "code",
   "execution_count": null,
   "metadata": {},
   "outputs": [],
   "source": [
    "# Сумма двух списков\n",
    "s = input().split()\n",
    "s1 = input().split()\n",
    "for i in range(len(s)):\n",
    "    # # print(i, type(i))\n",
    "    # print('s[i]:', s[i], type(int(s[i])))\n",
    "    # print('s1[i]:', s1[i], type(int(s[i])))\n",
    "    if i == i: \n",
    "        n = int(s[i]) + int(s1[i])\n",
    "    print(n, end = \" \")\n"
   ]
  },
  {
   "cell_type": "code",
   "execution_count": null,
   "metadata": {},
   "outputs": [],
   "source": [
    "# Сумма двух списков. Решение 2\n",
    "a = input().split()\n",
    "b = input().split()\n",
    "n = len(a)\n",
    "\n",
    "seq = [int(a[i]) + int(b[i]) for i in range(n)]\n",
    "print(*seq)"
   ]
  },
  {
   "cell_type": "code",
   "execution_count": null,
   "metadata": {},
   "outputs": [],
   "source": [
    "# Сумма двух списков. Решение 3\n",
    "a = input().split()\n",
    "b = input().split()\n",
    "print(*(int(a[i]) + int(b[i]) for i in range(len(a))))"
   ]
  },
  {
   "cell_type": "code",
   "execution_count": null,
   "metadata": {},
   "outputs": [],
   "source": [
    "# Сумма чисел\n",
    "a = input().split()\n",
    "\n",
    "s = [int(i) for i in a]\n",
    "a = [i+\"+\" for i in a]\n",
    "c = ''.join(a)\n",
    "d = c[:len(c)-1]\n",
    "print(f\"{d}={sum(s)}\")\n",
    "\n"
   ]
  },
  {
   "cell_type": "code",
   "execution_count": null,
   "metadata": {},
   "outputs": [],
   "source": [
    "# Сумма чисел. Решение от \"in BEEGEEK\"\n",
    "seq = input().split()\n",
    "expression = \"+\".join(seq)\n",
    "\n",
    "sm = 0\n",
    "for el in seq:\n",
    "    sm += int(el)\n",
    "expression += f\"={sm}\"\n",
    "\n",
    "print(expression)"
   ]
  },
  {
   "cell_type": "code",
   "execution_count": null,
   "metadata": {},
   "outputs": [],
   "source": [
    "# Валидный номер 🌶️🌶️  да это шиза\n",
    "seq = input().split(\"-\")\n",
    "lens = [len(el) for el in seq]\n",
    "\n",
    "if lens == [1, 3, 3, 4] and \"\".join(seq).isdigit() and seq[0] == \"7\":\n",
    "    print(\"YES\")\n",
    "elif lens == [3, 3, 4] and \"\".join(seq).isdigit():\n",
    "    print(\"YES\")\n",
    "else:\n",
    "    print(\"NO\")"
   ]
  },
  {
   "cell_type": "code",
   "execution_count": null,
   "metadata": {},
   "outputs": [],
   "source": [
    "# Самый длинный\n",
    "s = input().split()\n",
    "maxdig = 0\n",
    "for i in range(len(s)):\n",
    "    if len(s[i]) > maxdig:\n",
    "        maxdig = len(s[i])\n",
    "print(maxdig)"
   ]
  },
  {
   "cell_type": "code",
   "execution_count": null,
   "metadata": {},
   "outputs": [],
   "source": [
    "# Самый длинный. Решение от \"in BEEGEEK\"\n",
    "lens = [len(el) for el in input().split()]\n",
    "print(max(lens))"
   ]
  },
  {
   "cell_type": "code",
   "execution_count": null,
   "metadata": {},
   "outputs": [],
   "source": [
    "# Молодежный жаргон\n",
    "\n",
    "print(*[i[1:] + i[0] + \"ки\"for i in input().split()]) \n"
   ]
  },
  {
   "cell_type": "markdown",
   "metadata": {},
   "source": [
    "### 13. Функции"
   ]
  },
  {
   "cell_type": "markdown",
   "metadata": {},
   "source": [
    "#### Функции без параметров"
   ]
  },
  {
   "cell_type": "code",
   "execution_count": null,
   "metadata": {},
   "outputs": [],
   "source": [
    "# Звездный прямоугольник 1\n",
    "\n",
    "# объявление функции\n",
    "def draw_box():\n",
    "    print(\"*\"*10)\n",
    "    for _ in range(12):\n",
    "        print(\"*\", \" \"*8, \"*\", sep = \"\")\n",
    "    print(\"*\"*10)\n",
    "\n",
    "# основная программа\n",
    "draw_box()  # вызов функции"
   ]
  },
  {
   "cell_type": "code",
   "execution_count": null,
   "metadata": {},
   "outputs": [],
   "source": [
    "# Звездный прямоугольник 1\n",
    "\n",
    "# объявление функции\n",
    "def draw_triangle():\n",
    "    for i in range(11):\n",
    "        print(\"*\" * i, sep = \"\")\n",
    "\n",
    "# основная программа\n",
    "draw_triangle()  # вызов функции"
   ]
  },
  {
   "cell_type": "markdown",
   "metadata": {},
   "source": [
    "#### 13.2 Функции с параметрами"
   ]
  },
  {
   "cell_type": "code",
   "execution_count": null,
   "metadata": {},
   "outputs": [],
   "source": [
    "# Звездный треугольник\n",
    "# объявление функции\n",
    "def draw_triangle(fill, base):\n",
    "    for j in range(1, base+1):\n",
    "        if j < base/2:\n",
    "            print(fill*j)\n",
    "        else:\n",
    "            break\n",
    "    for k in range(j, 0, -1):\n",
    "        print(fill*k)\n",
    "\n",
    "# считываем данные\n",
    "fill = input()\n",
    "base =  int(input())\n",
    "\n",
    "# вызываем функцию\n",
    "draw_triangle(fill, base)\n"
   ]
  },
  {
   "cell_type": "code",
   "execution_count": null,
   "metadata": {},
   "outputs": [],
   "source": [
    "# ФИО\n",
    "name, surname, patronymic = input(), input(), input()\n",
    "def print_fio(name, surname, patronymic):\n",
    "    n = name[0].upper()\n",
    "    f = surname[0].upper()\n",
    "    o = patronymic[0].upper()\n",
    "    print(f, n, o, sep ='')\n",
    "print_fio(name, surname, patronymic)\n"
   ]
  },
  {
   "cell_type": "code",
   "execution_count": null,
   "metadata": {},
   "outputs": [],
   "source": [
    "# Сумма цифр\n",
    "def print_digit_sum(num):\n",
    "    result = 0\n",
    "    while num > 0:\n",
    "        result += num % 10\n",
    "        num //= 10\n",
    "    return result\n",
    "\n",
    "# считываем данные \n",
    "num = int(input())\n",
    "\n",
    "# вызываем функцию\n",
    "print_digit_sum(num)"
   ]
  },
  {
   "cell_type": "markdown",
   "metadata": {},
   "source": [
    "#### 13.4  Функции с возвратом значения"
   ]
  },
  {
   "cell_type": "code",
   "execution_count": null,
   "metadata": {},
   "outputs": [],
   "source": [
    "# Конвертер километров\n",
    "\n",
    "# объявление функции\n",
    "def convert_to_miles(km):\n",
    "    return num * 0.6214\n",
    "\n",
    "# считываем данные\n",
    "num = int(input())\n",
    "\n",
    "# вызываем функцию\n",
    "print(convert_to_miles(num))"
   ]
  },
  {
   "cell_type": "code",
   "execution_count": null,
   "metadata": {},
   "outputs": [],
   "source": [
    "# Количество дней\n",
    "\n",
    "# объявление функции\n",
    "def get_days(month):\n",
    "    if num == 2:\n",
    "        return 28\n",
    "    elif (1 <= num <= 7 and num % 2 == 0) or (7 < num <= 12 and num % 2 != 0):\n",
    "        return 30\n",
    "    else: \n",
    "        return 31\n",
    "\n",
    "# считываем данные\n",
    "num = int(input())\n",
    "\n",
    "# вызываем функцию\n",
    "print(get_days(num))"
   ]
  },
  {
   "cell_type": "code",
   "execution_count": null,
   "metadata": {},
   "outputs": [],
   "source": [
    "# Делители 1\n",
    "\n",
    "# объявление функции\n",
    "def get_factors(n):\n",
    "    list_factors = [] # Список делителей\n",
    "    for k in range(1, n+1): # Теперь в цикле ищем для каждого числа все делители \n",
    "        if n % k == 0 and list_factors.count(k) == 0: # Если делитель делится без остатка и не содержиться в списке list_factors\n",
    "            list_factors.append(k)\n",
    "    return list_factors        \n",
    "\n",
    "# считываем данные\n",
    "n = int(input())\n",
    "\n",
    "# вызываем функцию\n",
    "print(get_factors(n))"
   ]
  },
  {
   "cell_type": "code",
   "execution_count": null,
   "metadata": {},
   "outputs": [],
   "source": [
    "# Делители 2\n",
    "\n",
    "# объявление функции\n",
    "def get_factors(n):\n",
    "    list_factors = [] # Список делителей\n",
    "    for k in range(1, n+1): # Теперь в цикле ищем для каждого числа все делители \n",
    "        if n % k == 0 and list_factors.count(k) == 0: # Если делитель делится без остатка и не содержиться в списке list_factors\n",
    "            list_factors.append(k)\n",
    "    return len(list_factors) # Узнаём длину списка. То-есть колличество делителей\n",
    "\n",
    "# считываем данные\n",
    "n = int(input())\n",
    "\n",
    "# вызываем функцию\n",
    "print(get_factors(n))\n"
   ]
  },
  {
   "cell_type": "code",
   "execution_count": null,
   "metadata": {},
   "outputs": [],
   "source": [
    "# Найти всех. Моё решение\n",
    "\n",
    "# объявление функции\n",
    "def find_all(target, symbol):\n",
    "    for i in range(len(target)):\n",
    "        if target.count(symbol) > 0:\n",
    "            # Находим индекс первого вхождения символа\n",
    "            index_symbol = target.find(symbol) \n",
    "            s.append(index_symbol)\n",
    "            # Создаём копию строки и заменяем только первое значение по этому индексу этот символ на unicode + 26 \n",
    "            target = target.replace(symbol, chr(ord(symbol)+26), 1)\n",
    "    return s\n",
    "\n",
    "# считываем данные\n",
    "target, s = input(), []  # строка в которой ищем символ\n",
    "symbol = input()    # символ который ищем в строке выше\n",
    "\n",
    "# вызываем функцию\n",
    "print(find_all(target, symbol))"
   ]
  },
  {
   "cell_type": "code",
   "execution_count": null,
   "metadata": {},
   "outputs": [],
   "source": [
    "# Найти всех. Решение 2 (чужое)\n",
    "\n",
    "# объявление функции\n",
    "def find_all(target, symbol):\n",
    "    return [i for i in range(len(target)) if target[i] == symbol]\n",
    "\n",
    "# считываем данные\n",
    "s = input()\n",
    "char = input()\n",
    "\n",
    "# вызываем функцию\n",
    "print(find_all(s, char))"
   ]
  },
  {
   "cell_type": "code",
   "execution_count": null,
   "metadata": {},
   "outputs": [],
   "source": [
    "# Merge lists 1\n",
    "\n",
    "# объявление функции\n",
    "def merge(numbers1, numbers2):\n",
    "    s = numbers1 + numbers2\n",
    "    s.sort()\n",
    "    return s\n",
    "    \n",
    "# считываем данные\n",
    "numbers1 = [int(c) for c in input().split()]\n",
    "numbers2 = [int(c) for c in input().split()]\n",
    "\n",
    "# вызываем функцию\n",
    "print(merge(numbers1, numbers2))"
   ]
  },
  {
   "cell_type": "code",
   "execution_count": null,
   "metadata": {},
   "outputs": [],
   "source": [
    "# Merge lists 2\n",
    "\n",
    "# put your python code here\n",
    "n, s = int(input()), []\n",
    "for i in range(n):\n",
    "    s1 = input().split()\n",
    "    for j in s1:\n",
    "        s.append(int(j))\n",
    "s.sort()\n",
    "print(*s)"
   ]
  },
  {
   "cell_type": "markdown",
   "metadata": {},
   "source": [
    "#### 13.5 Функции с возвратом значения. Часть 2"
   ]
  },
  {
   "cell_type": "code",
   "execution_count": null,
   "metadata": {},
   "outputs": [],
   "source": [
    "# Is Valid Triangle?\n",
    "\n",
    "# объявление функции\n",
    "def is_valid_triangle(a, b, c):\n",
    "    if  (a + b > c) and (a + c > b) and (b + c > a):\n",
    "        return True\n",
    "    else: \n",
    "        return False\n",
    "\n",
    "\n",
    "# считываем данные\n",
    "a, b, c = int(input()), int(input()), int(input())\n",
    "\n",
    "# вызываем функцию\n",
    "print(is_valid_triangle(a, b, c))"
   ]
  },
  {
   "cell_type": "code",
   "execution_count": null,
   "metadata": {},
   "outputs": [],
   "source": [
    "# Is a Number Prime? 🌶️\n",
    "\n",
    "# объявление функции\n",
    "def is_prime(n):\n",
    "    list_factors = [] # Список делителей\n",
    "    for k in range(1, n+1): # Теперь в цикле ищем для каждого числа все делители \n",
    "        if n % k == 0 and list_factors.count(k) == 0: # Если делитель делится без остатка и не содержиться в списке list_factors\n",
    "            list_factors.append(k)\n",
    "    # Нам нужны только простые числа, тоесть только те которые имеют только два делителя\n",
    "    if len(list_factors) == 2: \n",
    "        return True \n",
    "    else:\n",
    "        return False\n",
    "\n",
    "# считываем данные\n",
    "n = int(input())\n",
    "\n",
    "# вызываем функцию\n",
    "print(is_prime(n))"
   ]
  },
  {
   "cell_type": "code",
   "execution_count": 61,
   "metadata": {},
   "outputs": [
    {
     "name": "stdout",
     "output_type": "stream",
     "text": [
      "[1, 3, 9]\n",
      "None\n"
     ]
    }
   ],
   "source": [
    "# Next Prime 🌶️🌶️\n",
    "\n",
    "# объявление функции\n",
    "def get_next_prime(n):\n",
    "    list_factors = []\n",
    "    maxdig = n\n",
    "    list_factors = [i for i in range(1, n+1) if n % i == 0 and list_factors.count(i) == 0]\n",
    "    if lens(list_factors) == 2:\n",
    "        n += 1\n",
    "    \n",
    "    print(list_factors)\n",
    "\n",
    "# считываем данные\n",
    "n = int(input())\n",
    "\n",
    "# вызываем функцию\n",
    "print(get_next_prime(n))"
   ]
  },
  {
   "cell_type": "code",
   "execution_count": null,
   "metadata": {},
   "outputs": [],
   "source": [
    "# Good password 🌶️\n",
    "\n",
    "# объявление функции\n",
    "def is_password_good(password):\n",
    "    pass\n",
    "\n",
    "# считываем данные\n",
    "txt = input()\n",
    "\n",
    "# вызываем функцию\n",
    "print(is_password_good(txt))\n"
   ]
  },
  {
   "cell_type": "code",
   "execution_count": null,
   "metadata": {},
   "outputs": [],
   "source": [
    "# Ровно в одном 1️⃣\n",
    "\n",
    "# объявление функции\n",
    "def is_one_away(word1, word2):\n",
    "    pass\n",
    "\n",
    "# считываем данные\n",
    "txt1 = input()\n",
    "txt2 = input()\n",
    "\n",
    "# вызываем функцию\n",
    "print(is_one_away(txt1, txt2))"
   ]
  },
  {
   "cell_type": "code",
   "execution_count": null,
   "metadata": {},
   "outputs": [],
   "source": [
    "# Палиндром 🌶️\n",
    "\n",
    "# объявление функции\n",
    "def is_palindrome(text):\n",
    "    pass\n",
    "\n",
    "# считываем данные\n",
    "txt = input()\n",
    "\n",
    "# вызываем функцию\n",
    "print(is_palindrome(txt))"
   ]
  },
  {
   "cell_type": "code",
   "execution_count": null,
   "metadata": {},
   "outputs": [],
   "source": [
    "# BEEGEEK 🐝\n",
    "\n",
    "# объявление функции\n",
    "def is_valid_password(password):\n",
    "    pass\n",
    "\n",
    "# считываем данные\n",
    "psw = input()\n",
    "\n",
    "# вызываем функцию\n",
    "print(is_valid_password(psw))"
   ]
  },
  {
   "cell_type": "code",
   "execution_count": null,
   "metadata": {},
   "outputs": [],
   "source": [
    "# Правильная скобочная последовательность 🌶️\n",
    "\n",
    "# объявление функции\n",
    "def is_correct_bracket(text):\n",
    "    pass\n",
    "\n",
    "# считываем данные\n",
    "txt = input()\n",
    "\n",
    "# вызываем функцию\n",
    "print(is_correct_bracket(txt))"
   ]
  },
  {
   "cell_type": "code",
   "execution_count": null,
   "metadata": {},
   "outputs": [],
   "source": [
    "# Змеиный регистр 🐍\n",
    "\n",
    "# объявление функции\n",
    "def convert_to_python_case(text):\n",
    "    pass\n",
    "\n",
    "# считываем данные\n",
    "txt = input()\n",
    "\n",
    "# вызываем функцию\n",
    "print(convert_to_python_case(txt))"
   ]
  },
  {
   "cell_type": "markdown",
   "metadata": {},
   "source": [
    "#### 13.6 Функции с возвратом значения. Часть 3"
   ]
  },
  {
   "cell_type": "code",
   "execution_count": null,
   "metadata": {},
   "outputs": [],
   "source": []
  }
 ],
 "metadata": {
  "kernelspec": {
   "display_name": "env",
   "language": "python",
   "name": "python3"
  },
  "language_info": {
   "codemirror_mode": {
    "name": "ipython",
    "version": 3
   },
   "file_extension": ".py",
   "mimetype": "text/x-python",
   "name": "python",
   "nbconvert_exporter": "python",
   "pygments_lexer": "ipython3",
   "version": "3.10.12"
  }
 },
 "nbformat": 4,
 "nbformat_minor": 2
}
