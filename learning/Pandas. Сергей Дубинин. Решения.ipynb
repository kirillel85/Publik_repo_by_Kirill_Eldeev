{
 "cells": [
  {
   "cell_type": "markdown",
   "metadata": {},
   "source": [
    "### 1. Первые шаги в мир Pandas\n",
    "#### 1.2 Создание DataFrame и Series\n"
   ]
  },
  {
   "cell_type": "code",
   "execution_count": null,
   "metadata": {},
   "outputs": [],
   "source": [
    "class pandas.DataFrame(data=None, \n",
    "                       index=None, \n",
    "                       columns=None, \n",
    "                       dtype=None, \n",
    "                       copy=None)\n"
   ]
  },
  {
   "cell_type": "code",
   "execution_count": null,
   "metadata": {},
   "outputs": [],
   "source": [
    "# Упражнение 1\n",
    "\n",
    "# Импортируйте библиотеку Pandas.  \n",
    "import pandas as pd\n",
    "# Создайте серию.\n",
    "list_in = [1, 2, 3, 4, 5]\n",
    "series = pd.Series(list_in)"
   ]
  },
  {
   "cell_type": "code",
   "execution_count": null,
   "metadata": {},
   "outputs": [],
   "source": [
    "# Упражнение 2\n",
    "\n",
    "# Импортируйте библиотеку Pandas.        \n",
    "import pandas as pd\n",
    "# Создайте серию.\n",
    "list_in = ['asdd', 'qwee', 'zxcc', 'sdff']\n",
    "# Создайте серию.\n",
    "series = pd.Series(list_in)"
   ]
  },
  {
   "cell_type": "code",
   "execution_count": 1,
   "metadata": {},
   "outputs": [],
   "source": [
    "# Упражнение 3\n",
    "\n",
    "# Импортируйте библиотеку Pandas.       \n",
    "import pandas as pd\n",
    "# Создайте серию.\n",
    "list_in =['ford', 'opel', 'vw', 'haval', 'fiat']\n",
    "# Создайте серию\n",
    "series = pd.Series(list_in, index=['row_1', 'row_2', 'row_3', 'row_4', 'row_5'])"
   ]
  },
  {
   "cell_type": "code",
   "execution_count": null,
   "metadata": {},
   "outputs": [],
   "source": [
    "# Упражнение 4\n",
    "\n",
    "# Импортируйте библиотеку Pandas.       \n",
    "import pandas as pd\n",
    "# Создайте серию.\n",
    "list_in = ['asdd', 'qwee', 'zxcc', 'sdff', 'fiat']\n",
    "# Создайте серию.\n",
    "series = pd.Series(list_in, index=['row_1', 'row_2', 'row_3', 'row_4', 'row_5'], name='pd_series')"
   ]
  },
  {
   "cell_type": "code",
   "execution_count": null,
   "metadata": {},
   "outputs": [],
   "source": [
    "# Упражнение 5\n",
    "# Импортируйте библиотеку Pandas.        \n",
    "import pandas as pd\n",
    "\n",
    "# Создайте серию.\n",
    "dict_in = {'row_1': 1, \n",
    "           'row_2': 2,\n",
    "           'row_3': 3,\n",
    "           'row_4': 4}\n",
    "\n",
    "series = pd.Series(dict_in, index=['row_2','row_4'])"
   ]
  },
  {
   "cell_type": "code",
   "execution_count": null,
   "metadata": {},
   "outputs": [],
   "source": [
    "# Упражнение 6\n",
    "# # Импортируйте библиотеку Pandas.        \n",
    "import pandas as pd\n",
    "\n",
    "# Создайте DataFrame.\n",
    "dict_in = {'col_1': [1, 2, 3], 'col_2': [4, 5, 6]}\n",
    "\n",
    "df = pd.DataFrame(dict_in)"
   ]
  },
  {
   "cell_type": "code",
   "execution_count": null,
   "metadata": {},
   "outputs": [],
   "source": [
    "# Упражнение 7\n",
    "# Импортируйте библиотеку Pandas.        \n",
    "import pandas as pd\n",
    "\n",
    "# Создайте DataFrame.\n",
    "dict_in = { 'col_1': [1,2,3],\n",
    "            'col_2': [4,5,6],\n",
    "            'col_3': [7,8,9]}\n",
    "\n",
    "df = pd.DataFrame(dict_in)\n"
   ]
  },
  {
   "cell_type": "code",
   "execution_count": null,
   "metadata": {},
   "outputs": [],
   "source": [
    "# Упражнение 8\n",
    "# Импортируйте библиотеку Pandas.        \n",
    "import pandas as pd\n",
    "\n",
    "# Создайте DataFrame.\n",
    "dict_in = {'col_1': [1,2,3], 'col_2': [4,5,6], 'col_3': [7,8,9]}\n",
    "\n",
    "df = pd.DataFrame(dict_in, index=['row_1', 'row_2', 'row_3'])"
   ]
  },
  {
   "cell_type": "code",
   "execution_count": null,
   "metadata": {},
   "outputs": [],
   "source": [
    "# Упражнение 9\n",
    "# Импортируйте библиотеку Pandas.        \n",
    "import pandas as pd\n",
    "\n",
    "# Создайте DataFrame.\n",
    "dict_in = {'col_1': [1, 2, 3], \n",
    "           'col_2': [4, 5, 6],\n",
    "           'col_3': [7, 8, 9], \n",
    "           'col_4': [10, 11, 12]}\n",
    "\n",
    "df = pd.DataFrame(dict_in)"
   ]
  },
  {
   "cell_type": "code",
   "execution_count": null,
   "metadata": {},
   "outputs": [],
   "source": [
    "# Упражнение 10\n",
    "# Импортируйте библиотеку Pandas.        \n",
    "import pandas as pd\n",
    "\n",
    "# Создайте DataFrame.\n",
    "dict_in = {'col_1': [1, 2, 3], \n",
    "           'col_2': [4, 5, 6],\n",
    "           'col_3': [7, 8, 9], \n",
    "           'col_4': [10, 11, 12]}\n",
    "\n",
    "df = pd.DataFrame(dict_in, columns=['col_1', 'col_3'] )"
   ]
  },
  {
   "cell_type": "code",
   "execution_count": null,
   "metadata": {},
   "outputs": [],
   "source": [
    "# Упражнение 11\n",
    "\n",
    "# Импортируйте библиотеку Pandas.        \n",
    "import pandas as pd\n",
    "\n",
    "# Создайте DataFrame.\n",
    "dict_in = {'col_1': [1, 2, 3], \n",
    "           'col_2': [4, 5, 6],\n",
    "           'col_3': [7, 8, 9], \n",
    "           'col_4': [10, 11, 12]}\n",
    "\n",
    "df = pd.DataFrame(dict_in,\n",
    "                  columns=['col_2', 'col_3'], \n",
    "                  index=['row_1', 'row_2', 'row_3'])"
   ]
  },
  {
   "cell_type": "code",
   "execution_count": null,
   "metadata": {},
   "outputs": [],
   "source": [
    "import pandas as pd\n",
    "ser_1 = pd.Series([1,3,4,5,6])\n",
    "ser_2 = pd.Series([1,3,4,5,6])"
   ]
  },
  {
   "cell_type": "code",
   "execution_count": null,
   "metadata": {},
   "outputs": [],
   "source": [
    "# Упражнение 12\n",
    "# Series созданы и записаны в переменные ser_1 и ser_2.\n",
    "df = pd.DataFrame({'col_1':ser_1,'col_2':ser_2})\n"
   ]
  },
  {
   "cell_type": "code",
   "execution_count": null,
   "metadata": {},
   "outputs": [],
   "source": [
    "# Упражнение 13\n",
    "df = pd.DataFrame({'Нерешенные':ser_1,'Решенные':ser_2})"
   ]
  },
  {
   "cell_type": "markdown",
   "metadata": {},
   "source": [
    "#### 1.3 Чтение и запись CSV"
   ]
  },
  {
   "cell_type": "code",
   "execution_count": 4,
   "metadata": {},
   "outputs": [],
   "source": [
    "# Упражнение 3\n",
    "df = pd.read_csv('data.csv',\n",
    "                 sep=',')"
   ]
  },
  {
   "cell_type": "code",
   "execution_count": 6,
   "metadata": {},
   "outputs": [],
   "source": [
    "# Упражнение 4\n",
    "df = pd.read_csv('data.csv',\n",
    "                 sep=';')"
   ]
  },
  {
   "cell_type": "code",
   "execution_count": null,
   "metadata": {},
   "outputs": [],
   "source": [
    "# Упражнение 5\n",
    "df = pd.read_csv('data.csv',\n",
    "                sep=':',\n",
    "                index_col='date')"
   ]
  },
  {
   "cell_type": "code",
   "execution_count": null,
   "metadata": {},
   "outputs": [],
   "source": [
    "# Упражнение 6\n",
    "df = pd.read_csv('data.csv',\n",
    "                sep=';',\n",
    "                usecols=['col_2', 'col_3', 'col_5'])"
   ]
  },
  {
   "cell_type": "code",
   "execution_count": null,
   "metadata": {},
   "outputs": [],
   "source": [
    "# Упражнение 7\n",
    "df = pd.read_csv('data.csv',\n",
    "                sep=',',\n",
    "                usecols=['col_2', 'col_3','date', 'col_5'],\n",
    "                index_col='date')"
   ]
  },
  {
   "cell_type": "code",
   "execution_count": null,
   "metadata": {},
   "outputs": [],
   "source": [
    "# Упражнение 8\n",
    "df = pd.read_csv('data.csv',\n",
    "                sep=';',\n",
    "                dtype = {'city':'category','col_2':'string', 'col_3':'int'})"
   ]
  },
  {
   "cell_type": "code",
   "execution_count": null,
   "metadata": {},
   "outputs": [],
   "source": [
    "# Упражнение 9\n",
    "df = pd.read_csv('data.csv',\n",
    "    sep=':',\n",
    "    dtype = {'city':'category','col_2':'string', 'col_3':'int'},\n",
    "    index_col='date')"
   ]
  },
  {
   "cell_type": "code",
   "execution_count": null,
   "metadata": {},
   "outputs": [],
   "source": [
    "# Упражнение 10\n",
    "df = pd.read_csv('data.csv',\n",
    "    sep=',',\n",
    "    usecols=['col_2', 'col_3', 'col_5'],\n",
    "    nrows=5)\n"
   ]
  },
  {
   "cell_type": "markdown",
   "metadata": {},
   "source": [
    "##### DataFrame  на локальной машине"
   ]
  },
  {
   "cell_type": "code",
   "execution_count": 2,
   "metadata": {},
   "outputs": [],
   "source": [
    "import pandas as pd\n",
    "df = pd.read_csv('/home/kirill/Kir-test/data/pd_data.csv',\n",
    "    sep=',',\n",
    "    usecols=['col_2', 'col_3', 'col_5'],\n",
    "    nrows=5)\n"
   ]
  },
  {
   "cell_type": "code",
   "execution_count": null,
   "metadata": {},
   "outputs": [],
   "source": [
    "type(df)\n",
    "df.info()"
   ]
  },
  {
   "cell_type": "code",
   "execution_count": null,
   "metadata": {},
   "outputs": [],
   "source": [
    "df"
   ]
  },
  {
   "cell_type": "markdown",
   "metadata": {},
   "source": [
    "##### Запись в CSV"
   ]
  },
  {
   "cell_type": "code",
   "execution_count": 75,
   "metadata": {},
   "outputs": [],
   "source": [
    "df.to_csv('/home/kirill/Kir-test/data/pd_data2.csv')"
   ]
  },
  {
   "cell_type": "code",
   "execution_count": 77,
   "metadata": {},
   "outputs": [],
   "source": [
    "d = pd.read_csv('/home/kirill/Kir-test/data/pd_data2.csv')"
   ]
  },
  {
   "cell_type": "code",
   "execution_count": null,
   "metadata": {},
   "outputs": [],
   "source": [
    "# Упражнение 11\n",
    "df.to_csv('data.csv')"
   ]
  },
  {
   "cell_type": "code",
   "execution_count": null,
   "metadata": {},
   "outputs": [],
   "source": [
    "# Упражнение 12\n",
    "df.to_csv('data.csv',\n",
    "    columns=['client', 'product'])"
   ]
  },
  {
   "cell_type": "code",
   "execution_count": null,
   "metadata": {},
   "outputs": [],
   "source": [
    "# Упражнение 13\n",
    "df.to_csv('data.csv',\n",
    "    columns=['client', 'product'],\n",
    "    index=False)"
   ]
  },
  {
   "cell_type": "markdown",
   "metadata": {},
   "source": [
    "#### 1.4 Индексы строк и столбцов"
   ]
  },
  {
   "cell_type": "code",
   "execution_count": 79,
   "metadata": {},
   "outputs": [],
   "source": [
    "import pandas as pd\n",
    "import numpy as np"
   ]
  },
  {
   "cell_type": "code",
   "execution_count": 80,
   "metadata": {},
   "outputs": [],
   "source": [
    "# Упражнение 1\n",
    "# Импортируйте библиотеку Pandas.       \n",
    "import pandas as pd\n",
    "ind = pd.Index(['a', 'b', 'c', 'd', 'e'])\n"
   ]
  },
  {
   "cell_type": "code",
   "execution_count": null,
   "metadata": {},
   "outputs": [],
   "source": [
    "# Упражнение 2\n",
    "# Импортируйте библиотеку Pandas.       \n",
    "import pandas as pd\n",
    "ind = pd.Index(['a', 'b', 'c', 'd'],\n",
    "    name=\"my_index\")\n"
   ]
  },
  {
   "cell_type": "code",
   "execution_count": 103,
   "metadata": {},
   "outputs": [],
   "source": [
    "# Упражнение 3\n",
    "# Импортируйте библиотеку Pandas.       \n",
    "import pandas as pd\n",
    "ind = df.index\n",
    "cols = df.columns"
   ]
  },
  {
   "cell_type": "code",
   "execution_count": null,
   "metadata": {},
   "outputs": [],
   "source": [
    "# Упражнение 4. Вытаскиваем индексы строк и индексы столбцов\n",
    "# Импортируйте библиотеку Pandas.       \n",
    "import pandas as pd\n",
    "\n",
    "ind = df.index # Вынимаем индексы строк\n",
    "cols = df.columns # Вынимаем индексы колонок\n",
    "list_ind = pd.Index.to_list(ind) # Превращаем в список\n",
    "list_cols = pd.Index.to_list(cols) # Превращаем в список"
   ]
  },
  {
   "cell_type": "code",
   "execution_count": 109,
   "metadata": {},
   "outputs": [],
   "source": [
    "# Упражнение 5\n",
    "import pandas as pd\n",
    "\n",
    "dict_in = {'col_1': [1, 2, 3, 4, 5],\n",
    "           'col_2': [1, 2, 3, 4, 5],\n",
    "           'col_3': [1, 2, 3, 4, 5]}\n",
    "ind = ['row_1', 'row_2', 'row_3', 'row_4', 'row_5']\n",
    "df = pd.DataFrame(dict_in,\n",
    "                  index=ind)\n"
   ]
  },
  {
   "cell_type": "code",
   "execution_count": 9,
   "metadata": {},
   "outputs": [],
   "source": [
    "# Упражнение 6\n",
    "nan_in_indx = df.index.hasnans #  Определяем есть ли пропуски в индексах строк.\n"
   ]
  },
  {
   "cell_type": "code",
   "execution_count": 36,
   "metadata": {},
   "outputs": [],
   "source": [
    "# Упражнение 10\n",
    "\n",
    "unique_ind = df.index.unique() # Вынимаем только уникальные индексы строк\n",
    "unique_cols  = df.columns.unique()  # Вынимаем только уникальные индексы сущностей"
   ]
  },
  {
   "cell_type": "code",
   "execution_count": 41,
   "metadata": {},
   "outputs": [],
   "source": [
    "# Упражнение 11\n",
    "\n",
    "nunique_ind = df.index.nunique() # Получаем колличество уникальных индексов строк\n",
    "nunique_cols  = df.columns.nunique()  # Получаем колличество уникальных индексов колонок"
   ]
  },
  {
   "cell_type": "code",
   "execution_count": 50,
   "metadata": {},
   "outputs": [],
   "source": [
    "# Упражнение 12\n",
    "new_df = df.rename(columns={\n",
    "    'col_2':'new_col_2',\n",
    "    'col_3':'new_col_3',\n",
    "    })"
   ]
  },
  {
   "cell_type": "code",
   "execution_count": null,
   "metadata": {},
   "outputs": [],
   "source": [
    "# My renamed columns\n",
    "new_df = df.rename(columns=\n",
    "    {'0.1':'0',\n",
    "    '0':'1',\n",
    "    'city':'City',\n",
    "    'col_2':'Quantity_in_box',\n",
    "    'col_3':'Quantity',\n",
    "    'date':'Date',\n",
    "    'col_5':'Check_box'\n",
    "    }      \n",
    "    )"
   ]
  },
  {
   "cell_type": "code",
   "execution_count": null,
   "metadata": {},
   "outputs": [],
   "source": [
    "# Упражнение 13\n",
    "new_df = df.rename(columns={\n",
    "    'col_2':'new_col_2',\n",
    "    'col_3':'new_col_3',\n",
    "    })\n",
    "df = new_df"
   ]
  },
  {
   "cell_type": "code",
   "execution_count": 34,
   "metadata": {},
   "outputs": [],
   "source": [
    "# Датафрейм для работы\n",
    "df = pd.read_csv('/home/kirill/Kir-test/data/pd_data.csv',\n",
    "    sep=',',\n",
    "    header=0\n",
    "    )"
   ]
  },
  {
   "cell_type": "markdown",
   "metadata": {},
   "source": [
    "#### 1.5 Индексы. Доступ к данным."
   ]
  },
  {
   "cell_type": "code",
   "execution_count": 81,
   "metadata": {},
   "outputs": [],
   "source": [
    "# Датафрейм для работы\n",
    "import pandas as pd\n",
    "df = pd.read_csv('/home/kirill/Kir-test/data/pd_data.csv',\n",
    "    sep=',',\n",
    "    header=0\n",
    "    )"
   ]
  },
  {
   "cell_type": "code",
   "execution_count": null,
   "metadata": {},
   "outputs": [],
   "source": [
    "# Задайте индекс DataFrame, используя существующие столбцы\n",
    "DataFrame.set_index(\n",
    "    # Передаём в первый аргумент (keys) метку столбца который будет новым индексом. \n",
    "    keys, # пример: DataFrame.set_index('col_1')\n",
    "    *,\n",
    "    drop=True,\n",
    "    append=False,\n",
    "    inplace=False, # По умолчанию не меняет датафрейм а делает копию\n",
    "    verify_integrity=False)"
   ]
  },
  {
   "cell_type": "code",
   "execution_count": null,
   "metadata": {},
   "outputs": [],
   "source": [
    "# Упражнение 3\n",
    "# В программе создан DataFrame и записан в переменную df. Он содержит столбец с именем \"data\". \n",
    "# Установите этот столбец в качестве индексов строк. Результат запишите в переменную new_df.\n",
    "# Примечание: импортировать библиотеку Pandas не нужно, она уже импортирована.\n",
    "# new_df = df.set_index('data')\n",
    "\n",
    "new_df = df.set_index('date')\n",
    "new_df"
   ]
  },
  {
   "cell_type": "code",
   "execution_count": null,
   "metadata": {},
   "outputs": [],
   "source": [
    "# Упражнение 4\n",
    "# В программе создан DataFrame и записан в переменную df. Он содержит столбцы с именами \n",
    "# \"data\" и \"age\". Установите эти столбцы в качестве индексов строк.\n",
    "# Результат запишите в переменную new_df.\n",
    "# new_df = df.set_index(['data', 'age'])\n",
    "\n",
    "df.set_index(['date', 'city'], inplace=True)\n",
    "df"
   ]
  },
  {
   "cell_type": "code",
   "execution_count": 75,
   "metadata": {},
   "outputs": [],
   "source": [
    "# Упражнение 5\n",
    "# В программе создан DataFrame и записан в переменную df. В текущем DataFrame поменяйте\n",
    "# индексы строк на столбец \"data\".\n",
    "# df.set_index('data',inplace=True)\n",
    "\n",
    "df.set_index('date',inplace=True)\n"
   ]
  },
  {
   "cell_type": "code",
   "execution_count": null,
   "metadata": {},
   "outputs": [],
   "source": [
    "# Упражнение 6\n",
    "# В программе создан DataFrame и записан в переменную df. \n",
    "# В данном DataFrame \"сбросьте\" индексы строк, представив их в виде столбца df.\n",
    "# df.reset_index(inplace=True)\n",
    "p = df.reset_index(['date'])\n",
    "p"
   ]
  },
  {
   "cell_type": "code",
   "execution_count": null,
   "metadata": {},
   "outputs": [],
   "source": [
    "# Упражнение 7\n",
    "# В программе создан DataFrame и записан в переменную df. \n",
    "# Столбец с именем \"name\" присвойте переменной series. \n",
    "# В переменной series должна быть Series, а не DataFrame.\n",
    "# series = pd.Series(df['name'])\n",
    "\n",
    "series = pd.Series(df['date'])\n",
    "series\n"
   ]
  },
  {
   "cell_type": "code",
   "execution_count": null,
   "metadata": {},
   "outputs": [],
   "source": [
    "series.info()"
   ]
  },
  {
   "cell_type": "code",
   "execution_count": null,
   "metadata": {},
   "outputs": [],
   "source": [
    "# Упражнение 8\n",
    "# В программе создан DataFrame и записан в переменную df.\n",
    "# Столбец с именем \"name\" присвойте переменной df_1.\n",
    "# В переменной df_1 должен быть  DataFrame, а не Series.\n",
    "# df_1 = df[['name']]\n",
    "df_1 = df[['date']]\n",
    "df_1\n"
   ]
  },
  {
   "cell_type": "code",
   "execution_count": null,
   "metadata": {},
   "outputs": [],
   "source": [
    "df_1.info()"
   ]
  },
  {
   "cell_type": "code",
   "execution_count": null,
   "metadata": {},
   "outputs": [],
   "source": [
    "# Упражнение 9\n",
    "# В программе созданы DataFrame и Series и записаны в переменные df и ser. \n",
    "# Создайте новый столбец \"new_col\" и запишите в него ser.\n",
    "# df['new_col'] = ser"
   ]
  },
  {
   "cell_type": "code",
   "execution_count": 96,
   "metadata": {},
   "outputs": [],
   "source": [
    "ser = pd.Series([1,2,3,4,5])"
   ]
  },
  {
   "cell_type": "code",
   "execution_count": null,
   "metadata": {},
   "outputs": [],
   "source": [
    "df['new_col2'] = ser"
   ]
  },
  {
   "cell_type": "code",
   "execution_count": null,
   "metadata": {},
   "outputs": [],
   "source": [
    "df"
   ]
  },
  {
   "cell_type": "code",
   "execution_count": 104,
   "metadata": {},
   "outputs": [],
   "source": [
    "# Упражнение 10\n",
    "# В программе созданы DataFrame и Series и записаны в переменные df и ser. \n",
    "# Создайте новый столбец \"new_col\" и запишите в него ser.\n",
    "# DataFrame уже создан и записан в переменную df.\n",
    "# df['new_col'] = df['age']\n",
    "\n",
    "df['new_col3'] = df['city']"
   ]
  },
  {
   "cell_type": "code",
   "execution_count": null,
   "metadata": {},
   "outputs": [],
   "source": [
    "df"
   ]
  },
  {
   "cell_type": "code",
   "execution_count": null,
   "metadata": {},
   "outputs": [],
   "source": [
    "# Упражнение 11\n",
    "# В прошлом задании вы создали столбец \"new_col\". Он явно там лишний, удалите его. \n",
    "# DataFrame записан в переменную df\n",
    "# Импортировать библиотеку Pandas не нужно, она уже импортирована.\n",
    "# df.drop('new_col', axis=1, inplace=True)\n",
    "\n",
    "df.drop('new_col3', axis=1, inplace=True)"
   ]
  },
  {
   "cell_type": "code",
   "execution_count": 109,
   "metadata": {},
   "outputs": [],
   "source": [
    "df.drop('new_col2', axis=1, inplace=True)"
   ]
  },
  {
   "cell_type": "code",
   "execution_count": null,
   "metadata": {},
   "outputs": [],
   "source": [
    "df"
   ]
  },
  {
   "cell_type": "code",
   "execution_count": null,
   "metadata": {},
   "outputs": [],
   "source": [
    "# Упражнение 13\n",
    "\n",
    "# В программе создан DataFrame и две серии Series и записаны в переменные df, ser_1, ser_2. \n",
    "# В df создайте новые столбцы \"new_col_1\" и \"new_col_2\", запишите в них ser_1 и ser_2 соответственно. \n",
    "# Столбец \"date\" установите в качестве индексов строк.\n",
    "# Примечание: импортировать библиотеку Pandas не нужно, она уже импортирована.\n",
    "# df['new_col_1'] = ser_1\n",
    "# df['new_col_2'] = ser_2\n",
    "# df.set_index('date',inplace=True)\n",
    "\n",
    "ser_1 = pd.Series([1,2,3,4,5])\n",
    "ser_2 = pd.Series([5,4,3,2,1])\n",
    "df['new_col_1'] = ser_1\n",
    "df['new_col_2'] = ser_2\n",
    "df.set_index('date',inplace=True)\n",
    "df"
   ]
  },
  {
   "cell_type": "markdown",
   "metadata": {},
   "source": [
    "#### 1.6 Мультииндекс"
   ]
  },
  {
   "cell_type": "code",
   "execution_count": 10,
   "metadata": {},
   "outputs": [],
   "source": [
    "# Упражнение 2\n",
    "# Создайте мультииндекс на основе данных списков: ['a', 's', 'd', 'f'] и [1, 2, 3, 4]. Используйте метод from_arrays().\n",
    "# Результат запишите в переменную ind.\n",
    "\n",
    "# Импортируйте библиотеку Pandas.        \n",
    "import pandas as pd\n",
    "\n",
    "# Создайте объект MultiIndex.\n",
    "ind = pd.MultiIndex.from_arrays([['a', 's', 'd', 'f'], [1, 2, 3, 4]])\n"
   ]
  },
  {
   "cell_type": "code",
   "execution_count": 115,
   "metadata": {},
   "outputs": [],
   "source": [
    "# Упражнение 3\n",
    "# Есть две модели мотоциклов \"юпитер\" и \"восход\". Они могут быть раскрашены в три цвета: \n",
    "# черный, оранжевый и красный. На основе этих данных создайте мультииндекс.\n",
    "#  Нулевой уровень с именем \"модель\", а первый уровень с именем \"цвет\".\n",
    "# Импортируйте библиотеку Pandas.        \n",
    "import pandas as pd\n",
    "level_0 = ['юпитер', 'восход']\n",
    "level_1 = ['черный', 'оранжевый', 'красный']\n",
    "\n",
    "# Создайте объект MultiIndex.\n",
    "ind = pd.MultiIndex.from_product([level_0, level_1], names=['модель', 'цвет'])"
   ]
  },
  {
   "cell_type": "code",
   "execution_count": null,
   "metadata": {},
   "outputs": [],
   "source": [
    "ind"
   ]
  },
  {
   "cell_type": "code",
   "execution_count": null,
   "metadata": {},
   "outputs": [],
   "source": [
    "# Упражнение 5.\n",
    "# получите количество уровней, результат запишите в переменную nlev,\n",
    "# получите кортеж с количеством элементов на каждом уровне, результат запишите в переменную lev_sh,\n",
    "# получите имена уровней, результат запишите в переменную name_lev,\n",
    "# получите объект, содержащий элементы мультииндекса, результат запишите в переменную lev,\n",
    "\n",
    "# DataFrame уже создан и записан в переменную df.\n",
    "nlev = df.index.nlevels\n",
    "lev_sh = df.index.levshape\n",
    "name_lev = df.index.names\n",
    "lev = df.index.levels"
   ]
  },
  {
   "cell_type": "code",
   "execution_count": 28,
   "metadata": {},
   "outputs": [],
   "source": [
    "# Упражнение 6\n",
    "# В DataFrame удалите нулевой уровень у мультииндекса столбцов.\n",
    "# Pandas импортирована\n",
    "# DataFrame уже создан и записан в переменную df.\n",
    "\n",
    "df.columns =  ind # Вынимаем индексы колонок\n",
    "new_index = df.columns.droplevel()\n",
    "\n"
   ]
  },
  {
   "cell_type": "code",
   "execution_count": null,
   "metadata": {},
   "outputs": [],
   "source": [
    "new_index"
   ]
  },
  {
   "cell_type": "code",
   "execution_count": null,
   "metadata": {},
   "outputs": [],
   "source": [
    "df.index"
   ]
  },
  {
   "cell_type": "code",
   "execution_count": null,
   "metadata": {},
   "outputs": [],
   "source": [
    "df.columns"
   ]
  },
  {
   "cell_type": "code",
   "execution_count": null,
   "metadata": {},
   "outputs": [],
   "source": []
  },
  {
   "cell_type": "markdown",
   "metadata": {},
   "source": [
    "#### 1.7 Арифметические операции"
   ]
  },
  {
   "cell_type": "code",
   "execution_count": null,
   "metadata": {},
   "outputs": [],
   "source": [
    "# ser+ser"
   ]
  },
  {
   "cell_type": "code",
   "execution_count": null,
   "metadata": {},
   "outputs": [],
   "source": [
    "# Упражнение 1\n",
    "# В программе создана серия, содержащая данные о зарплате сотрудников, и записана в переменную \n",
    "# ser. При её создании была допущена ошибка, в результате которой зарплата сотрудников в 1000 раз меньше. \n",
    "# Например, вместо 50000 стоит 50. Исправьте эту ошибку.\n",
    "\n",
    "# new_ser = ser * 1000"
   ]
  },
  {
   "cell_type": "code",
   "execution_count": null,
   "metadata": {},
   "outputs": [],
   "source": [
    "# Упражнение 2\n",
    "# Сложите элементы первой серии с элементами второй\n",
    "\n",
    "# new_ser = ser_1 + ser_2"
   ]
  },
  {
   "cell_type": "code",
   "execution_count": null,
   "metadata": {},
   "outputs": [],
   "source": [
    "# Упражнение 3 \n",
    "# Умножьте элементы столбца DF \"col_2\" на элементы из серии\n",
    "\n",
    "# new_ser = df['col_2'] * ser"
   ]
  },
  {
   "cell_type": "code",
   "execution_count": 168,
   "metadata": {},
   "outputs": [],
   "source": [
    "# Создаём новый датафрейм\n",
    "dict_in = {\n",
    "    'стаж работы': [3.25, 4.50, 5.75, 6.25, 7.50],\n",
    "    'зарплата': [60, 70, 80, 90, 100]}\n",
    "df_1 = pd.DataFrame(dict_in)\n",
    "# создаём новую серию\n",
    "ser_1 = pd.Series([1,2,3,4,5,6])\n",
    "# добавляем новый столбец и присваиваем ему значения из ser_1\n",
    "df_1['new_col1'] = ser_1\n",
    "# выводим 3 строки в новый дф\n",
    "df_3 = df_1.head(3)\n",
    "# выводим только два столбцав еще один дф\n",
    "df_4 = df_1[['стаж работы','new_col1']]"
   ]
  },
  {
   "cell_type": "code",
   "execution_count": null,
   "metadata": {},
   "outputs": [],
   "source": [
    "df_3"
   ]
  },
  {
   "cell_type": "code",
   "execution_count": null,
   "metadata": {},
   "outputs": [],
   "source": [
    "df_4"
   ]
  },
  {
   "cell_type": "code",
   "execution_count": null,
   "metadata": {},
   "outputs": [],
   "source": [
    "# Объединяем\n",
    "df_3 + df_4"
   ]
  },
  {
   "cell_type": "code",
   "execution_count": null,
   "metadata": {},
   "outputs": [],
   "source": [
    "# Объединяем. тоже самое что выше но с методом add()\n",
    "df_3.add(df_4)"
   ]
  },
  {
   "cell_type": "code",
   "execution_count": 136,
   "metadata": {},
   "outputs": [],
   "source": [
    "# Упражнение 4\n",
    "# Поменяйте значения так, чтобы:\n",
    "# в столбце \"стаж работы\" стояли месяцы, а не года,\n",
    "# в столбце \"зарплата\" стояли числа в тысячу раз больше\n",
    "\n",
    "# # DaraFrame уже создан и записан в переменную df.\n",
    "# # Переводим колонку в серию и производим операцию вычесления\n",
    "# series1 = df['стаж работы'] * 12\n",
    "# series2 = df['зарплата'] * 1000\n",
    "# #Объединяем две серии\n",
    "# new_df = pd.concat([series1,series2],axis=1)\n"
   ]
  },
  {
   "cell_type": "code",
   "execution_count": null,
   "metadata": {},
   "outputs": [],
   "source": [
    "\n",
    "# Создаём новый датафрейм\n",
    "dict_in = {\n",
    "    'стаж работы': [3.25, 4.50, 5.75, 6.25, 7.50],\n",
    "    'зарплата': [60, 70, 80, 90, 100]}\n",
    "df_1 = pd.DataFrame(dict_in)\n",
    "# Переводим колонку в серию и производим операцию вычесления\n",
    "series1 = df_1['стаж работы'] * 12\n",
    "series2 = df_1['зарплата'] * 1000\n",
    "#Объединяем две серии по оси 1 ( {0/'index', 1/'columns'}, по умолчанию 0 )\n",
    "df_1 = pd.concat([series1,series2],axis=1)\n",
    "df_1"
   ]
  },
  {
   "cell_type": "code",
   "execution_count": null,
   "metadata": {},
   "outputs": [],
   "source": [
    "# Упражнение 5\n",
    "# Поменяйте значения так, чтобы:\n",
    "# в столбце \"год рождения\" стояла дата в формате 19ХХ (пример: 1989)\n",
    "# в столбце \"стаж работы\" стояли месяцы, а не года\n",
    "# в столбце \"зарплата\" стояли числа в тысячу раз больше.\n",
    "\n",
    "# # Переводим колонку в серию и производим операцию вычесления\n",
    "# series1 = df['стаж работы'] * 12\n",
    "# series2 = df['зарплата'] * 1000\n",
    "# series3 = df['год рождения'] + 1900\n",
    "# #Объединяем две серии по оси 1 ( {0/'index', 1/'columns'}, по умолчанию 0 )\n",
    "# new_df = pd.concat([series3,series1,series2],axis=1)\n",
    "# new_df"
   ]
  },
  {
   "cell_type": "code",
   "execution_count": null,
   "metadata": {},
   "outputs": [],
   "source": [
    "import pandas as pd\n",
    "data = {\n",
    "    'год рождения' : [88, 89, 90, 91, 92,],\n",
    "    'стаж работы' : [3.25, 4.50, 5.75, 6.25, 7.50,],\n",
    "    'зарплата' : [60, 70, 80, 90, 100,],\n",
    "}\n",
    "#\n",
    "df = pd.DataFrame(data)\n",
    "# Переводим колонку в серию и производим операцию вычесления\n",
    "series1 = df['стаж работы'] * 12\n",
    "series2 = df['зарплата'] * 1000\n",
    "series3 = df['год рождения'] + 1900\n",
    "#Объединяем две серии по оси 1 ( {0/'index', 1/'columns'}, по умолчанию 0 )\n",
    "new_df = pd.concat([series3,series1,series2],axis=1)\n",
    "new_df"
   ]
  },
  {
   "cell_type": "code",
   "execution_count": null,
   "metadata": {},
   "outputs": [],
   "source": [
    "# Упражнение 6\n",
    "# Требуется получить серию, показывающую насколько зарплата у сотрудника \n",
    "# отклоняется от средних значений. Для этого из значений серии ser нужно вычесть \n",
    "# среднее значение, которое можно найти с помощью метода mean().\n",
    "# Результат запишите в переменную new_ser.\n",
    "\n",
    "# new_ser = ser - ser.mean()\n",
    "\n",
    "new_ser = series2 - series2.mean()\n",
    "new_ser"
   ]
  },
  {
   "cell_type": "code",
   "execution_count": 23,
   "metadata": {},
   "outputs": [],
   "source": [
    "# Упражнение 7\n",
    "# Требуется получить DF, показывающий насколько показатели у сотрудников \n",
    "# отклоняются от средних значений.\n",
    "# Результат запишите в переменную new_df.\n",
    "\n",
    "# ser.index = ['стаж работы', 'age', 'зарплата'] \n",
    "# new_df = df.sub(ser)\n",
    "\n",
    "import pandas as pd\n",
    "data = {\n",
    "    'age' : [19, 20, 23, 24, 25],\n",
    "    'стаж работы' : [3, 4, 5, 6, 7],\n",
    "    'зарплата' : [60000, 70000, 80000, 90000, 100000]\n",
    "}\n",
    "ser = pd.Series([5.0, 22.2, 80000.0], index=['средний стаж работы', 'средний возраст', 'средняя зарплата'])\n",
    "DF = pd.DataFrame(data)\n",
    "# Что тут мы делаем вообще не понятно. Я взял решение из комментариев\n",
    "ser.index = ['стаж работы', 'age', 'зарплата'] \n",
    "new_df = df.sub(ser)\n",
    "new_df\n"
   ]
  },
  {
   "cell_type": "code",
   "execution_count": 5,
   "metadata": {},
   "outputs": [],
   "source": [
    "# Упражнение 9\n",
    "# В программе созданы серия  и DF и записаны в переменные ser и df соответственно. \n",
    "# Ко всем столбцам DF прибавьте значения из серии. \n",
    "# Воспользуйтесь специальным методом и аргументом axis. Результат запишите в переменную new_df.\n",
    "# new_df = df.add(ser, axis=0)\n",
    "\n",
    "import pandas as pd\n",
    "data = {\n",
    "    'age' : [19, 20, 23, 24, 25],\n",
    "    'стаж работы' : [3, 4, 5, 6, 7],\n",
    "    'зарплата' : [60000, 70000, 80000, 90000, 100000]\n",
    "}\n",
    "ser = pd.Series([5.0, 22.2, 80000.0], index=['средний стаж работы', 'средний возраст', 'средняя зарплата'])\n",
    "df = pd.DataFrame(data)"
   ]
  },
  {
   "cell_type": "code",
   "execution_count": null,
   "metadata": {},
   "outputs": [],
   "source": [
    "list(ser)"
   ]
  },
  {
   "cell_type": "code",
   "execution_count": null,
   "metadata": {},
   "outputs": [],
   "source": [
    "df"
   ]
  },
  {
   "cell_type": "code",
   "execution_count": null,
   "metadata": {},
   "outputs": [],
   "source": [
    "new_df = df.add(list(ser), axis=1)\n",
    "new_df"
   ]
  },
  {
   "cell_type": "markdown",
   "metadata": {},
   "source": [
    "#### 1.8 Операции сравнения"
   ]
  },
  {
   "cell_type": "code",
   "execution_count": null,
   "metadata": {},
   "outputs": [],
   "source": [
    "# Упражнение 3\n",
    "# new_ser = ser_1 >= ser_2"
   ]
  },
  {
   "cell_type": "code",
   "execution_count": null,
   "metadata": {},
   "outputs": [],
   "source": [
    "# Упражнение 4\n",
    "# В программе созданы серия  и DF и записаны в переменные ser и df соответственно. \n",
    "# Сравните на равенство элементы столбца DF \"col_2\" с серией.\n",
    "# new_ser = ser == df['col_2']"
   ]
  },
  {
   "cell_type": "code",
   "execution_count": null,
   "metadata": {},
   "outputs": [],
   "source": [
    "# Упражнение 5\n",
    "# В программе созданы два DF и записаны в переменные df_1 и df_2 . \n",
    "# Сравните на равенство элементы df_1 с элементами df_2\n",
    "# new_df = df_1 == df_2"
   ]
  },
  {
   "cell_type": "code",
   "execution_count": null,
   "metadata": {},
   "outputs": [],
   "source": [
    "# Упражнение 6\n",
    "# В программе создана серия и записана в переменную ser . Она содержит количество покупок клиентов. \n",
    "# Требуется получить серию/маску показывающую какие клиенты имеют меньше 10 покупок\n",
    "# new_ser = ser < 10\n",
    "\n",
    "# Упражнение 7\n",
    "# new_ser = df['name'] == 'Вальдемар'\n",
    "\n",
    "# Упражнение 10\n",
    "# new_df = df.ge(ser, axis=0)\n"
   ]
  },
  {
   "cell_type": "markdown",
   "metadata": {},
   "source": [
    "Методы операций сравнения  \n",
    "eq() ==  \n",
    "ne() !=  \n",
    "le() <=  \n",
    "lt() <  \n",
    "ge() >=  \n",
    "gt() >  "
   ]
  },
  {
   "cell_type": "code",
   "execution_count": null,
   "metadata": {},
   "outputs": [],
   "source": [
    "# Упражнение 8\n",
    "# ser.index = ['стаж работы', 'age', 'зарплата'] \n",
    "# new_df = df.gt(ser, axis=1)"
   ]
  },
  {
   "cell_type": "code",
   "execution_count": null,
   "metadata": {},
   "outputs": [],
   "source": [
    "# Пример как это работает\n",
    "import pandas as pd\n",
    "data = {\n",
    "    'age' : [19, 20, 23, 24, 25],\n",
    "    'стаж работы' : [3, 4, 5, 6, 7],\n",
    "    'зарплата' : [60000, 70000, 80000, 90000, 100000]\n",
    "    }\n",
    "import pandas as pd\n",
    "ser = pd.Series([5.0, 22.2, 80000.0], index=['средний стаж работы', 'средний возраст', 'средняя зарплата'])\n",
    "ser"
   ]
  },
  {
   "cell_type": "code",
   "execution_count": null,
   "metadata": {},
   "outputs": [],
   "source": [
    "ser.index = ['стаж работы', 'age', 'зарплата'] # выравниваем индексы колонок с датафреймом\n",
    "df = pd.DataFrame(data)\n",
    "df.gt(ser, axis=1)  #  сравнение > среднего или нет"
   ]
  },
  {
   "cell_type": "markdown",
   "metadata": {},
   "source": [
    "#### 1.9 Фильтрация данных по логическому условию"
   ]
  },
  {
   "cell_type": "code",
   "execution_count": 6,
   "metadata": {},
   "outputs": [],
   "source": [
    "# Упражнение 3\n",
    "# Получите только те строки, в которых стаж работы сотрудников больше 5\n",
    "# new_df = df[df['стаж работы'] > 5]\n",
    "\n",
    "import pandas as pd\n",
    "data = {\n",
    "    'год рождения' : [88, 89, 90, 91, 92],\n",
    "    'стаж работы' : [3.25, 4.50, 5.75, 6.25, 7.50],\n",
    "    'зарплата' : [60000, 70000, 80000, 90000, 100000]\n",
    "    }\n",
    "df = pd.DataFrame(data)"
   ]
  },
  {
   "cell_type": "code",
   "execution_count": null,
   "metadata": {},
   "outputs": [],
   "source": [
    "df['стаж работы'] > 5"
   ]
  },
  {
   "cell_type": "code",
   "execution_count": null,
   "metadata": {},
   "outputs": [],
   "source": [
    "new_df = df[df['стаж работы'] > 5]"
   ]
  },
  {
   "cell_type": "markdown",
   "metadata": {},
   "source": [
    "& - битовая И  \n",
    "Операторы сравнения ( ==, <, >, <= и т.д. )  \n",
    "~ - битовая НЕ  \n",
    "| - битовая ИЛИ  "
   ]
  },
  {
   "cell_type": "code",
   "execution_count": null,
   "metadata": {},
   "outputs": [],
   "source": [
    "# Упражнение 4\n",
    "# Получите только те строки в которых стаж работы сотрудников больше 4, а з\n",
    "# арплата меньше 95000.\n",
    "# new_df = df[(df['стаж работы'] > 4) & (df['зарплата'] < 95000)] "
   ]
  },
  {
   "cell_type": "code",
   "execution_count": null,
   "metadata": {},
   "outputs": [],
   "source": [
    "df[(df['стаж работы'] > 4) & (df['зарплата'] < 95000)] "
   ]
  },
  {
   "cell_type": "code",
   "execution_count": null,
   "metadata": {},
   "outputs": [],
   "source": [
    "# Упражнение 5\n",
    "# Получите только те строки в которых сотрудники младше 91 года рождения \n",
    "# и их зарплата не равна 80000.\n",
    "# new_df = df[(df['год рождения'] > 91) & (df['зарплата'] != 80000)]"
   ]
  },
  {
   "cell_type": "code",
   "execution_count": null,
   "metadata": {},
   "outputs": [],
   "source": [
    "new_df = df[(df['год рождения'] >= 91) | (df['зарплата'] < 70000)]  ; new_df"
   ]
  },
  {
   "cell_type": "code",
   "execution_count": null,
   "metadata": {},
   "outputs": [],
   "source": [
    "# Упражнение 6 \n",
    "# Получите только те строки в которых сотрудники не старше 91 года рождения \n",
    "# или зарплата меньше 70000.\n",
    "# new_df = df.query('`год рождения` >= 91 or `зарплата` < 70000') "
   ]
  },
  {
   "cell_type": "code",
   "execution_count": null,
   "metadata": {},
   "outputs": [],
   "source": [
    "# Упражнение 7\n",
    "# Получите только те строки в которых сотрудники не старше 91 года рождения, \n",
    "# а их стаж работы равен любому числу из списка [4.5, 5.75, 6.25].\n",
    "# new_df = df[(df['год рождения'] >= 91) & df['стаж работы'].isin([4.5, 5.75, 6.25])]"
   ]
  },
  {
   "cell_type": "code",
   "execution_count": null,
   "metadata": {},
   "outputs": [],
   "source": [
    "import pandas as pd\n",
    "data = {\n",
    "    'год рождения' : [88, 89, 90, 91, 92],\n",
    "    'стаж работы' : [3.25, 4.50, 5.75, 6.25, 7.50],\n",
    "    'зарплата' : [60000, 70000, 80000, 90000, 100000]\n",
    "    }\n",
    "df = pd.DataFrame(data)\n",
    "df"
   ]
  },
  {
   "cell_type": "code",
   "execution_count": null,
   "metadata": {},
   "outputs": [],
   "source": [
    "# Получите только те строки в которых сотрудники не старше 91 года рождения, \n",
    "# а их стаж работы равен любому числу из списка [4.5, 5.75, 6.25]\n",
    "df[(df['год рождения'] >= 91) & df['стаж работы'].isin([4.5, 5.75, 6.25])]"
   ]
  },
  {
   "cell_type": "code",
   "execution_count": null,
   "metadata": {},
   "outputs": [],
   "source": [
    "# Упражнение 9 \n",
    "# Получите только те строки в которых стаж работы сотрудников меньше или равен 4. \n",
    "# При фильтрации используйте метод query()\n",
    "# new_df = df.query('`стаж работы` <= 4')\n",
    "df.query('`стаж работы` <= 4')\n"
   ]
  },
  {
   "cell_type": "code",
   "execution_count": null,
   "metadata": {},
   "outputs": [],
   "source": [
    "# Упражнение 10\n",
    "# Получите только те строки в которых стаж работы сотрудников меньше или равен 5, \n",
    "# а их зарплата больше 65000. При фильтрации используйте метод query()\n",
    "# new_df = df.query('`стаж работы` <= 5 and зарплата > 65000')\n",
    "\n",
    "df.query('`стаж работы` <= 5 and зарплата > 65000')"
   ]
  },
  {
   "cell_type": "code",
   "execution_count": null,
   "metadata": {},
   "outputs": [],
   "source": [
    "# Упражнение 11 \n",
    "# Получите только те строки в которых сотрудники старше 91 года рождения и \n",
    "# зарплата равна 80000. При фильтрации используйте метод query()\n",
    "# new_df = df.query('`год рождения` < 91 and зарплата == 80000')\n",
    "\n",
    "df.query('`год рождения` < 91 and зарплата == 80000')\n"
   ]
  },
  {
   "cell_type": "code",
   "execution_count": null,
   "metadata": {},
   "outputs": [],
   "source": [
    "# Упражнение 12 \n",
    "# Получите только те строки в которых сотрудники не младше 91 года рождения \n",
    "# или зарплата больше 70000. При фильтрации используйте метод query()\n",
    "# new_df = df.query('`год рождения` <= 91 or зарплата > 70000')\n",
    "\n",
    "df.query('`год рождения` <= 91 or зарплата > 70000')"
   ]
  },
  {
   "cell_type": "code",
   "execution_count": null,
   "metadata": {},
   "outputs": [],
   "source": [
    "# Упражнение 13 \n",
    "# Получите список студентов решивших больше 100 задач на курсе \"Pandas для анализа данных\"\n",
    "# stud_list = df.query('Решено > 100').index.to_list()\n",
    "\n",
    "df.query('зарплата > 10000').index.to_list()"
   ]
  },
  {
   "cell_type": "markdown",
   "metadata": {},
   "source": [
    "#### 1.10 Пропуски в данных. Значение Nan."
   ]
  },
  {
   "cell_type": "code",
   "execution_count": null,
   "metadata": {},
   "outputs": [],
   "source": [
    "import pandas as pd\n",
    "import numpy as np\n",
    "data = {\n",
    "    'год рождения' : [88, 89,np.nan, 91, 92],\n",
    "    'стаж работы' : [3.25, 4.50, 5.75, np.nan, 7.50],\n",
    "    'зарплата' : [60000, np.nan, 80000, 90000, 100000]\n",
    "    }\n",
    "df = pd.DataFrame(data)\n",
    "df"
   ]
  },
  {
   "cell_type": "code",
   "execution_count": null,
   "metadata": {},
   "outputs": [],
   "source": [
    "# Упражнение 2\n",
    "# Удалите все строки имеющие пропуски.\n",
    "# new_df = df.dropna(axis=0)"
   ]
  },
  {
   "cell_type": "code",
   "execution_count": null,
   "metadata": {},
   "outputs": [],
   "source": [
    "# Упражнение 3  \n",
    "# Удалите все столбцы имеющие пропуски.\n",
    "# new_df = df.dropna(axis=1)"
   ]
  },
  {
   "cell_type": "code",
   "execution_count": null,
   "metadata": {},
   "outputs": [],
   "source": [
    "# Упражнение 4 \n",
    "# Удалите те строки в которых все значения являются пропусками.\n",
    "# new_df = df.dropna(axis=0, how = 'all')\n",
    "\n",
    "# Упражнение 5\n",
    "# Удалите те столбцы в которых все значения являются пропусками\n",
    "# new_df = df.dropna(axis=0, how = 'all')\n",
    "\n",
    "# Упражнение 6\n",
    "# Удалите строки в которых в столбцах \"name\" и \"age\" есть пропуски\n",
    "# new_df = df.dropna(axis=0, subset=['name','age'])\n",
    "\n",
    "# Упражнение 7\n",
    "# Удалите столбцы в которых в строках с индексами [2, 3, 7] есть пропуски\n",
    "# new_df = df.dropna(axis=1, subset=[2, 3, 7])\n",
    "\n",
    "# Упражнение 8\n",
    "# Удалите строки в которых в столбцах \"name\" и \"age\" есть пропуски. \n",
    "# Примените изменения к df с помощью специального аргумента\n",
    "# df.dropna(axis=0, subset=['name','age'], inplace=True)\n",
    "\n",
    "# Упражнение 9\n",
    "# Замените пропуски в столбцах \"name\" и \"count\" на \"No_name\" и число 10 соответственно. \n",
    "# Примените изменения к df с помощью специального аргумента.\n",
    "# df.fillna({'name' : 'No_name','count' :  10}, inplace=True)"
   ]
  },
  {
   "cell_type": "code",
   "execution_count": null,
   "metadata": {},
   "outputs": [],
   "source": [
    "df.fillna({'год рождения' : 'No_name','стаж работы':  10})\n",
    "df"
   ]
  },
  {
   "cell_type": "code",
   "execution_count": null,
   "metadata": {},
   "outputs": [],
   "source": [
    "# Упражнение 10\n",
    "# new_df = df[df['name'].isna()]\n",
    "df[(~df['год рождения'].isna()) & (df['зарплата'] <= 70000)]\n",
    "\n",
    "# Упражнение 11 \n",
    "# Получите только те строки в которых в столбце \"age\" нет пропусков, а в столбце \"count\" \n",
    "# число меньше или равно 5\n",
    "# new_df = df[(~df['age'].isna()) & (df['count'] <= 5)]\n",
    "\n",
    "# Упражнение 12 \n",
    "# Оставьте только строки со студентами, решившими все задачи. \n",
    "# 1 - задача решена, Nan - задача не решена\n",
    "# new_df = df.dropna(axis=0, how = 'any')"
   ]
  },
  {
   "cell_type": "code",
   "execution_count": null,
   "metadata": {},
   "outputs": [],
   "source": [
    "# Упражнение 13 \n",
    "# Получите список со студентами курса \"Pandas для анализа данных\", \n",
    "# у которых нет решенных задач\n",
    "# stud_list = df[~df.any(axis=1)].index.to_list()"
   ]
  },
  {
   "cell_type": "code",
   "execution_count": 59,
   "metadata": {},
   "outputs": [],
   "source": [
    "import pandas as pd\n",
    "import numpy as np\n",
    "\n",
    "temp = {'Упр_0': [1, np.NaN, 1], \n",
    "        'Упр_1': [np.NaN, np.NaN, np.NaN], \n",
    "        'Упр_2':[1, np.NaN, np.NaN]}\n",
    "\n",
    "df = pd.DataFrame(data=temp, index=[f'Имя_{i}' for i in range(3)], columns=[f'Упр_{i}' for i in range(3)])"
   ]
  },
  {
   "cell_type": "code",
   "execution_count": null,
   "metadata": {},
   "outputs": [],
   "source": [
    "df.any(axis=1)"
   ]
  },
  {
   "cell_type": "code",
   "execution_count": null,
   "metadata": {},
   "outputs": [],
   "source": [
    "df[~df.any(axis=1)].index.to_list()"
   ]
  },
  {
   "cell_type": "code",
   "execution_count": null,
   "metadata": {},
   "outputs": [],
   "source": [
    "df"
   ]
  },
  {
   "cell_type": "markdown",
   "metadata": {},
   "source": [
    "## 1.11 Удаление строк и столбцов и метод astype()."
   ]
  },
  {
   "cell_type": "code",
   "execution_count": null,
   "metadata": {},
   "outputs": [],
   "source": [
    "# Упражнение 1\n",
    "# Удалите строки с индексами [1, 7, 55]\n",
    "# new_df = df.drop(index=[1, 7, 55])\n",
    "\n",
    "# Упражнение 2 \n",
    "# Удалите столбцы с именами \"id\" и \"product\n",
    "# new_df = df.drop(columns=[\"id\", \"product\"])\n",
    "\n",
    "# Упражнение 3\n",
    "# Удалите строки с индексами [1, 2, 3] и столбцы с именами \"id\" и \"product\n",
    "# df.drop(index=[1, 2, 3], columns=[\"id\", \"product\"], inplace=True)\n",
    "\n",
    "# Упражнение 5 \n",
    "# Измените тип данных в столбце 'col_2' на 'int'\n",
    "# new_df = df.astype({'col_2': np.int64})\n",
    "\n",
    "# Упражнение 6\n",
    "# Измените тип данных в столбце 'col_3' на 'category'\n",
    "# new_df = df.astype({'col_3': 'category'})\n",
    "\n",
    "# Упражнение 7\n",
    "# Измените тип данных в столбцах, чтобы уменьшить объем занимаемой памяти и \n",
    "# увеличить скорость работы с некоторыми столбцами. Столбец \"col_3\" содержит всего \n",
    "# 10 уникальных значений\n",
    "# import numpy as np\n",
    "# new_df = df.astype({'col_3': 'category','col_1' : np.int8,'col_2' : np.int8,})"
   ]
  },
  {
   "cell_type": "markdown",
   "metadata": {},
   "source": [
    "## 2.1 Методы at и iat. Методы loс и iloc"
   ]
  },
  {
   "cell_type": "code",
   "execution_count": null,
   "metadata": {},
   "outputs": [],
   "source": [
    "# Упражнение 4\n",
    "# Получите элемент с индексом строки 2 и индексом столбца 1\n",
    "# value = df.iat[2,1]\n",
    "\n",
    "# Упражнение 5\n",
    "# Из столбца 'name' получите элемент с индексом строки 1\n",
    "# value = df['name'].iloc[1]\n",
    "\n",
    "\n",
    "# Упражнение 6\n",
    "# Получите элемент, который находится на пересечении столбца 'age' и строки 'row_3'\n",
    "# value = df.at['row_3', 'age']\n",
    "\n",
    "# Упражнение 7\n",
    "# Значение элемента, который находится на пересечении столбца 'name' и строки 'row_2', \n",
    "# поменяйте на значение 'new_name'\n",
    "# df.at['row_2', 'name'] = 'new_name'\n",
    "\n",
    "\n",
    "# Упражнение 9\n",
    "# Получите элементы, которые находятся на пересечении столбца с индексом 1 и строк с \n",
    "# индексами 2 и 4\n",
    "# new_ser = df.iloc[ [2,4] , 1 ]\n",
    "\n",
    "# Упражнение 10\n",
    "# Получите элементы, которые находятся на пересечении столбца с индексом 1 и строк, \n",
    "# имеющих индексы с 1 по 3 включительно.\n",
    "# new_ser = df.iloc[ 1:4 , 1 ]\n",
    "\n",
    "# Упражнение 11\n",
    "# Получите элементы, которые находятся на пересечении столбца \"год рождения\" и строк с \n",
    "# метками 2, 3 и 5\n",
    "\n",
    "# Упражнение 12\n",
    "# Узнайте стаж работы и зарплату только тех сотрудников, чей возраст младше 89 года рождения\n",
    "# new_df = df[df['год рождения'] > 89].loc[:,['стаж работы', 'зарплата']] \n"
   ]
  },
  {
   "cell_type": "code",
   "execution_count": null,
   "metadata": {},
   "outputs": [],
   "source": [
    "dict_array = {\n",
    "    'age': ['Сергей', 'Маша', 'Ксюша', 'Аристарх', 'Соня'],\n",
    "    'name': [53, 37, 11, 18, 7],\n",
    "    'Наличие авто': [True, True, False, True, False]\n",
    "}\n",
    "import pandas as pd\n",
    "import numpy as np\n",
    "\n",
    "df = pd.DataFrame(dict_array, index=['row_0', 'row_1', 'row_2', 'row_3', 'row_4'] )\n",
    "df"
   ]
  },
  {
   "cell_type": "code",
   "execution_count": null,
   "metadata": {},
   "outputs": [],
   "source": [
    "df['name'].iloc[1]"
   ]
  },
  {
   "cell_type": "code",
   "execution_count": null,
   "metadata": {},
   "outputs": [],
   "source": [
    "df['name'].iloc[2:]"
   ]
  },
  {
   "cell_type": "code",
   "execution_count": null,
   "metadata": {},
   "outputs": [],
   "source": [
    "df.iloc[ : , : ]"
   ]
  },
  {
   "cell_type": "code",
   "execution_count": null,
   "metadata": {},
   "outputs": [],
   "source": [
    "df['name'].loc[['row_2', 'row_3', 'row_4']]"
   ]
  },
  {
   "cell_type": "code",
   "execution_count": null,
   "metadata": {},
   "outputs": [],
   "source": [
    "import pandas as pd\n",
    "import numpy as np\n",
    "data = {\n",
    "    'год рождения' : [88, 89, 90, 91, 92],\n",
    "    'стаж работы' : [3.25, 4.50, 5.75, 6.25, 7.50],\n",
    "    'зарплата' : [60000, 70000, 80000, 90000, np.nan]\n",
    "    }\n",
    "df = pd.DataFrame(data)\n",
    "df"
   ]
  },
  {
   "cell_type": "code",
   "execution_count": null,
   "metadata": {},
   "outputs": [],
   "source": [
    "df[df['год рождения'] >89]"
   ]
  },
  {
   "cell_type": "code",
   "execution_count": null,
   "metadata": {},
   "outputs": [],
   "source": [
    "df[df['год рождения'] > 89].loc[:,['стаж работы', 'зарплата']] "
   ]
  },
  {
   "cell_type": "code",
   "execution_count": null,
   "metadata": {},
   "outputs": [],
   "source": [
    "# Упражнение 13 \n",
    "# DF состоит из 100 строк и в столбце \"зарплата\" есть пропуски. Получите столбец \"зарплата\" \n",
    "# без пропусков в данных. Используйте метод isna()\n",
    "# new_ser = df[~df['зарплата'].isna()].loc[:,'зарплата']"
   ]
  },
  {
   "cell_type": "code",
   "execution_count": null,
   "metadata": {},
   "outputs": [],
   "source": [
    "df[~df['зарплата'].isna()].loc[:,'зарплата']"
   ]
  },
  {
   "cell_type": "code",
   "execution_count": null,
   "metadata": {},
   "outputs": [],
   "source": [
    "# Упражнение 14\n",
    "# DF состоит из 100 строк и в столбце \"зарплата\" есть пропуски.\n",
    "# Замените пропуски в столбце \"зарплата\" на среднее значение в этом столбце\n",
    "# df.loc[df['зарплата'].isna(),'зарплата'] = df['зарплата'].mean()\n",
    "# df"
   ]
  },
  {
   "cell_type": "code",
   "execution_count": null,
   "metadata": {},
   "outputs": [],
   "source": [
    "df['зарплата'].mean()"
   ]
  },
  {
   "cell_type": "code",
   "execution_count": null,
   "metadata": {},
   "outputs": [],
   "source": [
    "df['зарплата'].isna()"
   ]
  },
  {
   "cell_type": "code",
   "execution_count": null,
   "metadata": {},
   "outputs": [],
   "source": [
    "pd.Series(df['зарплата']).isna()"
   ]
  },
  {
   "cell_type": "code",
   "execution_count": null,
   "metadata": {},
   "outputs": [],
   "source": [
    "df['зарплата'].isna()"
   ]
  },
  {
   "cell_type": "code",
   "execution_count": null,
   "metadata": {},
   "outputs": [],
   "source": [
    "df.loc[df['зарплата'].isna(),'зарплата'] = df['зарплата'].mean()\n",
    "df\n",
    "# решил"
   ]
  },
  {
   "cell_type": "markdown",
   "metadata": {},
   "source": [
    "## 2.2 Методы value_counts(), sort_values(), unique(), nunique()"
   ]
  },
  {
   "cell_type": "code",
   "execution_count": null,
   "metadata": {},
   "outputs": [],
   "source": [
    "import pandas as pd\n",
    "import numpy as np\n",
    "\n",
    "dict_array = {\n",
    "    'age': [53, 53, 11, 18, 18, np.nan],\n",
    "    'name': ['Сергей', 'Маша', 'Ксюша', 'Аристарх', 'Соня', 'Соня'],\n",
    "    'Наличие авто': [True, True, False, True, False, True]\n",
    "}\n",
    "\n",
    "df = pd.DataFrame(dict_array, index=['row_0', 'row_1', 'row_2', 'row_3', 'row_4', 'row_5'] )\n",
    "df"
   ]
  },
  {
   "cell_type": "code",
   "execution_count": null,
   "metadata": {},
   "outputs": [],
   "source": [
    "# Упражнение 1 \n",
    "# Получите количество уникальных значений в столбце \"name\" и уникальные значения в столбце \"age\". \n",
    "# Запишите их в переменные count и value соответственно\n",
    "# count = df['name'].nunique()\n",
    "# value = df['age'].unique()"
   ]
  },
  {
   "cell_type": "code",
   "execution_count": null,
   "metadata": {},
   "outputs": [],
   "source": [
    "df['name'].nunique()\n",
    "df['age'].unique()"
   ]
  },
  {
   "cell_type": "code",
   "execution_count": null,
   "metadata": {},
   "outputs": [],
   "source": [
    "# Упражнение 2 \n",
    "# В столбце \"name\" находятся имена студентов. Нужно получить серию, показывающую сколько раз каждое имя встречается в \n",
    "# столбце \"name\"\n",
    "# new_ser = df[\"name\"].value_counts()\n",
    "\n",
    "pd.Series(df['name'].nunique())"
   ]
  },
  {
   "cell_type": "code",
   "execution_count": null,
   "metadata": {},
   "outputs": [],
   "source": [
    "df['name'].value_counts()"
   ]
  },
  {
   "cell_type": "code",
   "execution_count": null,
   "metadata": {},
   "outputs": [],
   "source": [
    "df.value_counts('name')"
   ]
  },
  {
   "cell_type": "code",
   "execution_count": 25,
   "metadata": {},
   "outputs": [],
   "source": [
    "# Упражнение 3 \n",
    "# Отсортируйте DF по столбцу \"зарплата\". Изменения должны коснуться исходного DF\n",
    "# df.sort_values('зарплата',inplace=True)"
   ]
  },
  {
   "cell_type": "code",
   "execution_count": null,
   "metadata": {},
   "outputs": [],
   "source": [
    "# Упражнение 4\n",
    "# В столбце 'buy' замените 'куплено' на True, а 'не куплено' на False\n",
    "# "
   ]
  },
  {
   "cell_type": "code",
   "execution_count": 76,
   "metadata": {},
   "outputs": [
    {
     "data": {
      "text/html": [
       "<div>\n",
       "<style scoped>\n",
       "    .dataframe tbody tr th:only-of-type {\n",
       "        vertical-align: middle;\n",
       "    }\n",
       "\n",
       "    .dataframe tbody tr th {\n",
       "        vertical-align: top;\n",
       "    }\n",
       "\n",
       "    .dataframe thead th {\n",
       "        text-align: right;\n",
       "    }\n",
       "</style>\n",
       "<table border=\"1\" class=\"dataframe\">\n",
       "  <thead>\n",
       "    <tr style=\"text-align: right;\">\n",
       "      <th></th>\n",
       "      <th>age</th>\n",
       "      <th>name</th>\n",
       "      <th>Наличие авто</th>\n",
       "    </tr>\n",
       "  </thead>\n",
       "  <tbody>\n",
       "    <tr>\n",
       "      <th>row_0</th>\n",
       "      <td>53.0</td>\n",
       "      <td>Сергей</td>\n",
       "      <td>True</td>\n",
       "    </tr>\n",
       "    <tr>\n",
       "      <th>row_1</th>\n",
       "      <td>53.0</td>\n",
       "      <td>Маша</td>\n",
       "      <td>True</td>\n",
       "    </tr>\n",
       "    <tr>\n",
       "      <th>row_2</th>\n",
       "      <td>11.0</td>\n",
       "      <td>Ксюша</td>\n",
       "      <td>False</td>\n",
       "    </tr>\n",
       "    <tr>\n",
       "      <th>row_3</th>\n",
       "      <td>18.0</td>\n",
       "      <td>Аристарх</td>\n",
       "      <td>True</td>\n",
       "    </tr>\n",
       "    <tr>\n",
       "      <th>row_4</th>\n",
       "      <td>18.0</td>\n",
       "      <td>Соня</td>\n",
       "      <td>False</td>\n",
       "    </tr>\n",
       "    <tr>\n",
       "      <th>row_5</th>\n",
       "      <td>NaN</td>\n",
       "      <td>Соня</td>\n",
       "      <td>True</td>\n",
       "    </tr>\n",
       "  </tbody>\n",
       "</table>\n",
       "</div>"
      ],
      "text/plain": [
       "        age      name  Наличие авто\n",
       "row_0  53.0    Сергей          True\n",
       "row_1  53.0      Маша          True\n",
       "row_2  11.0     Ксюша         False\n",
       "row_3  18.0  Аристарх          True\n",
       "row_4  18.0      Соня         False\n",
       "row_5   NaN      Соня          True"
      ]
     },
     "execution_count": 76,
     "metadata": {},
     "output_type": "execute_result"
    }
   ],
   "source": [
    "import pandas as pd\n",
    "import numpy as np\n",
    "\n",
    "dict_array = {\n",
    "    'age': [53, 53, 11, 18, 18, np.nan],\n",
    "    'name': ['Сергей', 'Маша', 'Ксюша', 'Аристарх', 'Соня', 'Соня'],\n",
    "    'Наличие авто': [True, True, False, True, False, True]\n",
    "}\n",
    "\n",
    "df = pd.DataFrame(dict_array, index=['row_0', 'row_1', 'row_2', 'row_3', 'row_4', 'row_5'] )\n",
    "df"
   ]
  },
  {
   "cell_type": "code",
   "execution_count": 32,
   "metadata": {},
   "outputs": [],
   "source": [
    "dict1 = {'Соня': True, 'Маша': False}\n",
    "# type(dict1)"
   ]
  },
  {
   "cell_type": "code",
   "execution_count": null,
   "metadata": {},
   "outputs": [],
   "source": [
    "df['name'].map(dict1, na_action='ignore')"
   ]
  },
  {
   "cell_type": "code",
   "execution_count": null,
   "metadata": {},
   "outputs": [],
   "source": [
    "df"
   ]
  },
  {
   "cell_type": "code",
   "execution_count": null,
   "metadata": {},
   "outputs": [],
   "source": [
    "df['name'].map(lambda x: dict1, na_action='ignore')"
   ]
  },
  {
   "cell_type": "code",
   "execution_count": null,
   "metadata": {},
   "outputs": [],
   "source": [
    "df['name'].str.replace('Соня', 'True') \n",
    "# замена строк"
   ]
  },
  {
   "cell_type": "code",
   "execution_count": null,
   "metadata": {},
   "outputs": [],
   "source": [
    "def func(x):\n",
    "    x = df['name']\n",
    "    if x == 'Соня':\n",
    "        return True\n",
    "    elif x == 'Маша':\n",
    "        return False\n",
    "df.map(func)"
   ]
  },
  {
   "cell_type": "code",
   "execution_count": null,
   "metadata": {},
   "outputs": [],
   "source": [
    "series = pd.Series(['товар_0', 'товар_1', 'товар_2', 'товар_3', 'товар_4'], name='name')\n",
    "\n",
    "def func(x):\n",
    "    x = df['name']\n",
    "    if x == 'товар_0':\n",
    "        return True\n",
    "\n",
    "series.map(func)"
   ]
  },
  {
   "cell_type": "code",
   "execution_count": 77,
   "metadata": {},
   "outputs": [
    {
     "data": {
      "text/plain": [
       "row_0      NaN\n",
       "row_1    False\n",
       "row_2      NaN\n",
       "row_3      NaN\n",
       "row_4     True\n",
       "row_5     True\n",
       "Name: name, dtype: object"
      ]
     },
     "execution_count": 77,
     "metadata": {},
     "output_type": "execute_result"
    }
   ],
   "source": [
    "x = df['name'].map({'Соня': True, 'Маша': False}, na_action='ignore')\n",
    "x"
   ]
  },
  {
   "cell_type": "code",
   "execution_count": null,
   "metadata": {},
   "outputs": [
    {
     "data": {
      "text/html": [
       "<div>\n",
       "<style scoped>\n",
       "    .dataframe tbody tr th:only-of-type {\n",
       "        vertical-align: middle;\n",
       "    }\n",
       "\n",
       "    .dataframe tbody tr th {\n",
       "        vertical-align: top;\n",
       "    }\n",
       "\n",
       "    .dataframe thead th {\n",
       "        text-align: right;\n",
       "    }\n",
       "</style>\n",
       "<table border=\"1\" class=\"dataframe\">\n",
       "  <thead>\n",
       "    <tr style=\"text-align: right;\">\n",
       "      <th></th>\n",
       "      <th>age</th>\n",
       "      <th>name</th>\n",
       "      <th>Наличие авто</th>\n",
       "    </tr>\n",
       "  </thead>\n",
       "  <tbody>\n",
       "    <tr>\n",
       "      <th>row_0</th>\n",
       "      <td>53.0</td>\n",
       "      <td>Сергей</td>\n",
       "      <td>True</td>\n",
       "    </tr>\n",
       "    <tr>\n",
       "      <th>row_1</th>\n",
       "      <td>53.0</td>\n",
       "      <td>Маша</td>\n",
       "      <td>True</td>\n",
       "    </tr>\n",
       "    <tr>\n",
       "      <th>row_2</th>\n",
       "      <td>11.0</td>\n",
       "      <td>Ксюша</td>\n",
       "      <td>False</td>\n",
       "    </tr>\n",
       "    <tr>\n",
       "      <th>row_3</th>\n",
       "      <td>18.0</td>\n",
       "      <td>Аристарх</td>\n",
       "      <td>True</td>\n",
       "    </tr>\n",
       "    <tr>\n",
       "      <th>row_4</th>\n",
       "      <td>18.0</td>\n",
       "      <td>Соня</td>\n",
       "      <td>False</td>\n",
       "    </tr>\n",
       "    <tr>\n",
       "      <th>row_5</th>\n",
       "      <td>NaN</td>\n",
       "      <td>Соня</td>\n",
       "      <td>True</td>\n",
       "    </tr>\n",
       "  </tbody>\n",
       "</table>\n",
       "</div>"
      ],
      "text/plain": [
       "        age      name  Наличие авто\n",
       "row_0  53.0    Сергей          True\n",
       "row_1  53.0      Маша          True\n",
       "row_2  11.0     Ксюша         False\n",
       "row_3  18.0  Аристарх          True\n",
       "row_4  18.0      Соня         False\n",
       "row_5   NaN      Соня          True"
      ]
     },
     "execution_count": 78,
     "metadata": {},
     "output_type": "execute_result"
    }
   ],
   "source": [
    "df['name'] = df['name'].map({'Соня': True, 'Маша': False}, na_action='ignore')\n",
    "df\n",
    "# Задолбала"
   ]
  },
  {
   "cell_type": "code",
   "execution_count": null,
   "metadata": {},
   "outputs": [],
   "source": []
  }
 ],
 "metadata": {
  "kernelspec": {
   "display_name": "env",
   "language": "python",
   "name": "python3"
  },
  "language_info": {
   "codemirror_mode": {
    "name": "ipython",
    "version": 3
   },
   "file_extension": ".py",
   "mimetype": "text/x-python",
   "name": "python",
   "nbconvert_exporter": "python",
   "pygments_lexer": "ipython3",
   "version": "3.10.12"
  }
 },
 "nbformat": 4,
 "nbformat_minor": 2
}
