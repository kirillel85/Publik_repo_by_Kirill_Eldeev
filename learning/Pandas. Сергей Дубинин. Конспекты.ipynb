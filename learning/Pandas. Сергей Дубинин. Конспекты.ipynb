{
 "cells": [
  {
   "cell_type": "markdown",
   "metadata": {},
   "source": [
    "## 1.2 Создание DataFrame и Series"
   ]
  },
  {
   "cell_type": "code",
   "execution_count": null,
   "metadata": {},
   "outputs": [],
   "source": [
    "# Из документации\n",
    "class pandas.Series(\n",
    "    data=None, # Данные\n",
    "    index=None, # \n",
    "    dtype=None, # \n",
    "    name=None, # \n",
    "    copy=None, # \n",
    "    fastpath=_NoDefault.no_default #\n",
    "                    )"
   ]
  },
  {
   "cell_type": "code",
   "execution_count": null,
   "metadata": {},
   "outputs": [],
   "source": [
    "# Из документации\n",
    "class pandas.DataFrame(\n",
    "    data=None, # Данные\n",
    "    index=None, # \n",
    "    columns=None, # \n",
    "    dtype=None, # \n",
    "    copy=None # \n",
    "    )\n"
   ]
  },
  {
   "cell_type": "markdown",
   "metadata": {},
   "source": [
    "## 1.3 Чтение и запись данных"
   ]
  },
  {
   "cell_type": "code",
   "execution_count": null,
   "metadata": {},
   "outputs": [],
   "source": [
    "# Из документации\n",
    "pandas.read_csv(filepath_or_buffer, # Путь к файлу\n",
    "    *, \n",
    "    sep=_NoDefault.no_default, # Разделитель\n",
    "    delimiter=None, #\n",
    "    header='infer', # Какая строка будет заголовком. Принимает значения типа int \n",
    "    names=_NoDefault.no_default, #\n",
    "    index_col=None,     #\n",
    "    usecols=None,       # Указываем какие конкретные колонки читать из датафрейма\n",
    "    dtype=None, \n",
    "    engine=None, \n",
    "    converters=None, \n",
    "    true_values=None, \n",
    "    false_values=None, \n",
    "    skipinitialspace=False, \n",
    "    skiprows=None, \n",
    "    skipfooter=0, \n",
    "    nrows=None, \n",
    "    na_values=None, \n",
    "    keep_default_na=True, \n",
    "    na_filter=True, \n",
    "    verbose=_NoDefault.no_default, \n",
    "    skip_blank_lines=True, \n",
    "    parse_dates=None, \n",
    "    infer_datetime_format=_NoDefault.no_default, \n",
    "    keep_date_col=_NoDefault.no_default, \n",
    "    date_parser=_NoDefault.no_default, \n",
    "    date_format=None, \n",
    "    dayfirst=False, \n",
    "    cache_dates=True, \n",
    "    iterator=False, \n",
    "    chunksize=None, \n",
    "    compression='infer', \n",
    "    thousands=None, decimal='.', \n",
    "    lineterminator=None, \n",
    "    quotechar='\"', \n",
    "    quoting=0, \n",
    "    doublequote=True, \n",
    "    escapechar=None, \n",
    "    comment=None, \n",
    "    encoding=None, \n",
    "    encoding_errors='strict', \n",
    "    dialect=None, \n",
    "    on_bad_lines='error', \n",
    "    delim_whitespace=_NoDefault.no_default, \n",
    "    low_memory=True, \n",
    "    memory_map=False, \n",
    "    float_precision=None, \n",
    "    storage_options=None, \n",
    "    dtype_backend=_NoDefault.no_default)"
   ]
  },
  {
   "cell_type": "code",
   "execution_count": null,
   "metadata": {},
   "outputs": [],
   "source": [
    "# Из документации\n",
    "DataFrame.to_csv(path_or_buf=None,\n",
    "    *,\n",
    "    sep=',',\n",
    "    na_rep='',\n",
    "    float_format=None,\n",
    "    columns=None,\n",
    "    header=True,\n",
    "    index=True,\n",
    "    index_label=None,\n",
    "    mode='w',\n",
    "    encoding=None,\n",
    "    compression='infer',\n",
    "    quoting=None,\n",
    "    quotechar='\"',\n",
    "    lineterminator=None,\n",
    "    chunksize=None,\n",
    "    date_format=None,\n",
    "    doublequote=True,\n",
    "    escapechar=None,\n",
    "    decimal='.',\n",
    "    errors='strict',\n",
    "    storage_options=None)"
   ]
  },
  {
   "cell_type": "markdown",
   "metadata": {},
   "source": [
    "## 1.4 Индексы строк и столбцов"
   ]
  },
  {
   "cell_type": "code",
   "execution_count": null,
   "metadata": {},
   "outputs": [],
   "source": [
    "pandas.Index(data=None,\n",
    "    dtype=None,\n",
    "    copy=False,\n",
    "    name=None,\n",
    "    tupleize_cols=True)"
   ]
  },
  {
   "cell_type": "code",
   "execution_count": null,
   "metadata": {},
   "outputs": [],
   "source": [
    "import pandas as pd\n",
    "ind = df.index # Получает индексы строк\n",
    "cols = df.columns # Получает индексы сущностей (колонок)\n",
    "df = # В данном случае это датафрейм"
   ]
  },
  {
   "cell_type": "code",
   "execution_count": null,
   "metadata": {},
   "outputs": [],
   "source": [
    "pandas.Index.to_list\n",
    "\n",
    "Index.to_list()\n",
    "Return a list of the values"
   ]
  },
  {
   "cell_type": "code",
   "execution_count": null,
   "metadata": {},
   "outputs": [],
   "source": [
    "# My renamed columns\n",
    "new_df = df.rename(columns=\n",
    "    {'0.1':'0',\n",
    "    '0':'1',\n",
    "    'city':'City',\n",
    "    'col_2':'Quantity_in_box',\n",
    "    'col_3':'Quantity',\n",
    "    'date':'Date',\n",
    "    'col_5':'Check_box'\n",
    "    }      \n",
    "    )"
   ]
  },
  {
   "cell_type": "markdown",
   "metadata": {},
   "source": [
    "## 1.5 Индексы. Доступ к данным."
   ]
  },
  {
   "cell_type": "code",
   "execution_count": null,
   "metadata": {},
   "outputs": [],
   "source": [
    "# Задайте индекс DataFrame, используя существующие столбцы\n",
    "DataFrame.set_index(\n",
    "    # Передаём в первый аргумент (keys) метку столбца который будет новым индексом. \n",
    "    # По умолчанию не меняет датафрейм а делает копию\n",
    "    keys, # пример: DataFrame.set_index('col_1')\n",
    "    *,\n",
    "    drop=True,\n",
    "    append=False,\n",
    "    inplace=False,\n",
    "    verify_integrity=False)"
   ]
  },
  {
   "cell_type": "code",
   "execution_count": null,
   "metadata": {},
   "outputs": [],
   "source": [
    "# Сбросьте индекс DataFrame и используйте вместо него индекс по умолчанию.\n",
    "# Если DataFrame имеет MultiIndex, этот метод может удалить один или несколько уровней.\n",
    "\n",
    "pandas.DataFrame.reset_index\n",
    "DataFrame.reset_index(\n",
    "    level=None,\n",
    "    *,\n",
    "    drop=False,\n",
    "    inplace=False,\n",
    "    col_level=0,\n",
    "    col_fill='',\n",
    "    allow_duplicates=_NoDefault.no_default,\n",
    "    names=None\n",
    "    )\n"
   ]
  },
  {
   "cell_type": "code",
   "execution_count": null,
   "metadata": {},
   "outputs": [],
   "source": [
    "# Получение определённого столбца из датафрейма\n",
    "series = pd.Series(\n",
    "    df['city'],\n",
    "    )"
   ]
  },
  {
   "cell_type": "markdown",
   "metadata": {},
   "source": [
    "## 1.6 Мультииндекс"
   ]
  },
  {
   "cell_type": "code",
   "execution_count": null,
   "metadata": {},
   "outputs": [],
   "source": [
    "# pd.MultiIndex.from_arrays()\n",
    "# pd.MultiIndex.from_product()\n",
    "# pd.MultiIndex.from_tuples()"
   ]
  },
  {
   "cell_type": "markdown",
   "metadata": {},
   "source": [
    "## 1.7 Арифметические операции"
   ]
  },
  {
   "cell_type": "code",
   "execution_count": null,
   "metadata": {},
   "outputs": [],
   "source": [
    "add() # Сложение \n",
    "sub() # Вычетание\n",
    "div() # деление\n",
    "mui() # умножение\n",
    "pow() # возведение в степень\n",
    "mod() # вычисления остатка от деления\n",
    "mean() # Возвращает среднее значение значений по запрошенной оси.\n",
    "\n",
    "DataFrame.head(n) # Return the first n rows\n",
    "DataFrame.tail(n) # Return the last n rows\n"
   ]
  },
  {
   "cell_type": "markdown",
   "metadata": {},
   "source": [
    "## 1.8 Операции сравнения"
   ]
  },
  {
   "cell_type": "markdown",
   "metadata": {},
   "source": [
    "Методы операций сравнения  \n",
    "eq() ==  \n",
    "ne() !=  \n",
    "le() <=  \n",
    "lt() <  \n",
    "ge() >=  \n",
    "gt() >  "
   ]
  },
  {
   "cell_type": "markdown",
   "metadata": {},
   "source": [
    "equals() # Метод сравнения df and series  \n",
    "df.equals(df1) # Сравнивает два датафрейма и возвращяет False если не равны"
   ]
  },
  {
   "cell_type": "markdown",
   "metadata": {},
   "source": [
    "& - битовая И  \n",
    "Операторы сравнения ( ==, <, >, <= и т.д. )  \n",
    "~ - битовая НЕ  \n",
    "| - битовая ИЛИ  "
   ]
  },
  {
   "cell_type": "markdown",
   "metadata": {},
   "source": [
    "## 1.9  Фильтрация данных"
   ]
  },
  {
   "cell_type": "code",
   "execution_count": null,
   "metadata": {},
   "outputs": [],
   "source": [
    "# Пример датафрейма в уроке\n",
    "import pandas as pd\n",
    "data = {\n",
    "    'год рождения' : [88, 89, 90, 91, 92],\n",
    "    'стаж работы' : [3.25, 4.50, 5.75, 6.25, 7.50],\n",
    "    'зарплата' : [60000, 70000, 80000, 90000, 100000]\n",
    "    }\n",
    "df = pd.DataFrame(data)\n",
    "df"
   ]
  },
  {
   "cell_type": "markdown",
   "metadata": {},
   "source": [
    "##### Методы рассматриваемые в уроке"
   ]
  },
  {
   "cell_type": "code",
   "execution_count": null,
   "metadata": {},
   "outputs": [],
   "source": [
    "df[список с bool значениями] # Фильтрация по булевым значениям"
   ]
  },
  {
   "cell_type": "code",
   "execution_count": null,
   "metadata": {},
   "outputs": [],
   "source": [
    "df['год рождения'] < 90 # Получаем серию с булевыми значениями"
   ]
  },
  {
   "cell_type": "code",
   "execution_count": null,
   "metadata": {},
   "outputs": [],
   "source": [
    "df[df['год рождения'] < 90 ] # Фильтруем датафрейм по серии с булевыми значениями"
   ]
  },
  {
   "cell_type": "markdown",
   "metadata": {},
   "source": [
    "& - битовая И  \n",
    "Операторы сравнения ( ==, <, >, <= и т.д. )  \n",
    "~ - битовая НЕ  \n",
    "| - битовая ИЛИ  \n",
    "\n",
    "Приоритет битовых операций ~ & | ( ==, <, >, <= и т.д. ) "
   ]
  },
  {
   "cell_type": "markdown",
   "metadata": {},
   "source": [
    "##### Метод .isin()  \n",
    "\n",
    "DataFrame.isin(values) # Содержится ли каждый элемент в DataFrame в значениях  \n",
    "Series.isin(values) # Содержится ли каждый элемент в DataFrame в значениях  \n",
    "Возвращает обьект того же размера с булевыми  \n",
    "Принимает список  \n",
    "Может принимать список со значениями применяемыми к датафрейму"
   ]
  },
  {
   "cell_type": "code",
   "execution_count": null,
   "metadata": {},
   "outputs": [],
   "source": [
    "df.isin([91,60000])"
   ]
  },
  {
   "cell_type": "code",
   "execution_count": null,
   "metadata": {},
   "outputs": [],
   "source": [
    "df.isin([4.50])"
   ]
  },
  {
   "cell_type": "code",
   "execution_count": null,
   "metadata": {},
   "outputs": [],
   "source": [
    "df['год рождения'].isin([88])"
   ]
  },
  {
   "cell_type": "markdown",
   "metadata": {},
   "source": [
    "#### Метод query()  \n",
    "df.query()  \n",
    "DataFrame.query(expr, *, inplace=False, **kwargs)  \n",
    "Запрос столбцов DataFrame с помощью логического выражения  \n",
    "Вы можете ссылаться на переменные в среде, добавляя к ним префикс «@», например .@a + b  \n",
    "Русские названия полей с пробелом нужно экранировать обратными кавычками (там где буква ё)\n"
   ]
  },
  {
   "cell_type": "code",
   "execution_count": null,
   "metadata": {},
   "outputs": [],
   "source": [
    "import pandas as pd\n",
    "data = {\n",
    "    'год рождения' : [88, 89, 90, 91, 92],\n",
    "    'стаж работы' : [3.25, 4.50, 5.75, 6.25, 7.50],\n",
    "    'зарплата' : [60000, 70000, 80000, 90000, 100000]\n",
    "    }\n",
    "df = pd.DataFrame(data)\n",
    "df"
   ]
  },
  {
   "cell_type": "code",
   "execution_count": null,
   "metadata": {},
   "outputs": [],
   "source": [
    "df.query('`зарплата` < 70000')"
   ]
  },
  {
   "cell_type": "code",
   "execution_count": null,
   "metadata": {},
   "outputs": [],
   "source": [
    "df.query('not `зарплата` < 70000')"
   ]
  },
  {
   "cell_type": "code",
   "execution_count": null,
   "metadata": {},
   "outputs": [],
   "source": [
    "df.query('not `зарплата` < 70000 and `стаж работы` == 7.50')"
   ]
  },
  {
   "cell_type": "markdown",
   "metadata": {},
   "source": [
    "## 1.10 Пропуски в данных. Значение Nan."
   ]
  },
  {
   "cell_type": "markdown",
   "metadata": {},
   "source": [
    "#### Метод .dropna()  \n",
    "Remove missing values.  \n",
    "Удаляет строки или столбцы с пустыми значениями\n"
   ]
  },
  {
   "cell_type": "code",
   "execution_count": null,
   "metadata": {},
   "outputs": [],
   "source": [
    "DataFrame.dropna(  \n",
    "    *,  \n",
    "    axis=0,  # 0 - удаляются строки. 1 - удаляются столбцы  \n",
    "\n",
    "    how=<no_default>,   \n",
    "    # how = 'any': если присутствуют какие-либо значения NA, удалить эту строку или столбец.\n",
    "    # how = 'all': если все значения NA, удалить эту строку или столбец.  \n",
    "\n",
    "    thresh=<no_default>,  \n",
    "    # thresh позволяет указать минимальное количество непропущенных значений при котором\n",
    "    # строка или столбец сохраняется: (не работает вместе с аргументом how)  \n",
    "\n",
    "    subset=None,\n",
    "    # subset: указывает строки/столбцы для поиска нулевых значений.  \n",
    "    # пример subset=['Col1', 'Col2']\n",
    "    # Если мы удаляем строки, то в этом аргументе указываем столбцы и наоборот\n",
    "\n",
    "    inplace=False,  # Это уже знаем\n",
    "    ignore_index=False  #\n",
    "    )  "
   ]
  },
  {
   "cell_type": "code",
   "execution_count": null,
   "metadata": {},
   "outputs": [],
   "source": [
    "df.dropna(subset=[1], axis=1) # Удаляем столбцы в котором в строке с индексом 1 есть NAN"
   ]
  },
  {
   "cell_type": "markdown",
   "metadata": {},
   "source": [
    "#### Метод .fillna()  \n",
    "Fill NA/NaN values using the specified method.  \n",
    "Заменяет пропуски на определённые значения"
   ]
  },
  {
   "cell_type": "code",
   "execution_count": null,
   "metadata": {},
   "outputs": [],
   "source": [
    "DataFrame.fillna(\n",
    "    value=None, # Значения на которые меняем. Может принимать словарь\n",
    "    *, # \n",
    "    method=None,\n",
    "    axis=None,\n",
    "    inplace=False,\n",
    "    limit=None,\n",
    "    downcast=<no_default>\n",
    "    )"
   ]
  },
  {
   "cell_type": "code",
   "execution_count": null,
   "metadata": {},
   "outputs": [],
   "source": [
    "import pandas as pd\n",
    "import numpy as np\n",
    "data = {\n",
    "    'год рождения' : [88, 89,np.nan, 91, 92],\n",
    "    'стаж работы' : [3.25, 4.50, 5.75, np.nan, 7.50],\n",
    "    'зарплата' : [60000, np.nan, 80000, 90000, 100000]\n",
    "    }\n",
    "df = pd.DataFrame(data)\n",
    "df"
   ]
  },
  {
   "cell_type": "code",
   "execution_count": null,
   "metadata": {},
   "outputs": [],
   "source": [
    "df.fillna('YouTubeVideo')"
   ]
  },
  {
   "cell_type": "code",
   "execution_count": null,
   "metadata": {},
   "outputs": [],
   "source": [
    "# Передаём словарь\n",
    "df.fillna({\n",
    "    'год рождения' : 'Видел Ленина',\n",
    "    'стаж работы' :  'Круче папы Карло',\n",
    "    'зарплата' :  'За хлеб и воду',    \n",
    "    })"
   ]
  },
  {
   "cell_type": "markdown",
   "metadata": {},
   "source": [
    "####  Метод .isna()\n",
    "\n",
    "DataFrame.isna()  \n",
    "Detect missing values.  \n",
    "возвращает bool значения объекта\n",
    "\n"
   ]
  },
  {
   "cell_type": "code",
   "execution_count": null,
   "metadata": {},
   "outputs": [],
   "source": [
    "# Получаем строки в сущности которых нет пустых значений\n",
    "df[ ~ df['год рождения'].isna()]"
   ]
  },
  {
   "cell_type": "markdown",
   "metadata": {},
   "source": [
    "####  Метод .notna()\n",
    "\n",
    "DataFrame.notna()  \n",
    "Detect existing (non-missing) values.  \n",
    "возвращает bool значения объекта  \n",
    "Метод обратный методу .isna()"
   ]
  },
  {
   "cell_type": "code",
   "execution_count": null,
   "metadata": {},
   "outputs": [],
   "source": [
    "df.notna()"
   ]
  },
  {
   "cell_type": "code",
   "execution_count": null,
   "metadata": {},
   "outputs": [],
   "source": [
    "df['год рождения'].notna()"
   ]
  },
  {
   "cell_type": "code",
   "execution_count": null,
   "metadata": {},
   "outputs": [],
   "source": [
    "df[df['год рождения'].notna()]\n",
    "\n",
    "# Тоже самое что и:\n",
    "df[ ~ df['год рождения'].isna()]"
   ]
  },
  {
   "cell_type": "markdown",
   "metadata": {},
   "source": [
    "## 1.11 Удаление строк и столбцов и метод astype()"
   ]
  },
  {
   "cell_type": "markdown",
   "metadata": {},
   "source": [
    "Метод drop()  \n",
    "Drop specified labels from rows or columns  \n",
    "Метод для удаления строк и столбцов  \n",
    "\n",
    "DataFrame.drop()  \n",
    "Series.drop()  \n",
    "index.drop()  \n",
    "Multiindex.drop()  "
   ]
  },
  {
   "cell_type": "code",
   "execution_count": null,
   "metadata": {},
   "outputs": [],
   "source": [
    "DataFrame.drop(\n",
    "    labels=None, # Передаём то что будем удалять. Может принимать элемент или список элементов.\n",
    "    # df.drop('row_1')\n",
    "    *, # Нижеперечисленные аргументы - именные (передаются в метот только с именем.\n",
    "    # Пример: df.drop(axis=0), а не просто df.drop(0)\n",
    "    axis=0, # Что удаляем? 0-строки 1-поля\n",
    "    index=None, # принимает имена или индексы строк которые нужно удалить\n",
    "    # df.drop(index='row_3')\n",
    "    columns=None,\n",
    "    # df.drop(columns=['col_1','col_1']) принимает элемент или список\n",
    "    level=None,\n",
    "    inplace=False, # знаем\n",
    "    errors='raise' #\n",
    "    )"
   ]
  },
  {
   "cell_type": "code",
   "execution_count": null,
   "metadata": {},
   "outputs": [],
   "source": [
    "import pandas as pd\n",
    "import numpy as np\n",
    "data = {\n",
    "    'год рождения' : [88, 89,90, 91, 92],\n",
    "    'стаж работы' : [3.25, 4.50, 5.75, 6.25, 7.50],\n",
    "    'зарплата' : [60000, np.nan, 80000, 90000, 100000]\n",
    "    }\n",
    "df = pd.DataFrame(data)\n",
    "df"
   ]
  },
  {
   "cell_type": "code",
   "execution_count": null,
   "metadata": {},
   "outputs": [],
   "source": [
    "df.drop(index=2, columns='зарплата')"
   ]
  },
  {
   "cell_type": "code",
   "execution_count": null,
   "metadata": {},
   "outputs": [],
   "source": [
    "df.drop(index=2)"
   ]
  },
  {
   "cell_type": "markdown",
   "metadata": {},
   "source": [
    "Метод astype()  С помощью этого метода мы можем менять тип данных в столбцах  \n",
    "Возвращает копию\n",
    "\n",
    "Метод memory_usage()\n",
    "Количество байт выделеных в памяти под обьект\n",
    "\n",
    "Тип данных category в два раза быстрее чем object и занимает в несколкь раз меньше места. Менять на категориальный тип данных нужно в том случае если много повторяющихся не уникальных значений в столбце"
   ]
  },
  {
   "cell_type": "code",
   "execution_count": null,
   "metadata": {},
   "outputs": [],
   "source": [
    "df.dtypes"
   ]
  },
  {
   "cell_type": "code",
   "execution_count": null,
   "metadata": {},
   "outputs": [],
   "source": [
    "df.memory_usage()"
   ]
  },
  {
   "cell_type": "code",
   "execution_count": null,
   "metadata": {},
   "outputs": [],
   "source": [
    "df.astype({\n",
    "    'год рождения': np.int8,\n",
    "    'стаж работы' : np.float64\n",
    "    }) "
   ]
  },
  {
   "cell_type": "markdown",
   "metadata": {},
   "source": [
    "Метод info().\n",
    "С помощью метода info() можно получить сведения о DF или Series\n",
    "Класс объекта.  \n",
    "Сведения об индексе: класс, количество строк, с какого индекса начинается и каким кончается.  \n",
    "Количество столбцов.  \n",
    "Сведения о столбцах: имена столбцов, количество строк без пропусков, тип данных в столбцах  \n",
    "Типы данных и их количество.  \n",
    "Объем памяти, который занимает DF или Series.  \n",
    "\n",
    "Метод head()  верхние n строк\n",
    "Метод tail()  нижние n строк\n",
    "Метод describe()  \n",
    "помогает получить некоторые статистические данные из числовых столбцов"
   ]
  },
  {
   "cell_type": "markdown",
   "metadata": {},
   "source": [
    "## 2.1 Методы at и iat. Методы loс и iloc"
   ]
  },
  {
   "cell_type": "markdown",
   "metadata": {},
   "source": [
    "Как было сказано в видео, методы iat[ ] и iloc[ ] работают с индексами строк и столбцов,  \n",
    "а методы at[ ] и loc[ ] со значениями (метки)"
   ]
  },
  {
   "cell_type": "code",
   "execution_count": 1,
   "metadata": {},
   "outputs": [],
   "source": [
    "dict_array = {\n",
    "    'age': ['Сергей', 'Маша', 'Ксюша', 'Аристарх', 'Соня'],\n",
    "    'name': [53, 37, 11, 18, 7],\n",
    "    'Наличие авто': [True, True, False, True, False]\n",
    "}\n",
    "import pandas as pd\n",
    "import numpy as np\n",
    "\n",
    "df = pd.DataFrame(dict_array, index=['row_0', 'row_1', 'row_2', 'row_3', 'row_4'] )\n",
    "df"
   ]
  },
  {
   "cell_type": "markdown",
   "metadata": {},
   "source": [
    "#### Метод .iat()\n",
    "DataFrame.iat()   \n",
    "Series.iat()  \n",
    "Access a single value for a row/column pair by integer position  \n",
    "Доступ к одному значению для пары строка/столбец по целочисленной позиции  \n",
    "Аналогично iloc, в том, что оба предоставляют целочисленные поиски.   \n",
    "Используйте, iat если вам нужно получить или задать только одно значение в DataFrame или Series.  \n",
    "\n",
    "В этом методе используем только индескы\n",
    "\n"
   ]
  },
  {
   "cell_type": "code",
   "execution_count": null,
   "metadata": {},
   "outputs": [],
   "source": [
    "df.iat[2,1] # Пример"
   ]
  },
  {
   "cell_type": "code",
   "execution_count": null,
   "metadata": {},
   "outputs": [],
   "source": [
    "df.iat[2,1] = 'New name' # Меняем значение"
   ]
  },
  {
   "cell_type": "code",
   "execution_count": null,
   "metadata": {},
   "outputs": [],
   "source": [
    "df"
   ]
  },
  {
   "cell_type": "markdown",
   "metadata": {},
   "source": [
    "#### Метод .at()  \n",
    "\n",
    "Тоже что и .iat() только указываем не индексы, а название индексов тоесть названия строк или полей"
   ]
  },
  {
   "cell_type": "code",
   "execution_count": null,
   "metadata": {},
   "outputs": [],
   "source": [
    "df.at['row_3', 'name'] # Берем значение из датафрейма на пересечении поля и строки"
   ]
  },
  {
   "cell_type": "code",
   "execution_count": null,
   "metadata": {},
   "outputs": [],
   "source": [
    "df['age'].at['row_2'] # Берем значение из серии"
   ]
  },
  {
   "cell_type": "code",
   "execution_count": null,
   "metadata": {},
   "outputs": [],
   "source": [
    "df.at['row_3', 'name'] = 'New name' # Меняем значение\n",
    "df"
   ]
  },
  {
   "cell_type": "markdown",
   "metadata": {},
   "source": [
    "#### Метод .iloc()  \n",
    "DataFrame.iloc  \n",
    "Series.iloc  \n",
    "Purely integer-location based indexing for selection by position.  \n",
    "Индексация на основе чисто целочисленного местоположения для выбора по позиции  "
   ]
  },
  {
   "cell_type": "markdown",
   "metadata": {},
   "source": [
    "df.iloc[ индекс строки, индекс столбца ]  \n",
    "df.iloc[ [список индексов строк],[список индексов строк] ]  \n",
    "df.iloc[ срезы:индексов,срезы:индексов ]  \n",
    "df.iloc[ [список булевых значений],[список булевых значений] ]"
   ]
  },
  {
   "cell_type": "code",
   "execution_count": null,
   "metadata": {},
   "outputs": [],
   "source": [
    "df.iloc[1,1] # Можно указывать только индесы"
   ]
  },
  {
   "cell_type": "code",
   "execution_count": null,
   "metadata": {},
   "outputs": [],
   "source": [
    "df['Наличие авто'].to_list() # Делаем список из серии"
   ]
  },
  {
   "cell_type": "code",
   "execution_count": null,
   "metadata": {},
   "outputs": [],
   "source": [
    "df.iloc[ df['Наличие авто'].to_list()] # выбираем строки по списку булевых значений столбцов"
   ]
  },
  {
   "cell_type": "code",
   "execution_count": null,
   "metadata": {},
   "outputs": [],
   "source": [
    "df.iloc[ df['Наличие авто'].to_list(), [True, False, False] ] \n",
    "# Возьмёт только пересечение True"
   ]
  },
  {
   "cell_type": "code",
   "execution_count": null,
   "metadata": {},
   "outputs": [],
   "source": [
    "# Можно указывать срезы строк или столбцов или того и другого\n",
    "df.iloc[:,1:3]\n",
    "df.iloc[:,:]\n",
    "df.iloc[1:3]\n",
    "df.iloc[1:3,:]"
   ]
  },
  {
   "cell_type": "code",
   "execution_count": null,
   "metadata": {},
   "outputs": [],
   "source": [
    "df.iloc[1,1] = 1 # Меняем данные\n",
    "df"
   ]
  },
  {
   "cell_type": "markdown",
   "metadata": {},
   "source": [
    "#### Метод .loc()  \n",
    "DataFrame.loc  \n",
    "Series.loc  \n",
    "Access a group of rows and columns by label(s) or a boolean array.  \n",
    ".loc[]в первую очередь основан на метках, но может также использоваться с логическим массивом.  \n"
   ]
  },
  {
   "cell_type": "code",
   "execution_count": null,
   "metadata": {},
   "outputs": [],
   "source": [
    "dict_array = {\n",
    "    'age': ['Сергей', 'Маша', 'Ксюша', 'Аристарх', 'Соня'],\n",
    "    'name': [53, 37, 11, 18, 7],\n",
    "    'Наличие авто': [True, True, False, True, False]\n",
    "}\n",
    "import pandas as pd\n",
    "import numpy as np\n",
    "\n",
    "df = pd.DataFrame(dict_array, index=['row_0', 'row_1', 'row_2', 'row_3', 'row_4'] )\n",
    "df"
   ]
  },
  {
   "cell_type": "code",
   "execution_count": null,
   "metadata": {},
   "outputs": [],
   "source": [
    "df.loc['метод строк','метод столбцов']"
   ]
  },
  {
   "cell_type": "code",
   "execution_count": null,
   "metadata": {},
   "outputs": [],
   "source": [
    "# Берем значение из датафрейма на пересечении поля и строки\n",
    "df.loc['row_2','name']"
   ]
  },
  {
   "cell_type": "code",
   "execution_count": null,
   "metadata": {},
   "outputs": [],
   "source": [
    "df.loc[['row_2','row_1']] # Принимает список строк. Возвращает дф с нужными строками"
   ]
  },
  {
   "cell_type": "code",
   "execution_count": null,
   "metadata": {},
   "outputs": [],
   "source": [
    "df.loc[ : , ['age','name']] \n",
    "# указываем срез из всех строк и вторым аргументом список из столбцов"
   ]
  },
  {
   "cell_type": "code",
   "execution_count": null,
   "metadata": {},
   "outputs": [],
   "source": [
    "df.loc[ 'row_0' : 'row_3', 'name'] \\\n",
    "    # .info()\n",
    "# Можно передать срезы меток. Возвращает серию"
   ]
  },
  {
   "cell_type": "code",
   "execution_count": null,
   "metadata": {},
   "outputs": [],
   "source": [
    "df.loc[ 'row_0' : 'row_3', ['name']] \\\n",
    "    # .info()\n",
    "# Можно передать срезы меток. Возвращает DataFrame"
   ]
  },
  {
   "cell_type": "markdown",
   "metadata": {},
   "source": [
    "#### В данный метод можно передавать различные логические условия"
   ]
  },
  {
   "cell_type": "code",
   "execution_count": null,
   "metadata": {},
   "outputs": [],
   "source": [
    "df.loc[ df['name'] == 7]\n",
    "# Фильтр по условию. Хотим получить строки в которых в столбце name стоит значение"
   ]
  },
  {
   "cell_type": "code",
   "execution_count": null,
   "metadata": {},
   "outputs": [],
   "source": [
    "df.loc[ 'row_0' : 'row_3', 'name'] == 53\n",
    "# Ищем значение в срезе\n",
    "df"
   ]
  },
  {
   "cell_type": "code",
   "execution_count": null,
   "metadata": {},
   "outputs": [],
   "source": [
    "df.loc[ 'row_0' : 'row_3', 'name'] = 54\n",
    "# Меняем значение\n",
    "df"
   ]
  },
  {
   "cell_type": "code",
   "execution_count": null,
   "metadata": {},
   "outputs": [],
   "source": [
    "df.loc[ 'row_0' : 'row_3', 'name'] = [10, 20, 30, 40]\n",
    "# Логично что можем передать список\n",
    "df"
   ]
  },
  {
   "cell_type": "code",
   "execution_count": null,
   "metadata": {},
   "outputs": [],
   "source": [
    "df.loc[ 'row_0' : 'row_3', 'name'] = pd.Series('данные')\n",
    "# Можем присваивать не только значение, список, но и серию Индексы должны совпадать"
   ]
  },
  {
   "cell_type": "code",
   "execution_count": null,
   "metadata": {},
   "outputs": [],
   "source": [
    "# df.loc[ 'row_0' : 'row_3', ['name']].info()\n",
    "df.loc[ 'row_0' : 'row_2', ['age', 'name']] = pd.DataFrame({\n",
    "    'age': ['Сергей', 'Маша', 'Ксюша'],\n",
    "    'name': [22, 33, 44]},\n",
    "    index=['row_0', 'row_1', 'row_2']\n",
    "    )\n",
    "df\n",
    "# А так же можем передавать датафрейм в словаре"
   ]
  },
  {
   "cell_type": "code",
   "execution_count": null,
   "metadata": {},
   "outputs": [],
   "source": [
    "df.loc[ :, ['age', 'name']] = df[['name', 'age']].to_numpy()\n",
    "df\n",
    "# Меняем столбцы местами  ['age', 'name'] через функцию .to_numpy()"
   ]
  },
  {
   "cell_type": "markdown",
   "metadata": {},
   "source": [
    "## 2.2 Методы value_counts(), sort_values(), unique(), nunique()"
   ]
  },
  {
   "cell_type": "code",
   "execution_count": null,
   "metadata": {},
   "outputs": [],
   "source": [
    "import pandas as pd\n",
    "import numpy as np\n",
    "\n",
    "dict_array = {\n",
    "    'age': [53, 53, 11, 18, 18, np.nan],\n",
    "    'name': ['Сергей', 'Маша', 'Ксюша', 'Аристарх', 'Соня', 'Соня' ],\n",
    "    'Наличие авто': [True, True, False, True, False, True]\n",
    "}\n",
    "\n",
    "df = pd.DataFrame(dict_array, index=['row_0', 'row_1', 'row_2', 'row_3', 'row_4', 'row_5'] )\n",
    "df"
   ]
  },
  {
   "cell_type": "code",
   "execution_count": null,
   "metadata": {},
   "outputs": [],
   "source": [
    "df['age'].unique() \n",
    "# Возвращает массив с уникальными значений. Применяется только к сериям и к индексам"
   ]
  },
  {
   "cell_type": "code",
   "execution_count": null,
   "metadata": {},
   "outputs": [],
   "source": [
    "df['age'].nunique() \n",
    "# Возвращает колличество уникальных значений. Применяется к сериям и дф. \n",
    "# НЕ СЧИТАЕТ ПРОПУСКИ В ДАННЫХ!!!"
   ]
  },
  {
   "cell_type": "code",
   "execution_count": null,
   "metadata": {},
   "outputs": [],
   "source": [
    "df['age'].value_counts()"
   ]
  },
  {
   "cell_type": "code",
   "execution_count": null,
   "metadata": {},
   "outputs": [],
   "source": [
    "df.value_counts(['age','name'])"
   ]
  },
  {
   "cell_type": "code",
   "execution_count": null,
   "metadata": {},
   "outputs": [],
   "source": [
    "df.value_counts(['age','name'], dropna=False)\n",
    "# Считает колличество дублей по полям"
   ]
  },
  {
   "cell_type": "code",
   "execution_count": null,
   "metadata": {},
   "outputs": [],
   "source": [
    "df.value_counts('name', normalize=True)\n",
    "# Считает пропорции"
   ]
  },
  {
   "cell_type": "code",
   "execution_count": null,
   "metadata": {},
   "outputs": [],
   "source": [
    "df.sort_values(['age','name'])\n",
    "# Сортировка"
   ]
  },
  {
   "cell_type": "code",
   "execution_count": null,
   "metadata": {},
   "outputs": [],
   "source": [
    "df.sort_values(['age','name'], na_position='first')"
   ]
  },
  {
   "cell_type": "code",
   "execution_count": 24,
   "metadata": {},
   "outputs": [],
   "source": [
    "df.sort_values('age', na_position='first', inplace=True)"
   ]
  },
  {
   "cell_type": "markdown",
   "metadata": {},
   "source": [
    "## Метод map()\n",
    "\n",
    "DataFrame.map()  \n",
    "Index.map()  \n",
    "Series.map()"
   ]
  },
  {
   "cell_type": "markdown",
   "metadata": {},
   "source": [
    "Метод map(arg, na_action=None)  \n",
    "Данный метод используется для замены каждого значения в Series или Index другим значением, которое может быть получено из функции, словаря или Series. На вход принимает два аргумента arg и na_action. Аргумент arg может быть или серией, или словарем, или функцией. Аргумент na_action по умолчанию None, если принимает значение na_action='ignore', то значения Nan не будут преобразовываться  \n",
    "Метод возвращает новый объект не меняя старый."
   ]
  },
  {
   "cell_type": "code",
   "execution_count": 79,
   "metadata": {},
   "outputs": [],
   "source": [
    "arg_dict = {\n",
    "    'товар_0': 'product_0',\n",
    "    'товар_1': 'product_1',\n",
    "    # 'товар_2': 'product_2',\n",
    "    'товар_3': 'product_3',\n",
    "    'товар_4': 'product_4'\n",
    "    }"
   ]
  },
  {
   "cell_type": "code",
   "execution_count": 80,
   "metadata": {},
   "outputs": [],
   "source": [
    "series = pd.Series(['товар_0', 'товар_1', 'товар_2', 'товар_3', 'товар_4'], name='name')"
   ]
  },
  {
   "cell_type": "code",
   "execution_count": null,
   "metadata": {},
   "outputs": [],
   "source": [
    "s = pd.Series(series).map(arg_dict,\n",
    "                          na_action='ignore')\n",
    "s"
   ]
  },
  {
   "cell_type": "code",
   "execution_count": null,
   "metadata": {},
   "outputs": [],
   "source": [
    "def func(str_in):\n",
    "    return str_in.replace('товар', 'product')\n",
    "\n",
    "series.map(func)"
   ]
  },
  {
   "cell_type": "code",
   "execution_count": null,
   "metadata": {},
   "outputs": [],
   "source": []
  },
  {
   "cell_type": "markdown",
   "metadata": {},
   "source": [
    "## Метод isin(values)"
   ]
  },
  {
   "cell_type": "markdown",
   "metadata": {},
   "source": [
    "DataFrame.isin  \n",
    "Index.isin  \n",
    "Series.isin  \n",
    "\n",
    "Данный метод показывает содержится ли переданный в него элемент в DataFrame-е, Series или Index-е. В метод передается один аргумент values, который содержит список с элементом или элементами для проверки. Метод возвращает DataFrame, Series или Index с логическими значениями, показывающие, содержится ли переданный в метод элемент  \n",
    "Метод возвращает новый объект не меняя старый"
   ]
  },
  {
   "cell_type": "code",
   "execution_count": null,
   "metadata": {},
   "outputs": [],
   "source": [
    "import pandas as pd\n",
    "import numpy as np\n",
    "\n",
    "dict_array = {\n",
    "    'age': [53, 53, 11, 18, 18, np.nan],\n",
    "    'name': ['Сергей', 'Маша', 'Ксюша', 'Аристарх', 'Соня', 'Соня' ],\n",
    "    'Наличие авто': [True, True, False, True, False, True]\n",
    "}\n",
    "\n",
    "df = pd.DataFrame(dict_array, index=['row_0', 'row_1', 'row_2', 'row_3', 'row_4', 'row_5'] )\n",
    "df"
   ]
  },
  {
   "cell_type": "code",
   "execution_count": null,
   "metadata": {},
   "outputs": [],
   "source": [
    "df.isin([53]).sum()\n",
    "# Сколько раз в DF встречается число 53"
   ]
  },
  {
   "cell_type": "code",
   "execution_count": null,
   "metadata": {},
   "outputs": [],
   "source": [
    "df.isin([53,'Маша', 18])\n",
    "# Можно передать несколько значений"
   ]
  },
  {
   "cell_type": "code",
   "execution_count": null,
   "metadata": {},
   "outputs": [],
   "source": [
    "df.isin([np.nan])\n",
    "# Можно передавать значения NaN"
   ]
  },
  {
   "cell_type": "markdown",
   "metadata": {},
   "source": [
    "## Методы apply()"
   ]
  },
  {
   "cell_type": "markdown",
   "metadata": {},
   "source": [
    "DataFrame.apply  \n",
    "Series.apply"
   ]
  },
  {
   "cell_type": "code",
   "execution_count": null,
   "metadata": {},
   "outputs": [],
   "source": [
    "dct = {f'col_{i}':[i*1, i*2, i*3, i*4, i*5] if i != 3 else [i, i, i, i, i] for i in range(5)}\n",
    "df = pd.DataFrame(dct)\n",
    "df"
   ]
  },
  {
   "cell_type": "code",
   "execution_count": null,
   "metadata": {},
   "outputs": [],
   "source": [
    "df.apply(np.min)"
   ]
  },
  {
   "cell_type": "code",
   "execution_count": null,
   "metadata": {},
   "outputs": [],
   "source": [
    "df"
   ]
  },
  {
   "cell_type": "code",
   "execution_count": null,
   "metadata": {},
   "outputs": [],
   "source": [
    "def my_func(series):\n",
    "    return (series *100) if series.name != 'col_2' else series * 0\n",
    "    # Если колонка серии не равна col_2, то всё умножить на 100, если равна то на 0 \n",
    "df.apply(my_func)\n",
    "\n"
   ]
  },
  {
   "cell_type": "code",
   "execution_count": null,
   "metadata": {},
   "outputs": [],
   "source": []
  }
 ],
 "metadata": {
  "kernelspec": {
   "display_name": "env",
   "language": "python",
   "name": "python3"
  },
  "language_info": {
   "codemirror_mode": {
    "name": "ipython",
    "version": 3
   },
   "file_extension": ".py",
   "mimetype": "text/x-python",
   "name": "python",
   "nbconvert_exporter": "python",
   "pygments_lexer": "ipython3",
   "version": "3.10.12"
  }
 },
 "nbformat": 4,
 "nbformat_minor": 2
}
